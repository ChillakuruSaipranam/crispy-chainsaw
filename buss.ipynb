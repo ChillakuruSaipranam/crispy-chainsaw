{
 "cells": [
  {
   "cell_type": "code",
   "execution_count": 46,
   "metadata": {},
   "outputs": [
    {
     "data": {
      "text/html": [
       "<div>\n",
       "<style scoped>\n",
       "    .dataframe tbody tr th:only-of-type {\n",
       "        vertical-align: middle;\n",
       "    }\n",
       "\n",
       "    .dataframe tbody tr th {\n",
       "        vertical-align: top;\n",
       "    }\n",
       "\n",
       "    .dataframe thead th {\n",
       "        text-align: right;\n",
       "    }\n",
       "</style>\n",
       "<table border=\"1\" class=\"dataframe\">\n",
       "  <thead>\n",
       "    <tr style=\"text-align: right;\">\n",
       "      <th></th>\n",
       "      <th>STATEFIPS</th>\n",
       "      <th>STATE</th>\n",
       "      <th>zipcode</th>\n",
       "      <th>agi_stub</th>\n",
       "      <th>N1</th>\n",
       "      <th>mars1</th>\n",
       "      <th>MARS2</th>\n",
       "      <th>MARS4</th>\n",
       "      <th>ELF</th>\n",
       "      <th>CPREP</th>\n",
       "      <th>...</th>\n",
       "      <th>N85300</th>\n",
       "      <th>A85300</th>\n",
       "      <th>N11901</th>\n",
       "      <th>A11901</th>\n",
       "      <th>N11900</th>\n",
       "      <th>A11900</th>\n",
       "      <th>N11902</th>\n",
       "      <th>A11902</th>\n",
       "      <th>N12000</th>\n",
       "      <th>A12000</th>\n",
       "    </tr>\n",
       "  </thead>\n",
       "  <tbody>\n",
       "    <tr>\n",
       "      <th>0</th>\n",
       "      <td>1</td>\n",
       "      <td>AL</td>\n",
       "      <td>0</td>\n",
       "      <td>1</td>\n",
       "      <td>659530.0</td>\n",
       "      <td>422590.0</td>\n",
       "      <td>71000.0</td>\n",
       "      <td>154700.0</td>\n",
       "      <td>610780.0</td>\n",
       "      <td>24340.0</td>\n",
       "      <td>...</td>\n",
       "      <td>0.0</td>\n",
       "      <td>0.0</td>\n",
       "      <td>63060.0</td>\n",
       "      <td>54280.0</td>\n",
       "      <td>543620.0</td>\n",
       "      <td>1559881.0</td>\n",
       "      <td>541480.0</td>\n",
       "      <td>1552563.0</td>\n",
       "      <td>2250.0</td>\n",
       "      <td>5031.0</td>\n",
       "    </tr>\n",
       "    <tr>\n",
       "      <th>1</th>\n",
       "      <td>1</td>\n",
       "      <td>AL</td>\n",
       "      <td>0</td>\n",
       "      <td>2</td>\n",
       "      <td>533640.0</td>\n",
       "      <td>276250.0</td>\n",
       "      <td>101050.0</td>\n",
       "      <td>141040.0</td>\n",
       "      <td>499310.0</td>\n",
       "      <td>15050.0</td>\n",
       "      <td>...</td>\n",
       "      <td>0.0</td>\n",
       "      <td>0.0</td>\n",
       "      <td>100320.0</td>\n",
       "      <td>130848.0</td>\n",
       "      <td>430380.0</td>\n",
       "      <td>1339883.0</td>\n",
       "      <td>427830.0</td>\n",
       "      <td>1329439.0</td>\n",
       "      <td>2780.0</td>\n",
       "      <td>8556.0</td>\n",
       "    </tr>\n",
       "    <tr>\n",
       "      <th>2</th>\n",
       "      <td>1</td>\n",
       "      <td>AL</td>\n",
       "      <td>0</td>\n",
       "      <td>3</td>\n",
       "      <td>304870.0</td>\n",
       "      <td>134050.0</td>\n",
       "      <td>109980.0</td>\n",
       "      <td>51600.0</td>\n",
       "      <td>286110.0</td>\n",
       "      <td>9600.0</td>\n",
       "      <td>...</td>\n",
       "      <td>0.0</td>\n",
       "      <td>0.0</td>\n",
       "      <td>88750.0</td>\n",
       "      <td>186002.0</td>\n",
       "      <td>216080.0</td>\n",
       "      <td>585162.0</td>\n",
       "      <td>212990.0</td>\n",
       "      <td>573080.0</td>\n",
       "      <td>4520.0</td>\n",
       "      <td>12589.0</td>\n",
       "    </tr>\n",
       "    <tr>\n",
       "      <th>3</th>\n",
       "      <td>1</td>\n",
       "      <td>AL</td>\n",
       "      <td>0</td>\n",
       "      <td>4</td>\n",
       "      <td>193020.0</td>\n",
       "      <td>56350.0</td>\n",
       "      <td>113100.0</td>\n",
       "      <td>19090.0</td>\n",
       "      <td>181390.0</td>\n",
       "      <td>4530.0</td>\n",
       "      <td>...</td>\n",
       "      <td>0.0</td>\n",
       "      <td>0.0</td>\n",
       "      <td>67040.0</td>\n",
       "      <td>189833.0</td>\n",
       "      <td>124860.0</td>\n",
       "      <td>403052.0</td>\n",
       "      <td>121760.0</td>\n",
       "      <td>388581.0</td>\n",
       "      <td>2840.0</td>\n",
       "      <td>12190.0</td>\n",
       "    </tr>\n",
       "    <tr>\n",
       "      <th>4</th>\n",
       "      <td>1</td>\n",
       "      <td>AL</td>\n",
       "      <td>0</td>\n",
       "      <td>5</td>\n",
       "      <td>315700.0</td>\n",
       "      <td>45000.0</td>\n",
       "      <td>252660.0</td>\n",
       "      <td>12180.0</td>\n",
       "      <td>297930.0</td>\n",
       "      <td>9000.0</td>\n",
       "      <td>...</td>\n",
       "      <td>140.0</td>\n",
       "      <td>63.0</td>\n",
       "      <td>138270.0</td>\n",
       "      <td>657283.0</td>\n",
       "      <td>177730.0</td>\n",
       "      <td>748507.0</td>\n",
       "      <td>169080.0</td>\n",
       "      <td>671684.0</td>\n",
       "      <td>10940.0</td>\n",
       "      <td>80141.0</td>\n",
       "    </tr>\n",
       "  </tbody>\n",
       "</table>\n",
       "<p>5 rows × 165 columns</p>\n",
       "</div>"
      ],
      "text/plain": [
       "   STATEFIPS STATE  zipcode  agi_stub        N1     mars1     MARS2     MARS4  \\\n",
       "0          1    AL        0         1  659530.0  422590.0   71000.0  154700.0   \n",
       "1          1    AL        0         2  533640.0  276250.0  101050.0  141040.0   \n",
       "2          1    AL        0         3  304870.0  134050.0  109980.0   51600.0   \n",
       "3          1    AL        0         4  193020.0   56350.0  113100.0   19090.0   \n",
       "4          1    AL        0         5  315700.0   45000.0  252660.0   12180.0   \n",
       "\n",
       "        ELF    CPREP  ...  N85300  A85300    N11901    A11901    N11900  \\\n",
       "0  610780.0  24340.0  ...     0.0     0.0   63060.0   54280.0  543620.0   \n",
       "1  499310.0  15050.0  ...     0.0     0.0  100320.0  130848.0  430380.0   \n",
       "2  286110.0   9600.0  ...     0.0     0.0   88750.0  186002.0  216080.0   \n",
       "3  181390.0   4530.0  ...     0.0     0.0   67040.0  189833.0  124860.0   \n",
       "4  297930.0   9000.0  ...   140.0    63.0  138270.0  657283.0  177730.0   \n",
       "\n",
       "      A11900    N11902     A11902   N12000   A12000  \n",
       "0  1559881.0  541480.0  1552563.0   2250.0   5031.0  \n",
       "1  1339883.0  427830.0  1329439.0   2780.0   8556.0  \n",
       "2   585162.0  212990.0   573080.0   4520.0  12589.0  \n",
       "3   403052.0  121760.0   388581.0   2840.0  12190.0  \n",
       "4   748507.0  169080.0   671684.0  10940.0  80141.0  \n",
       "\n",
       "[5 rows x 165 columns]"
      ]
     },
     "execution_count": 46,
     "metadata": {},
     "output_type": "execute_result"
    }
   ],
   "source": [
    "import pandas as pd\n",
    "\n",
    "# Load the IRS data (replace with your file path if local)\n",
    "url = \"https://www.irs.gov/pub/irs-soi/22zpallagi.csv\"\n",
    "df = pd.read_csv(url, encoding=\"ISO-8859-1\", low_memory=False)\n",
    "\n",
    "# Display first few rows\n",
    "df.head()\n"
   ]
  },
  {
   "cell_type": "code",
   "execution_count": 47,
   "metadata": {},
   "outputs": [
    {
     "data": {
      "text/html": [
       "<div>\n",
       "<style scoped>\n",
       "    .dataframe tbody tr th:only-of-type {\n",
       "        vertical-align: middle;\n",
       "    }\n",
       "\n",
       "    .dataframe tbody tr th {\n",
       "        vertical-align: top;\n",
       "    }\n",
       "\n",
       "    .dataframe thead th {\n",
       "        text-align: right;\n",
       "    }\n",
       "</style>\n",
       "<table border=\"1\" class=\"dataframe\">\n",
       "  <thead>\n",
       "    <tr style=\"text-align: right;\">\n",
       "      <th></th>\n",
       "      <th>STATE</th>\n",
       "      <th>zipcode</th>\n",
       "      <th>Total_Income</th>\n",
       "      <th>Business_Income</th>\n",
       "      <th>Wages</th>\n",
       "    </tr>\n",
       "  </thead>\n",
       "  <tbody>\n",
       "    <tr>\n",
       "      <th>6</th>\n",
       "      <td>AL</td>\n",
       "      <td>35004</td>\n",
       "      <td>15888.0</td>\n",
       "      <td>1260.0</td>\n",
       "      <td>220.0</td>\n",
       "    </tr>\n",
       "    <tr>\n",
       "      <th>7</th>\n",
       "      <td>AL</td>\n",
       "      <td>35004</td>\n",
       "      <td>49413.0</td>\n",
       "      <td>1320.0</td>\n",
       "      <td>240.0</td>\n",
       "    </tr>\n",
       "    <tr>\n",
       "      <th>8</th>\n",
       "      <td>AL</td>\n",
       "      <td>35004</td>\n",
       "      <td>61695.0</td>\n",
       "      <td>1000.0</td>\n",
       "      <td>240.0</td>\n",
       "    </tr>\n",
       "    <tr>\n",
       "      <th>9</th>\n",
       "      <td>AL</td>\n",
       "      <td>35004</td>\n",
       "      <td>53252.0</td>\n",
       "      <td>620.0</td>\n",
       "      <td>200.0</td>\n",
       "    </tr>\n",
       "    <tr>\n",
       "      <th>10</th>\n",
       "      <td>AL</td>\n",
       "      <td>35004</td>\n",
       "      <td>139477.0</td>\n",
       "      <td>1040.0</td>\n",
       "      <td>430.0</td>\n",
       "    </tr>\n",
       "  </tbody>\n",
       "</table>\n",
       "</div>"
      ],
      "text/plain": [
       "   STATE  zipcode  Total_Income  Business_Income  Wages\n",
       "6     AL    35004       15888.0           1260.0  220.0\n",
       "7     AL    35004       49413.0           1320.0  240.0\n",
       "8     AL    35004       61695.0           1000.0  240.0\n",
       "9     AL    35004       53252.0            620.0  200.0\n",
       "10    AL    35004      139477.0           1040.0  430.0"
      ]
     },
     "execution_count": 47,
     "metadata": {},
     "output_type": "execute_result"
    }
   ],
   "source": [
    "# Convert ZIPCODE to numeric\n",
    "df['zipcode'] = pd.to_numeric(df['zipcode'], errors='coerce')\n",
    "\n",
    "# Drop rows with invalid ZIP codes\n",
    "df = df.dropna(subset=['zipcode'])\n",
    "df = df[df['zipcode'] != 0]\n",
    "df = df[df['zipcode'] != 99999]\n",
    "\n",
    "# Rename important columns for easier reference\n",
    "df.rename(columns={\n",
    "    'A00100': 'Total_Income',\n",
    "    'N02650': 'Business_Income',\n",
    "    'N00300': 'Wages',\n",
    "    'N00200': 'Interest_Income',\n",
    "    'NUMRET': 'Returns_Filed',\n",
    "}, inplace=True)\n",
    "\n",
    "# Show cleaned data\n",
    "df[['STATE', 'zipcode', 'Total_Income', 'Business_Income', 'Wages']].head()\n"
   ]
  },
  {
   "cell_type": "code",
   "execution_count": 48,
   "metadata": {},
   "outputs": [
    {
     "data": {
      "image/png": "[encoded data removed]",
      "text/plain": [
       "<Figure size 1000x600 with 1 Axes>"
      ]
     },
     "metadata": {},
     "output_type": "display_data"
    }
   ],
   "source": [
    "import matplotlib.pyplot as plt\n",
    "import seaborn as sns\n",
    "\n",
    "# Plot top 10 states by total income\n",
    "top_states = df.groupby('STATE')['Total_Income'].sum().sort_values(ascending=False).head(10)\n",
    "\n",
    "plt.figure(figsize=(10,6))\n",
    "sns.barplot(x=top_states.index, y=top_states.values)\n",
    "plt.title('Top 10 States by Total Income')\n",
    "plt.xlabel('State')\n",
    "plt.ylabel('Total Income')\n",
    "plt.show()\n"
   ]
  },
  {
   "cell_type": "code",
   "execution_count": 49,
   "metadata": {},
   "outputs": [
    {
     "name": "stdout",
     "output_type": "stream",
     "text": [
      "Requirement already satisfied: scikit-learn in c:\\users\\my pc\\bus\\venv\\lib\\site-packages (1.6.1)\n",
      "Requirement already satisfied: numpy>=1.19.5 in c:\\users\\my pc\\bus\\venv\\lib\\site-packages (from scikit-learn) (2.2.4)\n",
      "Requirement already satisfied: scipy>=1.6.0 in c:\\users\\my pc\\bus\\venv\\lib\\site-packages (from scikit-learn) (1.15.2)\n",
      "Requirement already satisfied: joblib>=1.2.0 in c:\\users\\my pc\\bus\\venv\\lib\\site-packages (from scikit-learn) (1.4.2)\n",
      "Requirement already satisfied: threadpoolctl>=3.1.0 in c:\\users\\my pc\\bus\\venv\\lib\\site-packages (from scikit-learn) (3.6.0)\n"
     ]
    },
    {
     "name": "stderr",
     "output_type": "stream",
     "text": [
      "\n",
      "[notice] A new release of pip is available: 24.0 -> 25.0.1\n",
      "[notice] To update, run: python.exe -m pip install --upgrade pip\n"
     ]
    }
   ],
   "source": [
    "!pip install scikit-learn\n"
   ]
  },
  {
   "cell_type": "code",
   "execution_count": 50,
   "metadata": {},
   "outputs": [],
   "source": [
    "# Correct column renaming (include NUMRET if not already renamed)\n",
    "df.rename(columns={\n",
    "    'A00100': 'Total_Income',         # Adjusted Gross Income\n",
    "    'N02650': 'Business_Income',      # Net Business Income\n",
    "    'N00300': 'Wages',                # Wage Income\n",
    "    'NUMRET': 'Returns_Filed'         # Number of tax returns\n",
    "}, inplace=True)\n",
    "\n"
   ]
  },
  {
   "cell_type": "code",
   "execution_count": 51,
   "metadata": {},
   "outputs": [
    {
     "name": "stdout",
     "output_type": "stream",
     "text": [
      "Model Score on Test Set: 0.9806515508978965\n"
     ]
    }
   ],
   "source": [
    "# Rename the correct columns\n",
    "df.rename(columns={\n",
    "    'A00100': 'Total_Income',\n",
    "    'N02650': 'Business_Income',\n",
    "    'N00300': 'Wages',\n",
    "    'N1': 'Returns_Filed'  # <--- this is the key fix\n",
    "}, inplace=True)\n",
    "\n",
    "# Create Success Index\n",
    "df['Success_Index'] = df['Business_Income'] + df['Wages']\n",
    "\n",
    "# Drop NA from relevant features\n",
    "model_df = df.dropna(subset=['Total_Income', 'Returns_Filed', 'Success_Index'])\n",
    "\n",
    "# Train a simple regression model\n",
    "from sklearn.linear_model import LinearRegression\n",
    "from sklearn.model_selection import train_test_split\n",
    "\n",
    "X = model_df[['Total_Income', 'Returns_Filed']]\n",
    "y = model_df['Success_Index']\n",
    "\n",
    "X_train, X_test, y_train, y_test = train_test_split(X, y, test_size=0.2, random_state=42)\n",
    "\n",
    "model = LinearRegression()\n",
    "model.fit(X_train, y_train)\n",
    "\n",
    "print(\"Model Score on Test Set:\", model.score(X_test, y_test))\n"
   ]
  },
  {
   "cell_type": "code",
   "execution_count": 52,
   "metadata": {},
   "outputs": [
    {
     "name": "stdout",
     "output_type": "stream",
     "text": [
      "       STATE  zipcode  Total_Income  Business_Income    Wages  Success_Score\n",
      "97088     NY    11355      356806.0          30810.0   3770.0        34580.0\n",
      "96968     NY    11220      367121.0          28770.0   2750.0        31520.0\n",
      "97160     NY    11368      271916.0          24330.0   1920.0        26250.0\n",
      "97184     NY    11373      263114.0          23280.0   2690.0        25970.0\n",
      "155411    WA    98052     6342427.0          12830.0  10620.0        23450.0\n",
      "143342    TX    77449      287986.0          21360.0   1210.0        22570.0\n",
      "95623     NY    10023    12563199.0          12100.0  10120.0        22220.0\n",
      "14536     CA    95014     7504091.0          11970.0  10140.0        22110.0\n",
      "143479    TX    77494     5297661.0          12850.0   8860.0        21710.0\n",
      "96865     NY    11201     8110820.0          11780.0   9270.0        21050.0\n",
      "96896     NY    11208      234590.0          18870.0   1470.0        20340.0\n",
      "16383     CA    95747     1688879.0          11750.0   8330.0        20080.0\n",
      "95876     NY    10456      246990.0          19080.0    940.0        20020.0\n",
      "14044     CA    94568     4808841.0          11110.0   8770.0        19880.0\n",
      "13906     CA    94539     6025675.0          10590.0   9250.0        19840.0\n",
      "96932     NY    11214      205065.0          17160.0   2590.0        19750.0\n",
      "95942     NY    10467      229798.0          18340.0   1210.0        19550.0\n",
      "143425    TX    77479     6266503.0          10960.0   8590.0        19550.0\n",
      "143478    TX    77494     1936436.0          13290.0   6200.0        19490.0\n",
      "97202     NY    11377      199153.0          17250.0   2210.0        19460.0\n"
     ]
    },
    {
     "name": "stderr",
     "output_type": "stream",
     "text": [
      "C:\\Users\\My PC\\AppData\\Local\\Temp\\ipykernel_62072\\3389478422.py:2: SettingWithCopyWarning:\n",
      "\n",
      "\n",
      "A value is trying to be set on a copy of a slice from a DataFrame.\n",
      "Try using .loc[row_indexer,col_indexer] = value instead\n",
      "\n",
      "See the caveats in the documentation: https://pandas.pydata.org/pandas-docs/stable/user_guide/indexing.html#returning-a-view-versus-a-copy\n",
      "\n"
     ]
    }
   ],
   "source": [
    "top_zip = df[['STATE', 'zipcode', 'Total_Income', 'Business_Income', 'Wages']]\n",
    "top_zip['Success_Score'] = top_zip['Business_Income'] + top_zip['Wages']\n",
    "top_zip = top_zip.sort_values(by='Success_Score', ascending=False).head(20)\n",
    "\n",
    "print(top_zip)\n"
   ]
  },
  {
   "cell_type": "code",
   "execution_count": 53,
   "metadata": {},
   "outputs": [
    {
     "name": "stdout",
     "output_type": "stream",
     "text": [
      "Requirement already satisfied: uszipcode in c:\\users\\my pc\\bus\\venv\\lib\\site-packages (1.0.1)\n",
      "Requirement already satisfied: attrs in c:\\users\\my pc\\bus\\venv\\lib\\site-packages (from uszipcode) (25.3.0)\n",
      "Requirement already satisfied: requests in c:\\users\\my pc\\bus\\venv\\lib\\site-packages (from uszipcode) (2.32.3)\n",
      "Requirement already satisfied: pathlib-mate in c:\\users\\my pc\\bus\\venv\\lib\\site-packages (from uszipcode) (1.3.2)\n",
      "Requirement already satisfied: atomicwrites in c:\\users\\my pc\\bus\\venv\\lib\\site-packages (from uszipcode) (1.4.1)\n",
      "Requirement already satisfied: fuzzywuzzy in c:\\users\\my pc\\bus\\venv\\lib\\site-packages (from uszipcode) (0.18.0)\n",
      "Requirement already satisfied: haversine>=2.5.0 in c:\\users\\my pc\\bus\\venv\\lib\\site-packages (from uszipcode) (2.9.0)\n",
      "Requirement already satisfied: SQLAlchemy>=1.4.0 in c:\\users\\my pc\\bus\\venv\\lib\\site-packages (from uszipcode) (2.0.40)\n",
      "Requirement already satisfied: sqlalchemy-mate>=1.4.28.3 in c:\\users\\my pc\\bus\\venv\\lib\\site-packages (from uszipcode) (2.0.0.3)\n",
      "Requirement already satisfied: greenlet>=1 in c:\\users\\my pc\\bus\\venv\\lib\\site-packages (from SQLAlchemy>=1.4.0->uszipcode) (3.1.1)\n",
      "Requirement already satisfied: typing-extensions>=4.6.0 in c:\\users\\my pc\\bus\\venv\\lib\\site-packages (from SQLAlchemy>=1.4.0->uszipcode) (4.13.0)\n",
      "Requirement already satisfied: prettytable<4.0.0,>=3.0.0 in c:\\users\\my pc\\bus\\venv\\lib\\site-packages (from sqlalchemy-mate>=1.4.28.3->uszipcode) (3.16.0)\n",
      "Requirement already satisfied: charset-normalizer<4,>=2 in c:\\users\\my pc\\bus\\venv\\lib\\site-packages (from requests->uszipcode) (3.4.1)\n",
      "Requirement already satisfied: idna<4,>=2.5 in c:\\users\\my pc\\bus\\venv\\lib\\site-packages (from requests->uszipcode) (3.10)\n",
      "Requirement already satisfied: urllib3<3,>=1.21.1 in c:\\users\\my pc\\bus\\venv\\lib\\site-packages (from requests->uszipcode) (2.3.0)\n",
      "Requirement already satisfied: certifi>=2017.4.17 in c:\\users\\my pc\\bus\\venv\\lib\\site-packages (from requests->uszipcode) (2025.1.31)\n",
      "Requirement already satisfied: wcwidth in c:\\users\\my pc\\bus\\venv\\lib\\site-packages (from prettytable<4.0.0,>=3.0.0->sqlalchemy-mate>=1.4.28.3->uszipcode) (0.2.13)\n"
     ]
    },
    {
     "name": "stderr",
     "output_type": "stream",
     "text": [
      "\n",
      "[notice] A new release of pip is available: 24.0 -> 25.0.1\n",
      "[notice] To update, run: python.exe -m pip install --upgrade pip\n"
     ]
    }
   ],
   "source": [
    "!pip install uszipcode\n"
   ]
  },
  {
   "cell_type": "code",
   "execution_count": 54,
   "metadata": {},
   "outputs": [],
   "source": [
    "import pandas as pd\n",
    "\n",
    "\n",
    "\n",
    "# Load the ZIP-to-lat/lon dataset\n",
    "zip_latlon = pd.read_csv(\"uszips.csv\")  # Update path if needed\n",
    "\n",
    "# Ensure ZIP code formats match (padded 5-digit strings)\n",
    "top_zip['zipcode'] = top_zip['zipcode'].astype(str).str.zfill(5)\n",
    "zip_latlon['zip'] = zip_latlon['zip'].astype(str).str.zfill(5)\n",
    "\n",
    "# Merge to add latitude and longitude\n",
    "top_zip = top_zip.merge(zip_latlon[['zip', 'lat', 'lng']], left_on='zipcode', right_on='zip')\n",
    "\n",
    "# Drop any missing coordinates (if any)\n",
    "top_zip.dropna(subset=['lat', 'lng'], inplace=True)\n"
   ]
  },
  {
   "cell_type": "code",
   "execution_count": 55,
   "metadata": {},
   "outputs": [
    {
     "ename": "HTTPError",
     "evalue": "HTTP Error 404: Not Found",
     "output_type": "error",
     "traceback": [
      "\u001b[31m---------------------------------------------------------------------------\u001b[39m",
      "\u001b[31mHTTPError\u001b[39m                                 Traceback (most recent call last)",
      "\u001b[36mCell\u001b[39m\u001b[36m \u001b[39m\u001b[32mIn[55]\u001b[39m\u001b[32m, line 5\u001b[39m\n\u001b[32m      2\u001b[39m \u001b[38;5;28;01mimport\u001b[39;00m\u001b[38;5;250m \u001b[39m\u001b[34;01mjson\u001b[39;00m\n\u001b[32m      4\u001b[39m \u001b[38;5;66;03m# Load U.S. states center coordinates\u001b[39;00m\n\u001b[32m----> \u001b[39m\u001b[32m5\u001b[39m state_coords = \u001b[43mpd\u001b[49m\u001b[43m.\u001b[49m\u001b[43mread_csv\u001b[49m\u001b[43m(\u001b[49m\u001b[33;43m\"\u001b[39;49m\u001b[33;43mhttps://raw.githubusercontent.com/plotly/datasets/master/us-state-capitals.csv\u001b[39;49m\u001b[33;43m\"\u001b[39;49m\u001b[43m)\u001b[49m\n\u001b[32m      7\u001b[39m \u001b[38;5;66;03m# Add state names as labels\u001b[39;00m\n\u001b[32m      8\u001b[39m \u001b[38;5;28;01mfor\u001b[39;00m _, row \u001b[38;5;129;01min\u001b[39;00m state_coords.iterrows():\n",
      "\u001b[36mFile \u001b[39m\u001b[32mc:\\Users\\My PC\\Bus\\venv\\Lib\\site-packages\\pandas\\io\\parsers\\readers.py:1026\u001b[39m, in \u001b[36mread_csv\u001b[39m\u001b[34m(filepath_or_buffer, sep, delimiter, header, names, index_col, usecols, dtype, engine, converters, true_values, false_values, skipinitialspace, skiprows, skipfooter, nrows, na_values, keep_default_na, na_filter, verbose, skip_blank_lines, parse_dates, infer_datetime_format, keep_date_col, date_parser, date_format, dayfirst, cache_dates, iterator, chunksize, compression, thousands, decimal, lineterminator, quotechar, quoting, doublequote, escapechar, comment, encoding, encoding_errors, dialect, on_bad_lines, delim_whitespace, low_memory, memory_map, float_precision, storage_options, dtype_backend)\u001b[39m\n\u001b[32m   1013\u001b[39m kwds_defaults = _refine_defaults_read(\n\u001b[32m   1014\u001b[39m     dialect,\n\u001b[32m   1015\u001b[39m     delimiter,\n\u001b[32m   (...)\u001b[39m\u001b[32m   1022\u001b[39m     dtype_backend=dtype_backend,\n\u001b[32m   1023\u001b[39m )\n\u001b[32m   1024\u001b[39m kwds.update(kwds_defaults)\n\u001b[32m-> \u001b[39m\u001b[32m1026\u001b[39m \u001b[38;5;28;01mreturn\u001b[39;00m \u001b[43m_read\u001b[49m\u001b[43m(\u001b[49m\u001b[43mfilepath_or_buffer\u001b[49m\u001b[43m,\u001b[49m\u001b[43m \u001b[49m\u001b[43mkwds\u001b[49m\u001b[43m)\u001b[49m\n",
      "\u001b[36mFile \u001b[39m\u001b[32mc:\\Users\\My PC\\Bus\\venv\\Lib\\site-packages\\pandas\\io\\parsers\\readers.py:620\u001b[39m, in \u001b[36m_read\u001b[39m\u001b[34m(filepath_or_buffer, kwds)\u001b[39m\n\u001b[32m    617\u001b[39m _validate_names(kwds.get(\u001b[33m\"\u001b[39m\u001b[33mnames\u001b[39m\u001b[33m\"\u001b[39m, \u001b[38;5;28;01mNone\u001b[39;00m))\n\u001b[32m    619\u001b[39m \u001b[38;5;66;03m# Create the parser.\u001b[39;00m\n\u001b[32m--> \u001b[39m\u001b[32m620\u001b[39m parser = \u001b[43mTextFileReader\u001b[49m\u001b[43m(\u001b[49m\u001b[43mfilepath_or_buffer\u001b[49m\u001b[43m,\u001b[49m\u001b[43m \u001b[49m\u001b[43m*\u001b[49m\u001b[43m*\u001b[49m\u001b[43mkwds\u001b[49m\u001b[43m)\u001b[49m\n\u001b[32m    622\u001b[39m \u001b[38;5;28;01mif\u001b[39;00m chunksize \u001b[38;5;129;01mor\u001b[39;00m iterator:\n\u001b[32m    623\u001b[39m     \u001b[38;5;28;01mreturn\u001b[39;00m parser\n",
      "\u001b[36mFile \u001b[39m\u001b[32mc:\\Users\\My PC\\Bus\\venv\\Lib\\site-packages\\pandas\\io\\parsers\\readers.py:1620\u001b[39m, in \u001b[36mTextFileReader.__init__\u001b[39m\u001b[34m(self, f, engine, **kwds)\u001b[39m\n\u001b[32m   1617\u001b[39m     \u001b[38;5;28mself\u001b[39m.options[\u001b[33m\"\u001b[39m\u001b[33mhas_index_names\u001b[39m\u001b[33m\"\u001b[39m] = kwds[\u001b[33m\"\u001b[39m\u001b[33mhas_index_names\u001b[39m\u001b[33m\"\u001b[39m]\n\u001b[32m   1619\u001b[39m \u001b[38;5;28mself\u001b[39m.handles: IOHandles | \u001b[38;5;28;01mNone\u001b[39;00m = \u001b[38;5;28;01mNone\u001b[39;00m\n\u001b[32m-> \u001b[39m\u001b[32m1620\u001b[39m \u001b[38;5;28mself\u001b[39m._engine = \u001b[38;5;28;43mself\u001b[39;49m\u001b[43m.\u001b[49m\u001b[43m_make_engine\u001b[49m\u001b[43m(\u001b[49m\u001b[43mf\u001b[49m\u001b[43m,\u001b[49m\u001b[43m \u001b[49m\u001b[38;5;28;43mself\u001b[39;49m\u001b[43m.\u001b[49m\u001b[43mengine\u001b[49m\u001b[43m)\u001b[49m\n",
      "\u001b[36mFile \u001b[39m\u001b[32mc:\\Users\\My PC\\Bus\\venv\\Lib\\site-packages\\pandas\\io\\parsers\\readers.py:1880\u001b[39m, in \u001b[36mTextFileReader._make_engine\u001b[39m\u001b[34m(self, f, engine)\u001b[39m\n\u001b[32m   1878\u001b[39m     \u001b[38;5;28;01mif\u001b[39;00m \u001b[33m\"\u001b[39m\u001b[33mb\u001b[39m\u001b[33m\"\u001b[39m \u001b[38;5;129;01mnot\u001b[39;00m \u001b[38;5;129;01min\u001b[39;00m mode:\n\u001b[32m   1879\u001b[39m         mode += \u001b[33m\"\u001b[39m\u001b[33mb\u001b[39m\u001b[33m\"\u001b[39m\n\u001b[32m-> \u001b[39m\u001b[32m1880\u001b[39m \u001b[38;5;28mself\u001b[39m.handles = \u001b[43mget_handle\u001b[49m\u001b[43m(\u001b[49m\n\u001b[32m   1881\u001b[39m \u001b[43m    \u001b[49m\u001b[43mf\u001b[49m\u001b[43m,\u001b[49m\n\u001b[32m   1882\u001b[39m \u001b[43m    \u001b[49m\u001b[43mmode\u001b[49m\u001b[43m,\u001b[49m\n\u001b[32m   1883\u001b[39m \u001b[43m    \u001b[49m\u001b[43mencoding\u001b[49m\u001b[43m=\u001b[49m\u001b[38;5;28;43mself\u001b[39;49m\u001b[43m.\u001b[49m\u001b[43moptions\u001b[49m\u001b[43m.\u001b[49m\u001b[43mget\u001b[49m\u001b[43m(\u001b[49m\u001b[33;43m\"\u001b[39;49m\u001b[33;43mencoding\u001b[39;49m\u001b[33;43m\"\u001b[39;49m\u001b[43m,\u001b[49m\u001b[43m \u001b[49m\u001b[38;5;28;43;01mNone\u001b[39;49;00m\u001b[43m)\u001b[49m\u001b[43m,\u001b[49m\n\u001b[32m   1884\u001b[39m \u001b[43m    \u001b[49m\u001b[43mcompression\u001b[49m\u001b[43m=\u001b[49m\u001b[38;5;28;43mself\u001b[39;49m\u001b[43m.\u001b[49m\u001b[43moptions\u001b[49m\u001b[43m.\u001b[49m\u001b[43mget\u001b[49m\u001b[43m(\u001b[49m\u001b[33;43m\"\u001b[39;49m\u001b[33;43mcompression\u001b[39;49m\u001b[33;43m\"\u001b[39;49m\u001b[43m,\u001b[49m\u001b[43m \u001b[49m\u001b[38;5;28;43;01mNone\u001b[39;49;00m\u001b[43m)\u001b[49m\u001b[43m,\u001b[49m\n\u001b[32m   1885\u001b[39m \u001b[43m    \u001b[49m\u001b[43mmemory_map\u001b[49m\u001b[43m=\u001b[49m\u001b[38;5;28;43mself\u001b[39;49m\u001b[43m.\u001b[49m\u001b[43moptions\u001b[49m\u001b[43m.\u001b[49m\u001b[43mget\u001b[49m\u001b[43m(\u001b[49m\u001b[33;43m\"\u001b[39;49m\u001b[33;43mmemory_map\u001b[39;49m\u001b[33;43m\"\u001b[39;49m\u001b[43m,\u001b[49m\u001b[43m \u001b[49m\u001b[38;5;28;43;01mFalse\u001b[39;49;00m\u001b[43m)\u001b[49m\u001b[43m,\u001b[49m\n\u001b[32m   1886\u001b[39m \u001b[43m    \u001b[49m\u001b[43mis_text\u001b[49m\u001b[43m=\u001b[49m\u001b[43mis_text\u001b[49m\u001b[43m,\u001b[49m\n\u001b[32m   1887\u001b[39m \u001b[43m    \u001b[49m\u001b[43merrors\u001b[49m\u001b[43m=\u001b[49m\u001b[38;5;28;43mself\u001b[39;49m\u001b[43m.\u001b[49m\u001b[43moptions\u001b[49m\u001b[43m.\u001b[49m\u001b[43mget\u001b[49m\u001b[43m(\u001b[49m\u001b[33;43m\"\u001b[39;49m\u001b[33;43mencoding_errors\u001b[39;49m\u001b[33;43m\"\u001b[39;49m\u001b[43m,\u001b[49m\u001b[43m \u001b[49m\u001b[33;43m\"\u001b[39;49m\u001b[33;43mstrict\u001b[39;49m\u001b[33;43m\"\u001b[39;49m\u001b[43m)\u001b[49m\u001b[43m,\u001b[49m\n\u001b[32m   1888\u001b[39m \u001b[43m    \u001b[49m\u001b[43mstorage_options\u001b[49m\u001b[43m=\u001b[49m\u001b[38;5;28;43mself\u001b[39;49m\u001b[43m.\u001b[49m\u001b[43moptions\u001b[49m\u001b[43m.\u001b[49m\u001b[43mget\u001b[49m\u001b[43m(\u001b[49m\u001b[33;43m\"\u001b[39;49m\u001b[33;43mstorage_options\u001b[39;49m\u001b[33;43m\"\u001b[39;49m\u001b[43m,\u001b[49m\u001b[43m \u001b[49m\u001b[38;5;28;43;01mNone\u001b[39;49;00m\u001b[43m)\u001b[49m\u001b[43m,\u001b[49m\n\u001b[32m   1889\u001b[39m \u001b[43m\u001b[49m\u001b[43m)\u001b[49m\n\u001b[32m   1890\u001b[39m \u001b[38;5;28;01massert\u001b[39;00m \u001b[38;5;28mself\u001b[39m.handles \u001b[38;5;129;01mis\u001b[39;00m \u001b[38;5;129;01mnot\u001b[39;00m \u001b[38;5;28;01mNone\u001b[39;00m\n\u001b[32m   1891\u001b[39m f = \u001b[38;5;28mself\u001b[39m.handles.handle\n",
      "\u001b[36mFile \u001b[39m\u001b[32mc:\\Users\\My PC\\Bus\\venv\\Lib\\site-packages\\pandas\\io\\common.py:728\u001b[39m, in \u001b[36mget_handle\u001b[39m\u001b[34m(path_or_buf, mode, encoding, compression, memory_map, is_text, errors, storage_options)\u001b[39m\n\u001b[32m    725\u001b[39m     codecs.lookup_error(errors)\n\u001b[32m    727\u001b[39m \u001b[38;5;66;03m# open URLs\u001b[39;00m\n\u001b[32m--> \u001b[39m\u001b[32m728\u001b[39m ioargs = \u001b[43m_get_filepath_or_buffer\u001b[49m\u001b[43m(\u001b[49m\n\u001b[32m    729\u001b[39m \u001b[43m    \u001b[49m\u001b[43mpath_or_buf\u001b[49m\u001b[43m,\u001b[49m\n\u001b[32m    730\u001b[39m \u001b[43m    \u001b[49m\u001b[43mencoding\u001b[49m\u001b[43m=\u001b[49m\u001b[43mencoding\u001b[49m\u001b[43m,\u001b[49m\n\u001b[32m    731\u001b[39m \u001b[43m    \u001b[49m\u001b[43mcompression\u001b[49m\u001b[43m=\u001b[49m\u001b[43mcompression\u001b[49m\u001b[43m,\u001b[49m\n\u001b[32m    732\u001b[39m \u001b[43m    \u001b[49m\u001b[43mmode\u001b[49m\u001b[43m=\u001b[49m\u001b[43mmode\u001b[49m\u001b[43m,\u001b[49m\n\u001b[32m    733\u001b[39m \u001b[43m    \u001b[49m\u001b[43mstorage_options\u001b[49m\u001b[43m=\u001b[49m\u001b[43mstorage_options\u001b[49m\u001b[43m,\u001b[49m\n\u001b[32m    734\u001b[39m \u001b[43m\u001b[49m\u001b[43m)\u001b[49m\n\u001b[32m    736\u001b[39m handle = ioargs.filepath_or_buffer\n\u001b[32m    737\u001b[39m handles: \u001b[38;5;28mlist\u001b[39m[BaseBuffer]\n",
      "\u001b[36mFile \u001b[39m\u001b[32mc:\\Users\\My PC\\Bus\\venv\\Lib\\site-packages\\pandas\\io\\common.py:384\u001b[39m, in \u001b[36m_get_filepath_or_buffer\u001b[39m\u001b[34m(filepath_or_buffer, encoding, compression, mode, storage_options)\u001b[39m\n\u001b[32m    382\u001b[39m \u001b[38;5;66;03m# assuming storage_options is to be interpreted as headers\u001b[39;00m\n\u001b[32m    383\u001b[39m req_info = urllib.request.Request(filepath_or_buffer, headers=storage_options)\n\u001b[32m--> \u001b[39m\u001b[32m384\u001b[39m \u001b[38;5;28;01mwith\u001b[39;00m \u001b[43murlopen\u001b[49m\u001b[43m(\u001b[49m\u001b[43mreq_info\u001b[49m\u001b[43m)\u001b[49m \u001b[38;5;28;01mas\u001b[39;00m req:\n\u001b[32m    385\u001b[39m     content_encoding = req.headers.get(\u001b[33m\"\u001b[39m\u001b[33mContent-Encoding\u001b[39m\u001b[33m\"\u001b[39m, \u001b[38;5;28;01mNone\u001b[39;00m)\n\u001b[32m    386\u001b[39m     \u001b[38;5;28;01mif\u001b[39;00m content_encoding == \u001b[33m\"\u001b[39m\u001b[33mgzip\u001b[39m\u001b[33m\"\u001b[39m:\n\u001b[32m    387\u001b[39m         \u001b[38;5;66;03m# Override compression based on Content-Encoding header\u001b[39;00m\n",
      "\u001b[36mFile \u001b[39m\u001b[32mc:\\Users\\My PC\\Bus\\venv\\Lib\\site-packages\\pandas\\io\\common.py:289\u001b[39m, in \u001b[36murlopen\u001b[39m\u001b[34m(*args, **kwargs)\u001b[39m\n\u001b[32m    283\u001b[39m \u001b[38;5;250m\u001b[39m\u001b[33;03m\"\"\"\u001b[39;00m\n\u001b[32m    284\u001b[39m \u001b[33;03mLazy-import wrapper for stdlib urlopen, as that imports a big chunk of\u001b[39;00m\n\u001b[32m    285\u001b[39m \u001b[33;03mthe stdlib.\u001b[39;00m\n\u001b[32m    286\u001b[39m \u001b[33;03m\"\"\"\u001b[39;00m\n\u001b[32m    287\u001b[39m \u001b[38;5;28;01mimport\u001b[39;00m\u001b[38;5;250m \u001b[39m\u001b[34;01murllib\u001b[39;00m\u001b[34;01m.\u001b[39;00m\u001b[34;01mrequest\u001b[39;00m\n\u001b[32m--> \u001b[39m\u001b[32m289\u001b[39m \u001b[38;5;28;01mreturn\u001b[39;00m \u001b[43murllib\u001b[49m\u001b[43m.\u001b[49m\u001b[43mrequest\u001b[49m\u001b[43m.\u001b[49m\u001b[43murlopen\u001b[49m\u001b[43m(\u001b[49m\u001b[43m*\u001b[49m\u001b[43margs\u001b[49m\u001b[43m,\u001b[49m\u001b[43m \u001b[49m\u001b[43m*\u001b[49m\u001b[43m*\u001b[49m\u001b[43mkwargs\u001b[49m\u001b[43m)\u001b[49m\n",
      "\u001b[36mFile \u001b[39m\u001b[32m~\\miniconda3\\Lib\\urllib\\request.py:215\u001b[39m, in \u001b[36murlopen\u001b[39m\u001b[34m(url, data, timeout, cafile, capath, cadefault, context)\u001b[39m\n\u001b[32m    213\u001b[39m \u001b[38;5;28;01melse\u001b[39;00m:\n\u001b[32m    214\u001b[39m     opener = _opener\n\u001b[32m--> \u001b[39m\u001b[32m215\u001b[39m \u001b[38;5;28;01mreturn\u001b[39;00m \u001b[43mopener\u001b[49m\u001b[43m.\u001b[49m\u001b[43mopen\u001b[49m\u001b[43m(\u001b[49m\u001b[43murl\u001b[49m\u001b[43m,\u001b[49m\u001b[43m \u001b[49m\u001b[43mdata\u001b[49m\u001b[43m,\u001b[49m\u001b[43m \u001b[49m\u001b[43mtimeout\u001b[49m\u001b[43m)\u001b[49m\n",
      "\u001b[36mFile \u001b[39m\u001b[32m~\\miniconda3\\Lib\\urllib\\request.py:521\u001b[39m, in \u001b[36mOpenerDirector.open\u001b[39m\u001b[34m(self, fullurl, data, timeout)\u001b[39m\n\u001b[32m    519\u001b[39m \u001b[38;5;28;01mfor\u001b[39;00m processor \u001b[38;5;129;01min\u001b[39;00m \u001b[38;5;28mself\u001b[39m.process_response.get(protocol, []):\n\u001b[32m    520\u001b[39m     meth = \u001b[38;5;28mgetattr\u001b[39m(processor, meth_name)\n\u001b[32m--> \u001b[39m\u001b[32m521\u001b[39m     response = \u001b[43mmeth\u001b[49m\u001b[43m(\u001b[49m\u001b[43mreq\u001b[49m\u001b[43m,\u001b[49m\u001b[43m \u001b[49m\u001b[43mresponse\u001b[49m\u001b[43m)\u001b[49m\n\u001b[32m    523\u001b[39m \u001b[38;5;28;01mreturn\u001b[39;00m response\n",
      "\u001b[36mFile \u001b[39m\u001b[32m~\\miniconda3\\Lib\\urllib\\request.py:630\u001b[39m, in \u001b[36mHTTPErrorProcessor.http_response\u001b[39m\u001b[34m(self, request, response)\u001b[39m\n\u001b[32m    627\u001b[39m \u001b[38;5;66;03m# According to RFC 2616, \"2xx\" code indicates that the client's\u001b[39;00m\n\u001b[32m    628\u001b[39m \u001b[38;5;66;03m# request was successfully received, understood, and accepted.\u001b[39;00m\n\u001b[32m    629\u001b[39m \u001b[38;5;28;01mif\u001b[39;00m \u001b[38;5;129;01mnot\u001b[39;00m (\u001b[32m200\u001b[39m <= code < \u001b[32m300\u001b[39m):\n\u001b[32m--> \u001b[39m\u001b[32m630\u001b[39m     response = \u001b[38;5;28;43mself\u001b[39;49m\u001b[43m.\u001b[49m\u001b[43mparent\u001b[49m\u001b[43m.\u001b[49m\u001b[43merror\u001b[49m\u001b[43m(\u001b[49m\n\u001b[32m    631\u001b[39m \u001b[43m        \u001b[49m\u001b[33;43m'\u001b[39;49m\u001b[33;43mhttp\u001b[39;49m\u001b[33;43m'\u001b[39;49m\u001b[43m,\u001b[49m\u001b[43m \u001b[49m\u001b[43mrequest\u001b[49m\u001b[43m,\u001b[49m\u001b[43m \u001b[49m\u001b[43mresponse\u001b[49m\u001b[43m,\u001b[49m\u001b[43m \u001b[49m\u001b[43mcode\u001b[49m\u001b[43m,\u001b[49m\u001b[43m \u001b[49m\u001b[43mmsg\u001b[49m\u001b[43m,\u001b[49m\u001b[43m \u001b[49m\u001b[43mhdrs\u001b[49m\u001b[43m)\u001b[49m\n\u001b[32m    633\u001b[39m \u001b[38;5;28;01mreturn\u001b[39;00m response\n",
      "\u001b[36mFile \u001b[39m\u001b[32m~\\miniconda3\\Lib\\urllib\\request.py:559\u001b[39m, in \u001b[36mOpenerDirector.error\u001b[39m\u001b[34m(self, proto, *args)\u001b[39m\n\u001b[32m    557\u001b[39m \u001b[38;5;28;01mif\u001b[39;00m http_err:\n\u001b[32m    558\u001b[39m     args = (\u001b[38;5;28mdict\u001b[39m, \u001b[33m'\u001b[39m\u001b[33mdefault\u001b[39m\u001b[33m'\u001b[39m, \u001b[33m'\u001b[39m\u001b[33mhttp_error_default\u001b[39m\u001b[33m'\u001b[39m) + orig_args\n\u001b[32m--> \u001b[39m\u001b[32m559\u001b[39m     \u001b[38;5;28;01mreturn\u001b[39;00m \u001b[38;5;28;43mself\u001b[39;49m\u001b[43m.\u001b[49m\u001b[43m_call_chain\u001b[49m\u001b[43m(\u001b[49m\u001b[43m*\u001b[49m\u001b[43margs\u001b[49m\u001b[43m)\u001b[49m\n",
      "\u001b[36mFile \u001b[39m\u001b[32m~\\miniconda3\\Lib\\urllib\\request.py:492\u001b[39m, in \u001b[36mOpenerDirector._call_chain\u001b[39m\u001b[34m(self, chain, kind, meth_name, *args)\u001b[39m\n\u001b[32m    490\u001b[39m \u001b[38;5;28;01mfor\u001b[39;00m handler \u001b[38;5;129;01min\u001b[39;00m handlers:\n\u001b[32m    491\u001b[39m     func = \u001b[38;5;28mgetattr\u001b[39m(handler, meth_name)\n\u001b[32m--> \u001b[39m\u001b[32m492\u001b[39m     result = \u001b[43mfunc\u001b[49m\u001b[43m(\u001b[49m\u001b[43m*\u001b[49m\u001b[43margs\u001b[49m\u001b[43m)\u001b[49m\n\u001b[32m    493\u001b[39m     \u001b[38;5;28;01mif\u001b[39;00m result \u001b[38;5;129;01mis\u001b[39;00m \u001b[38;5;129;01mnot\u001b[39;00m \u001b[38;5;28;01mNone\u001b[39;00m:\n\u001b[32m    494\u001b[39m         \u001b[38;5;28;01mreturn\u001b[39;00m result\n",
      "\u001b[36mFile \u001b[39m\u001b[32m~\\miniconda3\\Lib\\urllib\\request.py:639\u001b[39m, in \u001b[36mHTTPDefaultErrorHandler.http_error_default\u001b[39m\u001b[34m(self, req, fp, code, msg, hdrs)\u001b[39m\n\u001b[32m    638\u001b[39m \u001b[38;5;28;01mdef\u001b[39;00m\u001b[38;5;250m \u001b[39m\u001b[34mhttp_error_default\u001b[39m(\u001b[38;5;28mself\u001b[39m, req, fp, code, msg, hdrs):\n\u001b[32m--> \u001b[39m\u001b[32m639\u001b[39m     \u001b[38;5;28;01mraise\u001b[39;00m HTTPError(req.full_url, code, msg, hdrs, fp)\n",
      "\u001b[31mHTTPError\u001b[39m: HTTP Error 404: Not Found"
     ]
    }
   ],
   "source": [
    "from urllib.request import urlopen\n",
    "import json\n",
    "\n",
    "# Load U.S. states center coordinates\n",
    "state_coords = pd.read_csv(\"https://raw.githubusercontent.com/plotly/datasets/master/us-state-capitals.csv\")\n",
    "\n",
    "# Add state names as labels\n",
    "for _, row in state_coords.iterrows():\n",
    "    fig.add_trace(go.Scattergeo(\n",
    "        lat=[row['Latitude']],\n",
    "        lon=[row['Longitude']],\n",
    "        text=row['State'],\n",
    "        mode='text',\n",
    "        showlegend=False,\n",
    "        textfont=dict(size=10)\n",
    "    ))\n"
   ]
  },
  {
   "cell_type": "code",
   "execution_count": null,
   "metadata": {},
   "outputs": [
    {
     "data": {
      "application/vnd.plotly.v1+json": {
       "config": {
        "plotlyServerURL": "https://plot.ly"
       },
       "data": [
        {
         "geo": "geo",
         "hovertemplate": "<b>%{hovertext}</b><br><br>Success_Score=%{marker.color}<br>lat=%{lat}<br>lng=%{lon}<extra></extra>",
         "hovertext": [
          "11355",
          "11220",
          "11368",
          "11373",
          "98052",
          "77449",
          "10023",
          "95014",
          "77494",
          "11201",
          "11208",
          "95747",
          "10456",
          "94568",
          "94539",
          "11214",
          "10467",
          "77479",
          "77494",
          "11377"
         ],
         "lat": {
          "bdata": "jswjfzBgREBL6gQ0EVJEQE60q5DyX0RASino9pJeREAzMzMzM9dHQITYmULn1T1AOq+xS1RjREACnx9GCKdCQOcdp+hIvj1ABWnGoulYREDT3uALk1VEQMe6uI0GZENAdVlMbD5qREBkO99PjdtCQAN4CyQowkJAMbYQ5KBMRECw/s9hvnBEQP59xoUDkT1A5x2n6Ei+PUAPtAJDVl9EQA==",
          "dtype": "f8"
         },
         "legendgroup": "",
         "lon": {
          "bdata": "eCgK9Il0UsClg/V/DoFSwHQkl/+QdlLA3Lqbpzp4UsAEVg4tsodewJOMnIU971fAzQaZZOR+UsBQx2MGKoVewPAzLhwI9VfAngyOkld/UsBv9Zz0vndSwMRCrWneV17AMnctIR96UsB4KAr0iXpewFXejnBael7AucK7XMR/UsCA1CZO7ndSwGYUyy2t6FfA8DMuHAj1V8DZ690f73lSwA==",
          "dtype": "f8"
         },
         "marker": {
          "color": {
           "bdata": "AAAAAIDi4EAAAAAAAMjeQAAAAACAotlAAAAAAIBc2UAAAAAAgObWQAAAAACACtZAAAAAAACz1UAAAAAAgJfVQAAAAACAM9VAAAAAAICO1EAAAAAAAN3TQAAAAAAAnNNAAAAAAACN00AAAAAAAGrTQAAAAAAAYNNAAAAAAIBJ00AAAAAAgBfTQAAAAACAF9NAAAAAAIAI00AAAAAAAAHTQA==",
           "dtype": "f8"
          },
          "coloraxis": "coloraxis",
          "size": {
           "bdata": "AAAAAIDi4EAAAAAAAMjeQAAAAACAotlAAAAAAIBc2UAAAAAAgObWQAAAAACACtZAAAAAAACz1UAAAAAAgJfVQAAAAACAM9VAAAAAAICO1EAAAAAAAN3TQAAAAAAAnNNAAAAAAACN00AAAAAAAGrTQAAAAAAAYNNAAAAAAIBJ00AAAAAAgBfTQAAAAACAF9NAAAAAAIAI00AAAAAAAAHTQA==",
           "dtype": "f8"
          },
          "sizemode": "area",
          "sizeref": 86.45,
          "symbol": "circle"
         },
         "mode": "markers",
         "name": "",
         "showlegend": false,
         "type": "scattergeo"
        }
       ],
       "layout": {
        "coloraxis": {
         "colorbar": {
          "title": {
           "text": "Success_Score"
          }
         },
         "colorscale": [
          [
           0,
           "#0d0887"
          ],
          [
           0.1111111111111111,
           "#46039f"
          ],
          [
           0.2222222222222222,
           "#7201a8"
          ],
          [
           0.3333333333333333,
           "#9c179e"
          ],
          [
           0.4444444444444444,
           "#bd3786"
          ],
          [
           0.5555555555555556,
           "#d8576b"
          ],
          [
           0.6666666666666666,
           "#ed7953"
          ],
          [
           0.7777777777777778,
           "#fb9f3a"
          ],
          [
           0.8888888888888888,
           "#fdca26"
          ],
          [
           1,
           "#f0f921"
          ]
         ]
        },
        "geo": {
         "center": {},
         "domain": {
          "x": [
           0,
           1
          ],
          "y": [
           0,
           1
          ]
         },
         "scope": "usa"
        },
        "legend": {
         "itemsizing": "constant",
         "tracegroupgap": 0
        },
        "template": {
         "data": {
          "bar": [
           {
            "error_x": {
             "color": "#2a3f5f"
            },
            "error_y": {
             "color": "#2a3f5f"
            },
            "marker": {
             "line": {
              "color": "#E5ECF6",
              "width": 0.5
             },
             "pattern": {
              "fillmode": "overlay",
              "size": 10,
              "solidity": 0.2
             }
            },
            "type": "bar"
           }
          ],
          "barpolar": [
           {
            "marker": {
             "line": {
              "color": "#E5ECF6",
              "width": 0.5
             },
             "pattern": {
              "fillmode": "overlay",
              "size": 10,
              "solidity": 0.2
             }
            },
            "type": "barpolar"
           }
          ],
          "carpet": [
           {
            "aaxis": {
             "endlinecolor": "#2a3f5f",
             "gridcolor": "white",
             "linecolor": "white",
             "minorgridcolor": "white",
             "startlinecolor": "#2a3f5f"
            },
            "baxis": {
             "endlinecolor": "#2a3f5f",
             "gridcolor": "white",
             "linecolor": "white",
             "minorgridcolor": "white",
             "startlinecolor": "#2a3f5f"
            },
            "type": "carpet"
           }
          ],
          "choropleth": [
           {
            "colorbar": {
             "outlinewidth": 0,
             "ticks": ""
            },
            "type": "choropleth"
           }
          ],
          "contour": [
           {
            "colorbar": {
             "outlinewidth": 0,
             "ticks": ""
            },
            "colorscale": [
             [
              0,
              "#0d0887"
             ],
             [
              0.1111111111111111,
              "#46039f"
             ],
             [
              0.2222222222222222,
              "#7201a8"
             ],
             [
              0.3333333333333333,
              "#9c179e"
             ],
             [
              0.4444444444444444,
              "#bd3786"
             ],
             [
              0.5555555555555556,
              "#d8576b"
             ],
             [
              0.6666666666666666,
              "#ed7953"
             ],
             [
              0.7777777777777778,
              "#fb9f3a"
             ],
             [
              0.8888888888888888,
              "#fdca26"
             ],
             [
              1,
              "#f0f921"
             ]
            ],
            "type": "contour"
           }
          ],
          "contourcarpet": [
           {
            "colorbar": {
             "outlinewidth": 0,
             "ticks": ""
            },
            "type": "contourcarpet"
           }
          ],
          "heatmap": [
           {
            "colorbar": {
             "outlinewidth": 0,
             "ticks": ""
            },
            "colorscale": [
             [
              0,
              "#0d0887"
             ],
             [
              0.1111111111111111,
              "#46039f"
             ],
             [
              0.2222222222222222,
              "#7201a8"
             ],
             [
              0.3333333333333333,
              "#9c179e"
             ],
             [
              0.4444444444444444,
              "#bd3786"
             ],
             [
              0.5555555555555556,
              "#d8576b"
             ],
             [
              0.6666666666666666,
              "#ed7953"
             ],
             [
              0.7777777777777778,
              "#fb9f3a"
             ],
             [
              0.8888888888888888,
              "#fdca26"
             ],
             [
              1,
              "#f0f921"
             ]
            ],
            "type": "heatmap"
           }
          ],
          "histogram": [
           {
            "marker": {
             "pattern": {
              "fillmode": "overlay",
              "size": 10,
              "solidity": 0.2
             }
            },
            "type": "histogram"
           }
          ],
          "histogram2d": [
           {
            "colorbar": {
             "outlinewidth": 0,
             "ticks": ""
            },
            "colorscale": [
             [
              0,
              "#0d0887"
             ],
             [
              0.1111111111111111,
              "#46039f"
             ],
             [
              0.2222222222222222,
              "#7201a8"
             ],
             [
              0.3333333333333333,
              "#9c179e"
             ],
             [
              0.4444444444444444,
              "#bd3786"
             ],
             [
              0.5555555555555556,
              "#d8576b"
             ],
             [
              0.6666666666666666,
              "#ed7953"
             ],
             [
              0.7777777777777778,
              "#fb9f3a"
             ],
             [
              0.8888888888888888,
              "#fdca26"
             ],
             [
              1,
              "#f0f921"
             ]
            ],
            "type": "histogram2d"
           }
          ],
          "histogram2dcontour": [
           {
            "colorbar": {
             "outlinewidth": 0,
             "ticks": ""
            },
            "colorscale": [
             [
              0,
              "#0d0887"
             ],
             [
              0.1111111111111111,
              "#46039f"
             ],
             [
              0.2222222222222222,
              "#7201a8"
             ],
             [
              0.3333333333333333,
              "#9c179e"
             ],
             [
              0.4444444444444444,
              "#bd3786"
             ],
             [
              0.5555555555555556,
              "#d8576b"
             ],
             [
              0.6666666666666666,
              "#ed7953"
             ],
             [
              0.7777777777777778,
              "#fb9f3a"
             ],
             [
              0.8888888888888888,
              "#fdca26"
             ],
             [
              1,
              "#f0f921"
             ]
            ],
            "type": "histogram2dcontour"
           }
          ],
          "mesh3d": [
           {
            "colorbar": {
             "outlinewidth": 0,
             "ticks": ""
            },
            "type": "mesh3d"
           }
          ],
          "parcoords": [
           {
            "line": {
             "colorbar": {
              "outlinewidth": 0,
              "ticks": ""
             }
            },
            "type": "parcoords"
           }
          ],
          "pie": [
           {
            "automargin": true,
            "type": "pie"
           }
          ],
          "scatter": [
           {
            "fillpattern": {
             "fillmode": "overlay",
             "size": 10,
             "solidity": 0.2
            },
            "type": "scatter"
           }
          ],
          "scatter3d": [
           {
            "line": {
             "colorbar": {
              "outlinewidth": 0,
              "ticks": ""
             }
            },
            "marker": {
             "colorbar": {
              "outlinewidth": 0,
              "ticks": ""
             }
            },
            "type": "scatter3d"
           }
          ],
          "scattercarpet": [
           {
            "marker": {
             "colorbar": {
              "outlinewidth": 0,
              "ticks": ""
             }
            },
            "type": "scattercarpet"
           }
          ],
          "scattergeo": [
           {
            "marker": {
             "colorbar": {
              "outlinewidth": 0,
              "ticks": ""
             }
            },
            "type": "scattergeo"
           }
          ],
          "scattergl": [
           {
            "marker": {
             "colorbar": {
              "outlinewidth": 0,
              "ticks": ""
             }
            },
            "type": "scattergl"
           }
          ],
          "scattermap": [
           {
            "marker": {
             "colorbar": {
              "outlinewidth": 0,
              "ticks": ""
             }
            },
            "type": "scattermap"
           }
          ],
          "scattermapbox": [
           {
            "marker": {
             "colorbar": {
              "outlinewidth": 0,
              "ticks": ""
             }
            },
            "type": "scattermapbox"
           }
          ],
          "scatterpolar": [
           {
            "marker": {
             "colorbar": {
              "outlinewidth": 0,
              "ticks": ""
             }
            },
            "type": "scatterpolar"
           }
          ],
          "scatterpolargl": [
           {
            "marker": {
             "colorbar": {
              "outlinewidth": 0,
              "ticks": ""
             }
            },
            "type": "scatterpolargl"
           }
          ],
          "scatterternary": [
           {
            "marker": {
             "colorbar": {
              "outlinewidth": 0,
              "ticks": ""
             }
            },
            "type": "scatterternary"
           }
          ],
          "surface": [
           {
            "colorbar": {
             "outlinewidth": 0,
             "ticks": ""
            },
            "colorscale": [
             [
              0,
              "#0d0887"
             ],
             [
              0.1111111111111111,
              "#46039f"
             ],
             [
              0.2222222222222222,
              "#7201a8"
             ],
             [
              0.3333333333333333,
              "#9c179e"
             ],
             [
              0.4444444444444444,
              "#bd3786"
             ],
             [
              0.5555555555555556,
              "#d8576b"
             ],
             [
              0.6666666666666666,
              "#ed7953"
             ],
             [
              0.7777777777777778,
              "#fb9f3a"
             ],
             [
              0.8888888888888888,
              "#fdca26"
             ],
             [
              1,
              "#f0f921"
             ]
            ],
            "type": "surface"
           }
          ],
          "table": [
           {
            "cells": {
             "fill": {
              "color": "#EBF0F8"
             },
             "line": {
              "color": "white"
             }
            },
            "header": {
             "fill": {
              "color": "#C8D4E3"
             },
             "line": {
              "color": "white"
             }
            },
            "type": "table"
           }
          ]
         },
         "layout": {
          "annotationdefaults": {
           "arrowcolor": "#2a3f5f",
           "arrowhead": 0,
           "arrowwidth": 1
          },
          "autotypenumbers": "strict",
          "coloraxis": {
           "colorbar": {
            "outlinewidth": 0,
            "ticks": ""
           }
          },
          "colorscale": {
           "diverging": [
            [
             0,
             "#8e0152"
            ],
            [
             0.1,
             "#c51b7d"
            ],
            [
             0.2,
             "#de77ae"
            ],
            [
             0.3,
             "#f1b6da"
            ],
            [
             0.4,
             "#fde0ef"
            ],
            [
             0.5,
             "#f7f7f7"
            ],
            [
             0.6,
             "#e6f5d0"
            ],
            [
             0.7,
             "#b8e186"
            ],
            [
             0.8,
             "#7fbc41"
            ],
            [
             0.9,
             "#4d9221"
            ],
            [
             1,
             "#276419"
            ]
           ],
           "sequential": [
            [
             0,
             "#0d0887"
            ],
            [
             0.1111111111111111,
             "#46039f"
            ],
            [
             0.2222222222222222,
             "#7201a8"
            ],
            [
             0.3333333333333333,
             "#9c179e"
            ],
            [
             0.4444444444444444,
             "#bd3786"
            ],
            [
             0.5555555555555556,
             "#d8576b"
            ],
            [
             0.6666666666666666,
             "#ed7953"
            ],
            [
             0.7777777777777778,
             "#fb9f3a"
            ],
            [
             0.8888888888888888,
             "#fdca26"
            ],
            [
             1,
             "#f0f921"
            ]
           ],
           "sequentialminus": [
            [
             0,
             "#0d0887"
            ],
            [
             0.1111111111111111,
             "#46039f"
            ],
            [
             0.2222222222222222,
             "#7201a8"
            ],
            [
             0.3333333333333333,
             "#9c179e"
            ],
            [
             0.4444444444444444,
             "#bd3786"
            ],
            [
             0.5555555555555556,
             "#d8576b"
            ],
            [
             0.6666666666666666,
             "#ed7953"
            ],
            [
             0.7777777777777778,
             "#fb9f3a"
            ],
            [
             0.8888888888888888,
             "#fdca26"
            ],
            [
             1,
             "#f0f921"
            ]
           ]
          },
          "colorway": [
           "#636efa",
           "#EF553B",
           "#00cc96",
           "#ab63fa",
           "#FFA15A",
           "#19d3f3",
           "#FF6692",
           "#B6E880",
           "#FF97FF",
           "#FECB52"
          ],
          "font": {
           "color": "#2a3f5f"
          },
          "geo": {
           "bgcolor": "white",
           "lakecolor": "white",
           "landcolor": "#E5ECF6",
           "showlakes": true,
           "showland": true,
           "subunitcolor": "white"
          },
          "hoverlabel": {
           "align": "left"
          },
          "hovermode": "closest",
          "mapbox": {
           "style": "light"
          },
          "paper_bgcolor": "white",
          "plot_bgcolor": "#E5ECF6",
          "polar": {
           "angularaxis": {
            "gridcolor": "white",
            "linecolor": "white",
            "ticks": ""
           },
           "bgcolor": "#E5ECF6",
           "radialaxis": {
            "gridcolor": "white",
            "linecolor": "white",
            "ticks": ""
           }
          },
          "scene": {
           "xaxis": {
            "backgroundcolor": "#E5ECF6",
            "gridcolor": "white",
            "gridwidth": 2,
            "linecolor": "white",
            "showbackground": true,
            "ticks": "",
            "zerolinecolor": "white"
           },
           "yaxis": {
            "backgroundcolor": "#E5ECF6",
            "gridcolor": "white",
            "gridwidth": 2,
            "linecolor": "white",
            "showbackground": true,
            "ticks": "",
            "zerolinecolor": "white"
           },
           "zaxis": {
            "backgroundcolor": "#E5ECF6",
            "gridcolor": "white",
            "gridwidth": 2,
            "linecolor": "white",
            "showbackground": true,
            "ticks": "",
            "zerolinecolor": "white"
           }
          },
          "shapedefaults": {
           "line": {
            "color": "#2a3f5f"
           }
          },
          "ternary": {
           "aaxis": {
            "gridcolor": "white",
            "linecolor": "white",
            "ticks": ""
           },
           "baxis": {
            "gridcolor": "white",
            "linecolor": "white",
            "ticks": ""
           },
           "bgcolor": "#E5ECF6",
           "caxis": {
            "gridcolor": "white",
            "linecolor": "white",
            "ticks": ""
           }
          },
          "title": {
           "x": 0.05
          },
          "xaxis": {
           "automargin": true,
           "gridcolor": "white",
           "linecolor": "white",
           "ticks": "",
           "title": {
            "standoff": 15
           },
           "zerolinecolor": "white",
           "zerolinewidth": 2
          },
          "yaxis": {
           "automargin": true,
           "gridcolor": "white",
           "linecolor": "white",
           "ticks": "",
           "title": {
            "standoff": 15
           },
           "zerolinecolor": "white",
           "zerolinewidth": 2
          }
         }
        },
        "title": {
         "text": "Top ZIP Codes for Business Success in the USA"
        }
       }
      }
     },
     "metadata": {},
     "output_type": "display_data"
    }
   ],
   "source": [
    "import plotly.express as px\n",
    "\n",
    "fig = px.scatter_geo(\n",
    "    top_zip,\n",
    "    lat='lat',\n",
    "    lon='lng',\n",
    "    color=\"Success_Score\",\n",
    "    size=\"Success_Score\",\n",
    "    hover_name=\"zipcode\",\n",
    "    scope=\"usa\",\n",
    "    title=\"Top ZIP Codes for Business Success in the USA\"\n",
    ")\n",
    "fig.show()\n"
   ]
  },
  {
   "cell_type": "code",
   "execution_count": null,
   "metadata": {},
   "outputs": [
    {
     "name": "stderr",
     "output_type": "stream",
     "text": [
      "c:\\Users\\My PC\\Bus\\venv\\Lib\\site-packages\\fuzzywuzzy\\fuzz.py:11: UserWarning:\n",
      "\n",
      "Using slow pure-python SequenceMatcher. Install python-Levenshtein to remove this warning\n",
      "\n"
     ]
    },
    {
     "ename": "AttributeError",
     "evalue": "module 'sqlalchemy_mate' has no attribute 'ExtendedBase'",
     "output_type": "error",
     "traceback": [
      "\u001b[31m---------------------------------------------------------------------------\u001b[39m",
      "\u001b[31mAttributeError\u001b[39m                            Traceback (most recent call last)",
      "\u001b[36mCell\u001b[39m\u001b[36m \u001b[39m\u001b[32mIn[30]\u001b[39m\u001b[32m, line 1\u001b[39m\n\u001b[32m----> \u001b[39m\u001b[32m1\u001b[39m \u001b[38;5;28;01mfrom\u001b[39;00m\u001b[38;5;250m \u001b[39m\u001b[34;01muszipcode\u001b[39;00m\u001b[38;5;250m \u001b[39m\u001b[38;5;28;01mimport\u001b[39;00m SearchEngine\n\u001b[32m      3\u001b[39m \u001b[38;5;66;03m# Create search engine\u001b[39;00m\n\u001b[32m      4\u001b[39m search = SearchEngine(simple_zipcode=\u001b[38;5;28;01mTrue\u001b[39;00m)\n",
      "\u001b[36mFile \u001b[39m\u001b[32mc:\\Users\\My PC\\Bus\\venv\\Lib\\site-packages\\uszipcode\\__init__.py:21\u001b[39m\n\u001b[32m     18\u001b[39m __github_username__ = \u001b[33m\"\u001b[39m\u001b[33mMacHu-GWU\u001b[39m\u001b[33m\"\u001b[39m\n\u001b[32m     20\u001b[39m \u001b[38;5;28;01mtry\u001b[39;00m:\n\u001b[32m---> \u001b[39m\u001b[32m21\u001b[39m     \u001b[38;5;28;01mfrom\u001b[39;00m\u001b[38;5;250m \u001b[39m\u001b[34;01m.\u001b[39;00m\u001b[34;01msearch\u001b[39;00m\u001b[38;5;250m \u001b[39m\u001b[38;5;28;01mimport\u001b[39;00m (\n\u001b[32m     22\u001b[39m         SearchEngine,\n\u001b[32m     23\u001b[39m         SimpleZipcode, ComprehensiveZipcode, ZipcodeTypeEnum, SORT_BY_DIST,\n\u001b[32m     24\u001b[39m     )\n\u001b[32m     25\u001b[39m \u001b[38;5;28;01mexcept\u001b[39;00m \u001b[38;5;167;01mImportError\u001b[39;00m \u001b[38;5;28;01mas\u001b[39;00m e:  \u001b[38;5;66;03m# pragma: no cover\u001b[39;00m\n\u001b[32m     26\u001b[39m     \u001b[38;5;28mprint\u001b[39m(e)\n",
      "\u001b[36mFile \u001b[39m\u001b[32mc:\\Users\\My PC\\Bus\\venv\\Lib\\site-packages\\uszipcode\\search.py:26\u001b[39m\n\u001b[32m     19\u001b[39m \u001b[38;5;28;01mfrom\u001b[39;00m\u001b[38;5;250m \u001b[39m\u001b[34;01mfuzzywuzzy\u001b[39;00m\u001b[34;01m.\u001b[39;00m\u001b[34;01mprocess\u001b[39;00m\u001b[38;5;250m \u001b[39m\u001b[38;5;28;01mimport\u001b[39;00m extract, extractOne\n\u001b[32m     21\u001b[39m \u001b[38;5;28;01mfrom\u001b[39;00m\u001b[38;5;250m \u001b[39m\u001b[34;01m.\u001b[39;00m\u001b[34;01mdb\u001b[39;00m\u001b[38;5;250m \u001b[39m\u001b[38;5;28;01mimport\u001b[39;00m (\n\u001b[32m     22\u001b[39m     download_db_file,\n\u001b[32m     23\u001b[39m     DEFAULT_SIMPLE_DB_FILE_PATH, DEFAULT_COMPREHENSIVE_DB_FILE_PATH,\n\u001b[32m     24\u001b[39m     SIMPLE_DB_FILE_DOWNLOAD_URL, COMPREHENSIVE_DB_FILE_DOWNLOAD_URL,\n\u001b[32m     25\u001b[39m )\n\u001b[32m---> \u001b[39m\u001b[32m26\u001b[39m \u001b[38;5;28;01mfrom\u001b[39;00m\u001b[38;5;250m \u001b[39m\u001b[34;01m.\u001b[39;00m\u001b[34;01mmodel\u001b[39;00m\u001b[38;5;250m \u001b[39m\u001b[38;5;28;01mimport\u001b[39;00m ZipcodeTypeEnum, SimpleZipcode, ComprehensiveZipcode\n\u001b[32m     27\u001b[39m \u001b[38;5;28;01mfrom\u001b[39;00m\u001b[38;5;250m \u001b[39m\u001b[34;01m.\u001b[39;00m\u001b[34;01mstate_abbr\u001b[39;00m\u001b[38;5;250m \u001b[39m\u001b[38;5;28;01mimport\u001b[39;00m (\n\u001b[32m     28\u001b[39m     MAPPER_STATE_ABBR_SHORT_TO_LONG, MAPPER_STATE_ABBR_LONG_TO_SHORT,\n\u001b[32m     29\u001b[39m )\n\u001b[32m     31\u001b[39m SORT_BY_DIST = \u001b[33m\"\u001b[39m\u001b[33mdist\u001b[39m\u001b[33m\"\u001b[39m\n",
      "\u001b[36mFile \u001b[39m\u001b[32mc:\\Users\\My PC\\Bus\\venv\\Lib\\site-packages\\uszipcode\\model.py:30\u001b[39m\n\u001b[32m     25\u001b[39m     Unique = \u001b[33m\"\u001b[39m\u001b[33mUNIQUE\u001b[39m\u001b[33m\"\u001b[39m\n\u001b[32m     26\u001b[39m     Military = \u001b[33m\"\u001b[39m\u001b[33mMILITARY\u001b[39m\u001b[33m\"\u001b[39m\n\u001b[32m     29\u001b[39m \u001b[38;5;129m@total_ordering\u001b[39m\n\u001b[32m---> \u001b[39m\u001b[32m30\u001b[39m \u001b[38;5;28;01mclass\u001b[39;00m\u001b[38;5;250m \u001b[39m\u001b[34;01mAbstractSimpleZipcode\u001b[39;00m(Base, \u001b[43msam\u001b[49m\u001b[43m.\u001b[49m\u001b[43mExtendedBase\u001b[49m):\n\u001b[32m     31\u001b[39m \u001b[38;5;250m    \u001b[39m\u001b[33;03m\"\"\"\u001b[39;00m\n\u001b[32m     32\u001b[39m \u001b[33;03m    Base class for Zipcode.\u001b[39;00m\n\u001b[32m     33\u001b[39m \u001b[33;03m    \"\"\"\u001b[39;00m\n\u001b[32m     34\u001b[39m     __abstract__ = \u001b[38;5;28;01mTrue\u001b[39;00m\n",
      "\u001b[31mAttributeError\u001b[39m: module 'sqlalchemy_mate' has no attribute 'ExtendedBase'"
     ]
    }
   ],
   "source": [
    "from uszipcode import SearchEngine\n",
    "\n",
    "# Create search engine\n",
    "search = SearchEngine(simple_zipcode=True)\n",
    "\n",
    "# Function to get lat/lon from zipcode\n",
    "def get_lat_lon(zipcode):\n",
    "    zip_info = search.by_zipcode(zipcode)\n",
    "    return pd.Series([zip_info.lat, zip_info.lng])\n",
    "\n",
    "# Apply to top ZIPs (convert zip to string first)\n",
    "top_zip['zipcode'] = top_zip['zipcode'].astype(str)\n",
    "top_zip[['lat', 'lon']] = top_zip['zipcode'].apply(get_lat_lon)\n",
    "\n",
    "# Drop rows where lat/lon not found\n",
    "top_zip.dropna(subset=['lat', 'lon'], inplace=True)\n"
   ]
  },
  {
   "cell_type": "code",
   "execution_count": null,
   "metadata": {},
   "outputs": [
    {
     "ename": "ValueError",
     "evalue": "Value of 'lat' is not the name of a column in 'data_frame'. Expected one of ['STATE', 'zipcode', 'Total_Income', 'Business_Income', 'Wages', 'Success_Score'] but received: lat",
     "output_type": "error",
     "traceback": [
      "\u001b[31m---------------------------------------------------------------------------\u001b[39m",
      "\u001b[31mValueError\u001b[39m                                Traceback (most recent call last)",
      "\u001b[36mCell\u001b[39m\u001b[36m \u001b[39m\u001b[32mIn[31]\u001b[39m\u001b[32m, line 1\u001b[39m\n\u001b[32m----> \u001b[39m\u001b[32m1\u001b[39m fig = \u001b[43mpx\u001b[49m\u001b[43m.\u001b[49m\u001b[43mscatter_geo\u001b[49m\u001b[43m(\u001b[49m\n\u001b[32m      2\u001b[39m \u001b[43m    \u001b[49m\u001b[43mtop_zip\u001b[49m\u001b[43m,\u001b[49m\n\u001b[32m      3\u001b[39m \u001b[43m    \u001b[49m\u001b[43mlat\u001b[49m\u001b[43m=\u001b[49m\u001b[33;43m'\u001b[39;49m\u001b[33;43mlat\u001b[39;49m\u001b[33;43m'\u001b[39;49m\u001b[43m,\u001b[49m\n\u001b[32m      4\u001b[39m \u001b[43m    \u001b[49m\u001b[43mlon\u001b[49m\u001b[43m=\u001b[49m\u001b[33;43m'\u001b[39;49m\u001b[33;43mlon\u001b[39;49m\u001b[33;43m'\u001b[39;49m\u001b[43m,\u001b[49m\n\u001b[32m      5\u001b[39m \u001b[43m    \u001b[49m\u001b[43mcolor\u001b[49m\u001b[43m=\u001b[49m\u001b[33;43m\"\u001b[39;49m\u001b[33;43mSuccess_Score\u001b[39;49m\u001b[33;43m\"\u001b[39;49m\u001b[43m,\u001b[49m\n\u001b[32m      6\u001b[39m \u001b[43m    \u001b[49m\u001b[43msize\u001b[49m\u001b[43m=\u001b[49m\u001b[33;43m\"\u001b[39;49m\u001b[33;43mSuccess_Score\u001b[39;49m\u001b[33;43m\"\u001b[39;49m\u001b[43m,\u001b[49m\n\u001b[32m      7\u001b[39m \u001b[43m    \u001b[49m\u001b[43mhover_name\u001b[49m\u001b[43m=\u001b[49m\u001b[33;43m\"\u001b[39;49m\u001b[33;43mzipcode\u001b[39;49m\u001b[33;43m\"\u001b[39;49m\u001b[43m,\u001b[49m\n\u001b[32m      8\u001b[39m \u001b[43m    \u001b[49m\u001b[43mscope\u001b[49m\u001b[43m=\u001b[49m\u001b[33;43m\"\u001b[39;49m\u001b[33;43musa\u001b[39;49m\u001b[33;43m\"\u001b[39;49m\u001b[43m,\u001b[49m\n\u001b[32m      9\u001b[39m \u001b[43m    \u001b[49m\u001b[43mtitle\u001b[49m\u001b[43m=\u001b[49m\u001b[33;43m\"\u001b[39;49m\u001b[33;43mTop 20 ZIP Codes for Business Success in the USA\u001b[39;49m\u001b[33;43m\"\u001b[39;49m\n\u001b[32m     10\u001b[39m \u001b[43m)\u001b[49m\n\u001b[32m     11\u001b[39m fig.show()\n",
      "\u001b[36mFile \u001b[39m\u001b[32mc:\\Users\\My PC\\Bus\\venv\\Lib\\site-packages\\plotly\\express\\_chart_types.py:1171\u001b[39m, in \u001b[36mscatter_geo\u001b[39m\u001b[34m(data_frame, lat, lon, locations, locationmode, geojson, featureidkey, color, text, symbol, facet_row, facet_col, facet_col_wrap, facet_row_spacing, facet_col_spacing, hover_name, hover_data, custom_data, size, animation_frame, animation_group, category_orders, labels, color_discrete_sequence, color_discrete_map, color_continuous_scale, range_color, color_continuous_midpoint, symbol_sequence, symbol_map, opacity, size_max, projection, scope, center, fitbounds, basemap_visible, title, subtitle, template, width, height)\u001b[39m\n\u001b[32m   1123\u001b[39m \u001b[38;5;28;01mdef\u001b[39;00m\u001b[38;5;250m \u001b[39m\u001b[34mscatter_geo\u001b[39m(\n\u001b[32m   1124\u001b[39m     data_frame=\u001b[38;5;28;01mNone\u001b[39;00m,\n\u001b[32m   1125\u001b[39m     lat=\u001b[38;5;28;01mNone\u001b[39;00m,\n\u001b[32m   (...)\u001b[39m\u001b[32m   1165\u001b[39m     height=\u001b[38;5;28;01mNone\u001b[39;00m,\n\u001b[32m   1166\u001b[39m ) -> go.Figure:\n\u001b[32m   1167\u001b[39m \u001b[38;5;250m    \u001b[39m\u001b[33;03m\"\"\"\u001b[39;00m\n\u001b[32m   1168\u001b[39m \u001b[33;03m    In a geographic scatter plot, each row of `data_frame` is represented\u001b[39;00m\n\u001b[32m   1169\u001b[39m \u001b[33;03m    by a symbol mark on a map.\u001b[39;00m\n\u001b[32m   1170\u001b[39m \u001b[33;03m    \"\"\"\u001b[39;00m\n\u001b[32m-> \u001b[39m\u001b[32m1171\u001b[39m     \u001b[38;5;28;01mreturn\u001b[39;00m \u001b[43mmake_figure\u001b[49m\u001b[43m(\u001b[49m\n\u001b[32m   1172\u001b[39m \u001b[43m        \u001b[49m\u001b[43margs\u001b[49m\u001b[43m=\u001b[49m\u001b[38;5;28;43mlocals\u001b[39;49m\u001b[43m(\u001b[49m\u001b[43m)\u001b[49m\u001b[43m,\u001b[49m\n\u001b[32m   1173\u001b[39m \u001b[43m        \u001b[49m\u001b[43mconstructor\u001b[49m\u001b[43m=\u001b[49m\u001b[43mgo\u001b[49m\u001b[43m.\u001b[49m\u001b[43mScattergeo\u001b[49m\u001b[43m,\u001b[49m\n\u001b[32m   1174\u001b[39m \u001b[43m        \u001b[49m\u001b[43mtrace_patch\u001b[49m\u001b[43m=\u001b[49m\u001b[38;5;28;43mdict\u001b[39;49m\u001b[43m(\u001b[49m\u001b[43mlocationmode\u001b[49m\u001b[43m=\u001b[49m\u001b[43mlocationmode\u001b[49m\u001b[43m)\u001b[49m\u001b[43m,\u001b[49m\n\u001b[32m   1175\u001b[39m \u001b[43m    \u001b[49m\u001b[43m)\u001b[49m\n",
      "\u001b[36mFile \u001b[39m\u001b[32mc:\\Users\\My PC\\Bus\\venv\\Lib\\site-packages\\plotly\\express\\_core.py:2479\u001b[39m, in \u001b[36mmake_figure\u001b[39m\u001b[34m(args, constructor, trace_patch, layout_patch)\u001b[39m\n\u001b[32m   2476\u001b[39m layout_patch = layout_patch \u001b[38;5;129;01mor\u001b[39;00m {}\n\u001b[32m   2477\u001b[39m apply_default_cascade(args)\n\u001b[32m-> \u001b[39m\u001b[32m2479\u001b[39m args = \u001b[43mbuild_dataframe\u001b[49m\u001b[43m(\u001b[49m\u001b[43margs\u001b[49m\u001b[43m,\u001b[49m\u001b[43m \u001b[49m\u001b[43mconstructor\u001b[49m\u001b[43m)\u001b[49m\n\u001b[32m   2480\u001b[39m \u001b[38;5;28;01mif\u001b[39;00m constructor \u001b[38;5;129;01min\u001b[39;00m [go.Treemap, go.Sunburst, go.Icicle] \u001b[38;5;129;01mand\u001b[39;00m args[\u001b[33m\"\u001b[39m\u001b[33mpath\u001b[39m\u001b[33m\"\u001b[39m] \u001b[38;5;129;01mis\u001b[39;00m \u001b[38;5;129;01mnot\u001b[39;00m \u001b[38;5;28;01mNone\u001b[39;00m:\n\u001b[32m   2481\u001b[39m     args = process_dataframe_hierarchy(args)\n",
      "\u001b[36mFile \u001b[39m\u001b[32mc:\\Users\\My PC\\Bus\\venv\\Lib\\site-packages\\plotly\\express\\_core.py:1727\u001b[39m, in \u001b[36mbuild_dataframe\u001b[39m\u001b[34m(args, constructor)\u001b[39m\n\u001b[32m   1724\u001b[39m     args[\u001b[33m\"\u001b[39m\u001b[33mcolor\u001b[39m\u001b[33m\"\u001b[39m] = \u001b[38;5;28;01mNone\u001b[39;00m\n\u001b[32m   1725\u001b[39m \u001b[38;5;66;03m# now that things have been prepped, we do the systematic rewriting of `args`\u001b[39;00m\n\u001b[32m-> \u001b[39m\u001b[32m1727\u001b[39m df_output, wide_id_vars = \u001b[43mprocess_args_into_dataframe\u001b[49m\u001b[43m(\u001b[49m\n\u001b[32m   1728\u001b[39m \u001b[43m    \u001b[49m\u001b[43margs\u001b[49m\u001b[43m,\u001b[49m\n\u001b[32m   1729\u001b[39m \u001b[43m    \u001b[49m\u001b[43mwide_mode\u001b[49m\u001b[43m,\u001b[49m\n\u001b[32m   1730\u001b[39m \u001b[43m    \u001b[49m\u001b[43mvar_name\u001b[49m\u001b[43m,\u001b[49m\n\u001b[32m   1731\u001b[39m \u001b[43m    \u001b[49m\u001b[43mvalue_name\u001b[49m\u001b[43m,\u001b[49m\n\u001b[32m   1732\u001b[39m \u001b[43m    \u001b[49m\u001b[43mis_pd_like\u001b[49m\u001b[43m,\u001b[49m\n\u001b[32m   1733\u001b[39m \u001b[43m    \u001b[49m\u001b[43mnative_namespace\u001b[49m\u001b[43m,\u001b[49m\n\u001b[32m   1734\u001b[39m \u001b[43m\u001b[49m\u001b[43m)\u001b[49m\n\u001b[32m   1735\u001b[39m df_output: nw.DataFrame\n\u001b[32m   1736\u001b[39m \u001b[38;5;66;03m# now that `df_output` exists and `args` contains only references, we complete\u001b[39;00m\n\u001b[32m   1737\u001b[39m \u001b[38;5;66;03m# the special-case and wide-mode handling by further rewriting args and/or mutating\u001b[39;00m\n\u001b[32m   1738\u001b[39m \u001b[38;5;66;03m# df_output\u001b[39;00m\n",
      "\u001b[36mFile \u001b[39m\u001b[32mc:\\Users\\My PC\\Bus\\venv\\Lib\\site-packages\\plotly\\express\\_core.py:1328\u001b[39m, in \u001b[36mprocess_args_into_dataframe\u001b[39m\u001b[34m(args, wide_mode, var_name, value_name, is_pd_like, native_namespace)\u001b[39m\n\u001b[32m   1326\u001b[39m         \u001b[38;5;28;01mif\u001b[39;00m argument == \u001b[33m\"\u001b[39m\u001b[33mindex\u001b[39m\u001b[33m\"\u001b[39m:\n\u001b[32m   1327\u001b[39m             err_msg += \u001b[33m\"\u001b[39m\u001b[38;5;130;01m\\n\u001b[39;00m\u001b[33m To use the index, pass it in directly as `df.index`.\u001b[39m\u001b[33m\"\u001b[39m\n\u001b[32m-> \u001b[39m\u001b[32m1328\u001b[39m         \u001b[38;5;28;01mraise\u001b[39;00m \u001b[38;5;167;01mValueError\u001b[39;00m(err_msg)\n\u001b[32m   1329\u001b[39m \u001b[38;5;28;01melif\u001b[39;00m length \u001b[38;5;129;01mand\u001b[39;00m (actual_len := \u001b[38;5;28mlen\u001b[39m(df_input)) != length:\n\u001b[32m   1330\u001b[39m     \u001b[38;5;28;01mraise\u001b[39;00m \u001b[38;5;167;01mValueError\u001b[39;00m(\n\u001b[32m   1331\u001b[39m         \u001b[33m\"\u001b[39m\u001b[33mAll arguments should have the same length. \u001b[39m\u001b[33m\"\u001b[39m\n\u001b[32m   1332\u001b[39m         \u001b[33m\"\u001b[39m\u001b[33mThe length of column argument `df[\u001b[39m\u001b[38;5;132;01m%s\u001b[39;00m\u001b[33m]` is \u001b[39m\u001b[38;5;132;01m%d\u001b[39;00m\u001b[33m, whereas the \u001b[39m\u001b[33m\"\u001b[39m\n\u001b[32m   (...)\u001b[39m\u001b[32m   1339\u001b[39m         )\n\u001b[32m   1340\u001b[39m     )\n",
      "\u001b[31mValueError\u001b[39m: Value of 'lat' is not the name of a column in 'data_frame'. Expected one of ['STATE', 'zipcode', 'Total_Income', 'Business_Income', 'Wages', 'Success_Score'] but received: lat"
     ]
    }
   ],
   "source": [
    "fig = px.scatter_geo(\n",
    "    top_zip,\n",
    "    lat='lat',\n",
    "    lon='lon',\n",
    "    color=\"Success_Score\",\n",
    "    size=\"Success_Score\",\n",
    "    hover_name=\"zipcode\",\n",
    "    scope=\"usa\",\n",
    "    title=\"Top 20 ZIP Codes for Business Success in the USA\"\n",
    ")\n",
    "fig.show()\n"
   ]
  },
  {
   "cell_type": "code",
   "execution_count": null,
   "metadata": {},
   "outputs": [],
   "source": []
  },
  {
   "cell_type": "code",
   "execution_count": null,
   "metadata": {},
   "outputs": [],
   "source": []
  },
  {
   "cell_type": "code",
   "execution_count": null,
   "metadata": {},
   "outputs": [],
   "source": [
    "import pandas as pd\n",
    "import numpy as np\n",
    "import matplotlib.pyplot as plt\n",
    "import seaborn as sns \n",
    "import warnings\n",
    "warnings.filterwarnings(\"ignore\")\n",
    "import os"
   ]
  },
  {
   "cell_type": "code",
   "execution_count": null,
   "metadata": {},
   "outputs": [],
   "source": [
    "df2=pd.read_csv(\"https://www.irs.gov/pub/irs-soi/22zpallnoagi.csv\")"
   ]
  },
  {
   "cell_type": "code",
   "execution_count": null,
   "metadata": {},
   "outputs": [
    {
     "data": {
      "text/html": [
       "<div>\n",
       "<style scoped>\n",
       "    .dataframe tbody tr th:only-of-type {\n",
       "        vertical-align: middle;\n",
       "    }\n",
       "\n",
       "    .dataframe tbody tr th {\n",
       "        vertical-align: top;\n",
       "    }\n",
       "\n",
       "    .dataframe thead th {\n",
       "        text-align: right;\n",
       "    }\n",
       "</style>\n",
       "<table border=\"1\" class=\"dataframe\">\n",
       "  <thead>\n",
       "    <tr style=\"text-align: right;\">\n",
       "      <th></th>\n",
       "      <th>STATEFIPS</th>\n",
       "      <th>STATE</th>\n",
       "      <th>ZIPCODE</th>\n",
       "      <th>agi_stub</th>\n",
       "      <th>N1</th>\n",
       "      <th>MARS1</th>\n",
       "      <th>MARS2</th>\n",
       "      <th>MARS4</th>\n",
       "      <th>ELF</th>\n",
       "      <th>CPREP</th>\n",
       "      <th>...</th>\n",
       "      <th>N85300</th>\n",
       "      <th>A85300</th>\n",
       "      <th>N11901</th>\n",
       "      <th>A11901</th>\n",
       "      <th>N11900</th>\n",
       "      <th>A11900</th>\n",
       "      <th>N11902</th>\n",
       "      <th>A11902</th>\n",
       "      <th>N12000</th>\n",
       "      <th>A12000</th>\n",
       "    </tr>\n",
       "  </thead>\n",
       "  <tbody>\n",
       "    <tr>\n",
       "      <th>0</th>\n",
       "      <td>1</td>\n",
       "      <td>AL</td>\n",
       "      <td>0</td>\n",
       "      <td>0</td>\n",
       "      <td>2116220.0</td>\n",
       "      <td>942190.0</td>\n",
       "      <td>743980.0</td>\n",
       "      <td>379550.0</td>\n",
       "      <td>1979060.0</td>\n",
       "      <td>64740.0</td>\n",
       "      <td>...</td>\n",
       "      <td>54890.0</td>\n",
       "      <td>223948.0</td>\n",
       "      <td>517250.0</td>\n",
       "      <td>2853174.0</td>\n",
       "      <td>1539200.0</td>\n",
       "      <td>5820514.0</td>\n",
       "      <td>1507110.0</td>\n",
       "      <td>4971630.0</td>\n",
       "      <td>36500.0</td>\n",
       "      <td>767916.0</td>\n",
       "    </tr>\n",
       "    <tr>\n",
       "      <th>1</th>\n",
       "      <td>1</td>\n",
       "      <td>AL</td>\n",
       "      <td>35004</td>\n",
       "      <td>0</td>\n",
       "      <td>5410.0</td>\n",
       "      <td>2460.0</td>\n",
       "      <td>2040.0</td>\n",
       "      <td>770.0</td>\n",
       "      <td>5090.0</td>\n",
       "      <td>150.0</td>\n",
       "      <td>...</td>\n",
       "      <td>60.0</td>\n",
       "      <td>89.0</td>\n",
       "      <td>1480.0</td>\n",
       "      <td>5019.0</td>\n",
       "      <td>3780.0</td>\n",
       "      <td>11161.0</td>\n",
       "      <td>3750.0</td>\n",
       "      <td>10548.0</td>\n",
       "      <td>60.0</td>\n",
       "      <td>178.0</td>\n",
       "    </tr>\n",
       "    <tr>\n",
       "      <th>2</th>\n",
       "      <td>1</td>\n",
       "      <td>AL</td>\n",
       "      <td>35005</td>\n",
       "      <td>0</td>\n",
       "      <td>3290.0</td>\n",
       "      <td>1580.0</td>\n",
       "      <td>740.0</td>\n",
       "      <td>890.0</td>\n",
       "      <td>3060.0</td>\n",
       "      <td>100.0</td>\n",
       "      <td>...</td>\n",
       "      <td>0.0</td>\n",
       "      <td>0.0</td>\n",
       "      <td>610.0</td>\n",
       "      <td>1471.0</td>\n",
       "      <td>2620.0</td>\n",
       "      <td>8106.0</td>\n",
       "      <td>2610.0</td>\n",
       "      <td>8094.0</td>\n",
       "      <td>0.0</td>\n",
       "      <td>0.0</td>\n",
       "    </tr>\n",
       "    <tr>\n",
       "      <th>3</th>\n",
       "      <td>1</td>\n",
       "      <td>AL</td>\n",
       "      <td>35006</td>\n",
       "      <td>0</td>\n",
       "      <td>1260.0</td>\n",
       "      <td>500.0</td>\n",
       "      <td>560.0</td>\n",
       "      <td>170.0</td>\n",
       "      <td>1200.0</td>\n",
       "      <td>30.0</td>\n",
       "      <td>...</td>\n",
       "      <td>0.0</td>\n",
       "      <td>0.0</td>\n",
       "      <td>290.0</td>\n",
       "      <td>815.0</td>\n",
       "      <td>930.0</td>\n",
       "      <td>2749.0</td>\n",
       "      <td>930.0</td>\n",
       "      <td>2623.0</td>\n",
       "      <td>0.0</td>\n",
       "      <td>0.0</td>\n",
       "    </tr>\n",
       "    <tr>\n",
       "      <th>4</th>\n",
       "      <td>1</td>\n",
       "      <td>AL</td>\n",
       "      <td>35007</td>\n",
       "      <td>0</td>\n",
       "      <td>12540.0</td>\n",
       "      <td>5470.0</td>\n",
       "      <td>4950.0</td>\n",
       "      <td>1780.0</td>\n",
       "      <td>11590.0</td>\n",
       "      <td>530.0</td>\n",
       "      <td>...</td>\n",
       "      <td>170.0</td>\n",
       "      <td>383.0</td>\n",
       "      <td>3770.0</td>\n",
       "      <td>13618.0</td>\n",
       "      <td>8400.0</td>\n",
       "      <td>23549.0</td>\n",
       "      <td>8300.0</td>\n",
       "      <td>22506.0</td>\n",
       "      <td>120.0</td>\n",
       "      <td>705.0</td>\n",
       "    </tr>\n",
       "    <tr>\n",
       "      <th>5</th>\n",
       "      <td>1</td>\n",
       "      <td>AL</td>\n",
       "      <td>35010</td>\n",
       "      <td>0</td>\n",
       "      <td>8000.0</td>\n",
       "      <td>3370.0</td>\n",
       "      <td>2590.0</td>\n",
       "      <td>1860.0</td>\n",
       "      <td>7580.0</td>\n",
       "      <td>220.0</td>\n",
       "      <td>...</td>\n",
       "      <td>180.0</td>\n",
       "      <td>585.0</td>\n",
       "      <td>1700.0</td>\n",
       "      <td>7095.0</td>\n",
       "      <td>6090.0</td>\n",
       "      <td>25729.0</td>\n",
       "      <td>5930.0</td>\n",
       "      <td>20312.0</td>\n",
       "      <td>200.0</td>\n",
       "      <td>5382.0</td>\n",
       "    </tr>\n",
       "    <tr>\n",
       "      <th>6</th>\n",
       "      <td>1</td>\n",
       "      <td>AL</td>\n",
       "      <td>35014</td>\n",
       "      <td>0</td>\n",
       "      <td>1620.0</td>\n",
       "      <td>660.0</td>\n",
       "      <td>520.0</td>\n",
       "      <td>410.0</td>\n",
       "      <td>1530.0</td>\n",
       "      <td>50.0</td>\n",
       "      <td>...</td>\n",
       "      <td>30.0</td>\n",
       "      <td>22.0</td>\n",
       "      <td>370.0</td>\n",
       "      <td>1485.0</td>\n",
       "      <td>1220.0</td>\n",
       "      <td>4050.0</td>\n",
       "      <td>1210.0</td>\n",
       "      <td>3888.0</td>\n",
       "      <td>0.0</td>\n",
       "      <td>0.0</td>\n",
       "    </tr>\n",
       "    <tr>\n",
       "      <th>7</th>\n",
       "      <td>1</td>\n",
       "      <td>AL</td>\n",
       "      <td>35016</td>\n",
       "      <td>0</td>\n",
       "      <td>7590.0</td>\n",
       "      <td>3110.0</td>\n",
       "      <td>3360.0</td>\n",
       "      <td>940.0</td>\n",
       "      <td>7150.0</td>\n",
       "      <td>210.0</td>\n",
       "      <td>...</td>\n",
       "      <td>100.0</td>\n",
       "      <td>96.0</td>\n",
       "      <td>1750.0</td>\n",
       "      <td>5930.0</td>\n",
       "      <td>5620.0</td>\n",
       "      <td>16299.0</td>\n",
       "      <td>5530.0</td>\n",
       "      <td>15537.0</td>\n",
       "      <td>110.0</td>\n",
       "      <td>398.0</td>\n",
       "    </tr>\n",
       "    <tr>\n",
       "      <th>8</th>\n",
       "      <td>1</td>\n",
       "      <td>AL</td>\n",
       "      <td>35019</td>\n",
       "      <td>0</td>\n",
       "      <td>1010.0</td>\n",
       "      <td>420.0</td>\n",
       "      <td>460.0</td>\n",
       "      <td>110.0</td>\n",
       "      <td>960.0</td>\n",
       "      <td>30.0</td>\n",
       "      <td>...</td>\n",
       "      <td>0.0</td>\n",
       "      <td>0.0</td>\n",
       "      <td>210.0</td>\n",
       "      <td>940.0</td>\n",
       "      <td>780.0</td>\n",
       "      <td>2880.0</td>\n",
       "      <td>770.0</td>\n",
       "      <td>2217.0</td>\n",
       "      <td>0.0</td>\n",
       "      <td>0.0</td>\n",
       "    </tr>\n",
       "    <tr>\n",
       "      <th>9</th>\n",
       "      <td>1</td>\n",
       "      <td>AL</td>\n",
       "      <td>35020</td>\n",
       "      <td>0</td>\n",
       "      <td>8650.0</td>\n",
       "      <td>4340.0</td>\n",
       "      <td>890.0</td>\n",
       "      <td>3280.0</td>\n",
       "      <td>7830.0</td>\n",
       "      <td>430.0</td>\n",
       "      <td>...</td>\n",
       "      <td>0.0</td>\n",
       "      <td>0.0</td>\n",
       "      <td>1440.0</td>\n",
       "      <td>3191.0</td>\n",
       "      <td>6980.0</td>\n",
       "      <td>26279.0</td>\n",
       "      <td>6970.0</td>\n",
       "      <td>26262.0</td>\n",
       "      <td>0.0</td>\n",
       "      <td>0.0</td>\n",
       "    </tr>\n",
       "  </tbody>\n",
       "</table>\n",
       "<p>10 rows × 165 columns</p>\n",
       "</div>"
      ],
      "text/plain": [
       "   STATEFIPS STATE  ZIPCODE  agi_stub         N1     MARS1     MARS2  \\\n",
       "0          1    AL        0         0  2116220.0  942190.0  743980.0   \n",
       "1          1    AL    35004         0     5410.0    2460.0    2040.0   \n",
       "2          1    AL    35005         0     3290.0    1580.0     740.0   \n",
       "3          1    AL    35006         0     1260.0     500.0     560.0   \n",
       "4          1    AL    35007         0    12540.0    5470.0    4950.0   \n",
       "5          1    AL    35010         0     8000.0    3370.0    2590.0   \n",
       "6          1    AL    35014         0     1620.0     660.0     520.0   \n",
       "7          1    AL    35016         0     7590.0    3110.0    3360.0   \n",
       "8          1    AL    35019         0     1010.0     420.0     460.0   \n",
       "9          1    AL    35020         0     8650.0    4340.0     890.0   \n",
       "\n",
       "      MARS4        ELF    CPREP  ...   N85300    A85300    N11901     A11901  \\\n",
       "0  379550.0  1979060.0  64740.0  ...  54890.0  223948.0  517250.0  2853174.0   \n",
       "1     770.0     5090.0    150.0  ...     60.0      89.0    1480.0     5019.0   \n",
       "2     890.0     3060.0    100.0  ...      0.0       0.0     610.0     1471.0   \n",
       "3     170.0     1200.0     30.0  ...      0.0       0.0     290.0      815.0   \n",
       "4    1780.0    11590.0    530.0  ...    170.0     383.0    3770.0    13618.0   \n",
       "5    1860.0     7580.0    220.0  ...    180.0     585.0    1700.0     7095.0   \n",
       "6     410.0     1530.0     50.0  ...     30.0      22.0     370.0     1485.0   \n",
       "7     940.0     7150.0    210.0  ...    100.0      96.0    1750.0     5930.0   \n",
       "8     110.0      960.0     30.0  ...      0.0       0.0     210.0      940.0   \n",
       "9    3280.0     7830.0    430.0  ...      0.0       0.0    1440.0     3191.0   \n",
       "\n",
       "      N11900     A11900     N11902     A11902   N12000    A12000  \n",
       "0  1539200.0  5820514.0  1507110.0  4971630.0  36500.0  767916.0  \n",
       "1     3780.0    11161.0     3750.0    10548.0     60.0     178.0  \n",
       "2     2620.0     8106.0     2610.0     8094.0      0.0       0.0  \n",
       "3      930.0     2749.0      930.0     2623.0      0.0       0.0  \n",
       "4     8400.0    23549.0     8300.0    22506.0    120.0     705.0  \n",
       "5     6090.0    25729.0     5930.0    20312.0    200.0    5382.0  \n",
       "6     1220.0     4050.0     1210.0     3888.0      0.0       0.0  \n",
       "7     5620.0    16299.0     5530.0    15537.0    110.0     398.0  \n",
       "8      780.0     2880.0      770.0     2217.0      0.0       0.0  \n",
       "9     6980.0    26279.0     6970.0    26262.0      0.0       0.0  \n",
       "\n",
       "[10 rows x 165 columns]"
      ]
     },
     "execution_count": 4,
     "metadata": {},
     "output_type": "execute_result"
    }
   ],
   "source": [
    "df2.head(10)"
   ]
  },
  {
   "cell_type": "code",
   "execution_count": null,
   "metadata": {},
   "outputs": [
    {
     "data": {
      "text/plain": [
       "array([0])"
      ]
     },
     "execution_count": 5,
     "metadata": {},
     "output_type": "execute_result"
    }
   ],
   "source": [
    "df2[\"agi_stub\"].unique()"
   ]
  },
  {
   "cell_type": "code",
   "execution_count": null,
   "metadata": {},
   "outputs": [],
   "source": [
    "df=df2.drop(columns=['STATEFIPS',\"agi_stub\"])"
   ]
  },
  {
   "cell_type": "code",
   "execution_count": null,
   "metadata": {},
   "outputs": [],
   "source": [
    "#df=pd.read_csv(\"https://www.irs.gov/pub/irs-soi/22zpallagi.csv\")"
   ]
  },
  {
   "cell_type": "code",
   "execution_count": null,
   "metadata": {},
   "outputs": [
    {
     "data": {
      "text/html": [
       "<div>\n",
       "<style scoped>\n",
       "    .dataframe tbody tr th:only-of-type {\n",
       "        vertical-align: middle;\n",
       "    }\n",
       "\n",
       "    .dataframe tbody tr th {\n",
       "        vertical-align: top;\n",
       "    }\n",
       "\n",
       "    .dataframe thead th {\n",
       "        text-align: right;\n",
       "    }\n",
       "</style>\n",
       "<table border=\"1\" class=\"dataframe\">\n",
       "  <thead>\n",
       "    <tr style=\"text-align: right;\">\n",
       "      <th></th>\n",
       "      <th>STATEFIPS</th>\n",
       "      <th>STATE</th>\n",
       "      <th>ZIPCODE</th>\n",
       "      <th>agi_stub</th>\n",
       "      <th>N1</th>\n",
       "      <th>MARS1</th>\n",
       "      <th>MARS2</th>\n",
       "      <th>MARS4</th>\n",
       "      <th>ELF</th>\n",
       "      <th>CPREP</th>\n",
       "      <th>...</th>\n",
       "      <th>N85300</th>\n",
       "      <th>A85300</th>\n",
       "      <th>N11901</th>\n",
       "      <th>A11901</th>\n",
       "      <th>N11900</th>\n",
       "      <th>A11900</th>\n",
       "      <th>N11902</th>\n",
       "      <th>A11902</th>\n",
       "      <th>N12000</th>\n",
       "      <th>A12000</th>\n",
       "    </tr>\n",
       "  </thead>\n",
       "  <tbody>\n",
       "    <tr>\n",
       "      <th>0</th>\n",
       "      <td>1</td>\n",
       "      <td>AL</td>\n",
       "      <td>0</td>\n",
       "      <td>0</td>\n",
       "      <td>2116220.0</td>\n",
       "      <td>942190.0</td>\n",
       "      <td>743980.0</td>\n",
       "      <td>379550.0</td>\n",
       "      <td>1979060.0</td>\n",
       "      <td>64740.0</td>\n",
       "      <td>...</td>\n",
       "      <td>54890.0</td>\n",
       "      <td>223948.0</td>\n",
       "      <td>517250.0</td>\n",
       "      <td>2853174.0</td>\n",
       "      <td>1539200.0</td>\n",
       "      <td>5820514.0</td>\n",
       "      <td>1507110.0</td>\n",
       "      <td>4971630.0</td>\n",
       "      <td>36500.0</td>\n",
       "      <td>767916.0</td>\n",
       "    </tr>\n",
       "    <tr>\n",
       "      <th>1</th>\n",
       "      <td>1</td>\n",
       "      <td>AL</td>\n",
       "      <td>35004</td>\n",
       "      <td>0</td>\n",
       "      <td>5410.0</td>\n",
       "      <td>2460.0</td>\n",
       "      <td>2040.0</td>\n",
       "      <td>770.0</td>\n",
       "      <td>5090.0</td>\n",
       "      <td>150.0</td>\n",
       "      <td>...</td>\n",
       "      <td>60.0</td>\n",
       "      <td>89.0</td>\n",
       "      <td>1480.0</td>\n",
       "      <td>5019.0</td>\n",
       "      <td>3780.0</td>\n",
       "      <td>11161.0</td>\n",
       "      <td>3750.0</td>\n",
       "      <td>10548.0</td>\n",
       "      <td>60.0</td>\n",
       "      <td>178.0</td>\n",
       "    </tr>\n",
       "    <tr>\n",
       "      <th>2</th>\n",
       "      <td>1</td>\n",
       "      <td>AL</td>\n",
       "      <td>35005</td>\n",
       "      <td>0</td>\n",
       "      <td>3290.0</td>\n",
       "      <td>1580.0</td>\n",
       "      <td>740.0</td>\n",
       "      <td>890.0</td>\n",
       "      <td>3060.0</td>\n",
       "      <td>100.0</td>\n",
       "      <td>...</td>\n",
       "      <td>0.0</td>\n",
       "      <td>0.0</td>\n",
       "      <td>610.0</td>\n",
       "      <td>1471.0</td>\n",
       "      <td>2620.0</td>\n",
       "      <td>8106.0</td>\n",
       "      <td>2610.0</td>\n",
       "      <td>8094.0</td>\n",
       "      <td>0.0</td>\n",
       "      <td>0.0</td>\n",
       "    </tr>\n",
       "    <tr>\n",
       "      <th>3</th>\n",
       "      <td>1</td>\n",
       "      <td>AL</td>\n",
       "      <td>35006</td>\n",
       "      <td>0</td>\n",
       "      <td>1260.0</td>\n",
       "      <td>500.0</td>\n",
       "      <td>560.0</td>\n",
       "      <td>170.0</td>\n",
       "      <td>1200.0</td>\n",
       "      <td>30.0</td>\n",
       "      <td>...</td>\n",
       "      <td>0.0</td>\n",
       "      <td>0.0</td>\n",
       "      <td>290.0</td>\n",
       "      <td>815.0</td>\n",
       "      <td>930.0</td>\n",
       "      <td>2749.0</td>\n",
       "      <td>930.0</td>\n",
       "      <td>2623.0</td>\n",
       "      <td>0.0</td>\n",
       "      <td>0.0</td>\n",
       "    </tr>\n",
       "    <tr>\n",
       "      <th>4</th>\n",
       "      <td>1</td>\n",
       "      <td>AL</td>\n",
       "      <td>35007</td>\n",
       "      <td>0</td>\n",
       "      <td>12540.0</td>\n",
       "      <td>5470.0</td>\n",
       "      <td>4950.0</td>\n",
       "      <td>1780.0</td>\n",
       "      <td>11590.0</td>\n",
       "      <td>530.0</td>\n",
       "      <td>...</td>\n",
       "      <td>170.0</td>\n",
       "      <td>383.0</td>\n",
       "      <td>3770.0</td>\n",
       "      <td>13618.0</td>\n",
       "      <td>8400.0</td>\n",
       "      <td>23549.0</td>\n",
       "      <td>8300.0</td>\n",
       "      <td>22506.0</td>\n",
       "      <td>120.0</td>\n",
       "      <td>705.0</td>\n",
       "    </tr>\n",
       "    <tr>\n",
       "      <th>5</th>\n",
       "      <td>1</td>\n",
       "      <td>AL</td>\n",
       "      <td>35010</td>\n",
       "      <td>0</td>\n",
       "      <td>8000.0</td>\n",
       "      <td>3370.0</td>\n",
       "      <td>2590.0</td>\n",
       "      <td>1860.0</td>\n",
       "      <td>7580.0</td>\n",
       "      <td>220.0</td>\n",
       "      <td>...</td>\n",
       "      <td>180.0</td>\n",
       "      <td>585.0</td>\n",
       "      <td>1700.0</td>\n",
       "      <td>7095.0</td>\n",
       "      <td>6090.0</td>\n",
       "      <td>25729.0</td>\n",
       "      <td>5930.0</td>\n",
       "      <td>20312.0</td>\n",
       "      <td>200.0</td>\n",
       "      <td>5382.0</td>\n",
       "    </tr>\n",
       "    <tr>\n",
       "      <th>6</th>\n",
       "      <td>1</td>\n",
       "      <td>AL</td>\n",
       "      <td>35014</td>\n",
       "      <td>0</td>\n",
       "      <td>1620.0</td>\n",
       "      <td>660.0</td>\n",
       "      <td>520.0</td>\n",
       "      <td>410.0</td>\n",
       "      <td>1530.0</td>\n",
       "      <td>50.0</td>\n",
       "      <td>...</td>\n",
       "      <td>30.0</td>\n",
       "      <td>22.0</td>\n",
       "      <td>370.0</td>\n",
       "      <td>1485.0</td>\n",
       "      <td>1220.0</td>\n",
       "      <td>4050.0</td>\n",
       "      <td>1210.0</td>\n",
       "      <td>3888.0</td>\n",
       "      <td>0.0</td>\n",
       "      <td>0.0</td>\n",
       "    </tr>\n",
       "    <tr>\n",
       "      <th>7</th>\n",
       "      <td>1</td>\n",
       "      <td>AL</td>\n",
       "      <td>35016</td>\n",
       "      <td>0</td>\n",
       "      <td>7590.0</td>\n",
       "      <td>3110.0</td>\n",
       "      <td>3360.0</td>\n",
       "      <td>940.0</td>\n",
       "      <td>7150.0</td>\n",
       "      <td>210.0</td>\n",
       "      <td>...</td>\n",
       "      <td>100.0</td>\n",
       "      <td>96.0</td>\n",
       "      <td>1750.0</td>\n",
       "      <td>5930.0</td>\n",
       "      <td>5620.0</td>\n",
       "      <td>16299.0</td>\n",
       "      <td>5530.0</td>\n",
       "      <td>15537.0</td>\n",
       "      <td>110.0</td>\n",
       "      <td>398.0</td>\n",
       "    </tr>\n",
       "    <tr>\n",
       "      <th>8</th>\n",
       "      <td>1</td>\n",
       "      <td>AL</td>\n",
       "      <td>35019</td>\n",
       "      <td>0</td>\n",
       "      <td>1010.0</td>\n",
       "      <td>420.0</td>\n",
       "      <td>460.0</td>\n",
       "      <td>110.0</td>\n",
       "      <td>960.0</td>\n",
       "      <td>30.0</td>\n",
       "      <td>...</td>\n",
       "      <td>0.0</td>\n",
       "      <td>0.0</td>\n",
       "      <td>210.0</td>\n",
       "      <td>940.0</td>\n",
       "      <td>780.0</td>\n",
       "      <td>2880.0</td>\n",
       "      <td>770.0</td>\n",
       "      <td>2217.0</td>\n",
       "      <td>0.0</td>\n",
       "      <td>0.0</td>\n",
       "    </tr>\n",
       "    <tr>\n",
       "      <th>9</th>\n",
       "      <td>1</td>\n",
       "      <td>AL</td>\n",
       "      <td>35020</td>\n",
       "      <td>0</td>\n",
       "      <td>8650.0</td>\n",
       "      <td>4340.0</td>\n",
       "      <td>890.0</td>\n",
       "      <td>3280.0</td>\n",
       "      <td>7830.0</td>\n",
       "      <td>430.0</td>\n",
       "      <td>...</td>\n",
       "      <td>0.0</td>\n",
       "      <td>0.0</td>\n",
       "      <td>1440.0</td>\n",
       "      <td>3191.0</td>\n",
       "      <td>6980.0</td>\n",
       "      <td>26279.0</td>\n",
       "      <td>6970.0</td>\n",
       "      <td>26262.0</td>\n",
       "      <td>0.0</td>\n",
       "      <td>0.0</td>\n",
       "    </tr>\n",
       "  </tbody>\n",
       "</table>\n",
       "<p>10 rows × 165 columns</p>\n",
       "</div>"
      ],
      "text/plain": [
       "   STATEFIPS STATE  ZIPCODE  agi_stub         N1     MARS1     MARS2  \\\n",
       "0          1    AL        0         0  2116220.0  942190.0  743980.0   \n",
       "1          1    AL    35004         0     5410.0    2460.0    2040.0   \n",
       "2          1    AL    35005         0     3290.0    1580.0     740.0   \n",
       "3          1    AL    35006         0     1260.0     500.0     560.0   \n",
       "4          1    AL    35007         0    12540.0    5470.0    4950.0   \n",
       "5          1    AL    35010         0     8000.0    3370.0    2590.0   \n",
       "6          1    AL    35014         0     1620.0     660.0     520.0   \n",
       "7          1    AL    35016         0     7590.0    3110.0    3360.0   \n",
       "8          1    AL    35019         0     1010.0     420.0     460.0   \n",
       "9          1    AL    35020         0     8650.0    4340.0     890.0   \n",
       "\n",
       "      MARS4        ELF    CPREP  ...   N85300    A85300    N11901     A11901  \\\n",
       "0  379550.0  1979060.0  64740.0  ...  54890.0  223948.0  517250.0  2853174.0   \n",
       "1     770.0     5090.0    150.0  ...     60.0      89.0    1480.0     5019.0   \n",
       "2     890.0     3060.0    100.0  ...      0.0       0.0     610.0     1471.0   \n",
       "3     170.0     1200.0     30.0  ...      0.0       0.0     290.0      815.0   \n",
       "4    1780.0    11590.0    530.0  ...    170.0     383.0    3770.0    13618.0   \n",
       "5    1860.0     7580.0    220.0  ...    180.0     585.0    1700.0     7095.0   \n",
       "6     410.0     1530.0     50.0  ...     30.0      22.0     370.0     1485.0   \n",
       "7     940.0     7150.0    210.0  ...    100.0      96.0    1750.0     5930.0   \n",
       "8     110.0      960.0     30.0  ...      0.0       0.0     210.0      940.0   \n",
       "9    3280.0     7830.0    430.0  ...      0.0       0.0    1440.0     3191.0   \n",
       "\n",
       "      N11900     A11900     N11902     A11902   N12000    A12000  \n",
       "0  1539200.0  5820514.0  1507110.0  4971630.0  36500.0  767916.0  \n",
       "1     3780.0    11161.0     3750.0    10548.0     60.0     178.0  \n",
       "2     2620.0     8106.0     2610.0     8094.0      0.0       0.0  \n",
       "3      930.0     2749.0      930.0     2623.0      0.0       0.0  \n",
       "4     8400.0    23549.0     8300.0    22506.0    120.0     705.0  \n",
       "5     6090.0    25729.0     5930.0    20312.0    200.0    5382.0  \n",
       "6     1220.0     4050.0     1210.0     3888.0      0.0       0.0  \n",
       "7     5620.0    16299.0     5530.0    15537.0    110.0     398.0  \n",
       "8      780.0     2880.0      770.0     2217.0      0.0       0.0  \n",
       "9     6980.0    26279.0     6970.0    26262.0      0.0       0.0  \n",
       "\n",
       "[10 rows x 165 columns]"
      ]
     },
     "execution_count": 8,
     "metadata": {},
     "output_type": "execute_result"
    }
   ],
   "source": [
    "df2.head(10)"
   ]
  },
  {
   "cell_type": "code",
   "execution_count": null,
   "metadata": {},
   "outputs": [
    {
     "data": {
      "text/html": [
       "<style type=\"text/css\">\n",
       "#T_4148b_row0_col0, #T_4148b_row0_col1, #T_4148b_row0_col2, #T_4148b_row0_col3, #T_4148b_row0_col4, #T_4148b_row0_col5, #T_4148b_row0_col6, #T_4148b_row0_col7, #T_4148b_row0_col8, #T_4148b_row0_col9, #T_4148b_row0_col10, #T_4148b_row0_col11, #T_4148b_row0_col12, #T_4148b_row0_col13, #T_4148b_row0_col14, #T_4148b_row0_col15, #T_4148b_row0_col16, #T_4148b_row0_col17, #T_4148b_row0_col18, #T_4148b_row0_col19, #T_4148b_row0_col20, #T_4148b_row0_col21, #T_4148b_row0_col22, #T_4148b_row0_col23, #T_4148b_row0_col24, #T_4148b_row0_col25, #T_4148b_row0_col26, #T_4148b_row0_col27, #T_4148b_row0_col28, #T_4148b_row0_col29, #T_4148b_row0_col30, #T_4148b_row0_col31, #T_4148b_row0_col32, #T_4148b_row0_col33, #T_4148b_row0_col34, #T_4148b_row0_col35, #T_4148b_row0_col36, #T_4148b_row0_col37, #T_4148b_row0_col38, #T_4148b_row0_col39, #T_4148b_row0_col40, #T_4148b_row0_col41, #T_4148b_row0_col42, #T_4148b_row0_col43, #T_4148b_row0_col44, #T_4148b_row0_col45, #T_4148b_row0_col46, #T_4148b_row0_col47, #T_4148b_row0_col48, #T_4148b_row0_col49, #T_4148b_row0_col50, #T_4148b_row0_col51, #T_4148b_row0_col52, #T_4148b_row0_col53, #T_4148b_row0_col54, #T_4148b_row0_col55, #T_4148b_row0_col56, #T_4148b_row0_col57, #T_4148b_row0_col58, #T_4148b_row0_col59, #T_4148b_row0_col60, #T_4148b_row0_col61, #T_4148b_row0_col62, #T_4148b_row0_col63, #T_4148b_row0_col64, #T_4148b_row0_col65, #T_4148b_row0_col66, #T_4148b_row0_col67, #T_4148b_row0_col68, #T_4148b_row0_col69, #T_4148b_row0_col70, #T_4148b_row0_col71, #T_4148b_row0_col72, #T_4148b_row0_col73, #T_4148b_row0_col74, #T_4148b_row0_col75, #T_4148b_row0_col76, #T_4148b_row0_col77, #T_4148b_row0_col78, #T_4148b_row0_col79, #T_4148b_row0_col80, #T_4148b_row0_col81, #T_4148b_row0_col82, #T_4148b_row0_col83, #T_4148b_row0_col84, #T_4148b_row0_col85, #T_4148b_row0_col86, #T_4148b_row0_col87, #T_4148b_row0_col88, #T_4148b_row0_col89, #T_4148b_row0_col90, #T_4148b_row0_col91, #T_4148b_row0_col92, #T_4148b_row0_col93, #T_4148b_row0_col94, #T_4148b_row0_col95, #T_4148b_row0_col96, #T_4148b_row0_col97, #T_4148b_row0_col98, #T_4148b_row0_col99, #T_4148b_row0_col100, #T_4148b_row0_col101, #T_4148b_row0_col102, #T_4148b_row0_col103, #T_4148b_row0_col104, #T_4148b_row0_col105, #T_4148b_row0_col106, #T_4148b_row0_col107, #T_4148b_row0_col108, #T_4148b_row0_col109, #T_4148b_row0_col110, #T_4148b_row0_col111, #T_4148b_row0_col112, #T_4148b_row0_col113, #T_4148b_row0_col114, #T_4148b_row0_col115, #T_4148b_row0_col116, #T_4148b_row0_col117, #T_4148b_row0_col118, #T_4148b_row0_col119, #T_4148b_row0_col120, #T_4148b_row0_col121, #T_4148b_row0_col122, #T_4148b_row0_col123, #T_4148b_row0_col124, #T_4148b_row0_col125, #T_4148b_row0_col126, #T_4148b_row0_col127, #T_4148b_row0_col128, #T_4148b_row0_col129, #T_4148b_row0_col130, #T_4148b_row0_col131, #T_4148b_row0_col132, #T_4148b_row0_col133, #T_4148b_row0_col134, #T_4148b_row0_col135, #T_4148b_row0_col136, #T_4148b_row0_col137, #T_4148b_row0_col138, #T_4148b_row0_col139, #T_4148b_row0_col140, #T_4148b_row0_col141, #T_4148b_row0_col142, #T_4148b_row0_col143, #T_4148b_row0_col144, #T_4148b_row0_col145, #T_4148b_row0_col146, #T_4148b_row0_col147, #T_4148b_row0_col148, #T_4148b_row0_col149, #T_4148b_row0_col150, #T_4148b_row0_col151, #T_4148b_row0_col152, #T_4148b_row0_col153, #T_4148b_row0_col154, #T_4148b_row0_col155, #T_4148b_row0_col156, #T_4148b_row0_col157, #T_4148b_row0_col158, #T_4148b_row0_col159, #T_4148b_row0_col160, #T_4148b_row0_col161, #T_4148b_row0_col162, #T_4148b_row1_col0, #T_4148b_row1_col1, #T_4148b_row1_col2, #T_4148b_row1_col3, #T_4148b_row1_col4, #T_4148b_row1_col5, #T_4148b_row1_col6, #T_4148b_row1_col7, #T_4148b_row1_col8, #T_4148b_row1_col9, #T_4148b_row1_col10, #T_4148b_row1_col11, #T_4148b_row1_col12, #T_4148b_row1_col13, #T_4148b_row1_col14, #T_4148b_row1_col15, #T_4148b_row1_col16, #T_4148b_row1_col17, #T_4148b_row1_col18, #T_4148b_row1_col19, #T_4148b_row1_col20, #T_4148b_row1_col21, #T_4148b_row1_col22, #T_4148b_row1_col23, #T_4148b_row1_col24, #T_4148b_row1_col25, #T_4148b_row1_col26, #T_4148b_row1_col27, #T_4148b_row1_col28, #T_4148b_row1_col29, #T_4148b_row1_col30, #T_4148b_row1_col31, #T_4148b_row1_col32, #T_4148b_row1_col33, #T_4148b_row1_col34, #T_4148b_row1_col35, #T_4148b_row1_col36, #T_4148b_row1_col37, #T_4148b_row1_col38, #T_4148b_row1_col39, #T_4148b_row1_col40, #T_4148b_row1_col41, #T_4148b_row1_col42, #T_4148b_row1_col43, #T_4148b_row1_col44, #T_4148b_row1_col45, #T_4148b_row1_col46, #T_4148b_row1_col47, #T_4148b_row1_col48, #T_4148b_row1_col49, #T_4148b_row1_col50, #T_4148b_row1_col51, #T_4148b_row1_col52, #T_4148b_row1_col53, #T_4148b_row1_col54, #T_4148b_row1_col55, #T_4148b_row1_col56, #T_4148b_row1_col57, #T_4148b_row1_col58, #T_4148b_row1_col59, #T_4148b_row1_col60, #T_4148b_row1_col61, #T_4148b_row1_col62, #T_4148b_row1_col63, #T_4148b_row1_col64, #T_4148b_row1_col65, #T_4148b_row1_col66, #T_4148b_row1_col67, #T_4148b_row1_col68, #T_4148b_row1_col69, #T_4148b_row1_col70, #T_4148b_row1_col71, #T_4148b_row1_col72, #T_4148b_row1_col73, #T_4148b_row1_col74, #T_4148b_row1_col75, #T_4148b_row1_col76, #T_4148b_row1_col77, #T_4148b_row1_col78, #T_4148b_row1_col79, #T_4148b_row1_col80, #T_4148b_row1_col81, #T_4148b_row1_col82, #T_4148b_row1_col83, #T_4148b_row1_col84, #T_4148b_row1_col85, #T_4148b_row1_col86, #T_4148b_row1_col87, #T_4148b_row1_col88, #T_4148b_row1_col89, #T_4148b_row1_col90, #T_4148b_row1_col91, #T_4148b_row1_col92, #T_4148b_row1_col93, #T_4148b_row1_col94, #T_4148b_row1_col95, #T_4148b_row1_col96, #T_4148b_row1_col97, #T_4148b_row1_col98, #T_4148b_row1_col99, #T_4148b_row1_col100, #T_4148b_row1_col101, #T_4148b_row1_col102, #T_4148b_row1_col103, #T_4148b_row1_col104, #T_4148b_row1_col105, #T_4148b_row1_col106, #T_4148b_row1_col107, #T_4148b_row1_col108, #T_4148b_row1_col109, #T_4148b_row1_col110, #T_4148b_row1_col111, #T_4148b_row1_col112, #T_4148b_row1_col113, #T_4148b_row1_col114, #T_4148b_row1_col115, #T_4148b_row1_col116, #T_4148b_row1_col117, #T_4148b_row1_col118, #T_4148b_row1_col119, #T_4148b_row1_col120, #T_4148b_row1_col121, #T_4148b_row1_col122, #T_4148b_row1_col123, #T_4148b_row1_col124, #T_4148b_row1_col125, #T_4148b_row1_col126, #T_4148b_row1_col127, #T_4148b_row1_col128, #T_4148b_row1_col129, #T_4148b_row1_col130, #T_4148b_row1_col131, #T_4148b_row1_col132, #T_4148b_row1_col133, #T_4148b_row1_col134, #T_4148b_row1_col135, #T_4148b_row1_col136, #T_4148b_row1_col137, #T_4148b_row1_col138, #T_4148b_row1_col139, #T_4148b_row1_col140, #T_4148b_row1_col141, #T_4148b_row1_col142, #T_4148b_row1_col143, #T_4148b_row1_col144, #T_4148b_row1_col145, #T_4148b_row1_col146, #T_4148b_row1_col147, #T_4148b_row1_col148, #T_4148b_row1_col149, #T_4148b_row1_col150, #T_4148b_row1_col151, #T_4148b_row1_col152, #T_4148b_row1_col153, #T_4148b_row1_col154, #T_4148b_row1_col155, #T_4148b_row1_col156, #T_4148b_row1_col157, #T_4148b_row1_col158, #T_4148b_row1_col159, #T_4148b_row1_col160, #T_4148b_row1_col161, #T_4148b_row1_col162, #T_4148b_row2_col0, #T_4148b_row2_col1, #T_4148b_row2_col2, #T_4148b_row2_col3, #T_4148b_row2_col4, #T_4148b_row2_col5, #T_4148b_row2_col6, #T_4148b_row2_col7, #T_4148b_row2_col8, #T_4148b_row2_col9, #T_4148b_row2_col10, #T_4148b_row2_col11, #T_4148b_row2_col12, #T_4148b_row2_col13, #T_4148b_row2_col14, #T_4148b_row2_col15, #T_4148b_row2_col16, #T_4148b_row2_col17, #T_4148b_row2_col18, #T_4148b_row2_col19, #T_4148b_row2_col20, #T_4148b_row2_col21, #T_4148b_row2_col22, #T_4148b_row2_col23, #T_4148b_row2_col24, #T_4148b_row2_col25, #T_4148b_row2_col26, #T_4148b_row2_col27, #T_4148b_row2_col28, #T_4148b_row2_col29, #T_4148b_row2_col30, #T_4148b_row2_col31, #T_4148b_row2_col32, #T_4148b_row2_col33, #T_4148b_row2_col34, #T_4148b_row2_col35, #T_4148b_row2_col36, #T_4148b_row2_col37, #T_4148b_row2_col38, #T_4148b_row2_col39, #T_4148b_row2_col40, #T_4148b_row2_col41, #T_4148b_row2_col42, #T_4148b_row2_col43, #T_4148b_row2_col44, #T_4148b_row2_col45, #T_4148b_row2_col46, #T_4148b_row2_col47, #T_4148b_row2_col48, #T_4148b_row2_col49, #T_4148b_row2_col50, #T_4148b_row2_col51, #T_4148b_row2_col52, #T_4148b_row2_col53, #T_4148b_row2_col54, #T_4148b_row2_col55, #T_4148b_row2_col56, #T_4148b_row2_col57, #T_4148b_row2_col58, #T_4148b_row2_col59, #T_4148b_row2_col60, #T_4148b_row2_col61, #T_4148b_row2_col62, #T_4148b_row2_col63, #T_4148b_row2_col64, #T_4148b_row2_col65, #T_4148b_row2_col66, #T_4148b_row2_col67, #T_4148b_row2_col68, #T_4148b_row2_col69, #T_4148b_row2_col70, #T_4148b_row2_col71, #T_4148b_row2_col72, #T_4148b_row2_col73, #T_4148b_row2_col74, #T_4148b_row2_col75, #T_4148b_row2_col76, #T_4148b_row2_col77, #T_4148b_row2_col78, #T_4148b_row2_col79, #T_4148b_row2_col80, #T_4148b_row2_col81, #T_4148b_row2_col82, #T_4148b_row2_col83, #T_4148b_row2_col84, #T_4148b_row2_col85, #T_4148b_row2_col86, #T_4148b_row2_col87, #T_4148b_row2_col88, #T_4148b_row2_col89, #T_4148b_row2_col90, #T_4148b_row2_col91, #T_4148b_row2_col92, #T_4148b_row2_col93, #T_4148b_row2_col94, #T_4148b_row2_col95, #T_4148b_row2_col96, #T_4148b_row2_col97, #T_4148b_row2_col98, #T_4148b_row2_col99, #T_4148b_row2_col100, #T_4148b_row2_col101, #T_4148b_row2_col102, #T_4148b_row2_col103, #T_4148b_row2_col104, #T_4148b_row2_col105, #T_4148b_row2_col106, #T_4148b_row2_col107, #T_4148b_row2_col108, #T_4148b_row2_col109, #T_4148b_row2_col110, #T_4148b_row2_col111, #T_4148b_row2_col112, #T_4148b_row2_col113, #T_4148b_row2_col114, #T_4148b_row2_col115, #T_4148b_row2_col116, #T_4148b_row2_col117, #T_4148b_row2_col118, #T_4148b_row2_col119, #T_4148b_row2_col120, #T_4148b_row2_col121, #T_4148b_row2_col122, #T_4148b_row2_col123, #T_4148b_row2_col124, #T_4148b_row2_col125, #T_4148b_row2_col126, #T_4148b_row2_col127, #T_4148b_row2_col128, #T_4148b_row2_col129, #T_4148b_row2_col130, #T_4148b_row2_col131, #T_4148b_row2_col132, #T_4148b_row2_col133, #T_4148b_row2_col134, #T_4148b_row2_col135, #T_4148b_row2_col136, #T_4148b_row2_col137, #T_4148b_row2_col138, #T_4148b_row2_col139, #T_4148b_row2_col140, #T_4148b_row2_col141, #T_4148b_row2_col142, #T_4148b_row2_col143, #T_4148b_row2_col144, #T_4148b_row2_col145, #T_4148b_row2_col146, #T_4148b_row2_col147, #T_4148b_row2_col148, #T_4148b_row2_col149, #T_4148b_row2_col150, #T_4148b_row2_col151, #T_4148b_row2_col152, #T_4148b_row2_col153, #T_4148b_row2_col154, #T_4148b_row2_col155, #T_4148b_row2_col156, #T_4148b_row2_col157, #T_4148b_row2_col158, #T_4148b_row2_col159, #T_4148b_row2_col160, #T_4148b_row2_col161, #T_4148b_row2_col162, #T_4148b_row3_col0, #T_4148b_row3_col1, #T_4148b_row3_col2, #T_4148b_row3_col3, #T_4148b_row3_col4, #T_4148b_row3_col5, #T_4148b_row3_col6, #T_4148b_row3_col7, #T_4148b_row3_col8, #T_4148b_row3_col9, #T_4148b_row3_col10, #T_4148b_row3_col11, #T_4148b_row3_col12, #T_4148b_row3_col13, #T_4148b_row3_col14, #T_4148b_row3_col15, #T_4148b_row3_col16, #T_4148b_row3_col17, #T_4148b_row3_col18, #T_4148b_row3_col19, #T_4148b_row3_col20, #T_4148b_row3_col21, #T_4148b_row3_col22, #T_4148b_row3_col23, #T_4148b_row3_col24, #T_4148b_row3_col25, #T_4148b_row3_col26, #T_4148b_row3_col27, #T_4148b_row3_col28, #T_4148b_row3_col29, #T_4148b_row3_col30, #T_4148b_row3_col31, #T_4148b_row3_col32, #T_4148b_row3_col33, #T_4148b_row3_col34, #T_4148b_row3_col35, #T_4148b_row3_col36, #T_4148b_row3_col37, #T_4148b_row3_col38, #T_4148b_row3_col39, #T_4148b_row3_col40, #T_4148b_row3_col41, #T_4148b_row3_col42, #T_4148b_row3_col43, #T_4148b_row3_col44, #T_4148b_row3_col45, #T_4148b_row3_col46, #T_4148b_row3_col47, #T_4148b_row3_col48, #T_4148b_row3_col49, #T_4148b_row3_col50, #T_4148b_row3_col51, #T_4148b_row3_col52, #T_4148b_row3_col53, #T_4148b_row3_col54, #T_4148b_row3_col55, #T_4148b_row3_col56, #T_4148b_row3_col57, #T_4148b_row3_col58, #T_4148b_row3_col59, #T_4148b_row3_col60, #T_4148b_row3_col61, #T_4148b_row3_col62, #T_4148b_row3_col63, #T_4148b_row3_col64, #T_4148b_row3_col65, #T_4148b_row3_col66, #T_4148b_row3_col67, #T_4148b_row3_col68, #T_4148b_row3_col69, #T_4148b_row3_col70, #T_4148b_row3_col71, #T_4148b_row3_col72, #T_4148b_row3_col73, #T_4148b_row3_col74, #T_4148b_row3_col75, #T_4148b_row3_col76, #T_4148b_row3_col77, #T_4148b_row3_col78, #T_4148b_row3_col79, #T_4148b_row3_col80, #T_4148b_row3_col81, #T_4148b_row3_col82, #T_4148b_row3_col83, #T_4148b_row3_col84, #T_4148b_row3_col85, #T_4148b_row3_col86, #T_4148b_row3_col87, #T_4148b_row3_col88, #T_4148b_row3_col89, #T_4148b_row3_col90, #T_4148b_row3_col91, #T_4148b_row3_col92, #T_4148b_row3_col93, #T_4148b_row3_col94, #T_4148b_row3_col95, #T_4148b_row3_col96, #T_4148b_row3_col97, #T_4148b_row3_col98, #T_4148b_row3_col99, #T_4148b_row3_col100, #T_4148b_row3_col101, #T_4148b_row3_col102, #T_4148b_row3_col103, #T_4148b_row3_col104, #T_4148b_row3_col105, #T_4148b_row3_col106, #T_4148b_row3_col107, #T_4148b_row3_col108, #T_4148b_row3_col109, #T_4148b_row3_col110, #T_4148b_row3_col111, #T_4148b_row3_col112, #T_4148b_row3_col113, #T_4148b_row3_col114, #T_4148b_row3_col115, #T_4148b_row3_col116, #T_4148b_row3_col117, #T_4148b_row3_col118, #T_4148b_row3_col119, #T_4148b_row3_col120, #T_4148b_row3_col121, #T_4148b_row3_col122, #T_4148b_row3_col123, #T_4148b_row3_col124, #T_4148b_row3_col125, #T_4148b_row3_col126, #T_4148b_row3_col127, #T_4148b_row3_col128, #T_4148b_row3_col129, #T_4148b_row3_col130, #T_4148b_row3_col131, #T_4148b_row3_col132, #T_4148b_row3_col133, #T_4148b_row3_col134, #T_4148b_row3_col135, #T_4148b_row3_col136, #T_4148b_row3_col137, #T_4148b_row3_col138, #T_4148b_row3_col139, #T_4148b_row3_col140, #T_4148b_row3_col141, #T_4148b_row3_col142, #T_4148b_row3_col143, #T_4148b_row3_col144, #T_4148b_row3_col145, #T_4148b_row3_col146, #T_4148b_row3_col147, #T_4148b_row3_col148, #T_4148b_row3_col149, #T_4148b_row3_col150, #T_4148b_row3_col151, #T_4148b_row3_col152, #T_4148b_row3_col153, #T_4148b_row3_col154, #T_4148b_row3_col155, #T_4148b_row3_col156, #T_4148b_row3_col157, #T_4148b_row3_col158, #T_4148b_row3_col159, #T_4148b_row3_col160, #T_4148b_row3_col161, #T_4148b_row3_col162, #T_4148b_row4_col0, #T_4148b_row4_col1, #T_4148b_row4_col2, #T_4148b_row4_col3, #T_4148b_row4_col4, #T_4148b_row4_col5, #T_4148b_row4_col6, #T_4148b_row4_col7, #T_4148b_row4_col8, #T_4148b_row4_col9, #T_4148b_row4_col10, #T_4148b_row4_col11, #T_4148b_row4_col12, #T_4148b_row4_col13, #T_4148b_row4_col14, #T_4148b_row4_col15, #T_4148b_row4_col16, #T_4148b_row4_col17, #T_4148b_row4_col18, #T_4148b_row4_col19, #T_4148b_row4_col20, #T_4148b_row4_col21, #T_4148b_row4_col22, #T_4148b_row4_col23, #T_4148b_row4_col24, #T_4148b_row4_col25, #T_4148b_row4_col26, #T_4148b_row4_col27, #T_4148b_row4_col28, #T_4148b_row4_col29, #T_4148b_row4_col30, #T_4148b_row4_col31, #T_4148b_row4_col32, #T_4148b_row4_col33, #T_4148b_row4_col34, #T_4148b_row4_col35, #T_4148b_row4_col36, #T_4148b_row4_col37, #T_4148b_row4_col38, #T_4148b_row4_col39, #T_4148b_row4_col40, #T_4148b_row4_col41, #T_4148b_row4_col42, #T_4148b_row4_col43, #T_4148b_row4_col44, #T_4148b_row4_col45, #T_4148b_row4_col46, #T_4148b_row4_col47, #T_4148b_row4_col48, #T_4148b_row4_col49, #T_4148b_row4_col50, #T_4148b_row4_col51, #T_4148b_row4_col52, #T_4148b_row4_col53, #T_4148b_row4_col54, #T_4148b_row4_col55, #T_4148b_row4_col56, #T_4148b_row4_col57, #T_4148b_row4_col58, #T_4148b_row4_col59, #T_4148b_row4_col60, #T_4148b_row4_col61, #T_4148b_row4_col62, #T_4148b_row4_col63, #T_4148b_row4_col64, #T_4148b_row4_col65, #T_4148b_row4_col66, #T_4148b_row4_col67, #T_4148b_row4_col68, #T_4148b_row4_col69, #T_4148b_row4_col70, #T_4148b_row4_col71, #T_4148b_row4_col72, #T_4148b_row4_col73, #T_4148b_row4_col74, #T_4148b_row4_col75, #T_4148b_row4_col76, #T_4148b_row4_col77, #T_4148b_row4_col78, #T_4148b_row4_col79, #T_4148b_row4_col80, #T_4148b_row4_col81, #T_4148b_row4_col82, #T_4148b_row4_col83, #T_4148b_row4_col84, #T_4148b_row4_col85, #T_4148b_row4_col86, #T_4148b_row4_col87, #T_4148b_row4_col88, #T_4148b_row4_col89, #T_4148b_row4_col90, #T_4148b_row4_col91, #T_4148b_row4_col92, #T_4148b_row4_col93, #T_4148b_row4_col94, #T_4148b_row4_col95, #T_4148b_row4_col96, #T_4148b_row4_col97, #T_4148b_row4_col98, #T_4148b_row4_col99, #T_4148b_row4_col100, #T_4148b_row4_col101, #T_4148b_row4_col102, #T_4148b_row4_col103, #T_4148b_row4_col104, #T_4148b_row4_col105, #T_4148b_row4_col106, #T_4148b_row4_col107, #T_4148b_row4_col108, #T_4148b_row4_col109, #T_4148b_row4_col110, #T_4148b_row4_col111, #T_4148b_row4_col112, #T_4148b_row4_col113, #T_4148b_row4_col114, #T_4148b_row4_col115, #T_4148b_row4_col116, #T_4148b_row4_col117, #T_4148b_row4_col118, #T_4148b_row4_col119, #T_4148b_row4_col120, #T_4148b_row4_col121, #T_4148b_row4_col122, #T_4148b_row4_col123, #T_4148b_row4_col124, #T_4148b_row4_col125, #T_4148b_row4_col126, #T_4148b_row4_col127, #T_4148b_row4_col128, #T_4148b_row4_col129, #T_4148b_row4_col130, #T_4148b_row4_col131, #T_4148b_row4_col132, #T_4148b_row4_col133, #T_4148b_row4_col134, #T_4148b_row4_col135, #T_4148b_row4_col136, #T_4148b_row4_col137, #T_4148b_row4_col138, #T_4148b_row4_col139, #T_4148b_row4_col140, #T_4148b_row4_col141, #T_4148b_row4_col142, #T_4148b_row4_col143, #T_4148b_row4_col144, #T_4148b_row4_col145, #T_4148b_row4_col146, #T_4148b_row4_col147, #T_4148b_row4_col148, #T_4148b_row4_col149, #T_4148b_row4_col150, #T_4148b_row4_col151, #T_4148b_row4_col152, #T_4148b_row4_col153, #T_4148b_row4_col154, #T_4148b_row4_col155, #T_4148b_row4_col156, #T_4148b_row4_col157, #T_4148b_row4_col158, #T_4148b_row4_col159, #T_4148b_row4_col160, #T_4148b_row4_col161, #T_4148b_row4_col162 {\n",
       "  background-color: black;\n",
       "  color: white;\n",
       "  border-color: black;\n",
       "  border-style: solid;\n",
       "  border-width: 2px;\n",
       "}\n",
       "</style>\n",
       "<table id=\"T_4148b\">\n",
       "  <thead>\n",
       "    <tr>\n",
       "      <th class=\"blank level0\" >&nbsp;</th>\n",
       "      <th id=\"T_4148b_level0_col0\" class=\"col_heading level0 col0\" >STATE</th>\n",
       "      <th id=\"T_4148b_level0_col1\" class=\"col_heading level0 col1\" >ZIPCODE</th>\n",
       "      <th id=\"T_4148b_level0_col2\" class=\"col_heading level0 col2\" >N1</th>\n",
       "      <th id=\"T_4148b_level0_col3\" class=\"col_heading level0 col3\" >MARS1</th>\n",
       "      <th id=\"T_4148b_level0_col4\" class=\"col_heading level0 col4\" >MARS2</th>\n",
       "      <th id=\"T_4148b_level0_col5\" class=\"col_heading level0 col5\" >MARS4</th>\n",
       "      <th id=\"T_4148b_level0_col6\" class=\"col_heading level0 col6\" >ELF</th>\n",
       "      <th id=\"T_4148b_level0_col7\" class=\"col_heading level0 col7\" >CPREP</th>\n",
       "      <th id=\"T_4148b_level0_col8\" class=\"col_heading level0 col8\" >PREP</th>\n",
       "      <th id=\"T_4148b_level0_col9\" class=\"col_heading level0 col9\" >DIR_DEP</th>\n",
       "      <th id=\"T_4148b_level0_col10\" class=\"col_heading level0 col10\" >VRTCRIND</th>\n",
       "      <th id=\"T_4148b_level0_col11\" class=\"col_heading level0 col11\" >N2</th>\n",
       "      <th id=\"T_4148b_level0_col12\" class=\"col_heading level0 col12\" >TOTAL_VITA</th>\n",
       "      <th id=\"T_4148b_level0_col13\" class=\"col_heading level0 col13\" >VITA</th>\n",
       "      <th id=\"T_4148b_level0_col14\" class=\"col_heading level0 col14\" >TCE</th>\n",
       "      <th id=\"T_4148b_level0_col15\" class=\"col_heading level0 col15\" >VITA_EIC</th>\n",
       "      <th id=\"T_4148b_level0_col16\" class=\"col_heading level0 col16\" >RAC</th>\n",
       "      <th id=\"T_4148b_level0_col17\" class=\"col_heading level0 col17\" >ELDERLY</th>\n",
       "      <th id=\"T_4148b_level0_col18\" class=\"col_heading level0 col18\" >A00100</th>\n",
       "      <th id=\"T_4148b_level0_col19\" class=\"col_heading level0 col19\" >N02650</th>\n",
       "      <th id=\"T_4148b_level0_col20\" class=\"col_heading level0 col20\" >A02650</th>\n",
       "      <th id=\"T_4148b_level0_col21\" class=\"col_heading level0 col21\" >N00200</th>\n",
       "      <th id=\"T_4148b_level0_col22\" class=\"col_heading level0 col22\" >A00200</th>\n",
       "      <th id=\"T_4148b_level0_col23\" class=\"col_heading level0 col23\" >N00300</th>\n",
       "      <th id=\"T_4148b_level0_col24\" class=\"col_heading level0 col24\" >A00300</th>\n",
       "      <th id=\"T_4148b_level0_col25\" class=\"col_heading level0 col25\" >N00400</th>\n",
       "      <th id=\"T_4148b_level0_col26\" class=\"col_heading level0 col26\" >A00400</th>\n",
       "      <th id=\"T_4148b_level0_col27\" class=\"col_heading level0 col27\" >N00600</th>\n",
       "      <th id=\"T_4148b_level0_col28\" class=\"col_heading level0 col28\" >A00600</th>\n",
       "      <th id=\"T_4148b_level0_col29\" class=\"col_heading level0 col29\" >N00650</th>\n",
       "      <th id=\"T_4148b_level0_col30\" class=\"col_heading level0 col30\" >A00650</th>\n",
       "      <th id=\"T_4148b_level0_col31\" class=\"col_heading level0 col31\" >N00700</th>\n",
       "      <th id=\"T_4148b_level0_col32\" class=\"col_heading level0 col32\" >A00700</th>\n",
       "      <th id=\"T_4148b_level0_col33\" class=\"col_heading level0 col33\" >N00900</th>\n",
       "      <th id=\"T_4148b_level0_col34\" class=\"col_heading level0 col34\" >A00900</th>\n",
       "      <th id=\"T_4148b_level0_col35\" class=\"col_heading level0 col35\" >N01000</th>\n",
       "      <th id=\"T_4148b_level0_col36\" class=\"col_heading level0 col36\" >A01000</th>\n",
       "      <th id=\"T_4148b_level0_col37\" class=\"col_heading level0 col37\" >N01400</th>\n",
       "      <th id=\"T_4148b_level0_col38\" class=\"col_heading level0 col38\" >A01400</th>\n",
       "      <th id=\"T_4148b_level0_col39\" class=\"col_heading level0 col39\" >N01700</th>\n",
       "      <th id=\"T_4148b_level0_col40\" class=\"col_heading level0 col40\" >A01700</th>\n",
       "      <th id=\"T_4148b_level0_col41\" class=\"col_heading level0 col41\" >SCHF</th>\n",
       "      <th id=\"T_4148b_level0_col42\" class=\"col_heading level0 col42\" >N02300</th>\n",
       "      <th id=\"T_4148b_level0_col43\" class=\"col_heading level0 col43\" >A02300</th>\n",
       "      <th id=\"T_4148b_level0_col44\" class=\"col_heading level0 col44\" >N02500</th>\n",
       "      <th id=\"T_4148b_level0_col45\" class=\"col_heading level0 col45\" >A02500</th>\n",
       "      <th id=\"T_4148b_level0_col46\" class=\"col_heading level0 col46\" >N26270</th>\n",
       "      <th id=\"T_4148b_level0_col47\" class=\"col_heading level0 col47\" >A26270</th>\n",
       "      <th id=\"T_4148b_level0_col48\" class=\"col_heading level0 col48\" >N25870</th>\n",
       "      <th id=\"T_4148b_level0_col49\" class=\"col_heading level0 col49\" >A25870</th>\n",
       "      <th id=\"T_4148b_level0_col50\" class=\"col_heading level0 col50\" >N02900</th>\n",
       "      <th id=\"T_4148b_level0_col51\" class=\"col_heading level0 col51\" >A02900</th>\n",
       "      <th id=\"T_4148b_level0_col52\" class=\"col_heading level0 col52\" >N03220</th>\n",
       "      <th id=\"T_4148b_level0_col53\" class=\"col_heading level0 col53\" >A03220</th>\n",
       "      <th id=\"T_4148b_level0_col54\" class=\"col_heading level0 col54\" >N03300</th>\n",
       "      <th id=\"T_4148b_level0_col55\" class=\"col_heading level0 col55\" >A03300</th>\n",
       "      <th id=\"T_4148b_level0_col56\" class=\"col_heading level0 col56\" >N03270</th>\n",
       "      <th id=\"T_4148b_level0_col57\" class=\"col_heading level0 col57\" >A03270</th>\n",
       "      <th id=\"T_4148b_level0_col58\" class=\"col_heading level0 col58\" >N03150</th>\n",
       "      <th id=\"T_4148b_level0_col59\" class=\"col_heading level0 col59\" >A03150</th>\n",
       "      <th id=\"T_4148b_level0_col60\" class=\"col_heading level0 col60\" >N03210</th>\n",
       "      <th id=\"T_4148b_level0_col61\" class=\"col_heading level0 col61\" >A03210</th>\n",
       "      <th id=\"T_4148b_level0_col62\" class=\"col_heading level0 col62\" >N04450</th>\n",
       "      <th id=\"T_4148b_level0_col63\" class=\"col_heading level0 col63\" >A04450</th>\n",
       "      <th id=\"T_4148b_level0_col64\" class=\"col_heading level0 col64\" >N04100</th>\n",
       "      <th id=\"T_4148b_level0_col65\" class=\"col_heading level0 col65\" >A04100</th>\n",
       "      <th id=\"T_4148b_level0_col66\" class=\"col_heading level0 col66\" >N04200</th>\n",
       "      <th id=\"T_4148b_level0_col67\" class=\"col_heading level0 col67\" >A04200</th>\n",
       "      <th id=\"T_4148b_level0_col68\" class=\"col_heading level0 col68\" >N04470</th>\n",
       "      <th id=\"T_4148b_level0_col69\" class=\"col_heading level0 col69\" >A04470</th>\n",
       "      <th id=\"T_4148b_level0_col70\" class=\"col_heading level0 col70\" >A00101</th>\n",
       "      <th id=\"T_4148b_level0_col71\" class=\"col_heading level0 col71\" >N17000</th>\n",
       "      <th id=\"T_4148b_level0_col72\" class=\"col_heading level0 col72\" >A17000</th>\n",
       "      <th id=\"T_4148b_level0_col73\" class=\"col_heading level0 col73\" >N18425</th>\n",
       "      <th id=\"T_4148b_level0_col74\" class=\"col_heading level0 col74\" >A18425</th>\n",
       "      <th id=\"T_4148b_level0_col75\" class=\"col_heading level0 col75\" >N18450</th>\n",
       "      <th id=\"T_4148b_level0_col76\" class=\"col_heading level0 col76\" >A18450</th>\n",
       "      <th id=\"T_4148b_level0_col77\" class=\"col_heading level0 col77\" >N18500</th>\n",
       "      <th id=\"T_4148b_level0_col78\" class=\"col_heading level0 col78\" >A18500</th>\n",
       "      <th id=\"T_4148b_level0_col79\" class=\"col_heading level0 col79\" >N18800</th>\n",
       "      <th id=\"T_4148b_level0_col80\" class=\"col_heading level0 col80\" >A18800</th>\n",
       "      <th id=\"T_4148b_level0_col81\" class=\"col_heading level0 col81\" >N18460</th>\n",
       "      <th id=\"T_4148b_level0_col82\" class=\"col_heading level0 col82\" >A18460</th>\n",
       "      <th id=\"T_4148b_level0_col83\" class=\"col_heading level0 col83\" >N18300</th>\n",
       "      <th id=\"T_4148b_level0_col84\" class=\"col_heading level0 col84\" >A18300</th>\n",
       "      <th id=\"T_4148b_level0_col85\" class=\"col_heading level0 col85\" >N19300</th>\n",
       "      <th id=\"T_4148b_level0_col86\" class=\"col_heading level0 col86\" >A19300</th>\n",
       "      <th id=\"T_4148b_level0_col87\" class=\"col_heading level0 col87\" >N19500</th>\n",
       "      <th id=\"T_4148b_level0_col88\" class=\"col_heading level0 col88\" >A19500</th>\n",
       "      <th id=\"T_4148b_level0_col89\" class=\"col_heading level0 col89\" >N19530</th>\n",
       "      <th id=\"T_4148b_level0_col90\" class=\"col_heading level0 col90\" >A19530</th>\n",
       "      <th id=\"T_4148b_level0_col91\" class=\"col_heading level0 col91\" >N19570</th>\n",
       "      <th id=\"T_4148b_level0_col92\" class=\"col_heading level0 col92\" >A19570</th>\n",
       "      <th id=\"T_4148b_level0_col93\" class=\"col_heading level0 col93\" >N19700</th>\n",
       "      <th id=\"T_4148b_level0_col94\" class=\"col_heading level0 col94\" >A19700</th>\n",
       "      <th id=\"T_4148b_level0_col95\" class=\"col_heading level0 col95\" >N20950</th>\n",
       "      <th id=\"T_4148b_level0_col96\" class=\"col_heading level0 col96\" >A20950</th>\n",
       "      <th id=\"T_4148b_level0_col97\" class=\"col_heading level0 col97\" >N04475</th>\n",
       "      <th id=\"T_4148b_level0_col98\" class=\"col_heading level0 col98\" >A04475</th>\n",
       "      <th id=\"T_4148b_level0_col99\" class=\"col_heading level0 col99\" >N04800</th>\n",
       "      <th id=\"T_4148b_level0_col100\" class=\"col_heading level0 col100\" >A04800</th>\n",
       "      <th id=\"T_4148b_level0_col101\" class=\"col_heading level0 col101\" >N05800</th>\n",
       "      <th id=\"T_4148b_level0_col102\" class=\"col_heading level0 col102\" >A05800</th>\n",
       "      <th id=\"T_4148b_level0_col103\" class=\"col_heading level0 col103\" >N09600</th>\n",
       "      <th id=\"T_4148b_level0_col104\" class=\"col_heading level0 col104\" >A09600</th>\n",
       "      <th id=\"T_4148b_level0_col105\" class=\"col_heading level0 col105\" >N05780</th>\n",
       "      <th id=\"T_4148b_level0_col106\" class=\"col_heading level0 col106\" >A05780</th>\n",
       "      <th id=\"T_4148b_level0_col107\" class=\"col_heading level0 col107\" >N07100</th>\n",
       "      <th id=\"T_4148b_level0_col108\" class=\"col_heading level0 col108\" >A07100</th>\n",
       "      <th id=\"T_4148b_level0_col109\" class=\"col_heading level0 col109\" >N07300</th>\n",
       "      <th id=\"T_4148b_level0_col110\" class=\"col_heading level0 col110\" >A07300</th>\n",
       "      <th id=\"T_4148b_level0_col111\" class=\"col_heading level0 col111\" >N07180</th>\n",
       "      <th id=\"T_4148b_level0_col112\" class=\"col_heading level0 col112\" >A07180</th>\n",
       "      <th id=\"T_4148b_level0_col113\" class=\"col_heading level0 col113\" >N07230</th>\n",
       "      <th id=\"T_4148b_level0_col114\" class=\"col_heading level0 col114\" >A07230</th>\n",
       "      <th id=\"T_4148b_level0_col115\" class=\"col_heading level0 col115\" >N07240</th>\n",
       "      <th id=\"T_4148b_level0_col116\" class=\"col_heading level0 col116\" >A07240</th>\n",
       "      <th id=\"T_4148b_level0_col117\" class=\"col_heading level0 col117\" >N07225</th>\n",
       "      <th id=\"T_4148b_level0_col118\" class=\"col_heading level0 col118\" >A07225</th>\n",
       "      <th id=\"T_4148b_level0_col119\" class=\"col_heading level0 col119\" >N07260</th>\n",
       "      <th id=\"T_4148b_level0_col120\" class=\"col_heading level0 col120\" >A07260</th>\n",
       "      <th id=\"T_4148b_level0_col121\" class=\"col_heading level0 col121\" >N09400</th>\n",
       "      <th id=\"T_4148b_level0_col122\" class=\"col_heading level0 col122\" >A09400</th>\n",
       "      <th id=\"T_4148b_level0_col123\" class=\"col_heading level0 col123\" >N85770</th>\n",
       "      <th id=\"T_4148b_level0_col124\" class=\"col_heading level0 col124\" >A85770</th>\n",
       "      <th id=\"T_4148b_level0_col125\" class=\"col_heading level0 col125\" >N85775</th>\n",
       "      <th id=\"T_4148b_level0_col126\" class=\"col_heading level0 col126\" >A85775</th>\n",
       "      <th id=\"T_4148b_level0_col127\" class=\"col_heading level0 col127\" >N10600</th>\n",
       "      <th id=\"T_4148b_level0_col128\" class=\"col_heading level0 col128\" >A10600</th>\n",
       "      <th id=\"T_4148b_level0_col129\" class=\"col_heading level0 col129\" >N59660</th>\n",
       "      <th id=\"T_4148b_level0_col130\" class=\"col_heading level0 col130\" >A59660</th>\n",
       "      <th id=\"T_4148b_level0_col131\" class=\"col_heading level0 col131\" >N59661</th>\n",
       "      <th id=\"T_4148b_level0_col132\" class=\"col_heading level0 col132\" >A59661</th>\n",
       "      <th id=\"T_4148b_level0_col133\" class=\"col_heading level0 col133\" >N59662</th>\n",
       "      <th id=\"T_4148b_level0_col134\" class=\"col_heading level0 col134\" >A59662</th>\n",
       "      <th id=\"T_4148b_level0_col135\" class=\"col_heading level0 col135\" >N59663</th>\n",
       "      <th id=\"T_4148b_level0_col136\" class=\"col_heading level0 col136\" >A59663</th>\n",
       "      <th id=\"T_4148b_level0_col137\" class=\"col_heading level0 col137\" >N59664</th>\n",
       "      <th id=\"T_4148b_level0_col138\" class=\"col_heading level0 col138\" >A59664</th>\n",
       "      <th id=\"T_4148b_level0_col139\" class=\"col_heading level0 col139\" >N59720</th>\n",
       "      <th id=\"T_4148b_level0_col140\" class=\"col_heading level0 col140\" >A59720</th>\n",
       "      <th id=\"T_4148b_level0_col141\" class=\"col_heading level0 col141\" >N11070</th>\n",
       "      <th id=\"T_4148b_level0_col142\" class=\"col_heading level0 col142\" >A11070</th>\n",
       "      <th id=\"T_4148b_level0_col143\" class=\"col_heading level0 col143\" >N10960</th>\n",
       "      <th id=\"T_4148b_level0_col144\" class=\"col_heading level0 col144\" >A10960</th>\n",
       "      <th id=\"T_4148b_level0_col145\" class=\"col_heading level0 col145\" >N11560</th>\n",
       "      <th id=\"T_4148b_level0_col146\" class=\"col_heading level0 col146\" >A11560</th>\n",
       "      <th id=\"T_4148b_level0_col147\" class=\"col_heading level0 col147\" >N06500</th>\n",
       "      <th id=\"T_4148b_level0_col148\" class=\"col_heading level0 col148\" >A06500</th>\n",
       "      <th id=\"T_4148b_level0_col149\" class=\"col_heading level0 col149\" >N10300</th>\n",
       "      <th id=\"T_4148b_level0_col150\" class=\"col_heading level0 col150\" >A10300</th>\n",
       "      <th id=\"T_4148b_level0_col151\" class=\"col_heading level0 col151\" >N85530</th>\n",
       "      <th id=\"T_4148b_level0_col152\" class=\"col_heading level0 col152\" >A85530</th>\n",
       "      <th id=\"T_4148b_level0_col153\" class=\"col_heading level0 col153\" >N85300</th>\n",
       "      <th id=\"T_4148b_level0_col154\" class=\"col_heading level0 col154\" >A85300</th>\n",
       "      <th id=\"T_4148b_level0_col155\" class=\"col_heading level0 col155\" >N11901</th>\n",
       "      <th id=\"T_4148b_level0_col156\" class=\"col_heading level0 col156\" >A11901</th>\n",
       "      <th id=\"T_4148b_level0_col157\" class=\"col_heading level0 col157\" >N11900</th>\n",
       "      <th id=\"T_4148b_level0_col158\" class=\"col_heading level0 col158\" >A11900</th>\n",
       "      <th id=\"T_4148b_level0_col159\" class=\"col_heading level0 col159\" >N11902</th>\n",
       "      <th id=\"T_4148b_level0_col160\" class=\"col_heading level0 col160\" >A11902</th>\n",
       "      <th id=\"T_4148b_level0_col161\" class=\"col_heading level0 col161\" >N12000</th>\n",
       "      <th id=\"T_4148b_level0_col162\" class=\"col_heading level0 col162\" >A12000</th>\n",
       "    </tr>\n",
       "  </thead>\n",
       "  <tbody>\n",
       "    <tr>\n",
       "      <th id=\"T_4148b_level0_row0\" class=\"row_heading level0 row0\" >0</th>\n",
       "      <td id=\"T_4148b_row0_col0\" class=\"data row0 col0\" >AL</td>\n",
       "      <td id=\"T_4148b_row0_col1\" class=\"data row0 col1\" >0</td>\n",
       "      <td id=\"T_4148b_row0_col2\" class=\"data row0 col2\" >2116220.000000</td>\n",
       "      <td id=\"T_4148b_row0_col3\" class=\"data row0 col3\" >942190.000000</td>\n",
       "      <td id=\"T_4148b_row0_col4\" class=\"data row0 col4\" >743980.000000</td>\n",
       "      <td id=\"T_4148b_row0_col5\" class=\"data row0 col5\" >379550.000000</td>\n",
       "      <td id=\"T_4148b_row0_col6\" class=\"data row0 col6\" >1979060.000000</td>\n",
       "      <td id=\"T_4148b_row0_col7\" class=\"data row0 col7\" >64740.000000</td>\n",
       "      <td id=\"T_4148b_row0_col8\" class=\"data row0 col8\" >1164170.000000</td>\n",
       "      <td id=\"T_4148b_row0_col9\" class=\"data row0 col9\" >1380180.000000</td>\n",
       "      <td id=\"T_4148b_row0_col10\" class=\"data row0 col10\" >22130.000000</td>\n",
       "      <td id=\"T_4148b_row0_col11\" class=\"data row0 col11\" >4078970.000000</td>\n",
       "      <td id=\"T_4148b_row0_col12\" class=\"data row0 col12\" >28330.000000</td>\n",
       "      <td id=\"T_4148b_row0_col13\" class=\"data row0 col13\" >18430.000000</td>\n",
       "      <td id=\"T_4148b_row0_col14\" class=\"data row0 col14\" >9900.000000</td>\n",
       "      <td id=\"T_4148b_row0_col15\" class=\"data row0 col15\" >2250.000000</td>\n",
       "      <td id=\"T_4148b_row0_col16\" class=\"data row0 col16\" >421710.000000</td>\n",
       "      <td id=\"T_4148b_row0_col17\" class=\"data row0 col17\" >551660.000000</td>\n",
       "      <td id=\"T_4148b_row0_col18\" class=\"data row0 col18\" >158833627.000000</td>\n",
       "      <td id=\"T_4148b_row0_col19\" class=\"data row0 col19\" >2116200.000000</td>\n",
       "      <td id=\"T_4148b_row0_col20\" class=\"data row0 col20\" >160154890.000000</td>\n",
       "      <td id=\"T_4148b_row0_col21\" class=\"data row0 col21\" >1728710.000000</td>\n",
       "      <td id=\"T_4148b_row0_col22\" class=\"data row0 col22\" >106088359.000000</td>\n",
       "      <td id=\"T_4148b_row0_col23\" class=\"data row0 col23\" >562430.000000</td>\n",
       "      <td id=\"T_4148b_row0_col24\" class=\"data row0 col24\" >903857.000000</td>\n",
       "      <td id=\"T_4148b_row0_col25\" class=\"data row0 col25\" >48930.000000</td>\n",
       "      <td id=\"T_4148b_row0_col26\" class=\"data row0 col26\" >0.000000</td>\n",
       "      <td id=\"T_4148b_row0_col27\" class=\"data row0 col27\" >300160.000000</td>\n",
       "      <td id=\"T_4148b_row0_col28\" class=\"data row0 col28\" >2620731.000000</td>\n",
       "      <td id=\"T_4148b_row0_col29\" class=\"data row0 col29\" >277220.000000</td>\n",
       "      <td id=\"T_4148b_row0_col30\" class=\"data row0 col30\" >1998701.000000</td>\n",
       "      <td id=\"T_4148b_row0_col31\" class=\"data row0 col31\" >54170.000000</td>\n",
       "      <td id=\"T_4148b_row0_col32\" class=\"data row0 col32\" >65512.000000</td>\n",
       "      <td id=\"T_4148b_row0_col33\" class=\"data row0 col33\" >414880.000000</td>\n",
       "      <td id=\"T_4148b_row0_col34\" class=\"data row0 col34\" >4226982.000000</td>\n",
       "      <td id=\"T_4148b_row0_col35\" class=\"data row0 col35\" >277870.000000</td>\n",
       "      <td id=\"T_4148b_row0_col36\" class=\"data row0 col36\" >7463715.000000</td>\n",
       "      <td id=\"T_4148b_row0_col37\" class=\"data row0 col37\" >192670.000000</td>\n",
       "      <td id=\"T_4148b_row0_col38\" class=\"data row0 col38\" >4437778.000000</td>\n",
       "      <td id=\"T_4148b_row0_col39\" class=\"data row0 col39\" >448220.000000</td>\n",
       "      <td id=\"T_4148b_row0_col40\" class=\"data row0 col40\" >12839823.000000</td>\n",
       "      <td id=\"T_4148b_row0_col41\" class=\"data row0 col41\" >39610.000000</td>\n",
       "      <td id=\"T_4148b_row0_col42\" class=\"data row0 col42\" >23950.000000</td>\n",
       "      <td id=\"T_4148b_row0_col43\" class=\"data row0 col43\" >82956.000000</td>\n",
       "      <td id=\"T_4148b_row0_col44\" class=\"data row0 col44\" >357450.000000</td>\n",
       "      <td id=\"T_4148b_row0_col45\" class=\"data row0 col45\" >6236545.000000</td>\n",
       "      <td id=\"T_4148b_row0_col46\" class=\"data row0 col46\" >94410.000000</td>\n",
       "      <td id=\"T_4148b_row0_col47\" class=\"data row0 col47\" >11299507.000000</td>\n",
       "      <td id=\"T_4148b_row0_col48\" class=\"data row0 col48\" >88920.000000</td>\n",
       "      <td id=\"T_4148b_row0_col49\" class=\"data row0 col49\" >494112.000000</td>\n",
       "      <td id=\"T_4148b_row0_col50\" class=\"data row0 col50\" >418850.000000</td>\n",
       "      <td id=\"T_4148b_row0_col51\" class=\"data row0 col51\" >1321263.000000</td>\n",
       "      <td id=\"T_4148b_row0_col52\" class=\"data row0 col52\" >45120.000000</td>\n",
       "      <td id=\"T_4148b_row0_col53\" class=\"data row0 col53\" >13262.000000</td>\n",
       "      <td id=\"T_4148b_row0_col54\" class=\"data row0 col54\" >4810.000000</td>\n",
       "      <td id=\"T_4148b_row0_col55\" class=\"data row0 col55\" >138678.000000</td>\n",
       "      <td id=\"T_4148b_row0_col56\" class=\"data row0 col56\" >34470.000000</td>\n",
       "      <td id=\"T_4148b_row0_col57\" class=\"data row0 col57\" >292807.000000</td>\n",
       "      <td id=\"T_4148b_row0_col58\" class=\"data row0 col58\" >20110.000000</td>\n",
       "      <td id=\"T_4148b_row0_col59\" class=\"data row0 col59\" >99542.000000</td>\n",
       "      <td id=\"T_4148b_row0_col60\" class=\"data row0 col60\" >41140.000000</td>\n",
       "      <td id=\"T_4148b_row0_col61\" class=\"data row0 col61\" >40378.000000</td>\n",
       "      <td id=\"T_4148b_row0_col62\" class=\"data row0 col62\" >1959180.000000</td>\n",
       "      <td id=\"T_4148b_row0_col63\" class=\"data row0 col63\" >36664604.000000</td>\n",
       "      <td id=\"T_4148b_row0_col64\" class=\"data row0 col64\" >1959110.000000</td>\n",
       "      <td id=\"T_4148b_row0_col65\" class=\"data row0 col65\" >35883925.000000</td>\n",
       "      <td id=\"T_4148b_row0_col66\" class=\"data row0 col66\" >368020.000000</td>\n",
       "      <td id=\"T_4148b_row0_col67\" class=\"data row0 col67\" >777509.000000</td>\n",
       "      <td id=\"T_4148b_row0_col68\" class=\"data row0 col68\" >153830.000000</td>\n",
       "      <td id=\"T_4148b_row0_col69\" class=\"data row0 col69\" >6050070.000000</td>\n",
       "      <td id=\"T_4148b_row0_col70\" class=\"data row0 col70\" >39904523.000000</td>\n",
       "      <td id=\"T_4148b_row0_col71\" class=\"data row0 col71\" >42340.000000</td>\n",
       "      <td id=\"T_4148b_row0_col72\" class=\"data row0 col72\" >676073.000000</td>\n",
       "      <td id=\"T_4148b_row0_col73\" class=\"data row0 col73\" >122220.000000</td>\n",
       "      <td id=\"T_4148b_row0_col74\" class=\"data row0 col74\" >1379321.000000</td>\n",
       "      <td id=\"T_4148b_row0_col75\" class=\"data row0 col75\" >20150.000000</td>\n",
       "      <td id=\"T_4148b_row0_col76\" class=\"data row0 col76\" >38261.000000</td>\n",
       "      <td id=\"T_4148b_row0_col77\" class=\"data row0 col77\" >119740.000000</td>\n",
       "      <td id=\"T_4148b_row0_col78\" class=\"data row0 col78\" >360203.000000</td>\n",
       "      <td id=\"T_4148b_row0_col79\" class=\"data row0 col79\" >93410.000000</td>\n",
       "      <td id=\"T_4148b_row0_col80\" class=\"data row0 col80\" >47314.000000</td>\n",
       "      <td id=\"T_4148b_row0_col81\" class=\"data row0 col81\" >149030.000000</td>\n",
       "      <td id=\"T_4148b_row0_col82\" class=\"data row0 col82\" >994716.000000</td>\n",
       "      <td id=\"T_4148b_row0_col83\" class=\"data row0 col83\" >149690.000000</td>\n",
       "      <td id=\"T_4148b_row0_col84\" class=\"data row0 col84\" >1024020.000000</td>\n",
       "      <td id=\"T_4148b_row0_col85\" class=\"data row0 col85\" >104660.000000</td>\n",
       "      <td id=\"T_4148b_row0_col86\" class=\"data row0 col86\" >1046502.000000</td>\n",
       "      <td id=\"T_4148b_row0_col87\" class=\"data row0 col87\" >580.000000</td>\n",
       "      <td id=\"T_4148b_row0_col88\" class=\"data row0 col88\" >6043.000000</td>\n",
       "      <td id=\"T_4148b_row0_col89\" class=\"data row0 col89\" >3460.000000</td>\n",
       "      <td id=\"T_4148b_row0_col90\" class=\"data row0 col90\" >2451.000000</td>\n",
       "      <td id=\"T_4148b_row0_col91\" class=\"data row0 col91\" >5440.000000</td>\n",
       "      <td id=\"T_4148b_row0_col92\" class=\"data row0 col92\" >61584.000000</td>\n",
       "      <td id=\"T_4148b_row0_col93\" class=\"data row0 col93\" >134590.000000</td>\n",
       "      <td id=\"T_4148b_row0_col94\" class=\"data row0 col94\" >2614558.000000</td>\n",
       "      <td id=\"T_4148b_row0_col95\" class=\"data row0 col95\" >8380.000000</td>\n",
       "      <td id=\"T_4148b_row0_col96\" class=\"data row0 col96\" >213427.000000</td>\n",
       "      <td id=\"T_4148b_row0_col97\" class=\"data row0 col97\" >267310.000000</td>\n",
       "      <td id=\"T_4148b_row0_col98\" class=\"data row0 col98\" >2218625.000000</td>\n",
       "      <td id=\"T_4148b_row0_col99\" class=\"data row0 col99\" >1687950.000000</td>\n",
       "      <td id=\"T_4148b_row0_col100\" class=\"data row0 col100\" >116279459.000000</td>\n",
       "      <td id=\"T_4148b_row0_col101\" class=\"data row0 col101\" >1690740.000000</td>\n",
       "      <td id=\"T_4148b_row0_col102\" class=\"data row0 col102\" >20094815.000000</td>\n",
       "      <td id=\"T_4148b_row0_col103\" class=\"data row0 col103\" >460.000000</td>\n",
       "      <td id=\"T_4148b_row0_col104\" class=\"data row0 col104\" >6822.000000</td>\n",
       "      <td id=\"T_4148b_row0_col105\" class=\"data row0 col105\" >63050.000000</td>\n",
       "      <td id=\"T_4148b_row0_col106\" class=\"data row0 col106\" >75242.000000</td>\n",
       "      <td id=\"T_4148b_row0_col107\" class=\"data row0 col107\" >807370.000000</td>\n",
       "      <td id=\"T_4148b_row0_col108\" class=\"data row0 col108\" >1737528.000000</td>\n",
       "      <td id=\"T_4148b_row0_col109\" class=\"data row0 col109\" >82510.000000</td>\n",
       "      <td id=\"T_4148b_row0_col110\" class=\"data row0 col110\" >240703.000000</td>\n",
       "      <td id=\"T_4148b_row0_col111\" class=\"data row0 col111\" >89880.000000</td>\n",
       "      <td id=\"T_4148b_row0_col112\" class=\"data row0 col112\" >54665.000000</td>\n",
       "      <td id=\"T_4148b_row0_col113\" class=\"data row0 col113\" >114830.000000</td>\n",
       "      <td id=\"T_4148b_row0_col114\" class=\"data row0 col114\" >121274.000000</td>\n",
       "      <td id=\"T_4148b_row0_col115\" class=\"data row0 col115\" >149590.000000</td>\n",
       "      <td id=\"T_4148b_row0_col116\" class=\"data row0 col116\" >29868.000000</td>\n",
       "      <td id=\"T_4148b_row0_col117\" class=\"data row0 col117\" >564870.000000</td>\n",
       "      <td id=\"T_4148b_row0_col118\" class=\"data row0 col118\" >1125564.000000</td>\n",
       "      <td id=\"T_4148b_row0_col119\" class=\"data row0 col119\" >42630.000000</td>\n",
       "      <td id=\"T_4148b_row0_col120\" class=\"data row0 col120\" >66246.000000</td>\n",
       "      <td id=\"T_4148b_row0_col121\" class=\"data row0 col121\" >284760.000000</td>\n",
       "      <td id=\"T_4148b_row0_col122\" class=\"data row0 col122\" >887531.000000</td>\n",
       "      <td id=\"T_4148b_row0_col123\" class=\"data row0 col123\" >129430.000000</td>\n",
       "      <td id=\"T_4148b_row0_col124\" class=\"data row0 col124\" >1124335.000000</td>\n",
       "      <td id=\"T_4148b_row0_col125\" class=\"data row0 col125\" >136820.000000</td>\n",
       "      <td id=\"T_4148b_row0_col126\" class=\"data row0 col126\" >1218726.000000</td>\n",
       "      <td id=\"T_4148b_row0_col127\" class=\"data row0 col127\" >2007490.000000</td>\n",
       "      <td id=\"T_4148b_row0_col128\" class=\"data row0 col128\" >22587255.000000</td>\n",
       "      <td id=\"T_4148b_row0_col129\" class=\"data row0 col129\" >438290.000000</td>\n",
       "      <td id=\"T_4148b_row0_col130\" class=\"data row0 col130\" >1258548.000000</td>\n",
       "      <td id=\"T_4148b_row0_col131\" class=\"data row0 col131\" >93140.000000</td>\n",
       "      <td id=\"T_4148b_row0_col132\" class=\"data row0 col132\" >34989.000000</td>\n",
       "      <td id=\"T_4148b_row0_col133\" class=\"data row0 col133\" >172650.000000</td>\n",
       "      <td id=\"T_4148b_row0_col134\" class=\"data row0 col134\" >456745.000000</td>\n",
       "      <td id=\"T_4148b_row0_col135\" class=\"data row0 col135\" >113190.000000</td>\n",
       "      <td id=\"T_4148b_row0_col136\" class=\"data row0 col136\" >484845.000000</td>\n",
       "      <td id=\"T_4148b_row0_col137\" class=\"data row0 col137\" >54380.000000</td>\n",
       "      <td id=\"T_4148b_row0_col138\" class=\"data row0 col138\" >266442.000000</td>\n",
       "      <td id=\"T_4148b_row0_col139\" class=\"data row0 col139\" >394640.000000</td>\n",
       "      <td id=\"T_4148b_row0_col140\" class=\"data row0 col140\" >1106459.000000</td>\n",
       "      <td id=\"T_4148b_row0_col141\" class=\"data row0 col141\" >327540.000000</td>\n",
       "      <td id=\"T_4148b_row0_col142\" class=\"data row0 col142\" >617327.000000</td>\n",
       "      <td id=\"T_4148b_row0_col143\" class=\"data row0 col143\" >100540.000000</td>\n",
       "      <td id=\"T_4148b_row0_col144\" class=\"data row0 col144\" >90176.000000</td>\n",
       "      <td id=\"T_4148b_row0_col145\" class=\"data row0 col145\" >24630.000000</td>\n",
       "      <td id=\"T_4148b_row0_col146\" class=\"data row0 col146\" >21337.000000</td>\n",
       "      <td id=\"T_4148b_row0_col147\" class=\"data row0 col147\" >1426790.000000</td>\n",
       "      <td id=\"T_4148b_row0_col148\" class=\"data row0 col148\" >18214978.000000</td>\n",
       "      <td id=\"T_4148b_row0_col149\" class=\"data row0 col149\" >1571410.000000</td>\n",
       "      <td id=\"T_4148b_row0_col150\" class=\"data row0 col150\" >19561149.000000</td>\n",
       "      <td id=\"T_4148b_row0_col151\" class=\"data row0 col151\" >46940.000000</td>\n",
       "      <td id=\"T_4148b_row0_col152\" class=\"data row0 col152\" >78519.000000</td>\n",
       "      <td id=\"T_4148b_row0_col153\" class=\"data row0 col153\" >54890.000000</td>\n",
       "      <td id=\"T_4148b_row0_col154\" class=\"data row0 col154\" >223948.000000</td>\n",
       "      <td id=\"T_4148b_row0_col155\" class=\"data row0 col155\" >517250.000000</td>\n",
       "      <td id=\"T_4148b_row0_col156\" class=\"data row0 col156\" >2853174.000000</td>\n",
       "      <td id=\"T_4148b_row0_col157\" class=\"data row0 col157\" >1539200.000000</td>\n",
       "      <td id=\"T_4148b_row0_col158\" class=\"data row0 col158\" >5820514.000000</td>\n",
       "      <td id=\"T_4148b_row0_col159\" class=\"data row0 col159\" >1507110.000000</td>\n",
       "      <td id=\"T_4148b_row0_col160\" class=\"data row0 col160\" >4971630.000000</td>\n",
       "      <td id=\"T_4148b_row0_col161\" class=\"data row0 col161\" >36500.000000</td>\n",
       "      <td id=\"T_4148b_row0_col162\" class=\"data row0 col162\" >767916.000000</td>\n",
       "    </tr>\n",
       "    <tr>\n",
       "      <th id=\"T_4148b_level0_row1\" class=\"row_heading level0 row1\" >1</th>\n",
       "      <td id=\"T_4148b_row1_col0\" class=\"data row1 col0\" >AL</td>\n",
       "      <td id=\"T_4148b_row1_col1\" class=\"data row1 col1\" >35004</td>\n",
       "      <td id=\"T_4148b_row1_col2\" class=\"data row1 col2\" >5410.000000</td>\n",
       "      <td id=\"T_4148b_row1_col3\" class=\"data row1 col3\" >2460.000000</td>\n",
       "      <td id=\"T_4148b_row1_col4\" class=\"data row1 col4\" >2040.000000</td>\n",
       "      <td id=\"T_4148b_row1_col5\" class=\"data row1 col5\" >770.000000</td>\n",
       "      <td id=\"T_4148b_row1_col6\" class=\"data row1 col6\" >5090.000000</td>\n",
       "      <td id=\"T_4148b_row1_col7\" class=\"data row1 col7\" >150.000000</td>\n",
       "      <td id=\"T_4148b_row1_col8\" class=\"data row1 col8\" >2540.000000</td>\n",
       "      <td id=\"T_4148b_row1_col9\" class=\"data row1 col9\" >3490.000000</td>\n",
       "      <td id=\"T_4148b_row1_col10\" class=\"data row1 col10\" >70.000000</td>\n",
       "      <td id=\"T_4148b_row1_col11\" class=\"data row1 col11\" >10300.000000</td>\n",
       "      <td id=\"T_4148b_row1_col12\" class=\"data row1 col12\" >20.000000</td>\n",
       "      <td id=\"T_4148b_row1_col13\" class=\"data row1 col13\" >0.000000</td>\n",
       "      <td id=\"T_4148b_row1_col14\" class=\"data row1 col14\" >20.000000</td>\n",
       "      <td id=\"T_4148b_row1_col15\" class=\"data row1 col15\" >0.000000</td>\n",
       "      <td id=\"T_4148b_row1_col16\" class=\"data row1 col16\" >990.000000</td>\n",
       "      <td id=\"T_4148b_row1_col17\" class=\"data row1 col17\" >1360.000000</td>\n",
       "      <td id=\"T_4148b_row1_col18\" class=\"data row1 col18\" >373800.000000</td>\n",
       "      <td id=\"T_4148b_row1_col19\" class=\"data row1 col19\" >5410.000000</td>\n",
       "      <td id=\"T_4148b_row1_col20\" class=\"data row1 col20\" >376134.000000</td>\n",
       "      <td id=\"T_4148b_row1_col21\" class=\"data row1 col21\" >4580.000000</td>\n",
       "      <td id=\"T_4148b_row1_col22\" class=\"data row1 col22\" >299076.000000</td>\n",
       "      <td id=\"T_4148b_row1_col23\" class=\"data row1 col23\" >1440.000000</td>\n",
       "      <td id=\"T_4148b_row1_col24\" class=\"data row1 col24\" >833.000000</td>\n",
       "      <td id=\"T_4148b_row1_col25\" class=\"data row1 col25\" >60.000000</td>\n",
       "      <td id=\"T_4148b_row1_col26\" class=\"data row1 col26\" >0.000000</td>\n",
       "      <td id=\"T_4148b_row1_col27\" class=\"data row1 col27\" >680.000000</td>\n",
       "      <td id=\"T_4148b_row1_col28\" class=\"data row1 col28\" >2163.000000</td>\n",
       "      <td id=\"T_4148b_row1_col29\" class=\"data row1 col29\" >610.000000</td>\n",
       "      <td id=\"T_4148b_row1_col30\" class=\"data row1 col30\" >1224.000000</td>\n",
       "      <td id=\"T_4148b_row1_col31\" class=\"data row1 col31\" >200.000000</td>\n",
       "      <td id=\"T_4148b_row1_col32\" class=\"data row1 col32\" >224.000000</td>\n",
       "      <td id=\"T_4148b_row1_col33\" class=\"data row1 col33\" >900.000000</td>\n",
       "      <td id=\"T_4148b_row1_col34\" class=\"data row1 col34\" >7886.000000</td>\n",
       "      <td id=\"T_4148b_row1_col35\" class=\"data row1 col35\" >590.000000</td>\n",
       "      <td id=\"T_4148b_row1_col36\" class=\"data row1 col36\" >5385.000000</td>\n",
       "      <td id=\"T_4148b_row1_col37\" class=\"data row1 col37\" >460.000000</td>\n",
       "      <td id=\"T_4148b_row1_col38\" class=\"data row1 col38\" >7988.000000</td>\n",
       "      <td id=\"T_4148b_row1_col39\" class=\"data row1 col39\" >1070.000000</td>\n",
       "      <td id=\"T_4148b_row1_col40\" class=\"data row1 col40\" >25235.000000</td>\n",
       "      <td id=\"T_4148b_row1_col41\" class=\"data row1 col41\" >0.000000</td>\n",
       "      <td id=\"T_4148b_row1_col42\" class=\"data row1 col42\" >50.000000</td>\n",
       "      <td id=\"T_4148b_row1_col43\" class=\"data row1 col43\" >213.000000</td>\n",
       "      <td id=\"T_4148b_row1_col44\" class=\"data row1 col44\" >840.000000</td>\n",
       "      <td id=\"T_4148b_row1_col45\" class=\"data row1 col45\" >13076.000000</td>\n",
       "      <td id=\"T_4148b_row1_col46\" class=\"data row1 col46\" >180.000000</td>\n",
       "      <td id=\"T_4148b_row1_col47\" class=\"data row1 col47\" >11794.000000</td>\n",
       "      <td id=\"T_4148b_row1_col48\" class=\"data row1 col48\" >160.000000</td>\n",
       "      <td id=\"T_4148b_row1_col49\" class=\"data row1 col49\" >124.000000</td>\n",
       "      <td id=\"T_4148b_row1_col50\" class=\"data row1 col50\" >1060.000000</td>\n",
       "      <td id=\"T_4148b_row1_col51\" class=\"data row1 col51\" >2334.000000</td>\n",
       "      <td id=\"T_4148b_row1_col52\" class=\"data row1 col52\" >140.000000</td>\n",
       "      <td id=\"T_4148b_row1_col53\" class=\"data row1 col53\" >37.000000</td>\n",
       "      <td id=\"T_4148b_row1_col54\" class=\"data row1 col54\" >0.000000</td>\n",
       "      <td id=\"T_4148b_row1_col55\" class=\"data row1 col55\" >0.000000</td>\n",
       "      <td id=\"T_4148b_row1_col56\" class=\"data row1 col56\" >70.000000</td>\n",
       "      <td id=\"T_4148b_row1_col57\" class=\"data row1 col57\" >406.000000</td>\n",
       "      <td id=\"T_4148b_row1_col58\" class=\"data row1 col58\" >70.000000</td>\n",
       "      <td id=\"T_4148b_row1_col59\" class=\"data row1 col59\" >198.000000</td>\n",
       "      <td id=\"T_4148b_row1_col60\" class=\"data row1 col60\" >180.000000</td>\n",
       "      <td id=\"T_4148b_row1_col61\" class=\"data row1 col61\" >157.000000</td>\n",
       "      <td id=\"T_4148b_row1_col62\" class=\"data row1 col62\" >5040.000000</td>\n",
       "      <td id=\"T_4148b_row1_col63\" class=\"data row1 col63\" >95341.000000</td>\n",
       "      <td id=\"T_4148b_row1_col64\" class=\"data row1 col64\" >5040.000000</td>\n",
       "      <td id=\"T_4148b_row1_col65\" class=\"data row1 col65\" >93389.000000</td>\n",
       "      <td id=\"T_4148b_row1_col66\" class=\"data row1 col66\" >940.000000</td>\n",
       "      <td id=\"T_4148b_row1_col67\" class=\"data row1 col67\" >1951.000000</td>\n",
       "      <td id=\"T_4148b_row1_col68\" class=\"data row1 col68\" >370.000000</td>\n",
       "      <td id=\"T_4148b_row1_col69\" class=\"data row1 col69\" >10437.000000</td>\n",
       "      <td id=\"T_4148b_row1_col70\" class=\"data row1 col70\" >50596.000000</td>\n",
       "      <td id=\"T_4148b_row1_col71\" class=\"data row1 col71\" >110.000000</td>\n",
       "      <td id=\"T_4148b_row1_col72\" class=\"data row1 col72\" >1361.000000</td>\n",
       "      <td id=\"T_4148b_row1_col73\" class=\"data row1 col73\" >310.000000</td>\n",
       "      <td id=\"T_4148b_row1_col74\" class=\"data row1 col74\" >1999.000000</td>\n",
       "      <td id=\"T_4148b_row1_col75\" class=\"data row1 col75\" >30.000000</td>\n",
       "      <td id=\"T_4148b_row1_col76\" class=\"data row1 col76\" >44.000000</td>\n",
       "      <td id=\"T_4148b_row1_col77\" class=\"data row1 col77\" >280.000000</td>\n",
       "      <td id=\"T_4148b_row1_col78\" class=\"data row1 col78\" >469.000000</td>\n",
       "      <td id=\"T_4148b_row1_col79\" class=\"data row1 col79\" >230.000000</td>\n",
       "      <td id=\"T_4148b_row1_col80\" class=\"data row1 col80\" >112.000000</td>\n",
       "      <td id=\"T_4148b_row1_col81\" class=\"data row1 col81\" >360.000000</td>\n",
       "      <td id=\"T_4148b_row1_col82\" class=\"data row1 col82\" >2187.000000</td>\n",
       "      <td id=\"T_4148b_row1_col83\" class=\"data row1 col83\" >360.000000</td>\n",
       "      <td id=\"T_4148b_row1_col84\" class=\"data row1 col84\" >2200.000000</td>\n",
       "      <td id=\"T_4148b_row1_col85\" class=\"data row1 col85\" >270.000000</td>\n",
       "      <td id=\"T_4148b_row1_col86\" class=\"data row1 col86\" >1974.000000</td>\n",
       "      <td id=\"T_4148b_row1_col87\" class=\"data row1 col87\" >0.000000</td>\n",
       "      <td id=\"T_4148b_row1_col88\" class=\"data row1 col88\" >0.000000</td>\n",
       "      <td id=\"T_4148b_row1_col89\" class=\"data row1 col89\" >0.000000</td>\n",
       "      <td id=\"T_4148b_row1_col90\" class=\"data row1 col90\" >0.000000</td>\n",
       "      <td id=\"T_4148b_row1_col91\" class=\"data row1 col91\" >0.000000</td>\n",
       "      <td id=\"T_4148b_row1_col92\" class=\"data row1 col92\" >0.000000</td>\n",
       "      <td id=\"T_4148b_row1_col93\" class=\"data row1 col93\" >330.000000</td>\n",
       "      <td id=\"T_4148b_row1_col94\" class=\"data row1 col94\" >4195.000000</td>\n",
       "      <td id=\"T_4148b_row1_col95\" class=\"data row1 col95\" >0.000000</td>\n",
       "      <td id=\"T_4148b_row1_col96\" class=\"data row1 col96\" >0.000000</td>\n",
       "      <td id=\"T_4148b_row1_col97\" class=\"data row1 col97\" >610.000000</td>\n",
       "      <td id=\"T_4148b_row1_col98\" class=\"data row1 col98\" >3335.000000</td>\n",
       "      <td id=\"T_4148b_row1_col99\" class=\"data row1 col99\" >4580.000000</td>\n",
       "      <td id=\"T_4148b_row1_col100\" class=\"data row1 col100\" >270444.000000</td>\n",
       "      <td id=\"T_4148b_row1_col101\" class=\"data row1 col101\" >4610.000000</td>\n",
       "      <td id=\"T_4148b_row1_col102\" class=\"data row1 col102\" >39787.000000</td>\n",
       "      <td id=\"T_4148b_row1_col103\" class=\"data row1 col103\" >0.000000</td>\n",
       "      <td id=\"T_4148b_row1_col104\" class=\"data row1 col104\" >0.000000</td>\n",
       "      <td id=\"T_4148b_row1_col105\" class=\"data row1 col105\" >210.000000</td>\n",
       "      <td id=\"T_4148b_row1_col106\" class=\"data row1 col106\" >220.000000</td>\n",
       "      <td id=\"T_4148b_row1_col107\" class=\"data row1 col107\" >2030.000000</td>\n",
       "      <td id=\"T_4148b_row1_col108\" class=\"data row1 col108\" >4473.000000</td>\n",
       "      <td id=\"T_4148b_row1_col109\" class=\"data row1 col109\" >120.000000</td>\n",
       "      <td id=\"T_4148b_row1_col110\" class=\"data row1 col110\" >9.000000</td>\n",
       "      <td id=\"T_4148b_row1_col111\" class=\"data row1 col111\" >330.000000</td>\n",
       "      <td id=\"T_4148b_row1_col112\" class=\"data row1 col112\" >211.000000</td>\n",
       "      <td id=\"T_4148b_row1_col113\" class=\"data row1 col113\" >300.000000</td>\n",
       "      <td id=\"T_4148b_row1_col114\" class=\"data row1 col114\" >329.000000</td>\n",
       "      <td id=\"T_4148b_row1_col115\" class=\"data row1 col115\" >400.000000</td>\n",
       "      <td id=\"T_4148b_row1_col116\" class=\"data row1 col116\" >79.000000</td>\n",
       "      <td id=\"T_4148b_row1_col117\" class=\"data row1 col117\" >1530.000000</td>\n",
       "      <td id=\"T_4148b_row1_col118\" class=\"data row1 col118\" >3536.000000</td>\n",
       "      <td id=\"T_4148b_row1_col119\" class=\"data row1 col119\" >90.000000</td>\n",
       "      <td id=\"T_4148b_row1_col120\" class=\"data row1 col120\" >188.000000</td>\n",
       "      <td id=\"T_4148b_row1_col121\" class=\"data row1 col121\" >650.000000</td>\n",
       "      <td id=\"T_4148b_row1_col122\" class=\"data row1 col122\" >1762.000000</td>\n",
       "      <td id=\"T_4148b_row1_col123\" class=\"data row1 col123\" >290.000000</td>\n",
       "      <td id=\"T_4148b_row1_col124\" class=\"data row1 col124\" >2102.000000</td>\n",
       "      <td id=\"T_4148b_row1_col125\" class=\"data row1 col125\" >310.000000</td>\n",
       "      <td id=\"T_4148b_row1_col126\" class=\"data row1 col126\" >2334.000000</td>\n",
       "      <td id=\"T_4148b_row1_col127\" class=\"data row1 col127\" >5150.000000</td>\n",
       "      <td id=\"T_4148b_row1_col128\" class=\"data row1 col128\" >43743.000000</td>\n",
       "      <td id=\"T_4148b_row1_col129\" class=\"data row1 col129\" >680.000000</td>\n",
       "      <td id=\"T_4148b_row1_col130\" class=\"data row1 col130\" >1756.000000</td>\n",
       "      <td id=\"T_4148b_row1_col131\" class=\"data row1 col131\" >140.000000</td>\n",
       "      <td id=\"T_4148b_row1_col132\" class=\"data row1 col132\" >46.000000</td>\n",
       "      <td id=\"T_4148b_row1_col133\" class=\"data row1 col133\" >250.000000</td>\n",
       "      <td id=\"T_4148b_row1_col134\" class=\"data row1 col134\" >613.000000</td>\n",
       "      <td id=\"T_4148b_row1_col135\" class=\"data row1 col135\" >200.000000</td>\n",
       "      <td id=\"T_4148b_row1_col136\" class=\"data row1 col136\" >721.000000</td>\n",
       "      <td id=\"T_4148b_row1_col137\" class=\"data row1 col137\" >90.000000</td>\n",
       "      <td id=\"T_4148b_row1_col138\" class=\"data row1 col138\" >375.000000</td>\n",
       "      <td id=\"T_4148b_row1_col139\" class=\"data row1 col139\" >600.000000</td>\n",
       "      <td id=\"T_4148b_row1_col140\" class=\"data row1 col140\" >1515.000000</td>\n",
       "      <td id=\"T_4148b_row1_col141\" class=\"data row1 col141\" >570.000000</td>\n",
       "      <td id=\"T_4148b_row1_col142\" class=\"data row1 col142\" >1054.000000</td>\n",
       "      <td id=\"T_4148b_row1_col143\" class=\"data row1 col143\" >230.000000</td>\n",
       "      <td id=\"T_4148b_row1_col144\" class=\"data row1 col144\" >196.000000</td>\n",
       "      <td id=\"T_4148b_row1_col145\" class=\"data row1 col145\" >70.000000</td>\n",
       "      <td id=\"T_4148b_row1_col146\" class=\"data row1 col146\" >52.000000</td>\n",
       "      <td id=\"T_4148b_row1_col147\" class=\"data row1 col147\" >4090.000000</td>\n",
       "      <td id=\"T_4148b_row1_col148\" class=\"data row1 col148\" >35311.000000</td>\n",
       "      <td id=\"T_4148b_row1_col149\" class=\"data row1 col149\" >4370.000000</td>\n",
       "      <td id=\"T_4148b_row1_col150\" class=\"data row1 col150\" >37533.000000</td>\n",
       "      <td id=\"T_4148b_row1_col151\" class=\"data row1 col151\" >70.000000</td>\n",
       "      <td id=\"T_4148b_row1_col152\" class=\"data row1 col152\" >49.000000</td>\n",
       "      <td id=\"T_4148b_row1_col153\" class=\"data row1 col153\" >60.000000</td>\n",
       "      <td id=\"T_4148b_row1_col154\" class=\"data row1 col154\" >89.000000</td>\n",
       "      <td id=\"T_4148b_row1_col155\" class=\"data row1 col155\" >1480.000000</td>\n",
       "      <td id=\"T_4148b_row1_col156\" class=\"data row1 col156\" >5019.000000</td>\n",
       "      <td id=\"T_4148b_row1_col157\" class=\"data row1 col157\" >3780.000000</td>\n",
       "      <td id=\"T_4148b_row1_col158\" class=\"data row1 col158\" >11161.000000</td>\n",
       "      <td id=\"T_4148b_row1_col159\" class=\"data row1 col159\" >3750.000000</td>\n",
       "      <td id=\"T_4148b_row1_col160\" class=\"data row1 col160\" >10548.000000</td>\n",
       "      <td id=\"T_4148b_row1_col161\" class=\"data row1 col161\" >60.000000</td>\n",
       "      <td id=\"T_4148b_row1_col162\" class=\"data row1 col162\" >178.000000</td>\n",
       "    </tr>\n",
       "    <tr>\n",
       "      <th id=\"T_4148b_level0_row2\" class=\"row_heading level0 row2\" >2</th>\n",
       "      <td id=\"T_4148b_row2_col0\" class=\"data row2 col0\" >AL</td>\n",
       "      <td id=\"T_4148b_row2_col1\" class=\"data row2 col1\" >35005</td>\n",
       "      <td id=\"T_4148b_row2_col2\" class=\"data row2 col2\" >3290.000000</td>\n",
       "      <td id=\"T_4148b_row2_col3\" class=\"data row2 col3\" >1580.000000</td>\n",
       "      <td id=\"T_4148b_row2_col4\" class=\"data row2 col4\" >740.000000</td>\n",
       "      <td id=\"T_4148b_row2_col5\" class=\"data row2 col5\" >890.000000</td>\n",
       "      <td id=\"T_4148b_row2_col6\" class=\"data row2 col6\" >3060.000000</td>\n",
       "      <td id=\"T_4148b_row2_col7\" class=\"data row2 col7\" >100.000000</td>\n",
       "      <td id=\"T_4148b_row2_col8\" class=\"data row2 col8\" >1780.000000</td>\n",
       "      <td id=\"T_4148b_row2_col9\" class=\"data row2 col9\" >2430.000000</td>\n",
       "      <td id=\"T_4148b_row2_col10\" class=\"data row2 col10\" >0.000000</td>\n",
       "      <td id=\"T_4148b_row2_col11\" class=\"data row2 col11\" >6020.000000</td>\n",
       "      <td id=\"T_4148b_row2_col12\" class=\"data row2 col12\" >30.000000</td>\n",
       "      <td id=\"T_4148b_row2_col13\" class=\"data row2 col13\" >30.000000</td>\n",
       "      <td id=\"T_4148b_row2_col14\" class=\"data row2 col14\" >0.000000</td>\n",
       "      <td id=\"T_4148b_row2_col15\" class=\"data row2 col15\" >0.000000</td>\n",
       "      <td id=\"T_4148b_row2_col16\" class=\"data row2 col16\" >960.000000</td>\n",
       "      <td id=\"T_4148b_row2_col17\" class=\"data row2 col17\" >770.000000</td>\n",
       "      <td id=\"T_4148b_row2_col18\" class=\"data row2 col18\" >149625.000000</td>\n",
       "      <td id=\"T_4148b_row2_col19\" class=\"data row2 col19\" >3290.000000</td>\n",
       "      <td id=\"T_4148b_row2_col20\" class=\"data row2 col20\" >150512.000100</td>\n",
       "      <td id=\"T_4148b_row2_col21\" class=\"data row2 col21\" >2800.000000</td>\n",
       "      <td id=\"T_4148b_row2_col22\" class=\"data row2 col22\" >123029.000000</td>\n",
       "      <td id=\"T_4148b_row2_col23\" class=\"data row2 col23\" >470.000000</td>\n",
       "      <td id=\"T_4148b_row2_col24\" class=\"data row2 col24\" >262.000000</td>\n",
       "      <td id=\"T_4148b_row2_col25\" class=\"data row2 col25\" >0.000000</td>\n",
       "      <td id=\"T_4148b_row2_col26\" class=\"data row2 col26\" >0.000000</td>\n",
       "      <td id=\"T_4148b_row2_col27\" class=\"data row2 col27\" >200.000000</td>\n",
       "      <td id=\"T_4148b_row2_col28\" class=\"data row2 col28\" >401.000000</td>\n",
       "      <td id=\"T_4148b_row2_col29\" class=\"data row2 col29\" >160.000000</td>\n",
       "      <td id=\"T_4148b_row2_col30\" class=\"data row2 col30\" >254.000000</td>\n",
       "      <td id=\"T_4148b_row2_col31\" class=\"data row2 col31\" >100.000000</td>\n",
       "      <td id=\"T_4148b_row2_col32\" class=\"data row2 col32\" >67.000000</td>\n",
       "      <td id=\"T_4148b_row2_col33\" class=\"data row2 col33\" >700.000000</td>\n",
       "      <td id=\"T_4148b_row2_col34\" class=\"data row2 col34\" >863.000000</td>\n",
       "      <td id=\"T_4148b_row2_col35\" class=\"data row2 col35\" >140.000000</td>\n",
       "      <td id=\"T_4148b_row2_col36\" class=\"data row2 col36\" >556.000000</td>\n",
       "      <td id=\"T_4148b_row2_col37\" class=\"data row2 col37\" >190.000000</td>\n",
       "      <td id=\"T_4148b_row2_col38\" class=\"data row2 col38\" >2763.000000</td>\n",
       "      <td id=\"T_4148b_row2_col39\" class=\"data row2 col39\" >600.000000</td>\n",
       "      <td id=\"T_4148b_row2_col40\" class=\"data row2 col40\" >12117.000000</td>\n",
       "      <td id=\"T_4148b_row2_col41\" class=\"data row2 col41\" >0.000000</td>\n",
       "      <td id=\"T_4148b_row2_col42\" class=\"data row2 col42\" >40.000000</td>\n",
       "      <td id=\"T_4148b_row2_col43\" class=\"data row2 col43\" >199.000000</td>\n",
       "      <td id=\"T_4148b_row2_col44\" class=\"data row2 col44\" >460.000000</td>\n",
       "      <td id=\"T_4148b_row2_col45\" class=\"data row2 col45\" >5845.000000</td>\n",
       "      <td id=\"T_4148b_row2_col46\" class=\"data row2 col46\" >40.000000</td>\n",
       "      <td id=\"T_4148b_row2_col47\" class=\"data row2 col47\" >652.000000</td>\n",
       "      <td id=\"T_4148b_row2_col48\" class=\"data row2 col48\" >60.000000</td>\n",
       "      <td id=\"T_4148b_row2_col49\" class=\"data row2 col49\" >-75.000000</td>\n",
       "      <td id=\"T_4148b_row2_col50\" class=\"data row2 col50\" >540.000000</td>\n",
       "      <td id=\"T_4148b_row2_col51\" class=\"data row2 col51\" >887.000000</td>\n",
       "      <td id=\"T_4148b_row2_col52\" class=\"data row2 col52\" >40.000000</td>\n",
       "      <td id=\"T_4148b_row2_col53\" class=\"data row2 col53\" >12.000000</td>\n",
       "      <td id=\"T_4148b_row2_col54\" class=\"data row2 col54\" >0.000000</td>\n",
       "      <td id=\"T_4148b_row2_col55\" class=\"data row2 col55\" >0.000000</td>\n",
       "      <td id=\"T_4148b_row2_col56\" class=\"data row2 col56\" >0.000000</td>\n",
       "      <td id=\"T_4148b_row2_col57\" class=\"data row2 col57\" >0.000000</td>\n",
       "      <td id=\"T_4148b_row2_col58\" class=\"data row2 col58\" >30.000000</td>\n",
       "      <td id=\"T_4148b_row2_col59\" class=\"data row2 col59\" >70.000000</td>\n",
       "      <td id=\"T_4148b_row2_col60\" class=\"data row2 col60\" >60.000000</td>\n",
       "      <td id=\"T_4148b_row2_col61\" class=\"data row2 col61\" >61.000000</td>\n",
       "      <td id=\"T_4148b_row2_col62\" class=\"data row2 col62\" >3130.000000</td>\n",
       "      <td id=\"T_4148b_row2_col63\" class=\"data row2 col63\" >55416.000000</td>\n",
       "      <td id=\"T_4148b_row2_col64\" class=\"data row2 col64\" >3130.000000</td>\n",
       "      <td id=\"T_4148b_row2_col65\" class=\"data row2 col65\" >54418.000000</td>\n",
       "      <td id=\"T_4148b_row2_col66\" class=\"data row2 col66\" >490.000000</td>\n",
       "      <td id=\"T_4148b_row2_col67\" class=\"data row2 col67\" >998.000000</td>\n",
       "      <td id=\"T_4148b_row2_col68\" class=\"data row2 col68\" >170.000000</td>\n",
       "      <td id=\"T_4148b_row2_col69\" class=\"data row2 col69\" >4234.000000</td>\n",
       "      <td id=\"T_4148b_row2_col70\" class=\"data row2 col70\" >13190.000000</td>\n",
       "      <td id=\"T_4148b_row2_col71\" class=\"data row2 col71\" >80.000000</td>\n",
       "      <td id=\"T_4148b_row2_col72\" class=\"data row2 col72\" >853.000000</td>\n",
       "      <td id=\"T_4148b_row2_col73\" class=\"data row2 col73\" >130.000000</td>\n",
       "      <td id=\"T_4148b_row2_col74\" class=\"data row2 col74\" >521.000000</td>\n",
       "      <td id=\"T_4148b_row2_col75\" class=\"data row2 col75\" >20.000000</td>\n",
       "      <td id=\"T_4148b_row2_col76\" class=\"data row2 col76\" >28.000000</td>\n",
       "      <td id=\"T_4148b_row2_col77\" class=\"data row2 col77\" >110.000000</td>\n",
       "      <td id=\"T_4148b_row2_col78\" class=\"data row2 col78\" >126.000000</td>\n",
       "      <td id=\"T_4148b_row2_col79\" class=\"data row2 col79\" >110.000000</td>\n",
       "      <td id=\"T_4148b_row2_col80\" class=\"data row2 col80\" >69.000000</td>\n",
       "      <td id=\"T_4148b_row2_col81\" class=\"data row2 col81\" >170.000000</td>\n",
       "      <td id=\"T_4148b_row2_col82\" class=\"data row2 col82\" >721.000000</td>\n",
       "      <td id=\"T_4148b_row2_col83\" class=\"data row2 col83\" >170.000000</td>\n",
       "      <td id=\"T_4148b_row2_col84\" class=\"data row2 col84\" >853.000000</td>\n",
       "      <td id=\"T_4148b_row2_col85\" class=\"data row2 col85\" >120.000000</td>\n",
       "      <td id=\"T_4148b_row2_col86\" class=\"data row2 col86\" >598.000000</td>\n",
       "      <td id=\"T_4148b_row2_col87\" class=\"data row2 col87\" >0.000000</td>\n",
       "      <td id=\"T_4148b_row2_col88\" class=\"data row2 col88\" >0.000000</td>\n",
       "      <td id=\"T_4148b_row2_col89\" class=\"data row2 col89\" >0.000000</td>\n",
       "      <td id=\"T_4148b_row2_col90\" class=\"data row2 col90\" >0.000000</td>\n",
       "      <td id=\"T_4148b_row2_col91\" class=\"data row2 col91\" >0.000000</td>\n",
       "      <td id=\"T_4148b_row2_col92\" class=\"data row2 col92\" >0.000000</td>\n",
       "      <td id=\"T_4148b_row2_col93\" class=\"data row2 col93\" >140.000000</td>\n",
       "      <td id=\"T_4148b_row2_col94\" class=\"data row2 col94\" >1476.000000</td>\n",
       "      <td id=\"T_4148b_row2_col95\" class=\"data row2 col95\" >0.000000</td>\n",
       "      <td id=\"T_4148b_row2_col96\" class=\"data row2 col96\" >0.000000</td>\n",
       "      <td id=\"T_4148b_row2_col97\" class=\"data row2 col97\" >210.000000</td>\n",
       "      <td id=\"T_4148b_row2_col98\" class=\"data row2 col98\" >504.000000</td>\n",
       "      <td id=\"T_4148b_row2_col99\" class=\"data row2 col99\" >2560.000000</td>\n",
       "      <td id=\"T_4148b_row2_col100\" class=\"data row2 col100\" >93415.000000</td>\n",
       "      <td id=\"T_4148b_row2_col101\" class=\"data row2 col101\" >2570.000000</td>\n",
       "      <td id=\"T_4148b_row2_col102\" class=\"data row2 col102\" >12447.000000</td>\n",
       "      <td id=\"T_4148b_row2_col103\" class=\"data row2 col103\" >0.000000</td>\n",
       "      <td id=\"T_4148b_row2_col104\" class=\"data row2 col104\" >0.000000</td>\n",
       "      <td id=\"T_4148b_row2_col105\" class=\"data row2 col105\" >100.000000</td>\n",
       "      <td id=\"T_4148b_row2_col106\" class=\"data row2 col106\" >79.000000</td>\n",
       "      <td id=\"T_4148b_row2_col107\" class=\"data row2 col107\" >1280.000000</td>\n",
       "      <td id=\"T_4148b_row2_col108\" class=\"data row2 col108\" >1951.000000</td>\n",
       "      <td id=\"T_4148b_row2_col109\" class=\"data row2 col109\" >20.000000</td>\n",
       "      <td id=\"T_4148b_row2_col110\" class=\"data row2 col110\" >0.000000</td>\n",
       "      <td id=\"T_4148b_row2_col111\" class=\"data row2 col111\" >120.000000</td>\n",
       "      <td id=\"T_4148b_row2_col112\" class=\"data row2 col112\" >74.000000</td>\n",
       "      <td id=\"T_4148b_row2_col113\" class=\"data row2 col113\" >190.000000</td>\n",
       "      <td id=\"T_4148b_row2_col114\" class=\"data row2 col114\" >202.000000</td>\n",
       "      <td id=\"T_4148b_row2_col115\" class=\"data row2 col115\" >340.000000</td>\n",
       "      <td id=\"T_4148b_row2_col116\" class=\"data row2 col116\" >66.000000</td>\n",
       "      <td id=\"T_4148b_row2_col117\" class=\"data row2 col117\" >880.000000</td>\n",
       "      <td id=\"T_4148b_row2_col118\" class=\"data row2 col118\" >1299.000000</td>\n",
       "      <td id=\"T_4148b_row2_col119\" class=\"data row2 col119\" >130.000000</td>\n",
       "      <td id=\"T_4148b_row2_col120\" class=\"data row2 col120\" >254.000000</td>\n",
       "      <td id=\"T_4148b_row2_col121\" class=\"data row2 col121\" >350.000000</td>\n",
       "      <td id=\"T_4148b_row2_col122\" class=\"data row2 col122\" >729.000000</td>\n",
       "      <td id=\"T_4148b_row2_col123\" class=\"data row2 col123\" >150.000000</td>\n",
       "      <td id=\"T_4148b_row2_col124\" class=\"data row2 col124\" >980.000000</td>\n",
       "      <td id=\"T_4148b_row2_col125\" class=\"data row2 col125\" >160.000000</td>\n",
       "      <td id=\"T_4148b_row2_col126\" class=\"data row2 col126\" >1149.000000</td>\n",
       "      <td id=\"T_4148b_row2_col127\" class=\"data row2 col127\" >3140.000000</td>\n",
       "      <td id=\"T_4148b_row2_col128\" class=\"data row2 col128\" >17623.000000</td>\n",
       "      <td id=\"T_4148b_row2_col129\" class=\"data row2 col129\" >910.000000</td>\n",
       "      <td id=\"T_4148b_row2_col130\" class=\"data row2 col130\" >2789.000000</td>\n",
       "      <td id=\"T_4148b_row2_col131\" class=\"data row2 col131\" >170.000000</td>\n",
       "      <td id=\"T_4148b_row2_col132\" class=\"data row2 col132\" >62.000000</td>\n",
       "      <td id=\"T_4148b_row2_col133\" class=\"data row2 col133\" >350.000000</td>\n",
       "      <td id=\"T_4148b_row2_col134\" class=\"data row2 col134\" >901.000000</td>\n",
       "      <td id=\"T_4148b_row2_col135\" class=\"data row2 col135\" >260.000000</td>\n",
       "      <td id=\"T_4148b_row2_col136\" class=\"data row2 col136\" >1132.000000</td>\n",
       "      <td id=\"T_4148b_row2_col137\" class=\"data row2 col137\" >130.000000</td>\n",
       "      <td id=\"T_4148b_row2_col138\" class=\"data row2 col138\" >692.000000</td>\n",
       "      <td id=\"T_4148b_row2_col139\" class=\"data row2 col139\" >840.000000</td>\n",
       "      <td id=\"T_4148b_row2_col140\" class=\"data row2 col140\" >2519.000000</td>\n",
       "      <td id=\"T_4148b_row2_col141\" class=\"data row2 col141\" >690.000000</td>\n",
       "      <td id=\"T_4148b_row2_col142\" class=\"data row2 col142\" >1334.000000</td>\n",
       "      <td id=\"T_4148b_row2_col143\" class=\"data row2 col143\" >190.000000</td>\n",
       "      <td id=\"T_4148b_row2_col144\" class=\"data row2 col144\" >169.000000</td>\n",
       "      <td id=\"T_4148b_row2_col145\" class=\"data row2 col145\" >30.000000</td>\n",
       "      <td id=\"T_4148b_row2_col146\" class=\"data row2 col146\" >9.000000</td>\n",
       "      <td id=\"T_4148b_row2_col147\" class=\"data row2 col147\" >1990.000000</td>\n",
       "      <td id=\"T_4148b_row2_col148\" class=\"data row2 col148\" >10490.000000</td>\n",
       "      <td id=\"T_4148b_row2_col149\" class=\"data row2 col149\" >2250.000000</td>\n",
       "      <td id=\"T_4148b_row2_col150\" class=\"data row2 col150\" >11398.000000</td>\n",
       "      <td id=\"T_4148b_row2_col151\" class=\"data row2 col151\" >0.000000</td>\n",
       "      <td id=\"T_4148b_row2_col152\" class=\"data row2 col152\" >0.000000</td>\n",
       "      <td id=\"T_4148b_row2_col153\" class=\"data row2 col153\" >0.000000</td>\n",
       "      <td id=\"T_4148b_row2_col154\" class=\"data row2 col154\" >0.000000</td>\n",
       "      <td id=\"T_4148b_row2_col155\" class=\"data row2 col155\" >610.000000</td>\n",
       "      <td id=\"T_4148b_row2_col156\" class=\"data row2 col156\" >1471.000000</td>\n",
       "      <td id=\"T_4148b_row2_col157\" class=\"data row2 col157\" >2620.000000</td>\n",
       "      <td id=\"T_4148b_row2_col158\" class=\"data row2 col158\" >8106.000000</td>\n",
       "      <td id=\"T_4148b_row2_col159\" class=\"data row2 col159\" >2610.000000</td>\n",
       "      <td id=\"T_4148b_row2_col160\" class=\"data row2 col160\" >8094.000000</td>\n",
       "      <td id=\"T_4148b_row2_col161\" class=\"data row2 col161\" >0.000000</td>\n",
       "      <td id=\"T_4148b_row2_col162\" class=\"data row2 col162\" >0.000000</td>\n",
       "    </tr>\n",
       "    <tr>\n",
       "      <th id=\"T_4148b_level0_row3\" class=\"row_heading level0 row3\" >3</th>\n",
       "      <td id=\"T_4148b_row3_col0\" class=\"data row3 col0\" >AL</td>\n",
       "      <td id=\"T_4148b_row3_col1\" class=\"data row3 col1\" >35006</td>\n",
       "      <td id=\"T_4148b_row3_col2\" class=\"data row3 col2\" >1260.000000</td>\n",
       "      <td id=\"T_4148b_row3_col3\" class=\"data row3 col3\" >500.000000</td>\n",
       "      <td id=\"T_4148b_row3_col4\" class=\"data row3 col4\" >560.000000</td>\n",
       "      <td id=\"T_4148b_row3_col5\" class=\"data row3 col5\" >170.000000</td>\n",
       "      <td id=\"T_4148b_row3_col6\" class=\"data row3 col6\" >1200.000000</td>\n",
       "      <td id=\"T_4148b_row3_col7\" class=\"data row3 col7\" >30.000000</td>\n",
       "      <td id=\"T_4148b_row3_col8\" class=\"data row3 col8\" >830.000000</td>\n",
       "      <td id=\"T_4148b_row3_col9\" class=\"data row3 col9\" >850.000000</td>\n",
       "      <td id=\"T_4148b_row3_col10\" class=\"data row3 col10\" >0.000000</td>\n",
       "      <td id=\"T_4148b_row3_col11\" class=\"data row3 col11\" >2490.000000</td>\n",
       "      <td id=\"T_4148b_row3_col12\" class=\"data row3 col12\" >0.000000</td>\n",
       "      <td id=\"T_4148b_row3_col13\" class=\"data row3 col13\" >0.000000</td>\n",
       "      <td id=\"T_4148b_row3_col14\" class=\"data row3 col14\" >0.000000</td>\n",
       "      <td id=\"T_4148b_row3_col15\" class=\"data row3 col15\" >0.000000</td>\n",
       "      <td id=\"T_4148b_row3_col16\" class=\"data row3 col16\" >250.000000</td>\n",
       "      <td id=\"T_4148b_row3_col17\" class=\"data row3 col17\" >370.000000</td>\n",
       "      <td id=\"T_4148b_row3_col18\" class=\"data row3 col18\" >81364.000000</td>\n",
       "      <td id=\"T_4148b_row3_col19\" class=\"data row3 col19\" >1260.000000</td>\n",
       "      <td id=\"T_4148b_row3_col20\" class=\"data row3 col20\" >81740.000100</td>\n",
       "      <td id=\"T_4148b_row3_col21\" class=\"data row3 col21\" >1000.000000</td>\n",
       "      <td id=\"T_4148b_row3_col22\" class=\"data row3 col22\" >60848.000000</td>\n",
       "      <td id=\"T_4148b_row3_col23\" class=\"data row3 col23\" >310.000000</td>\n",
       "      <td id=\"T_4148b_row3_col24\" class=\"data row3 col24\" >142.000000</td>\n",
       "      <td id=\"T_4148b_row3_col25\" class=\"data row3 col25\" >0.000000</td>\n",
       "      <td id=\"T_4148b_row3_col26\" class=\"data row3 col26\" >0.000000</td>\n",
       "      <td id=\"T_4148b_row3_col27\" class=\"data row3 col27\" >100.000000</td>\n",
       "      <td id=\"T_4148b_row3_col28\" class=\"data row3 col28\" >160.000000</td>\n",
       "      <td id=\"T_4148b_row3_col29\" class=\"data row3 col29\" >80.000000</td>\n",
       "      <td id=\"T_4148b_row3_col30\" class=\"data row3 col30\" >95.000000</td>\n",
       "      <td id=\"T_4148b_row3_col31\" class=\"data row3 col31\" >0.000000</td>\n",
       "      <td id=\"T_4148b_row3_col32\" class=\"data row3 col32\" >0.000000</td>\n",
       "      <td id=\"T_4148b_row3_col33\" class=\"data row3 col33\" >170.000000</td>\n",
       "      <td id=\"T_4148b_row3_col34\" class=\"data row3 col34\" >1042.000000</td>\n",
       "      <td id=\"T_4148b_row3_col35\" class=\"data row3 col35\" >100.000000</td>\n",
       "      <td id=\"T_4148b_row3_col36\" class=\"data row3 col36\" >1185.000000</td>\n",
       "      <td id=\"T_4148b_row3_col37\" class=\"data row3 col37\" >100.000000</td>\n",
       "      <td id=\"T_4148b_row3_col38\" class=\"data row3 col38\" >2252.000000</td>\n",
       "      <td id=\"T_4148b_row3_col39\" class=\"data row3 col39\" >340.000000</td>\n",
       "      <td id=\"T_4148b_row3_col40\" class=\"data row3 col40\" >7711.000000</td>\n",
       "      <td id=\"T_4148b_row3_col41\" class=\"data row3 col41\" >20.000000</td>\n",
       "      <td id=\"T_4148b_row3_col42\" class=\"data row3 col42\" >0.000000</td>\n",
       "      <td id=\"T_4148b_row3_col43\" class=\"data row3 col43\" >0.000000</td>\n",
       "      <td id=\"T_4148b_row3_col44\" class=\"data row3 col44\" >270.000000</td>\n",
       "      <td id=\"T_4148b_row3_col45\" class=\"data row3 col45\" >3968.000000</td>\n",
       "      <td id=\"T_4148b_row3_col46\" class=\"data row3 col46\" >20.000000</td>\n",
       "      <td id=\"T_4148b_row3_col47\" class=\"data row3 col47\" >526.000000</td>\n",
       "      <td id=\"T_4148b_row3_col48\" class=\"data row3 col48\" >40.000000</td>\n",
       "      <td id=\"T_4148b_row3_col49\" class=\"data row3 col49\" >113.000000</td>\n",
       "      <td id=\"T_4148b_row3_col50\" class=\"data row3 col50\" >180.000000</td>\n",
       "      <td id=\"T_4148b_row3_col51\" class=\"data row3 col51\" >376.000000</td>\n",
       "      <td id=\"T_4148b_row3_col52\" class=\"data row3 col52\" >0.000000</td>\n",
       "      <td id=\"T_4148b_row3_col53\" class=\"data row3 col53\" >0.000000</td>\n",
       "      <td id=\"T_4148b_row3_col54\" class=\"data row3 col54\" >0.000000</td>\n",
       "      <td id=\"T_4148b_row3_col55\" class=\"data row3 col55\" >0.000000</td>\n",
       "      <td id=\"T_4148b_row3_col56\" class=\"data row3 col56\" >0.000000</td>\n",
       "      <td id=\"T_4148b_row3_col57\" class=\"data row3 col57\" >0.000000</td>\n",
       "      <td id=\"T_4148b_row3_col58\" class=\"data row3 col58\" >0.000000</td>\n",
       "      <td id=\"T_4148b_row3_col59\" class=\"data row3 col59\" >0.000000</td>\n",
       "      <td id=\"T_4148b_row3_col60\" class=\"data row3 col60\" >0.000000</td>\n",
       "      <td id=\"T_4148b_row3_col61\" class=\"data row3 col61\" >0.000000</td>\n",
       "      <td id=\"T_4148b_row3_col62\" class=\"data row3 col62\" >1220.000000</td>\n",
       "      <td id=\"T_4148b_row3_col63\" class=\"data row3 col63\" >24061.000000</td>\n",
       "      <td id=\"T_4148b_row3_col64\" class=\"data row3 col64\" >1220.000000</td>\n",
       "      <td id=\"T_4148b_row3_col65\" class=\"data row3 col65\" >23511.000000</td>\n",
       "      <td id=\"T_4148b_row3_col66\" class=\"data row3 col66\" >270.000000</td>\n",
       "      <td id=\"T_4148b_row3_col67\" class=\"data row3 col67\" >550.000000</td>\n",
       "      <td id=\"T_4148b_row3_col68\" class=\"data row3 col68\" >40.000000</td>\n",
       "      <td id=\"T_4148b_row3_col69\" class=\"data row3 col69\" >1078.000000</td>\n",
       "      <td id=\"T_4148b_row3_col70\" class=\"data row3 col70\" >6623.000000</td>\n",
       "      <td id=\"T_4148b_row3_col71\" class=\"data row3 col71\" >0.000000</td>\n",
       "      <td id=\"T_4148b_row3_col72\" class=\"data row3 col72\" >0.000000</td>\n",
       "      <td id=\"T_4148b_row3_col73\" class=\"data row3 col73\" >40.000000</td>\n",
       "      <td id=\"T_4148b_row3_col74\" class=\"data row3 col74\" >245.000000</td>\n",
       "      <td id=\"T_4148b_row3_col75\" class=\"data row3 col75\" >0.000000</td>\n",
       "      <td id=\"T_4148b_row3_col76\" class=\"data row3 col76\" >0.000000</td>\n",
       "      <td id=\"T_4148b_row3_col77\" class=\"data row3 col77\" >30.000000</td>\n",
       "      <td id=\"T_4148b_row3_col78\" class=\"data row3 col78\" >34.000000</td>\n",
       "      <td id=\"T_4148b_row3_col79\" class=\"data row3 col79\" >30.000000</td>\n",
       "      <td id=\"T_4148b_row3_col80\" class=\"data row3 col80\" >15.000000</td>\n",
       "      <td id=\"T_4148b_row3_col81\" class=\"data row3 col81\" >40.000000</td>\n",
       "      <td id=\"T_4148b_row3_col82\" class=\"data row3 col82\" >238.000000</td>\n",
       "      <td id=\"T_4148b_row3_col83\" class=\"data row3 col83\" >40.000000</td>\n",
       "      <td id=\"T_4148b_row3_col84\" class=\"data row3 col84\" >238.000000</td>\n",
       "      <td id=\"T_4148b_row3_col85\" class=\"data row3 col85\" >20.000000</td>\n",
       "      <td id=\"T_4148b_row3_col86\" class=\"data row3 col86\" >118.000000</td>\n",
       "      <td id=\"T_4148b_row3_col87\" class=\"data row3 col87\" >0.000000</td>\n",
       "      <td id=\"T_4148b_row3_col88\" class=\"data row3 col88\" >0.000000</td>\n",
       "      <td id=\"T_4148b_row3_col89\" class=\"data row3 col89\" >0.000000</td>\n",
       "      <td id=\"T_4148b_row3_col90\" class=\"data row3 col90\" >0.000000</td>\n",
       "      <td id=\"T_4148b_row3_col91\" class=\"data row3 col91\" >0.000000</td>\n",
       "      <td id=\"T_4148b_row3_col92\" class=\"data row3 col92\" >0.000000</td>\n",
       "      <td id=\"T_4148b_row3_col93\" class=\"data row3 col93\" >30.000000</td>\n",
       "      <td id=\"T_4148b_row3_col94\" class=\"data row3 col94\" >344.000000</td>\n",
       "      <td id=\"T_4148b_row3_col95\" class=\"data row3 col95\" >0.000000</td>\n",
       "      <td id=\"T_4148b_row3_col96\" class=\"data row3 col96\" >0.000000</td>\n",
       "      <td id=\"T_4148b_row3_col97\" class=\"data row3 col97\" >100.000000</td>\n",
       "      <td id=\"T_4148b_row3_col98\" class=\"data row3 col98\" >388.000000</td>\n",
       "      <td id=\"T_4148b_row3_col99\" class=\"data row3 col99\" >1030.000000</td>\n",
       "      <td id=\"T_4148b_row3_col100\" class=\"data row3 col100\" >56985.000000</td>\n",
       "      <td id=\"T_4148b_row3_col101\" class=\"data row3 col101\" >1030.000000</td>\n",
       "      <td id=\"T_4148b_row3_col102\" class=\"data row3 col102\" >8243.000000</td>\n",
       "      <td id=\"T_4148b_row3_col103\" class=\"data row3 col103\" >0.000000</td>\n",
       "      <td id=\"T_4148b_row3_col104\" class=\"data row3 col104\" >0.000000</td>\n",
       "      <td id=\"T_4148b_row3_col105\" class=\"data row3 col105\" >30.000000</td>\n",
       "      <td id=\"T_4148b_row3_col106\" class=\"data row3 col106\" >15.000000</td>\n",
       "      <td id=\"T_4148b_row3_col107\" class=\"data row3 col107\" >440.000000</td>\n",
       "      <td id=\"T_4148b_row3_col108\" class=\"data row3 col108\" >898.000000</td>\n",
       "      <td id=\"T_4148b_row3_col109\" class=\"data row3 col109\" >0.000000</td>\n",
       "      <td id=\"T_4148b_row3_col110\" class=\"data row3 col110\" >0.000000</td>\n",
       "      <td id=\"T_4148b_row3_col111\" class=\"data row3 col111\" >0.000000</td>\n",
       "      <td id=\"T_4148b_row3_col112\" class=\"data row3 col112\" >0.000000</td>\n",
       "      <td id=\"T_4148b_row3_col113\" class=\"data row3 col113\" >70.000000</td>\n",
       "      <td id=\"T_4148b_row3_col114\" class=\"data row3 col114\" >75.000000</td>\n",
       "      <td id=\"T_4148b_row3_col115\" class=\"data row3 col115\" >100.000000</td>\n",
       "      <td id=\"T_4148b_row3_col116\" class=\"data row3 col116\" >18.000000</td>\n",
       "      <td id=\"T_4148b_row3_col117\" class=\"data row3 col117\" >330.000000</td>\n",
       "      <td id=\"T_4148b_row3_col118\" class=\"data row3 col118\" >742.000000</td>\n",
       "      <td id=\"T_4148b_row3_col119\" class=\"data row3 col119\" >20.000000</td>\n",
       "      <td id=\"T_4148b_row3_col120\" class=\"data row3 col120\" >19.000000</td>\n",
       "      <td id=\"T_4148b_row3_col121\" class=\"data row3 col121\" >110.000000</td>\n",
       "      <td id=\"T_4148b_row3_col122\" class=\"data row3 col122\" >179.000000</td>\n",
       "      <td id=\"T_4148b_row3_col123\" class=\"data row3 col123\" >60.000000</td>\n",
       "      <td id=\"T_4148b_row3_col124\" class=\"data row3 col124\" >707.000000</td>\n",
       "      <td id=\"T_4148b_row3_col125\" class=\"data row3 col125\" >70.000000</td>\n",
       "      <td id=\"T_4148b_row3_col126\" class=\"data row3 col126\" >719.000000</td>\n",
       "      <td id=\"T_4148b_row3_col127\" class=\"data row3 col127\" >1200.000000</td>\n",
       "      <td id=\"T_4148b_row3_col128\" class=\"data row3 col128\" >9369.000000</td>\n",
       "      <td id=\"T_4148b_row3_col129\" class=\"data row3 col129\" >200.000000</td>\n",
       "      <td id=\"T_4148b_row3_col130\" class=\"data row3 col130\" >491.000000</td>\n",
       "      <td id=\"T_4148b_row3_col131\" class=\"data row3 col131\" >60.000000</td>\n",
       "      <td id=\"T_4148b_row3_col132\" class=\"data row3 col132\" >25.000000</td>\n",
       "      <td id=\"T_4148b_row3_col133\" class=\"data row3 col133\" >70.000000</td>\n",
       "      <td id=\"T_4148b_row3_col134\" class=\"data row3 col134\" >173.000000</td>\n",
       "      <td id=\"T_4148b_row3_col135\" class=\"data row3 col135\" >50.000000</td>\n",
       "      <td id=\"T_4148b_row3_col136\" class=\"data row3 col136\" >176.000000</td>\n",
       "      <td id=\"T_4148b_row3_col137\" class=\"data row3 col137\" >20.000000</td>\n",
       "      <td id=\"T_4148b_row3_col138\" class=\"data row3 col138\" >111.000000</td>\n",
       "      <td id=\"T_4148b_row3_col139\" class=\"data row3 col139\" >170.000000</td>\n",
       "      <td id=\"T_4148b_row3_col140\" class=\"data row3 col140\" >428.000000</td>\n",
       "      <td id=\"T_4148b_row3_col141\" class=\"data row3 col141\" >130.000000</td>\n",
       "      <td id=\"T_4148b_row3_col142\" class=\"data row3 col142\" >261.000000</td>\n",
       "      <td id=\"T_4148b_row3_col143\" class=\"data row3 col143\" >50.000000</td>\n",
       "      <td id=\"T_4148b_row3_col144\" class=\"data row3 col144\" >42.000000</td>\n",
       "      <td id=\"T_4148b_row3_col145\" class=\"data row3 col145\" >0.000000</td>\n",
       "      <td id=\"T_4148b_row3_col146\" class=\"data row3 col146\" >0.000000</td>\n",
       "      <td id=\"T_4148b_row3_col147\" class=\"data row3 col147\" >910.000000</td>\n",
       "      <td id=\"T_4148b_row3_col148\" class=\"data row3 col148\" >7346.000000</td>\n",
       "      <td id=\"T_4148b_row3_col149\" class=\"data row3 col149\" >960.000000</td>\n",
       "      <td id=\"T_4148b_row3_col150\" class=\"data row3 col150\" >7712.000000</td>\n",
       "      <td id=\"T_4148b_row3_col151\" class=\"data row3 col151\" >0.000000</td>\n",
       "      <td id=\"T_4148b_row3_col152\" class=\"data row3 col152\" >0.000000</td>\n",
       "      <td id=\"T_4148b_row3_col153\" class=\"data row3 col153\" >0.000000</td>\n",
       "      <td id=\"T_4148b_row3_col154\" class=\"data row3 col154\" >0.000000</td>\n",
       "      <td id=\"T_4148b_row3_col155\" class=\"data row3 col155\" >290.000000</td>\n",
       "      <td id=\"T_4148b_row3_col156\" class=\"data row3 col156\" >815.000000</td>\n",
       "      <td id=\"T_4148b_row3_col157\" class=\"data row3 col157\" >930.000000</td>\n",
       "      <td id=\"T_4148b_row3_col158\" class=\"data row3 col158\" >2749.000000</td>\n",
       "      <td id=\"T_4148b_row3_col159\" class=\"data row3 col159\" >930.000000</td>\n",
       "      <td id=\"T_4148b_row3_col160\" class=\"data row3 col160\" >2623.000000</td>\n",
       "      <td id=\"T_4148b_row3_col161\" class=\"data row3 col161\" >0.000000</td>\n",
       "      <td id=\"T_4148b_row3_col162\" class=\"data row3 col162\" >0.000000</td>\n",
       "    </tr>\n",
       "    <tr>\n",
       "      <th id=\"T_4148b_level0_row4\" class=\"row_heading level0 row4\" >4</th>\n",
       "      <td id=\"T_4148b_row4_col0\" class=\"data row4 col0\" >AL</td>\n",
       "      <td id=\"T_4148b_row4_col1\" class=\"data row4 col1\" >35007</td>\n",
       "      <td id=\"T_4148b_row4_col2\" class=\"data row4 col2\" >12540.000000</td>\n",
       "      <td id=\"T_4148b_row4_col3\" class=\"data row4 col3\" >5470.000000</td>\n",
       "      <td id=\"T_4148b_row4_col4\" class=\"data row4 col4\" >4950.000000</td>\n",
       "      <td id=\"T_4148b_row4_col5\" class=\"data row4 col5\" >1780.000000</td>\n",
       "      <td id=\"T_4148b_row4_col6\" class=\"data row4 col6\" >11590.000000</td>\n",
       "      <td id=\"T_4148b_row4_col7\" class=\"data row4 col7\" >530.000000</td>\n",
       "      <td id=\"T_4148b_row4_col8\" class=\"data row4 col8\" >6020.000000</td>\n",
       "      <td id=\"T_4148b_row4_col9\" class=\"data row4 col9\" >7680.000000</td>\n",
       "      <td id=\"T_4148b_row4_col10\" class=\"data row4 col10\" >140.000000</td>\n",
       "      <td id=\"T_4148b_row4_col11\" class=\"data row4 col11\" >24900.000000</td>\n",
       "      <td id=\"T_4148b_row4_col12\" class=\"data row4 col12\" >180.000000</td>\n",
       "      <td id=\"T_4148b_row4_col13\" class=\"data row4 col13\" >70.000000</td>\n",
       "      <td id=\"T_4148b_row4_col14\" class=\"data row4 col14\" >110.000000</td>\n",
       "      <td id=\"T_4148b_row4_col15\" class=\"data row4 col15\" >0.000000</td>\n",
       "      <td id=\"T_4148b_row4_col16\" class=\"data row4 col16\" >1970.000000</td>\n",
       "      <td id=\"T_4148b_row4_col17\" class=\"data row4 col17\" >2870.000000</td>\n",
       "      <td id=\"T_4148b_row4_col18\" class=\"data row4 col18\" >859156.000000</td>\n",
       "      <td id=\"T_4148b_row4_col19\" class=\"data row4 col19\" >12540.000000</td>\n",
       "      <td id=\"T_4148b_row4_col20\" class=\"data row4 col20\" >866003.000000</td>\n",
       "      <td id=\"T_4148b_row4_col21\" class=\"data row4 col21\" >10180.000000</td>\n",
       "      <td id=\"T_4148b_row4_col22\" class=\"data row4 col22\" >659206.000000</td>\n",
       "      <td id=\"T_4148b_row4_col23\" class=\"data row4 col23\" >3110.000000</td>\n",
       "      <td id=\"T_4148b_row4_col24\" class=\"data row4 col24\" >2221.000000</td>\n",
       "      <td id=\"T_4148b_row4_col25\" class=\"data row4 col25\" >220.000000</td>\n",
       "      <td id=\"T_4148b_row4_col26\" class=\"data row4 col26\" >0.000000</td>\n",
       "      <td id=\"T_4148b_row4_col27\" class=\"data row4 col27\" >1790.000000</td>\n",
       "      <td id=\"T_4148b_row4_col28\" class=\"data row4 col28\" >5485.000000</td>\n",
       "      <td id=\"T_4148b_row4_col29\" class=\"data row4 col29\" >1610.000000</td>\n",
       "      <td id=\"T_4148b_row4_col30\" class=\"data row4 col30\" >3929.000000</td>\n",
       "      <td id=\"T_4148b_row4_col31\" class=\"data row4 col31\" >410.000000</td>\n",
       "      <td id=\"T_4148b_row4_col32\" class=\"data row4 col32\" >517.000000</td>\n",
       "      <td id=\"T_4148b_row4_col33\" class=\"data row4 col33\" >2810.000000</td>\n",
       "      <td id=\"T_4148b_row4_col34\" class=\"data row4 col34\" >29949.000000</td>\n",
       "      <td id=\"T_4148b_row4_col35\" class=\"data row4 col35\" >1510.000000</td>\n",
       "      <td id=\"T_4148b_row4_col36\" class=\"data row4 col36\" >17983.000000</td>\n",
       "      <td id=\"T_4148b_row4_col37\" class=\"data row4 col37\" >1190.000000</td>\n",
       "      <td id=\"T_4148b_row4_col38\" class=\"data row4 col38\" >24171.000000</td>\n",
       "      <td id=\"T_4148b_row4_col39\" class=\"data row4 col39\" >2190.000000</td>\n",
       "      <td id=\"T_4148b_row4_col40\" class=\"data row4 col40\" >56924.000000</td>\n",
       "      <td id=\"T_4148b_row4_col41\" class=\"data row4 col41\" >30.000000</td>\n",
       "      <td id=\"T_4148b_row4_col42\" class=\"data row4 col42\" >110.000000</td>\n",
       "      <td id=\"T_4148b_row4_col43\" class=\"data row4 col43\" >320.000000</td>\n",
       "      <td id=\"T_4148b_row4_col44\" class=\"data row4 col44\" >1830.000000</td>\n",
       "      <td id=\"T_4148b_row4_col45\" class=\"data row4 col45\" >32394.000000</td>\n",
       "      <td id=\"T_4148b_row4_col46\" class=\"data row4 col46\" >500.000000</td>\n",
       "      <td id=\"T_4148b_row4_col47\" class=\"data row4 col47\" >26582.000000</td>\n",
       "      <td id=\"T_4148b_row4_col48\" class=\"data row4 col48\" >320.000000</td>\n",
       "      <td id=\"T_4148b_row4_col49\" class=\"data row4 col49\" >1297.000000</td>\n",
       "      <td id=\"T_4148b_row4_col50\" class=\"data row4 col50\" >3090.000000</td>\n",
       "      <td id=\"T_4148b_row4_col51\" class=\"data row4 col51\" >6847.000000</td>\n",
       "      <td id=\"T_4148b_row4_col52\" class=\"data row4 col52\" >350.000000</td>\n",
       "      <td id=\"T_4148b_row4_col53\" class=\"data row4 col53\" >100.000000</td>\n",
       "      <td id=\"T_4148b_row4_col54\" class=\"data row4 col54\" >0.000000</td>\n",
       "      <td id=\"T_4148b_row4_col55\" class=\"data row4 col55\" >0.000000</td>\n",
       "      <td id=\"T_4148b_row4_col56\" class=\"data row4 col56\" >220.000000</td>\n",
       "      <td id=\"T_4148b_row4_col57\" class=\"data row4 col57\" >1747.000000</td>\n",
       "      <td id=\"T_4148b_row4_col58\" class=\"data row4 col58\" >140.000000</td>\n",
       "      <td id=\"T_4148b_row4_col59\" class=\"data row4 col59\" >524.000000</td>\n",
       "      <td id=\"T_4148b_row4_col60\" class=\"data row4 col60\" >430.000000</td>\n",
       "      <td id=\"T_4148b_row4_col61\" class=\"data row4 col61\" >435.000000</td>\n",
       "      <td id=\"T_4148b_row4_col62\" class=\"data row4 col62\" >11630.000000</td>\n",
       "      <td id=\"T_4148b_row4_col63\" class=\"data row4 col63\" >220299.000000</td>\n",
       "      <td id=\"T_4148b_row4_col64\" class=\"data row4 col64\" >11630.000000</td>\n",
       "      <td id=\"T_4148b_row4_col65\" class=\"data row4 col65\" >216141.000000</td>\n",
       "      <td id=\"T_4148b_row4_col66\" class=\"data row4 col66\" >1950.000000</td>\n",
       "      <td id=\"T_4148b_row4_col67\" class=\"data row4 col67\" >4158.000000</td>\n",
       "      <td id=\"T_4148b_row4_col68\" class=\"data row4 col68\" >910.000000</td>\n",
       "      <td id=\"T_4148b_row4_col69\" class=\"data row4 col69\" >33413.000000</td>\n",
       "      <td id=\"T_4148b_row4_col70\" class=\"data row4 col70\" >138613.000000</td>\n",
       "      <td id=\"T_4148b_row4_col71\" class=\"data row4 col71\" >290.000000</td>\n",
       "      <td id=\"T_4148b_row4_col72\" class=\"data row4 col72\" >4314.000000</td>\n",
       "      <td id=\"T_4148b_row4_col73\" class=\"data row4 col73\" >740.000000</td>\n",
       "      <td id=\"T_4148b_row4_col74\" class=\"data row4 col74\" >4923.000000</td>\n",
       "      <td id=\"T_4148b_row4_col75\" class=\"data row4 col75\" >140.000000</td>\n",
       "      <td id=\"T_4148b_row4_col76\" class=\"data row4 col76\" >355.000000</td>\n",
       "      <td id=\"T_4148b_row4_col77\" class=\"data row4 col77\" >730.000000</td>\n",
       "      <td id=\"T_4148b_row4_col78\" class=\"data row4 col78\" >1493.000000</td>\n",
       "      <td id=\"T_4148b_row4_col79\" class=\"data row4 col79\" >630.000000</td>\n",
       "      <td id=\"T_4148b_row4_col80\" class=\"data row4 col80\" >507.000000</td>\n",
       "      <td id=\"T_4148b_row4_col81\" class=\"data row4 col81\" >910.000000</td>\n",
       "      <td id=\"T_4148b_row4_col82\" class=\"data row4 col82\" >5892.000000</td>\n",
       "      <td id=\"T_4148b_row4_col83\" class=\"data row4 col83\" >910.000000</td>\n",
       "      <td id=\"T_4148b_row4_col84\" class=\"data row4 col84\" >5940.000000</td>\n",
       "      <td id=\"T_4148b_row4_col85\" class=\"data row4 col85\" >700.000000</td>\n",
       "      <td id=\"T_4148b_row4_col86\" class=\"data row4 col86\" >5632.000000</td>\n",
       "      <td id=\"T_4148b_row4_col87\" class=\"data row4 col87\" >0.000000</td>\n",
       "      <td id=\"T_4148b_row4_col88\" class=\"data row4 col88\" >0.000000</td>\n",
       "      <td id=\"T_4148b_row4_col89\" class=\"data row4 col89\" >30.000000</td>\n",
       "      <td id=\"T_4148b_row4_col90\" class=\"data row4 col90\" >20.000000</td>\n",
       "      <td id=\"T_4148b_row4_col91\" class=\"data row4 col91\" >0.000000</td>\n",
       "      <td id=\"T_4148b_row4_col92\" class=\"data row4 col92\" >0.000000</td>\n",
       "      <td id=\"T_4148b_row4_col93\" class=\"data row4 col93\" >810.000000</td>\n",
       "      <td id=\"T_4148b_row4_col94\" class=\"data row4 col94\" >10066.000000</td>\n",
       "      <td id=\"T_4148b_row4_col95\" class=\"data row4 col95\" >60.000000</td>\n",
       "      <td id=\"T_4148b_row4_col96\" class=\"data row4 col96\" >1977.000000</td>\n",
       "      <td id=\"T_4148b_row4_col97\" class=\"data row4 col97\" >1740.000000</td>\n",
       "      <td id=\"T_4148b_row4_col98\" class=\"data row4 col98\" >9129.000000</td>\n",
       "      <td id=\"T_4148b_row4_col99\" class=\"data row4 col99\" >10080.000000</td>\n",
       "      <td id=\"T_4148b_row4_col100\" class=\"data row4 col100\" >611979.000000</td>\n",
       "      <td id=\"T_4148b_row4_col101\" class=\"data row4 col101\" >10110.000000</td>\n",
       "      <td id=\"T_4148b_row4_col102\" class=\"data row4 col102\" >90708.000000</td>\n",
       "      <td id=\"T_4148b_row4_col103\" class=\"data row4 col103\" >0.000000</td>\n",
       "      <td id=\"T_4148b_row4_col104\" class=\"data row4 col104\" >0.000000</td>\n",
       "      <td id=\"T_4148b_row4_col105\" class=\"data row4 col105\" >440.000000</td>\n",
       "      <td id=\"T_4148b_row4_col106\" class=\"data row4 col106\" >558.000000</td>\n",
       "      <td id=\"T_4148b_row4_col107\" class=\"data row4 col107\" >4970.000000</td>\n",
       "      <td id=\"T_4148b_row4_col108\" class=\"data row4 col108\" >11041.000000</td>\n",
       "      <td id=\"T_4148b_row4_col109\" class=\"data row4 col109\" >430.000000</td>\n",
       "      <td id=\"T_4148b_row4_col110\" class=\"data row4 col110\" >38.000000</td>\n",
       "      <td id=\"T_4148b_row4_col111\" class=\"data row4 col111\" >770.000000</td>\n",
       "      <td id=\"T_4148b_row4_col112\" class=\"data row4 col112\" >462.000000</td>\n",
       "      <td id=\"T_4148b_row4_col113\" class=\"data row4 col113\" >760.000000</td>\n",
       "      <td id=\"T_4148b_row4_col114\" class=\"data row4 col114\" >844.000000</td>\n",
       "      <td id=\"T_4148b_row4_col115\" class=\"data row4 col115\" >730.000000</td>\n",
       "      <td id=\"T_4148b_row4_col116\" class=\"data row4 col116\" >141.000000</td>\n",
       "      <td id=\"T_4148b_row4_col117\" class=\"data row4 col117\" >3770.000000</td>\n",
       "      <td id=\"T_4148b_row4_col118\" class=\"data row4 col118\" >8623.000000</td>\n",
       "      <td id=\"T_4148b_row4_col119\" class=\"data row4 col119\" >320.000000</td>\n",
       "      <td id=\"T_4148b_row4_col120\" class=\"data row4 col120\" >575.000000</td>\n",
       "      <td id=\"T_4148b_row4_col121\" class=\"data row4 col121\" >2100.000000</td>\n",
       "      <td id=\"T_4148b_row4_col122\" class=\"data row4 col122\" >5760.000000</td>\n",
       "      <td id=\"T_4148b_row4_col123\" class=\"data row4 col123\" >700.000000</td>\n",
       "      <td id=\"T_4148b_row4_col124\" class=\"data row4 col124\" >5497.000000</td>\n",
       "      <td id=\"T_4148b_row4_col125\" class=\"data row4 col125\" >740.000000</td>\n",
       "      <td id=\"T_4148b_row4_col126\" class=\"data row4 col126\" >6159.000000</td>\n",
       "      <td id=\"T_4148b_row4_col127\" class=\"data row4 col127\" >11690.000000</td>\n",
       "      <td id=\"T_4148b_row4_col128\" class=\"data row4 col128\" >96690.000000</td>\n",
       "      <td id=\"T_4148b_row4_col129\" class=\"data row4 col129\" >1710.000000</td>\n",
       "      <td id=\"T_4148b_row4_col130\" class=\"data row4 col130\" >4523.000000</td>\n",
       "      <td id=\"T_4148b_row4_col131\" class=\"data row4 col131\" >420.000000</td>\n",
       "      <td id=\"T_4148b_row4_col132\" class=\"data row4 col132\" >170.000000</td>\n",
       "      <td id=\"T_4148b_row4_col133\" class=\"data row4 col133\" >620.000000</td>\n",
       "      <td id=\"T_4148b_row4_col134\" class=\"data row4 col134\" >1546.000000</td>\n",
       "      <td id=\"T_4148b_row4_col135\" class=\"data row4 col135\" >430.000000</td>\n",
       "      <td id=\"T_4148b_row4_col136\" class=\"data row4 col136\" >1722.000000</td>\n",
       "      <td id=\"T_4148b_row4_col137\" class=\"data row4 col137\" >250.000000</td>\n",
       "      <td id=\"T_4148b_row4_col138\" class=\"data row4 col138\" >1085.000000</td>\n",
       "      <td id=\"T_4148b_row4_col139\" class=\"data row4 col139\" >1440.000000</td>\n",
       "      <td id=\"T_4148b_row4_col140\" class=\"data row4 col140\" >3702.000000</td>\n",
       "      <td id=\"T_4148b_row4_col141\" class=\"data row4 col141\" >1560.000000</td>\n",
       "      <td id=\"T_4148b_row4_col142\" class=\"data row4 col142\" >2996.000000</td>\n",
       "      <td id=\"T_4148b_row4_col143\" class=\"data row4 col143\" >650.000000</td>\n",
       "      <td id=\"T_4148b_row4_col144\" class=\"data row4 col144\" >570.000000</td>\n",
       "      <td id=\"T_4148b_row4_col145\" class=\"data row4 col145\" >190.000000</td>\n",
       "      <td id=\"T_4148b_row4_col146\" class=\"data row4 col146\" >168.000000</td>\n",
       "      <td id=\"T_4148b_row4_col147\" class=\"data row4 col147\" >8830.000000</td>\n",
       "      <td id=\"T_4148b_row4_col148\" class=\"data row4 col148\" >79665.000000</td>\n",
       "      <td id=\"T_4148b_row4_col149\" class=\"data row4 col149\" >9920.000000</td>\n",
       "      <td id=\"T_4148b_row4_col150\" class=\"data row4 col150\" >86560.000000</td>\n",
       "      <td id=\"T_4148b_row4_col151\" class=\"data row4 col151\" >180.000000</td>\n",
       "      <td id=\"T_4148b_row4_col152\" class=\"data row4 col152\" >136.000000</td>\n",
       "      <td id=\"T_4148b_row4_col153\" class=\"data row4 col153\" >170.000000</td>\n",
       "      <td id=\"T_4148b_row4_col154\" class=\"data row4 col154\" >383.000000</td>\n",
       "      <td id=\"T_4148b_row4_col155\" class=\"data row4 col155\" >3770.000000</td>\n",
       "      <td id=\"T_4148b_row4_col156\" class=\"data row4 col156\" >13618.000000</td>\n",
       "      <td id=\"T_4148b_row4_col157\" class=\"data row4 col157\" >8400.000000</td>\n",
       "      <td id=\"T_4148b_row4_col158\" class=\"data row4 col158\" >23549.000000</td>\n",
       "      <td id=\"T_4148b_row4_col159\" class=\"data row4 col159\" >8300.000000</td>\n",
       "      <td id=\"T_4148b_row4_col160\" class=\"data row4 col160\" >22506.000000</td>\n",
       "      <td id=\"T_4148b_row4_col161\" class=\"data row4 col161\" >120.000000</td>\n",
       "      <td id=\"T_4148b_row4_col162\" class=\"data row4 col162\" >705.000000</td>\n",
       "    </tr>\n",
       "  </tbody>\n",
       "</table>\n"
      ],
      "text/plain": [
       "<pandas.io.formats.style.Styler at 0x1b67b8344d0>"
      ]
     },
     "execution_count": 9,
     "metadata": {},
     "output_type": "execute_result"
    }
   ],
   "source": [
    "df.head().style.set_properties(\n",
    "    **{'background-color': 'black',\n",
    "       'color': 'white',\n",
    "       'border-color': 'black',\n",
    "       'border-style': 'solid',\n",
    "       'border-width': '2px'})"
   ]
  },
  {
   "cell_type": "code",
   "execution_count": null,
   "metadata": {},
   "outputs": [
    {
     "name": "stdout",
     "output_type": "stream",
     "text": [
      "<class 'pandas.core.frame.DataFrame'>\n",
      "RangeIndex: 27690 entries, 0 to 27689\n",
      "Columns: 163 entries, STATE to A12000\n",
      "dtypes: float64(161), int64(1), object(1)\n",
      "memory usage: 34.4+ MB\n"
     ]
    },
    {
     "data": {
      "text/html": [
       "<div>\n",
       "<style scoped>\n",
       "    .dataframe tbody tr th:only-of-type {\n",
       "        vertical-align: middle;\n",
       "    }\n",
       "\n",
       "    .dataframe tbody tr th {\n",
       "        vertical-align: top;\n",
       "    }\n",
       "\n",
       "    .dataframe thead th {\n",
       "        text-align: right;\n",
       "    }\n",
       "</style>\n",
       "<table border=\"1\" class=\"dataframe\">\n",
       "  <thead>\n",
       "    <tr style=\"text-align: right;\">\n",
       "      <th></th>\n",
       "      <th>ZIPCODE</th>\n",
       "      <th>N1</th>\n",
       "      <th>MARS1</th>\n",
       "      <th>MARS2</th>\n",
       "      <th>MARS4</th>\n",
       "      <th>ELF</th>\n",
       "      <th>CPREP</th>\n",
       "      <th>PREP</th>\n",
       "      <th>DIR_DEP</th>\n",
       "      <th>VRTCRIND</th>\n",
       "      <th>...</th>\n",
       "      <th>N85300</th>\n",
       "      <th>A85300</th>\n",
       "      <th>N11901</th>\n",
       "      <th>A11901</th>\n",
       "      <th>N11900</th>\n",
       "      <th>A11900</th>\n",
       "      <th>N11902</th>\n",
       "      <th>A11902</th>\n",
       "      <th>N12000</th>\n",
       "      <th>A12000</th>\n",
       "    </tr>\n",
       "  </thead>\n",
       "  <tbody>\n",
       "    <tr>\n",
       "      <th>count</th>\n",
       "      <td>27690.000000</td>\n",
       "      <td>2.769000e+04</td>\n",
       "      <td>2.769000e+04</td>\n",
       "      <td>2.769000e+04</td>\n",
       "      <td>2.769000e+04</td>\n",
       "      <td>2.769000e+04</td>\n",
       "      <td>27690.000000</td>\n",
       "      <td>2.769000e+04</td>\n",
       "      <td>2.769000e+04</td>\n",
       "      <td>27690.000000</td>\n",
       "      <td>...</td>\n",
       "      <td>2.769000e+04</td>\n",
       "      <td>2.769000e+04</td>\n",
       "      <td>2.769000e+04</td>\n",
       "      <td>2.769000e+04</td>\n",
       "      <td>2.769000e+04</td>\n",
       "      <td>2.769000e+04</td>\n",
       "      <td>2.769000e+04</td>\n",
       "      <td>2.769000e+04</td>\n",
       "      <td>27690.000000</td>\n",
       "      <td>2.769000e+04</td>\n",
       "    </tr>\n",
       "    <tr>\n",
       "      <th>mean</th>\n",
       "      <td>48858.400072</td>\n",
       "      <td>1.128220e+04</td>\n",
       "      <td>5.613322e+03</td>\n",
       "      <td>3.884615e+03</td>\n",
       "      <td>1.514654e+03</td>\n",
       "      <td>1.054471e+04</td>\n",
       "      <td>386.500181</td>\n",
       "      <td>5.987664e+03</td>\n",
       "      <td>6.969705e+03</td>\n",
       "      <td>192.140484</td>\n",
       "      <td>...</td>\n",
       "      <td>4.995767e+02</td>\n",
       "      <td>2.565233e+03</td>\n",
       "      <td>2.978981e+03</td>\n",
       "      <td>1.965550e+04</td>\n",
       "      <td>7.940185e+03</td>\n",
       "      <td>3.361329e+04</td>\n",
       "      <td>7.702365e+03</td>\n",
       "      <td>2.472870e+04</td>\n",
       "      <td>298.995666</td>\n",
       "      <td>8.434041e+03</td>\n",
       "    </tr>\n",
       "    <tr>\n",
       "      <th>std</th>\n",
       "      <td>27166.093801</td>\n",
       "      <td>1.974932e+05</td>\n",
       "      <td>9.903396e+04</td>\n",
       "      <td>6.664579e+04</td>\n",
       "      <td>2.771442e+04</td>\n",
       "      <td>1.841635e+05</td>\n",
       "      <td>7327.389445</td>\n",
       "      <td>1.103158e+05</td>\n",
       "      <td>1.206072e+05</td>\n",
       "      <td>3757.391827</td>\n",
       "      <td>...</td>\n",
       "      <td>1.021447e+04</td>\n",
       "      <td>5.972000e+04</td>\n",
       "      <td>5.458788e+04</td>\n",
       "      <td>4.348131e+05</td>\n",
       "      <td>1.373557e+05</td>\n",
       "      <td>6.226678e+05</td>\n",
       "      <td>1.332173e+05</td>\n",
       "      <td>4.461964e+05</td>\n",
       "      <td>5288.686696</td>\n",
       "      <td>1.759497e+05</td>\n",
       "    </tr>\n",
       "    <tr>\n",
       "      <th>min</th>\n",
       "      <td>0.000000</td>\n",
       "      <td>9.000000e+01</td>\n",
       "      <td>3.000000e+01</td>\n",
       "      <td>0.000000e+00</td>\n",
       "      <td>0.000000e+00</td>\n",
       "      <td>7.000000e+01</td>\n",
       "      <td>0.000000</td>\n",
       "      <td>0.000000e+00</td>\n",
       "      <td>0.000000e+00</td>\n",
       "      <td>0.000000</td>\n",
       "      <td>...</td>\n",
       "      <td>0.000000e+00</td>\n",
       "      <td>0.000000e+00</td>\n",
       "      <td>0.000000e+00</td>\n",
       "      <td>0.000000e+00</td>\n",
       "      <td>0.000000e+00</td>\n",
       "      <td>0.000000e+00</td>\n",
       "      <td>0.000000e+00</td>\n",
       "      <td>0.000000e+00</td>\n",
       "      <td>0.000000</td>\n",
       "      <td>0.000000e+00</td>\n",
       "    </tr>\n",
       "    <tr>\n",
       "      <th>25%</th>\n",
       "      <td>27020.250000</td>\n",
       "      <td>6.000000e+02</td>\n",
       "      <td>2.700000e+02</td>\n",
       "      <td>2.500000e+02</td>\n",
       "      <td>6.000000e+01</td>\n",
       "      <td>5.700000e+02</td>\n",
       "      <td>0.000000</td>\n",
       "      <td>3.500000e+02</td>\n",
       "      <td>3.700000e+02</td>\n",
       "      <td>0.000000</td>\n",
       "      <td>...</td>\n",
       "      <td>0.000000e+00</td>\n",
       "      <td>0.000000e+00</td>\n",
       "      <td>1.400000e+02</td>\n",
       "      <td>5.810000e+02</td>\n",
       "      <td>4.300000e+02</td>\n",
       "      <td>1.298000e+03</td>\n",
       "      <td>4.200000e+02</td>\n",
       "      <td>1.163000e+03</td>\n",
       "      <td>0.000000</td>\n",
       "      <td>0.000000e+00</td>\n",
       "    </tr>\n",
       "    <tr>\n",
       "      <th>50%</th>\n",
       "      <td>48850.500000</td>\n",
       "      <td>2.030000e+03</td>\n",
       "      <td>9.200000e+02</td>\n",
       "      <td>7.700000e+02</td>\n",
       "      <td>2.200000e+02</td>\n",
       "      <td>1.910000e+03</td>\n",
       "      <td>60.000000</td>\n",
       "      <td>1.100000e+03</td>\n",
       "      <td>1.260000e+03</td>\n",
       "      <td>20.000000</td>\n",
       "      <td>...</td>\n",
       "      <td>3.000000e+01</td>\n",
       "      <td>7.200000e+01</td>\n",
       "      <td>4.700000e+02</td>\n",
       "      <td>2.188000e+03</td>\n",
       "      <td>1.470000e+03</td>\n",
       "      <td>4.848500e+03</td>\n",
       "      <td>1.420000e+03</td>\n",
       "      <td>4.213500e+03</td>\n",
       "      <td>30.000000</td>\n",
       "      <td>2.145000e+02</td>\n",
       "    </tr>\n",
       "    <tr>\n",
       "      <th>75%</th>\n",
       "      <td>70646.500000</td>\n",
       "      <td>8.300000e+03</td>\n",
       "      <td>4.030000e+03</td>\n",
       "      <td>2.720000e+03</td>\n",
       "      <td>9.200000e+02</td>\n",
       "      <td>7.770000e+03</td>\n",
       "      <td>260.000000</td>\n",
       "      <td>4.210000e+03</td>\n",
       "      <td>5.030000e+03</td>\n",
       "      <td>120.000000</td>\n",
       "      <td>...</td>\n",
       "      <td>1.900000e+02</td>\n",
       "      <td>5.520000e+02</td>\n",
       "      <td>2.050000e+03</td>\n",
       "      <td>1.000175e+04</td>\n",
       "      <td>5.850000e+03</td>\n",
       "      <td>2.208075e+04</td>\n",
       "      <td>5.630000e+03</td>\n",
       "      <td>1.790175e+04</td>\n",
       "      <td>160.000000</td>\n",
       "      <td>1.960750e+03</td>\n",
       "    </tr>\n",
       "    <tr>\n",
       "      <th>max</th>\n",
       "      <td>99999.000000</td>\n",
       "      <td>1.814712e+07</td>\n",
       "      <td>9.303430e+06</td>\n",
       "      <td>6.065960e+06</td>\n",
       "      <td>2.449380e+06</td>\n",
       "      <td>1.689141e+07</td>\n",
       "      <td>721420.000000</td>\n",
       "      <td>1.118818e+07</td>\n",
       "      <td>1.019207e+07</td>\n",
       "      <td>404690.000000</td>\n",
       "      <td>...</td>\n",
       "      <td>1.183100e+06</td>\n",
       "      <td>5.825414e+06</td>\n",
       "      <td>5.764760e+06</td>\n",
       "      <td>5.541592e+07</td>\n",
       "      <td>1.183953e+07</td>\n",
       "      <td>5.032621e+07</td>\n",
       "      <td>1.145118e+07</td>\n",
       "      <td>3.748823e+07</td>\n",
       "      <td>490540.000000</td>\n",
       "      <td>1.617950e+07</td>\n",
       "    </tr>\n",
       "  </tbody>\n",
       "</table>\n",
       "<p>8 rows × 162 columns</p>\n",
       "</div>"
      ],
      "text/plain": [
       "            ZIPCODE            N1         MARS1         MARS2         MARS4  \\\n",
       "count  27690.000000  2.769000e+04  2.769000e+04  2.769000e+04  2.769000e+04   \n",
       "mean   48858.400072  1.128220e+04  5.613322e+03  3.884615e+03  1.514654e+03   \n",
       "std    27166.093801  1.974932e+05  9.903396e+04  6.664579e+04  2.771442e+04   \n",
       "min        0.000000  9.000000e+01  3.000000e+01  0.000000e+00  0.000000e+00   \n",
       "25%    27020.250000  6.000000e+02  2.700000e+02  2.500000e+02  6.000000e+01   \n",
       "50%    48850.500000  2.030000e+03  9.200000e+02  7.700000e+02  2.200000e+02   \n",
       "75%    70646.500000  8.300000e+03  4.030000e+03  2.720000e+03  9.200000e+02   \n",
       "max    99999.000000  1.814712e+07  9.303430e+06  6.065960e+06  2.449380e+06   \n",
       "\n",
       "                ELF          CPREP          PREP       DIR_DEP       VRTCRIND  \\\n",
       "count  2.769000e+04   27690.000000  2.769000e+04  2.769000e+04   27690.000000   \n",
       "mean   1.054471e+04     386.500181  5.987664e+03  6.969705e+03     192.140484   \n",
       "std    1.841635e+05    7327.389445  1.103158e+05  1.206072e+05    3757.391827   \n",
       "min    7.000000e+01       0.000000  0.000000e+00  0.000000e+00       0.000000   \n",
       "25%    5.700000e+02       0.000000  3.500000e+02  3.700000e+02       0.000000   \n",
       "50%    1.910000e+03      60.000000  1.100000e+03  1.260000e+03      20.000000   \n",
       "75%    7.770000e+03     260.000000  4.210000e+03  5.030000e+03     120.000000   \n",
       "max    1.689141e+07  721420.000000  1.118818e+07  1.019207e+07  404690.000000   \n",
       "\n",
       "       ...        N85300        A85300        N11901        A11901  \\\n",
       "count  ...  2.769000e+04  2.769000e+04  2.769000e+04  2.769000e+04   \n",
       "mean   ...  4.995767e+02  2.565233e+03  2.978981e+03  1.965550e+04   \n",
       "std    ...  1.021447e+04  5.972000e+04  5.458788e+04  4.348131e+05   \n",
       "min    ...  0.000000e+00  0.000000e+00  0.000000e+00  0.000000e+00   \n",
       "25%    ...  0.000000e+00  0.000000e+00  1.400000e+02  5.810000e+02   \n",
       "50%    ...  3.000000e+01  7.200000e+01  4.700000e+02  2.188000e+03   \n",
       "75%    ...  1.900000e+02  5.520000e+02  2.050000e+03  1.000175e+04   \n",
       "max    ...  1.183100e+06  5.825414e+06  5.764760e+06  5.541592e+07   \n",
       "\n",
       "             N11900        A11900        N11902        A11902         N12000  \\\n",
       "count  2.769000e+04  2.769000e+04  2.769000e+04  2.769000e+04   27690.000000   \n",
       "mean   7.940185e+03  3.361329e+04  7.702365e+03  2.472870e+04     298.995666   \n",
       "std    1.373557e+05  6.226678e+05  1.332173e+05  4.461964e+05    5288.686696   \n",
       "min    0.000000e+00  0.000000e+00  0.000000e+00  0.000000e+00       0.000000   \n",
       "25%    4.300000e+02  1.298000e+03  4.200000e+02  1.163000e+03       0.000000   \n",
       "50%    1.470000e+03  4.848500e+03  1.420000e+03  4.213500e+03      30.000000   \n",
       "75%    5.850000e+03  2.208075e+04  5.630000e+03  1.790175e+04     160.000000   \n",
       "max    1.183953e+07  5.032621e+07  1.145118e+07  3.748823e+07  490540.000000   \n",
       "\n",
       "             A12000  \n",
       "count  2.769000e+04  \n",
       "mean   8.434041e+03  \n",
       "std    1.759497e+05  \n",
       "min    0.000000e+00  \n",
       "25%    0.000000e+00  \n",
       "50%    2.145000e+02  \n",
       "75%    1.960750e+03  \n",
       "max    1.617950e+07  \n",
       "\n",
       "[8 rows x 162 columns]"
      ]
     },
     "execution_count": 10,
     "metadata": {},
     "output_type": "execute_result"
    }
   ],
   "source": [
    "df.info()\n",
    "df.describe()"
   ]
  },
  {
   "cell_type": "code",
   "execution_count": null,
   "metadata": {},
   "outputs": [
    {
     "data": {
      "text/plain": [
       "Index(['STATE', 'ZIPCODE', 'N1', 'MARS1', 'MARS2', 'MARS4', 'ELF', 'CPREP',\n",
       "       'PREP', 'DIR_DEP',\n",
       "       ...\n",
       "       'N85300', 'A85300', 'N11901', 'A11901', 'N11900', 'A11900', 'N11902',\n",
       "       'A11902', 'N12000', 'A12000'],\n",
       "      dtype='object', length=163)"
      ]
     },
     "execution_count": 11,
     "metadata": {},
     "output_type": "execute_result"
    }
   ],
   "source": [
    "#df.columns = df.columns.str.strip()  # Remove leading/trailing whitespace from column names\n",
    "df.columns"
   ]
  },
  {
   "cell_type": "code",
   "execution_count": null,
   "metadata": {},
   "outputs": [
    {
     "data": {
      "text/plain": [
       "\"# Check for missing values\\nmissing_values = df.isnull().sum()\\nmissing_values[missing_values > 0]\\n\\ndf = df.dropna(subset=['agi_stub', 'A11900'])\\n# Check for duplicates\\nduplicates = df.duplicated().sum()  \\nif duplicates > 0:\\n    df = df.drop_duplicates()  # Drop duplicate rows  \""
      ]
     },
     "execution_count": 12,
     "metadata": {},
     "output_type": "execute_result"
    }
   ],
   "source": [
    "\"\"\"# Check for missing values\n",
    "missing_values = df.isnull().sum()\n",
    "missing_values[missing_values > 0]\n",
    " \n",
    "df = df.dropna(subset=['agi_stub', 'A11900'])\n",
    "# Check for duplicates\n",
    "duplicates = df.duplicated().sum()  \n",
    "if duplicates > 0:\n",
    "    df = df.drop_duplicates()  # Drop duplicate rows  \"\"\""
   ]
  },
  {
   "cell_type": "code",
   "execution_count": null,
   "metadata": {},
   "outputs": [
    {
     "data": {
      "text/plain": [
       "51"
      ]
     },
     "execution_count": 13,
     "metadata": {},
     "output_type": "execute_result"
    }
   ],
   "source": [
    "df[\"STATE\"].nunique()\n"
   ]
  },
  {
   "cell_type": "code",
   "execution_count": null,
   "metadata": {},
   "outputs": [
    {
     "data": {
      "text/plain": [
       "array(['AL', 'AK', 'AZ', 'AR', 'CA', 'CO', 'CT', 'DE', 'DC', 'FL', 'GA',\n",
       "       'HI', 'ID', 'IL', 'IN', 'IA', 'KS', 'KY', 'LA', 'ME', 'MD', 'MA',\n",
       "       'MI', 'MN', 'MS', 'MO', 'MT', 'NE', 'NV', 'NH', 'NJ', 'NM', 'NY',\n",
       "       'NC', 'ND', 'OH', 'OK', 'OR', 'PA', 'RI', 'SC', 'SD', 'TN', 'TX',\n",
       "       'UT', 'VT', 'VA', 'WA', 'WV', 'WI', 'WY'], dtype=object)"
      ]
     },
     "execution_count": 14,
     "metadata": {},
     "output_type": "execute_result"
    }
   ],
   "source": [
    "df[\"STATE\"].unique()"
   ]
  },
  {
   "cell_type": "code",
   "execution_count": null,
   "metadata": {},
   "outputs": [
    {
     "data": {
      "text/html": [
       "<div>\n",
       "<style scoped>\n",
       "    .dataframe tbody tr th:only-of-type {\n",
       "        vertical-align: middle;\n",
       "    }\n",
       "\n",
       "    .dataframe tbody tr th {\n",
       "        vertical-align: top;\n",
       "    }\n",
       "\n",
       "    .dataframe thead th {\n",
       "        text-align: right;\n",
       "    }\n",
       "</style>\n",
       "<table border=\"1\" class=\"dataframe\">\n",
       "  <thead>\n",
       "    <tr style=\"text-align: right;\">\n",
       "      <th></th>\n",
       "      <th>STATE</th>\n",
       "      <th>ZIPCODE</th>\n",
       "      <th>N1</th>\n",
       "      <th>MARS1</th>\n",
       "      <th>MARS2</th>\n",
       "      <th>MARS4</th>\n",
       "      <th>ELF</th>\n",
       "      <th>CPREP</th>\n",
       "      <th>PREP</th>\n",
       "      <th>DIR_DEP</th>\n",
       "      <th>...</th>\n",
       "      <th>N85300</th>\n",
       "      <th>A85300</th>\n",
       "      <th>N11901</th>\n",
       "      <th>A11901</th>\n",
       "      <th>N11900</th>\n",
       "      <th>A11900</th>\n",
       "      <th>N11902</th>\n",
       "      <th>A11902</th>\n",
       "      <th>N12000</th>\n",
       "      <th>A12000</th>\n",
       "    </tr>\n",
       "  </thead>\n",
       "  <tbody>\n",
       "    <tr>\n",
       "      <th>0</th>\n",
       "      <td>AL</td>\n",
       "      <td>0</td>\n",
       "      <td>2116220.0</td>\n",
       "      <td>942190.0</td>\n",
       "      <td>743980.0</td>\n",
       "      <td>379550.0</td>\n",
       "      <td>1979060.0</td>\n",
       "      <td>64740.0</td>\n",
       "      <td>1164170.0</td>\n",
       "      <td>1380180.0</td>\n",
       "      <td>...</td>\n",
       "      <td>54890.0</td>\n",
       "      <td>223948.0</td>\n",
       "      <td>517250.0</td>\n",
       "      <td>2853174.0</td>\n",
       "      <td>1539200.0</td>\n",
       "      <td>5820514.0</td>\n",
       "      <td>1507110.0</td>\n",
       "      <td>4971630.0</td>\n",
       "      <td>36500.0</td>\n",
       "      <td>767916.0</td>\n",
       "    </tr>\n",
       "    <tr>\n",
       "      <th>1</th>\n",
       "      <td>AL</td>\n",
       "      <td>35004</td>\n",
       "      <td>5410.0</td>\n",
       "      <td>2460.0</td>\n",
       "      <td>2040.0</td>\n",
       "      <td>770.0</td>\n",
       "      <td>5090.0</td>\n",
       "      <td>150.0</td>\n",
       "      <td>2540.0</td>\n",
       "      <td>3490.0</td>\n",
       "      <td>...</td>\n",
       "      <td>60.0</td>\n",
       "      <td>89.0</td>\n",
       "      <td>1480.0</td>\n",
       "      <td>5019.0</td>\n",
       "      <td>3780.0</td>\n",
       "      <td>11161.0</td>\n",
       "      <td>3750.0</td>\n",
       "      <td>10548.0</td>\n",
       "      <td>60.0</td>\n",
       "      <td>178.0</td>\n",
       "    </tr>\n",
       "    <tr>\n",
       "      <th>2</th>\n",
       "      <td>AL</td>\n",
       "      <td>35005</td>\n",
       "      <td>3290.0</td>\n",
       "      <td>1580.0</td>\n",
       "      <td>740.0</td>\n",
       "      <td>890.0</td>\n",
       "      <td>3060.0</td>\n",
       "      <td>100.0</td>\n",
       "      <td>1780.0</td>\n",
       "      <td>2430.0</td>\n",
       "      <td>...</td>\n",
       "      <td>0.0</td>\n",
       "      <td>0.0</td>\n",
       "      <td>610.0</td>\n",
       "      <td>1471.0</td>\n",
       "      <td>2620.0</td>\n",
       "      <td>8106.0</td>\n",
       "      <td>2610.0</td>\n",
       "      <td>8094.0</td>\n",
       "      <td>0.0</td>\n",
       "      <td>0.0</td>\n",
       "    </tr>\n",
       "    <tr>\n",
       "      <th>3</th>\n",
       "      <td>AL</td>\n",
       "      <td>35006</td>\n",
       "      <td>1260.0</td>\n",
       "      <td>500.0</td>\n",
       "      <td>560.0</td>\n",
       "      <td>170.0</td>\n",
       "      <td>1200.0</td>\n",
       "      <td>30.0</td>\n",
       "      <td>830.0</td>\n",
       "      <td>850.0</td>\n",
       "      <td>...</td>\n",
       "      <td>0.0</td>\n",
       "      <td>0.0</td>\n",
       "      <td>290.0</td>\n",
       "      <td>815.0</td>\n",
       "      <td>930.0</td>\n",
       "      <td>2749.0</td>\n",
       "      <td>930.0</td>\n",
       "      <td>2623.0</td>\n",
       "      <td>0.0</td>\n",
       "      <td>0.0</td>\n",
       "    </tr>\n",
       "    <tr>\n",
       "      <th>4</th>\n",
       "      <td>AL</td>\n",
       "      <td>35007</td>\n",
       "      <td>12540.0</td>\n",
       "      <td>5470.0</td>\n",
       "      <td>4950.0</td>\n",
       "      <td>1780.0</td>\n",
       "      <td>11590.0</td>\n",
       "      <td>530.0</td>\n",
       "      <td>6020.0</td>\n",
       "      <td>7680.0</td>\n",
       "      <td>...</td>\n",
       "      <td>170.0</td>\n",
       "      <td>383.0</td>\n",
       "      <td>3770.0</td>\n",
       "      <td>13618.0</td>\n",
       "      <td>8400.0</td>\n",
       "      <td>23549.0</td>\n",
       "      <td>8300.0</td>\n",
       "      <td>22506.0</td>\n",
       "      <td>120.0</td>\n",
       "      <td>705.0</td>\n",
       "    </tr>\n",
       "    <tr>\n",
       "      <th>5</th>\n",
       "      <td>AL</td>\n",
       "      <td>35010</td>\n",
       "      <td>8000.0</td>\n",
       "      <td>3370.0</td>\n",
       "      <td>2590.0</td>\n",
       "      <td>1860.0</td>\n",
       "      <td>7580.0</td>\n",
       "      <td>220.0</td>\n",
       "      <td>4170.0</td>\n",
       "      <td>5280.0</td>\n",
       "      <td>...</td>\n",
       "      <td>180.0</td>\n",
       "      <td>585.0</td>\n",
       "      <td>1700.0</td>\n",
       "      <td>7095.0</td>\n",
       "      <td>6090.0</td>\n",
       "      <td>25729.0</td>\n",
       "      <td>5930.0</td>\n",
       "      <td>20312.0</td>\n",
       "      <td>200.0</td>\n",
       "      <td>5382.0</td>\n",
       "    </tr>\n",
       "    <tr>\n",
       "      <th>6</th>\n",
       "      <td>AL</td>\n",
       "      <td>35014</td>\n",
       "      <td>1620.0</td>\n",
       "      <td>660.0</td>\n",
       "      <td>520.0</td>\n",
       "      <td>410.0</td>\n",
       "      <td>1530.0</td>\n",
       "      <td>50.0</td>\n",
       "      <td>990.0</td>\n",
       "      <td>1090.0</td>\n",
       "      <td>...</td>\n",
       "      <td>30.0</td>\n",
       "      <td>22.0</td>\n",
       "      <td>370.0</td>\n",
       "      <td>1485.0</td>\n",
       "      <td>1220.0</td>\n",
       "      <td>4050.0</td>\n",
       "      <td>1210.0</td>\n",
       "      <td>3888.0</td>\n",
       "      <td>0.0</td>\n",
       "      <td>0.0</td>\n",
       "    </tr>\n",
       "    <tr>\n",
       "      <th>7</th>\n",
       "      <td>AL</td>\n",
       "      <td>35016</td>\n",
       "      <td>7590.0</td>\n",
       "      <td>3110.0</td>\n",
       "      <td>3360.0</td>\n",
       "      <td>940.0</td>\n",
       "      <td>7150.0</td>\n",
       "      <td>210.0</td>\n",
       "      <td>4270.0</td>\n",
       "      <td>5100.0</td>\n",
       "      <td>...</td>\n",
       "      <td>100.0</td>\n",
       "      <td>96.0</td>\n",
       "      <td>1750.0</td>\n",
       "      <td>5930.0</td>\n",
       "      <td>5620.0</td>\n",
       "      <td>16299.0</td>\n",
       "      <td>5530.0</td>\n",
       "      <td>15537.0</td>\n",
       "      <td>110.0</td>\n",
       "      <td>398.0</td>\n",
       "    </tr>\n",
       "    <tr>\n",
       "      <th>8</th>\n",
       "      <td>AL</td>\n",
       "      <td>35019</td>\n",
       "      <td>1010.0</td>\n",
       "      <td>420.0</td>\n",
       "      <td>460.0</td>\n",
       "      <td>110.0</td>\n",
       "      <td>960.0</td>\n",
       "      <td>30.0</td>\n",
       "      <td>610.0</td>\n",
       "      <td>690.0</td>\n",
       "      <td>...</td>\n",
       "      <td>0.0</td>\n",
       "      <td>0.0</td>\n",
       "      <td>210.0</td>\n",
       "      <td>940.0</td>\n",
       "      <td>780.0</td>\n",
       "      <td>2880.0</td>\n",
       "      <td>770.0</td>\n",
       "      <td>2217.0</td>\n",
       "      <td>0.0</td>\n",
       "      <td>0.0</td>\n",
       "    </tr>\n",
       "    <tr>\n",
       "      <th>9</th>\n",
       "      <td>AL</td>\n",
       "      <td>35020</td>\n",
       "      <td>8650.0</td>\n",
       "      <td>4340.0</td>\n",
       "      <td>890.0</td>\n",
       "      <td>3280.0</td>\n",
       "      <td>7830.0</td>\n",
       "      <td>430.0</td>\n",
       "      <td>5350.0</td>\n",
       "      <td>6510.0</td>\n",
       "      <td>...</td>\n",
       "      <td>0.0</td>\n",
       "      <td>0.0</td>\n",
       "      <td>1440.0</td>\n",
       "      <td>3191.0</td>\n",
       "      <td>6980.0</td>\n",
       "      <td>26279.0</td>\n",
       "      <td>6970.0</td>\n",
       "      <td>26262.0</td>\n",
       "      <td>0.0</td>\n",
       "      <td>0.0</td>\n",
       "    </tr>\n",
       "  </tbody>\n",
       "</table>\n",
       "<p>10 rows × 163 columns</p>\n",
       "</div>"
      ],
      "text/plain": [
       "  STATE  ZIPCODE         N1     MARS1     MARS2     MARS4        ELF    CPREP  \\\n",
       "0    AL        0  2116220.0  942190.0  743980.0  379550.0  1979060.0  64740.0   \n",
       "1    AL    35004     5410.0    2460.0    2040.0     770.0     5090.0    150.0   \n",
       "2    AL    35005     3290.0    1580.0     740.0     890.0     3060.0    100.0   \n",
       "3    AL    35006     1260.0     500.0     560.0     170.0     1200.0     30.0   \n",
       "4    AL    35007    12540.0    5470.0    4950.0    1780.0    11590.0    530.0   \n",
       "5    AL    35010     8000.0    3370.0    2590.0    1860.0     7580.0    220.0   \n",
       "6    AL    35014     1620.0     660.0     520.0     410.0     1530.0     50.0   \n",
       "7    AL    35016     7590.0    3110.0    3360.0     940.0     7150.0    210.0   \n",
       "8    AL    35019     1010.0     420.0     460.0     110.0      960.0     30.0   \n",
       "9    AL    35020     8650.0    4340.0     890.0    3280.0     7830.0    430.0   \n",
       "\n",
       "        PREP    DIR_DEP  ...   N85300    A85300    N11901     A11901  \\\n",
       "0  1164170.0  1380180.0  ...  54890.0  223948.0  517250.0  2853174.0   \n",
       "1     2540.0     3490.0  ...     60.0      89.0    1480.0     5019.0   \n",
       "2     1780.0     2430.0  ...      0.0       0.0     610.0     1471.0   \n",
       "3      830.0      850.0  ...      0.0       0.0     290.0      815.0   \n",
       "4     6020.0     7680.0  ...    170.0     383.0    3770.0    13618.0   \n",
       "5     4170.0     5280.0  ...    180.0     585.0    1700.0     7095.0   \n",
       "6      990.0     1090.0  ...     30.0      22.0     370.0     1485.0   \n",
       "7     4270.0     5100.0  ...    100.0      96.0    1750.0     5930.0   \n",
       "8      610.0      690.0  ...      0.0       0.0     210.0      940.0   \n",
       "9     5350.0     6510.0  ...      0.0       0.0    1440.0     3191.0   \n",
       "\n",
       "      N11900     A11900     N11902     A11902   N12000    A12000  \n",
       "0  1539200.0  5820514.0  1507110.0  4971630.0  36500.0  767916.0  \n",
       "1     3780.0    11161.0     3750.0    10548.0     60.0     178.0  \n",
       "2     2620.0     8106.0     2610.0     8094.0      0.0       0.0  \n",
       "3      930.0     2749.0      930.0     2623.0      0.0       0.0  \n",
       "4     8400.0    23549.0     8300.0    22506.0    120.0     705.0  \n",
       "5     6090.0    25729.0     5930.0    20312.0    200.0    5382.0  \n",
       "6     1220.0     4050.0     1210.0     3888.0      0.0       0.0  \n",
       "7     5620.0    16299.0     5530.0    15537.0    110.0     398.0  \n",
       "8      780.0     2880.0      770.0     2217.0      0.0       0.0  \n",
       "9     6980.0    26279.0     6970.0    26262.0      0.0       0.0  \n",
       "\n",
       "[10 rows x 163 columns]"
      ]
     },
     "execution_count": 15,
     "metadata": {},
     "output_type": "execute_result"
    }
   ],
   "source": [
    "df.head(10)"
   ]
  },
  {
   "cell_type": "code",
   "execution_count": null,
   "metadata": {},
   "outputs": [],
   "source": [
    "df[\"population\"] = df[[\"MARS1\", \"MARS2\", \"MARS4\"]].sum(axis=1, skipna=True)\n"
   ]
  },
  {
   "cell_type": "code",
   "execution_count": null,
   "metadata": {},
   "outputs": [
    {
     "data": {
      "text/html": [
       "<div>\n",
       "<style scoped>\n",
       "    .dataframe tbody tr th:only-of-type {\n",
       "        vertical-align: middle;\n",
       "    }\n",
       "\n",
       "    .dataframe tbody tr th {\n",
       "        vertical-align: top;\n",
       "    }\n",
       "\n",
       "    .dataframe thead th {\n",
       "        text-align: right;\n",
       "    }\n",
       "</style>\n",
       "<table border=\"1\" class=\"dataframe\">\n",
       "  <thead>\n",
       "    <tr style=\"text-align: right;\">\n",
       "      <th></th>\n",
       "      <th>STATE</th>\n",
       "      <th>ZIPCODE</th>\n",
       "      <th>N1</th>\n",
       "      <th>MARS1</th>\n",
       "      <th>MARS2</th>\n",
       "      <th>MARS4</th>\n",
       "      <th>ELF</th>\n",
       "      <th>CPREP</th>\n",
       "      <th>PREP</th>\n",
       "      <th>DIR_DEP</th>\n",
       "      <th>...</th>\n",
       "      <th>A85300</th>\n",
       "      <th>N11901</th>\n",
       "      <th>A11901</th>\n",
       "      <th>N11900</th>\n",
       "      <th>A11900</th>\n",
       "      <th>N11902</th>\n",
       "      <th>A11902</th>\n",
       "      <th>N12000</th>\n",
       "      <th>A12000</th>\n",
       "      <th>population</th>\n",
       "    </tr>\n",
       "  </thead>\n",
       "  <tbody>\n",
       "    <tr>\n",
       "      <th>0</th>\n",
       "      <td>AL</td>\n",
       "      <td>0</td>\n",
       "      <td>2116220.0</td>\n",
       "      <td>942190.0</td>\n",
       "      <td>743980.0</td>\n",
       "      <td>379550.0</td>\n",
       "      <td>1979060.0</td>\n",
       "      <td>64740.0</td>\n",
       "      <td>1164170.0</td>\n",
       "      <td>1380180.0</td>\n",
       "      <td>...</td>\n",
       "      <td>223948.0</td>\n",
       "      <td>517250.0</td>\n",
       "      <td>2853174.0</td>\n",
       "      <td>1539200.0</td>\n",
       "      <td>5820514.0</td>\n",
       "      <td>1507110.0</td>\n",
       "      <td>4971630.0</td>\n",
       "      <td>36500.0</td>\n",
       "      <td>767916.0</td>\n",
       "      <td>2065720.0</td>\n",
       "    </tr>\n",
       "    <tr>\n",
       "      <th>1</th>\n",
       "      <td>AL</td>\n",
       "      <td>35004</td>\n",
       "      <td>5410.0</td>\n",
       "      <td>2460.0</td>\n",
       "      <td>2040.0</td>\n",
       "      <td>770.0</td>\n",
       "      <td>5090.0</td>\n",
       "      <td>150.0</td>\n",
       "      <td>2540.0</td>\n",
       "      <td>3490.0</td>\n",
       "      <td>...</td>\n",
       "      <td>89.0</td>\n",
       "      <td>1480.0</td>\n",
       "      <td>5019.0</td>\n",
       "      <td>3780.0</td>\n",
       "      <td>11161.0</td>\n",
       "      <td>3750.0</td>\n",
       "      <td>10548.0</td>\n",
       "      <td>60.0</td>\n",
       "      <td>178.0</td>\n",
       "      <td>5270.0</td>\n",
       "    </tr>\n",
       "    <tr>\n",
       "      <th>2</th>\n",
       "      <td>AL</td>\n",
       "      <td>35005</td>\n",
       "      <td>3290.0</td>\n",
       "      <td>1580.0</td>\n",
       "      <td>740.0</td>\n",
       "      <td>890.0</td>\n",
       "      <td>3060.0</td>\n",
       "      <td>100.0</td>\n",
       "      <td>1780.0</td>\n",
       "      <td>2430.0</td>\n",
       "      <td>...</td>\n",
       "      <td>0.0</td>\n",
       "      <td>610.0</td>\n",
       "      <td>1471.0</td>\n",
       "      <td>2620.0</td>\n",
       "      <td>8106.0</td>\n",
       "      <td>2610.0</td>\n",
       "      <td>8094.0</td>\n",
       "      <td>0.0</td>\n",
       "      <td>0.0</td>\n",
       "      <td>3210.0</td>\n",
       "    </tr>\n",
       "    <tr>\n",
       "      <th>3</th>\n",
       "      <td>AL</td>\n",
       "      <td>35006</td>\n",
       "      <td>1260.0</td>\n",
       "      <td>500.0</td>\n",
       "      <td>560.0</td>\n",
       "      <td>170.0</td>\n",
       "      <td>1200.0</td>\n",
       "      <td>30.0</td>\n",
       "      <td>830.0</td>\n",
       "      <td>850.0</td>\n",
       "      <td>...</td>\n",
       "      <td>0.0</td>\n",
       "      <td>290.0</td>\n",
       "      <td>815.0</td>\n",
       "      <td>930.0</td>\n",
       "      <td>2749.0</td>\n",
       "      <td>930.0</td>\n",
       "      <td>2623.0</td>\n",
       "      <td>0.0</td>\n",
       "      <td>0.0</td>\n",
       "      <td>1230.0</td>\n",
       "    </tr>\n",
       "    <tr>\n",
       "      <th>4</th>\n",
       "      <td>AL</td>\n",
       "      <td>35007</td>\n",
       "      <td>12540.0</td>\n",
       "      <td>5470.0</td>\n",
       "      <td>4950.0</td>\n",
       "      <td>1780.0</td>\n",
       "      <td>11590.0</td>\n",
       "      <td>530.0</td>\n",
       "      <td>6020.0</td>\n",
       "      <td>7680.0</td>\n",
       "      <td>...</td>\n",
       "      <td>383.0</td>\n",
       "      <td>3770.0</td>\n",
       "      <td>13618.0</td>\n",
       "      <td>8400.0</td>\n",
       "      <td>23549.0</td>\n",
       "      <td>8300.0</td>\n",
       "      <td>22506.0</td>\n",
       "      <td>120.0</td>\n",
       "      <td>705.0</td>\n",
       "      <td>12200.0</td>\n",
       "    </tr>\n",
       "  </tbody>\n",
       "</table>\n",
       "<p>5 rows × 164 columns</p>\n",
       "</div>"
      ],
      "text/plain": [
       "  STATE  ZIPCODE         N1     MARS1     MARS2     MARS4        ELF    CPREP  \\\n",
       "0    AL        0  2116220.0  942190.0  743980.0  379550.0  1979060.0  64740.0   \n",
       "1    AL    35004     5410.0    2460.0    2040.0     770.0     5090.0    150.0   \n",
       "2    AL    35005     3290.0    1580.0     740.0     890.0     3060.0    100.0   \n",
       "3    AL    35006     1260.0     500.0     560.0     170.0     1200.0     30.0   \n",
       "4    AL    35007    12540.0    5470.0    4950.0    1780.0    11590.0    530.0   \n",
       "\n",
       "        PREP    DIR_DEP  ...    A85300    N11901     A11901     N11900  \\\n",
       "0  1164170.0  1380180.0  ...  223948.0  517250.0  2853174.0  1539200.0   \n",
       "1     2540.0     3490.0  ...      89.0    1480.0     5019.0     3780.0   \n",
       "2     1780.0     2430.0  ...       0.0     610.0     1471.0     2620.0   \n",
       "3      830.0      850.0  ...       0.0     290.0      815.0      930.0   \n",
       "4     6020.0     7680.0  ...     383.0    3770.0    13618.0     8400.0   \n",
       "\n",
       "      A11900     N11902     A11902   N12000    A12000  population  \n",
       "0  5820514.0  1507110.0  4971630.0  36500.0  767916.0   2065720.0  \n",
       "1    11161.0     3750.0    10548.0     60.0     178.0      5270.0  \n",
       "2     8106.0     2610.0     8094.0      0.0       0.0      3210.0  \n",
       "3     2749.0      930.0     2623.0      0.0       0.0      1230.0  \n",
       "4    23549.0     8300.0    22506.0    120.0     705.0     12200.0  \n",
       "\n",
       "[5 rows x 164 columns]"
      ]
     },
     "execution_count": 17,
     "metadata": {},
     "output_type": "execute_result"
    }
   ],
   "source": [
    "df.head()"
   ]
  },
  {
   "cell_type": "code",
   "execution_count": null,
   "metadata": {},
   "outputs": [
    {
     "ename": "KeyError",
     "evalue": "\"['MARS1'] not found in axis\"",
     "output_type": "error",
     "traceback": [
      "\u001b[31m---------------------------------------------------------------------------\u001b[39m",
      "\u001b[31mKeyError\u001b[39m                                  Traceback (most recent call last)",
      "\u001b[36mCell\u001b[39m\u001b[36m \u001b[39m\u001b[32mIn[35]\u001b[39m\u001b[32m, line 1\u001b[39m\n\u001b[32m----> \u001b[39m\u001b[32m1\u001b[39m \u001b[43mdf\u001b[49m\u001b[43m.\u001b[49m\u001b[43mdrop\u001b[49m\u001b[43m(\u001b[49m\u001b[43mcolumns\u001b[49m\u001b[43m=\u001b[49m\u001b[43m[\u001b[49m\u001b[33;43m\"\u001b[39;49m\u001b[33;43mMARS1\u001b[39;49m\u001b[33;43m\"\u001b[39;49m\u001b[43m,\u001b[49m\u001b[43m \u001b[49m\u001b[33;43m\"\u001b[39;49m\u001b[33;43mMARS2\u001b[39;49m\u001b[33;43m\"\u001b[39;49m\u001b[43m,\u001b[49m\u001b[43m \u001b[49m\u001b[33;43m\"\u001b[39;49m\u001b[33;43mMARS4\u001b[39;49m\u001b[33;43m\"\u001b[39;49m\u001b[43m]\u001b[49m\u001b[43m,\u001b[49m\u001b[43m \u001b[49m\u001b[43minplace\u001b[49m\u001b[43m=\u001b[49m\u001b[38;5;28;43;01mTrue\u001b[39;49;00m\u001b[43m)\u001b[49m\n\u001b[32m      2\u001b[39m df.head()\n\u001b[32m      3\u001b[39m df.to_csv(\u001b[33m\"\u001b[39m\u001b[33m22zpallagi.csv\u001b[39m\u001b[33m\"\u001b[39m, index=\u001b[38;5;28;01mFalse\u001b[39;00m)\n",
      "\u001b[36mFile \u001b[39m\u001b[32mc:\\Users\\My PC\\Bus\\venv\\Lib\\site-packages\\pandas\\core\\frame.py:5581\u001b[39m, in \u001b[36mDataFrame.drop\u001b[39m\u001b[34m(self, labels, axis, index, columns, level, inplace, errors)\u001b[39m\n\u001b[32m   5433\u001b[39m \u001b[38;5;28;01mdef\u001b[39;00m\u001b[38;5;250m \u001b[39m\u001b[34mdrop\u001b[39m(\n\u001b[32m   5434\u001b[39m     \u001b[38;5;28mself\u001b[39m,\n\u001b[32m   5435\u001b[39m     labels: IndexLabel | \u001b[38;5;28;01mNone\u001b[39;00m = \u001b[38;5;28;01mNone\u001b[39;00m,\n\u001b[32m   (...)\u001b[39m\u001b[32m   5442\u001b[39m     errors: IgnoreRaise = \u001b[33m\"\u001b[39m\u001b[33mraise\u001b[39m\u001b[33m\"\u001b[39m,\n\u001b[32m   5443\u001b[39m ) -> DataFrame | \u001b[38;5;28;01mNone\u001b[39;00m:\n\u001b[32m   5444\u001b[39m \u001b[38;5;250m    \u001b[39m\u001b[33;03m\"\"\"\u001b[39;00m\n\u001b[32m   5445\u001b[39m \u001b[33;03m    Drop specified labels from rows or columns.\u001b[39;00m\n\u001b[32m   5446\u001b[39m \n\u001b[32m   (...)\u001b[39m\u001b[32m   5579\u001b[39m \u001b[33;03m            weight  1.0     0.8\u001b[39;00m\n\u001b[32m   5580\u001b[39m \u001b[33;03m    \"\"\"\u001b[39;00m\n\u001b[32m-> \u001b[39m\u001b[32m5581\u001b[39m     \u001b[38;5;28;01mreturn\u001b[39;00m \u001b[38;5;28;43msuper\u001b[39;49m\u001b[43m(\u001b[49m\u001b[43m)\u001b[49m\u001b[43m.\u001b[49m\u001b[43mdrop\u001b[49m\u001b[43m(\u001b[49m\n\u001b[32m   5582\u001b[39m \u001b[43m        \u001b[49m\u001b[43mlabels\u001b[49m\u001b[43m=\u001b[49m\u001b[43mlabels\u001b[49m\u001b[43m,\u001b[49m\n\u001b[32m   5583\u001b[39m \u001b[43m        \u001b[49m\u001b[43maxis\u001b[49m\u001b[43m=\u001b[49m\u001b[43maxis\u001b[49m\u001b[43m,\u001b[49m\n\u001b[32m   5584\u001b[39m \u001b[43m        \u001b[49m\u001b[43mindex\u001b[49m\u001b[43m=\u001b[49m\u001b[43mindex\u001b[49m\u001b[43m,\u001b[49m\n\u001b[32m   5585\u001b[39m \u001b[43m        \u001b[49m\u001b[43mcolumns\u001b[49m\u001b[43m=\u001b[49m\u001b[43mcolumns\u001b[49m\u001b[43m,\u001b[49m\n\u001b[32m   5586\u001b[39m \u001b[43m        \u001b[49m\u001b[43mlevel\u001b[49m\u001b[43m=\u001b[49m\u001b[43mlevel\u001b[49m\u001b[43m,\u001b[49m\n\u001b[32m   5587\u001b[39m \u001b[43m        \u001b[49m\u001b[43minplace\u001b[49m\u001b[43m=\u001b[49m\u001b[43minplace\u001b[49m\u001b[43m,\u001b[49m\n\u001b[32m   5588\u001b[39m \u001b[43m        \u001b[49m\u001b[43merrors\u001b[49m\u001b[43m=\u001b[49m\u001b[43merrors\u001b[49m\u001b[43m,\u001b[49m\n\u001b[32m   5589\u001b[39m \u001b[43m    \u001b[49m\u001b[43m)\u001b[49m\n",
      "\u001b[36mFile \u001b[39m\u001b[32mc:\\Users\\My PC\\Bus\\venv\\Lib\\site-packages\\pandas\\core\\generic.py:4788\u001b[39m, in \u001b[36mNDFrame.drop\u001b[39m\u001b[34m(self, labels, axis, index, columns, level, inplace, errors)\u001b[39m\n\u001b[32m   4786\u001b[39m \u001b[38;5;28;01mfor\u001b[39;00m axis, labels \u001b[38;5;129;01min\u001b[39;00m axes.items():\n\u001b[32m   4787\u001b[39m     \u001b[38;5;28;01mif\u001b[39;00m labels \u001b[38;5;129;01mis\u001b[39;00m \u001b[38;5;129;01mnot\u001b[39;00m \u001b[38;5;28;01mNone\u001b[39;00m:\n\u001b[32m-> \u001b[39m\u001b[32m4788\u001b[39m         obj = \u001b[43mobj\u001b[49m\u001b[43m.\u001b[49m\u001b[43m_drop_axis\u001b[49m\u001b[43m(\u001b[49m\u001b[43mlabels\u001b[49m\u001b[43m,\u001b[49m\u001b[43m \u001b[49m\u001b[43maxis\u001b[49m\u001b[43m,\u001b[49m\u001b[43m \u001b[49m\u001b[43mlevel\u001b[49m\u001b[43m=\u001b[49m\u001b[43mlevel\u001b[49m\u001b[43m,\u001b[49m\u001b[43m \u001b[49m\u001b[43merrors\u001b[49m\u001b[43m=\u001b[49m\u001b[43merrors\u001b[49m\u001b[43m)\u001b[49m\n\u001b[32m   4790\u001b[39m \u001b[38;5;28;01mif\u001b[39;00m inplace:\n\u001b[32m   4791\u001b[39m     \u001b[38;5;28mself\u001b[39m._update_inplace(obj)\n",
      "\u001b[36mFile \u001b[39m\u001b[32mc:\\Users\\My PC\\Bus\\venv\\Lib\\site-packages\\pandas\\core\\generic.py:4830\u001b[39m, in \u001b[36mNDFrame._drop_axis\u001b[39m\u001b[34m(self, labels, axis, level, errors, only_slice)\u001b[39m\n\u001b[32m   4828\u001b[39m         new_axis = axis.drop(labels, level=level, errors=errors)\n\u001b[32m   4829\u001b[39m     \u001b[38;5;28;01melse\u001b[39;00m:\n\u001b[32m-> \u001b[39m\u001b[32m4830\u001b[39m         new_axis = \u001b[43maxis\u001b[49m\u001b[43m.\u001b[49m\u001b[43mdrop\u001b[49m\u001b[43m(\u001b[49m\u001b[43mlabels\u001b[49m\u001b[43m,\u001b[49m\u001b[43m \u001b[49m\u001b[43merrors\u001b[49m\u001b[43m=\u001b[49m\u001b[43merrors\u001b[49m\u001b[43m)\u001b[49m\n\u001b[32m   4831\u001b[39m     indexer = axis.get_indexer(new_axis)\n\u001b[32m   4833\u001b[39m \u001b[38;5;66;03m# Case for non-unique axis\u001b[39;00m\n\u001b[32m   4834\u001b[39m \u001b[38;5;28;01melse\u001b[39;00m:\n",
      "\u001b[36mFile \u001b[39m\u001b[32mc:\\Users\\My PC\\Bus\\venv\\Lib\\site-packages\\pandas\\core\\indexes\\base.py:7070\u001b[39m, in \u001b[36mIndex.drop\u001b[39m\u001b[34m(self, labels, errors)\u001b[39m\n\u001b[32m   7068\u001b[39m \u001b[38;5;28;01mif\u001b[39;00m mask.any():\n\u001b[32m   7069\u001b[39m     \u001b[38;5;28;01mif\u001b[39;00m errors != \u001b[33m\"\u001b[39m\u001b[33mignore\u001b[39m\u001b[33m\"\u001b[39m:\n\u001b[32m-> \u001b[39m\u001b[32m7070\u001b[39m         \u001b[38;5;28;01mraise\u001b[39;00m \u001b[38;5;167;01mKeyError\u001b[39;00m(\u001b[33mf\u001b[39m\u001b[33m\"\u001b[39m\u001b[38;5;132;01m{\u001b[39;00mlabels[mask].tolist()\u001b[38;5;132;01m}\u001b[39;00m\u001b[33m not found in axis\u001b[39m\u001b[33m\"\u001b[39m)\n\u001b[32m   7071\u001b[39m     indexer = indexer[~mask]\n\u001b[32m   7072\u001b[39m \u001b[38;5;28;01mreturn\u001b[39;00m \u001b[38;5;28mself\u001b[39m.delete(indexer)\n",
      "\u001b[31mKeyError\u001b[39m: \"['MARS1'] not found in axis\""
     ]
    }
   ],
   "source": [
    "df.drop(columns=[\"MARS1\", \"MARS2\", \"MARS4\"], inplace=True)\n",
    "df.head()\n",
    "df.to_csv(\"22Zpallagi.csv\", index=False)"
   ]
  },
  {
   "cell_type": "code",
   "execution_count": null,
   "metadata": {},
   "outputs": [
    {
     "data": {
      "text/html": [
       "<div>\n",
       "<style scoped>\n",
       "    .dataframe tbody tr th:only-of-type {\n",
       "        vertical-align: middle;\n",
       "    }\n",
       "\n",
       "    .dataframe tbody tr th {\n",
       "        vertical-align: top;\n",
       "    }\n",
       "\n",
       "    .dataframe thead th {\n",
       "        text-align: right;\n",
       "    }\n",
       "</style>\n",
       "<table border=\"1\" class=\"dataframe\">\n",
       "  <thead>\n",
       "    <tr style=\"text-align: right;\">\n",
       "      <th></th>\n",
       "      <th>zipcode</th>\n",
       "      <th>STATE</th>\n",
       "      <th>population</th>\n",
       "      <th>Num_Tax_Returns</th>\n",
       "      <th>Adjusted_Gross_Income</th>\n",
       "    </tr>\n",
       "  </thead>\n",
       "  <tbody>\n",
       "    <tr>\n",
       "      <th>0</th>\n",
       "      <td>0</td>\n",
       "      <td>AL</td>\n",
       "      <td>2065720.0</td>\n",
       "      <td>2116220.0</td>\n",
       "      <td>158833627.0</td>\n",
       "    </tr>\n",
       "    <tr>\n",
       "      <th>1</th>\n",
       "      <td>35004</td>\n",
       "      <td>AL</td>\n",
       "      <td>5270.0</td>\n",
       "      <td>5410.0</td>\n",
       "      <td>373800.0</td>\n",
       "    </tr>\n",
       "    <tr>\n",
       "      <th>2</th>\n",
       "      <td>35005</td>\n",
       "      <td>AL</td>\n",
       "      <td>3210.0</td>\n",
       "      <td>3290.0</td>\n",
       "      <td>149625.0</td>\n",
       "    </tr>\n",
       "    <tr>\n",
       "      <th>3</th>\n",
       "      <td>35006</td>\n",
       "      <td>AL</td>\n",
       "      <td>1230.0</td>\n",
       "      <td>1260.0</td>\n",
       "      <td>81364.0</td>\n",
       "    </tr>\n",
       "    <tr>\n",
       "      <th>4</th>\n",
       "      <td>35007</td>\n",
       "      <td>AL</td>\n",
       "      <td>12200.0</td>\n",
       "      <td>12540.0</td>\n",
       "      <td>859156.0</td>\n",
       "    </tr>\n",
       "  </tbody>\n",
       "</table>\n",
       "</div>"
      ],
      "text/plain": [
       "   zipcode STATE  population  Num_Tax_Returns  Adjusted_Gross_Income\n",
       "0        0    AL   2065720.0        2116220.0            158833627.0\n",
       "1    35004    AL      5270.0           5410.0               373800.0\n",
       "2    35005    AL      3210.0           3290.0               149625.0\n",
       "3    35006    AL      1230.0           1260.0                81364.0\n",
       "4    35007    AL     12200.0          12540.0               859156.0"
      ]
     },
     "execution_count": 19,
     "metadata": {},
     "output_type": "execute_result"
    }
   ],
   "source": [
    "df3 = df[['ZIPCODE', 'STATE','population', 'N1', 'A00100']] \n",
    "df3.columns = ['zipcode', 'STATE', 'population', 'Num_Tax_Returns', 'Adjusted_Gross_Income']\n",
    "df3.head()\n"
   ]
  },
  {
   "cell_type": "code",
   "execution_count": null,
   "metadata": {},
   "outputs": [
    {
     "data": {
      "text/html": [
       "<div>\n",
       "<style scoped>\n",
       "    .dataframe tbody tr th:only-of-type {\n",
       "        vertical-align: middle;\n",
       "    }\n",
       "\n",
       "    .dataframe tbody tr th {\n",
       "        vertical-align: top;\n",
       "    }\n",
       "\n",
       "    .dataframe thead th {\n",
       "        text-align: right;\n",
       "    }\n",
       "</style>\n",
       "<table border=\"1\" class=\"dataframe\">\n",
       "  <thead>\n",
       "    <tr style=\"text-align: right;\">\n",
       "      <th></th>\n",
       "      <th>STATE</th>\n",
       "      <th>ZIPCODE</th>\n",
       "      <th>N1</th>\n",
       "      <th>ELF</th>\n",
       "      <th>CPREP</th>\n",
       "      <th>PREP</th>\n",
       "      <th>DIR_DEP</th>\n",
       "      <th>VRTCRIND</th>\n",
       "      <th>N2</th>\n",
       "      <th>TOTAL_VITA</th>\n",
       "      <th>...</th>\n",
       "      <th>A85300</th>\n",
       "      <th>N11901</th>\n",
       "      <th>A11901</th>\n",
       "      <th>N11900</th>\n",
       "      <th>A11900</th>\n",
       "      <th>N11902</th>\n",
       "      <th>A11902</th>\n",
       "      <th>N12000</th>\n",
       "      <th>A12000</th>\n",
       "      <th>population</th>\n",
       "    </tr>\n",
       "  </thead>\n",
       "  <tbody>\n",
       "    <tr>\n",
       "      <th>0</th>\n",
       "      <td>CA</td>\n",
       "      <td>0</td>\n",
       "      <td>18147120.0</td>\n",
       "      <td>16891410.0</td>\n",
       "      <td>721420.0</td>\n",
       "      <td>11188180.0</td>\n",
       "      <td>10192070.0</td>\n",
       "      <td>404690.0</td>\n",
       "      <td>33964490.0</td>\n",
       "      <td>240640.0</td>\n",
       "      <td>...</td>\n",
       "      <td>5825414.0</td>\n",
       "      <td>5764760.0</td>\n",
       "      <td>55415921.0</td>\n",
       "      <td>11839530.0</td>\n",
       "      <td>50326208.0</td>\n",
       "      <td>11451180.0</td>\n",
       "      <td>37488226.0</td>\n",
       "      <td>490540.0</td>\n",
       "      <td>12111153.0</td>\n",
       "      <td>17818770.0</td>\n",
       "    </tr>\n",
       "    <tr>\n",
       "      <th>1</th>\n",
       "      <td>TX</td>\n",
       "      <td>0</td>\n",
       "      <td>13402590.0</td>\n",
       "      <td>12405190.0</td>\n",
       "      <td>552870.0</td>\n",
       "      <td>6451410.0</td>\n",
       "      <td>8902300.0</td>\n",
       "      <td>233070.0</td>\n",
       "      <td>26429410.0</td>\n",
       "      <td>193770.0</td>\n",
       "      <td>...</td>\n",
       "      <td>3719587.0</td>\n",
       "      <td>3246720.0</td>\n",
       "      <td>23668766.0</td>\n",
       "      <td>9832500.0</td>\n",
       "      <td>46550286.0</td>\n",
       "      <td>9611730.0</td>\n",
       "      <td>35192428.0</td>\n",
       "      <td>265060.0</td>\n",
       "      <td>10709294.0</td>\n",
       "      <td>13146450.0</td>\n",
       "    </tr>\n",
       "    <tr>\n",
       "      <th>2</th>\n",
       "      <td>FL</td>\n",
       "      <td>0</td>\n",
       "      <td>10911940.0</td>\n",
       "      <td>10090680.0</td>\n",
       "      <td>446280.0</td>\n",
       "      <td>6016290.0</td>\n",
       "      <td>6774390.0</td>\n",
       "      <td>212490.0</td>\n",
       "      <td>19424590.0</td>\n",
       "      <td>159730.0</td>\n",
       "      <td>...</td>\n",
       "      <td>5094429.0</td>\n",
       "      <td>2911630.0</td>\n",
       "      <td>23290361.0</td>\n",
       "      <td>7646070.0</td>\n",
       "      <td>44515668.0</td>\n",
       "      <td>7379900.0</td>\n",
       "      <td>27807373.0</td>\n",
       "      <td>336330.0</td>\n",
       "      <td>16179497.0</td>\n",
       "      <td>10614450.0</td>\n",
       "    </tr>\n",
       "    <tr>\n",
       "      <th>3</th>\n",
       "      <td>NY</td>\n",
       "      <td>0</td>\n",
       "      <td>9597940.0</td>\n",
       "      <td>9132350.0</td>\n",
       "      <td>221890.0</td>\n",
       "      <td>6191150.0</td>\n",
       "      <td>5791450.0</td>\n",
       "      <td>180780.0</td>\n",
       "      <td>16782390.0</td>\n",
       "      <td>156710.0</td>\n",
       "      <td>...</td>\n",
       "      <td>3577822.0</td>\n",
       "      <td>2598480.0</td>\n",
       "      <td>15938663.0</td>\n",
       "      <td>6659370.0</td>\n",
       "      <td>34316174.0</td>\n",
       "      <td>6424050.0</td>\n",
       "      <td>20938057.0</td>\n",
       "      <td>287050.0</td>\n",
       "      <td>12889637.0</td>\n",
       "      <td>9333640.0</td>\n",
       "    </tr>\n",
       "    <tr>\n",
       "      <th>4</th>\n",
       "      <td>PA</td>\n",
       "      <td>0</td>\n",
       "      <td>6234950.0</td>\n",
       "      <td>5812390.0</td>\n",
       "      <td>217910.0</td>\n",
       "      <td>3217510.0</td>\n",
       "      <td>3902710.0</td>\n",
       "      <td>85530.0</td>\n",
       "      <td>11145080.0</td>\n",
       "      <td>115850.0</td>\n",
       "      <td>...</td>\n",
       "      <td>863267.0</td>\n",
       "      <td>1386800.0</td>\n",
       "      <td>7871840.0</td>\n",
       "      <td>4600440.0</td>\n",
       "      <td>17063720.0</td>\n",
       "      <td>4452080.0</td>\n",
       "      <td>13167179.0</td>\n",
       "      <td>191890.0</td>\n",
       "      <td>3695304.0</td>\n",
       "      <td>6087370.0</td>\n",
       "    </tr>\n",
       "  </tbody>\n",
       "</table>\n",
       "<p>5 rows × 161 columns</p>\n",
       "</div>"
      ],
      "text/plain": [
       "  STATE  ZIPCODE          N1         ELF     CPREP        PREP     DIR_DEP  \\\n",
       "0    CA        0  18147120.0  16891410.0  721420.0  11188180.0  10192070.0   \n",
       "1    TX        0  13402590.0  12405190.0  552870.0   6451410.0   8902300.0   \n",
       "2    FL        0  10911940.0  10090680.0  446280.0   6016290.0   6774390.0   \n",
       "3    NY        0   9597940.0   9132350.0  221890.0   6191150.0   5791450.0   \n",
       "4    PA        0   6234950.0   5812390.0  217910.0   3217510.0   3902710.0   \n",
       "\n",
       "   VRTCRIND          N2  TOTAL_VITA  ...     A85300     N11901      A11901  \\\n",
       "0  404690.0  33964490.0    240640.0  ...  5825414.0  5764760.0  55415921.0   \n",
       "1  233070.0  26429410.0    193770.0  ...  3719587.0  3246720.0  23668766.0   \n",
       "2  212490.0  19424590.0    159730.0  ...  5094429.0  2911630.0  23290361.0   \n",
       "3  180780.0  16782390.0    156710.0  ...  3577822.0  2598480.0  15938663.0   \n",
       "4   85530.0  11145080.0    115850.0  ...   863267.0  1386800.0   7871840.0   \n",
       "\n",
       "       N11900      A11900      N11902      A11902    N12000      A12000  \\\n",
       "0  11839530.0  50326208.0  11451180.0  37488226.0  490540.0  12111153.0   \n",
       "1   9832500.0  46550286.0   9611730.0  35192428.0  265060.0  10709294.0   \n",
       "2   7646070.0  44515668.0   7379900.0  27807373.0  336330.0  16179497.0   \n",
       "3   6659370.0  34316174.0   6424050.0  20938057.0  287050.0  12889637.0   \n",
       "4   4600440.0  17063720.0   4452080.0  13167179.0  191890.0   3695304.0   \n",
       "\n",
       "   population  \n",
       "0  17818770.0  \n",
       "1  13146450.0  \n",
       "2  10614450.0  \n",
       "3   9333640.0  \n",
       "4   6087370.0  \n",
       "\n",
       "[5 rows x 161 columns]"
      ]
     },
     "execution_count": 20,
     "metadata": {},
     "output_type": "execute_result"
    }
   ],
   "source": [
    "high_income_areas = df.sort_values(by=['population', 'A00100'], ascending=[False, False]).head().reset_index(drop=True)\n",
    "high_income_areas\n",
    "\n"
   ]
  },
  {
   "cell_type": "markdown",
   "metadata": {},
   "source": [
    "i am getting zero when i am going to sort the values by population and Income"
   ]
  },
  {
   "cell_type": "code",
   "execution_count": null,
   "metadata": {},
   "outputs": [
    {
     "data": {
      "text/html": [
       "<div>\n",
       "<style scoped>\n",
       "    .dataframe tbody tr th:only-of-type {\n",
       "        vertical-align: middle;\n",
       "    }\n",
       "\n",
       "    .dataframe tbody tr th {\n",
       "        vertical-align: top;\n",
       "    }\n",
       "\n",
       "    .dataframe thead th {\n",
       "        text-align: right;\n",
       "    }\n",
       "</style>\n",
       "<table border=\"1\" class=\"dataframe\">\n",
       "  <thead>\n",
       "    <tr style=\"text-align: right;\">\n",
       "      <th></th>\n",
       "      <th>STATE</th>\n",
       "      <th>ZIPCODE</th>\n",
       "      <th>N1</th>\n",
       "      <th>ELF</th>\n",
       "      <th>CPREP</th>\n",
       "      <th>PREP</th>\n",
       "      <th>DIR_DEP</th>\n",
       "      <th>VRTCRIND</th>\n",
       "      <th>N2</th>\n",
       "      <th>TOTAL_VITA</th>\n",
       "      <th>...</th>\n",
       "      <th>A85300</th>\n",
       "      <th>N11901</th>\n",
       "      <th>A11901</th>\n",
       "      <th>N11900</th>\n",
       "      <th>A11900</th>\n",
       "      <th>N11902</th>\n",
       "      <th>A11902</th>\n",
       "      <th>N12000</th>\n",
       "      <th>A12000</th>\n",
       "      <th>population</th>\n",
       "    </tr>\n",
       "  </thead>\n",
       "  <tbody>\n",
       "    <tr>\n",
       "      <th>1406</th>\n",
       "      <td>CA</td>\n",
       "      <td>0</td>\n",
       "      <td>18147120.0</td>\n",
       "      <td>16891410.0</td>\n",
       "      <td>721420.0</td>\n",
       "      <td>11188180.0</td>\n",
       "      <td>10192070.0</td>\n",
       "      <td>404690.0</td>\n",
       "      <td>33964490.0</td>\n",
       "      <td>240640.0</td>\n",
       "      <td>...</td>\n",
       "      <td>5825414.0</td>\n",
       "      <td>5764760.0</td>\n",
       "      <td>55415921.0</td>\n",
       "      <td>11839530.0</td>\n",
       "      <td>50326208.0</td>\n",
       "      <td>11451180.0</td>\n",
       "      <td>37488226.0</td>\n",
       "      <td>490540.0</td>\n",
       "      <td>12111153.0</td>\n",
       "      <td>17818770.0</td>\n",
       "    </tr>\n",
       "    <tr>\n",
       "      <th>23024</th>\n",
       "      <td>TX</td>\n",
       "      <td>0</td>\n",
       "      <td>13402590.0</td>\n",
       "      <td>12405190.0</td>\n",
       "      <td>552870.0</td>\n",
       "      <td>6451410.0</td>\n",
       "      <td>8902300.0</td>\n",
       "      <td>233070.0</td>\n",
       "      <td>26429410.0</td>\n",
       "      <td>193770.0</td>\n",
       "      <td>...</td>\n",
       "      <td>3719587.0</td>\n",
       "      <td>3246720.0</td>\n",
       "      <td>23668766.0</td>\n",
       "      <td>9832500.0</td>\n",
       "      <td>46550286.0</td>\n",
       "      <td>9611730.0</td>\n",
       "      <td>35192428.0</td>\n",
       "      <td>265060.0</td>\n",
       "      <td>10709294.0</td>\n",
       "      <td>13146450.0</td>\n",
       "    </tr>\n",
       "    <tr>\n",
       "      <th>3628</th>\n",
       "      <td>FL</td>\n",
       "      <td>0</td>\n",
       "      <td>10911940.0</td>\n",
       "      <td>10090680.0</td>\n",
       "      <td>446280.0</td>\n",
       "      <td>6016290.0</td>\n",
       "      <td>6774390.0</td>\n",
       "      <td>212490.0</td>\n",
       "      <td>19424590.0</td>\n",
       "      <td>159730.0</td>\n",
       "      <td>...</td>\n",
       "      <td>5094429.0</td>\n",
       "      <td>2911630.0</td>\n",
       "      <td>23290361.0</td>\n",
       "      <td>7646070.0</td>\n",
       "      <td>44515668.0</td>\n",
       "      <td>7379900.0</td>\n",
       "      <td>27807373.0</td>\n",
       "      <td>336330.0</td>\n",
       "      <td>16179497.0</td>\n",
       "      <td>10614450.0</td>\n",
       "    </tr>\n",
       "    <tr>\n",
       "      <th>15917</th>\n",
       "      <td>NY</td>\n",
       "      <td>0</td>\n",
       "      <td>9597940.0</td>\n",
       "      <td>9132350.0</td>\n",
       "      <td>221890.0</td>\n",
       "      <td>6191150.0</td>\n",
       "      <td>5791450.0</td>\n",
       "      <td>180780.0</td>\n",
       "      <td>16782390.0</td>\n",
       "      <td>156710.0</td>\n",
       "      <td>...</td>\n",
       "      <td>3577822.0</td>\n",
       "      <td>2598480.0</td>\n",
       "      <td>15938663.0</td>\n",
       "      <td>6659370.0</td>\n",
       "      <td>34316174.0</td>\n",
       "      <td>6424050.0</td>\n",
       "      <td>20938057.0</td>\n",
       "      <td>287050.0</td>\n",
       "      <td>12889637.0</td>\n",
       "      <td>9333640.0</td>\n",
       "    </tr>\n",
       "    <tr>\n",
       "      <th>20341</th>\n",
       "      <td>PA</td>\n",
       "      <td>0</td>\n",
       "      <td>6234950.0</td>\n",
       "      <td>5812390.0</td>\n",
       "      <td>217910.0</td>\n",
       "      <td>3217510.0</td>\n",
       "      <td>3902710.0</td>\n",
       "      <td>85530.0</td>\n",
       "      <td>11145080.0</td>\n",
       "      <td>115850.0</td>\n",
       "      <td>...</td>\n",
       "      <td>863267.0</td>\n",
       "      <td>1386800.0</td>\n",
       "      <td>7871840.0</td>\n",
       "      <td>4600440.0</td>\n",
       "      <td>17063720.0</td>\n",
       "      <td>4452080.0</td>\n",
       "      <td>13167179.0</td>\n",
       "      <td>191890.0</td>\n",
       "      <td>3695304.0</td>\n",
       "      <td>6087370.0</td>\n",
       "    </tr>\n",
       "    <tr>\n",
       "      <th>5490</th>\n",
       "      <td>IL</td>\n",
       "      <td>0</td>\n",
       "      <td>6030260.0</td>\n",
       "      <td>5621950.0</td>\n",
       "      <td>221380.0</td>\n",
       "      <td>3335570.0</td>\n",
       "      <td>3868330.0</td>\n",
       "      <td>100940.0</td>\n",
       "      <td>10992050.0</td>\n",
       "      <td>74100.0</td>\n",
       "      <td>...</td>\n",
       "      <td>1161136.0</td>\n",
       "      <td>1492540.0</td>\n",
       "      <td>8693865.0</td>\n",
       "      <td>4361330.0</td>\n",
       "      <td>19404444.0</td>\n",
       "      <td>4218360.0</td>\n",
       "      <td>14048886.0</td>\n",
       "      <td>179360.0</td>\n",
       "      <td>5182563.0</td>\n",
       "      <td>5903220.0</td>\n",
       "    </tr>\n",
       "    <tr>\n",
       "      <th>18450</th>\n",
       "      <td>OH</td>\n",
       "      <td>0</td>\n",
       "      <td>5625160.0</td>\n",
       "      <td>5320530.0</td>\n",
       "      <td>152000.0</td>\n",
       "      <td>2735750.0</td>\n",
       "      <td>3667990.0</td>\n",
       "      <td>76540.0</td>\n",
       "      <td>10078420.0</td>\n",
       "      <td>93210.0</td>\n",
       "      <td>...</td>\n",
       "      <td>559416.0</td>\n",
       "      <td>1296780.0</td>\n",
       "      <td>6083543.0</td>\n",
       "      <td>4160280.0</td>\n",
       "      <td>14372546.0</td>\n",
       "      <td>4048680.0</td>\n",
       "      <td>11434248.0</td>\n",
       "      <td>138930.0</td>\n",
       "      <td>2775938.0</td>\n",
       "      <td>5261330.0</td>\n",
       "    </tr>\n",
       "    <tr>\n",
       "      <th>17454</th>\n",
       "      <td>NC</td>\n",
       "      <td>0</td>\n",
       "      <td>4867790.0</td>\n",
       "      <td>4545360.0</td>\n",
       "      <td>174500.0</td>\n",
       "      <td>2350550.0</td>\n",
       "      <td>2976300.0</td>\n",
       "      <td>74260.0</td>\n",
       "      <td>9176970.0</td>\n",
       "      <td>69960.0</td>\n",
       "      <td>...</td>\n",
       "      <td>694791.0</td>\n",
       "      <td>1318760.0</td>\n",
       "      <td>7466048.0</td>\n",
       "      <td>3410370.0</td>\n",
       "      <td>12522058.0</td>\n",
       "      <td>3321600.0</td>\n",
       "      <td>10059474.0</td>\n",
       "      <td>113360.0</td>\n",
       "      <td>2324478.0</td>\n",
       "      <td>4743770.0</td>\n",
       "    </tr>\n",
       "    <tr>\n",
       "      <th>4547</th>\n",
       "      <td>GA</td>\n",
       "      <td>0</td>\n",
       "      <td>4847010.0</td>\n",
       "      <td>4514650.0</td>\n",
       "      <td>155540.0</td>\n",
       "      <td>2475420.0</td>\n",
       "      <td>3082240.0</td>\n",
       "      <td>73920.0</td>\n",
       "      <td>9197470.0</td>\n",
       "      <td>51220.0</td>\n",
       "      <td>...</td>\n",
       "      <td>704471.0</td>\n",
       "      <td>1303590.0</td>\n",
       "      <td>8041523.0</td>\n",
       "      <td>3410510.0</td>\n",
       "      <td>14114303.0</td>\n",
       "      <td>3344070.0</td>\n",
       "      <td>11722071.0</td>\n",
       "      <td>80660.0</td>\n",
       "      <td>2216560.0</td>\n",
       "      <td>4713050.0</td>\n",
       "    </tr>\n",
       "    <tr>\n",
       "      <th>11150</th>\n",
       "      <td>MI</td>\n",
       "      <td>0</td>\n",
       "      <td>4803160.0</td>\n",
       "      <td>4512520.0</td>\n",
       "      <td>146060.0</td>\n",
       "      <td>2595650.0</td>\n",
       "      <td>3021910.0</td>\n",
       "      <td>75450.0</td>\n",
       "      <td>8658030.0</td>\n",
       "      <td>75570.0</td>\n",
       "      <td>...</td>\n",
       "      <td>517877.0</td>\n",
       "      <td>1062600.0</td>\n",
       "      <td>4835236.0</td>\n",
       "      <td>3478060.0</td>\n",
       "      <td>13135004.0</td>\n",
       "      <td>3377510.0</td>\n",
       "      <td>10122200.0</td>\n",
       "      <td>132690.0</td>\n",
       "      <td>2829995.0</td>\n",
       "      <td>4709720.0</td>\n",
       "    </tr>\n",
       "    <tr>\n",
       "      <th>15158</th>\n",
       "      <td>NJ</td>\n",
       "      <td>0</td>\n",
       "      <td>4574860.0</td>\n",
       "      <td>4250900.0</td>\n",
       "      <td>184940.0</td>\n",
       "      <td>2998760.0</td>\n",
       "      <td>2651010.0</td>\n",
       "      <td>97870.0</td>\n",
       "      <td>8341700.0</td>\n",
       "      <td>42290.0</td>\n",
       "      <td>...</td>\n",
       "      <td>928018.0</td>\n",
       "      <td>1295310.0</td>\n",
       "      <td>8730713.0</td>\n",
       "      <td>3137890.0</td>\n",
       "      <td>13968224.0</td>\n",
       "      <td>3020220.0</td>\n",
       "      <td>9869968.0</td>\n",
       "      <td>150370.0</td>\n",
       "      <td>3917212.0</td>\n",
       "      <td>4458690.0</td>\n",
       "    </tr>\n",
       "    <tr>\n",
       "      <th>25070</th>\n",
       "      <td>VA</td>\n",
       "      <td>0</td>\n",
       "      <td>4108450.0</td>\n",
       "      <td>3806180.0</td>\n",
       "      <td>158000.0</td>\n",
       "      <td>1828520.0</td>\n",
       "      <td>2546990.0</td>\n",
       "      <td>73860.0</td>\n",
       "      <td>7632930.0</td>\n",
       "      <td>55870.0</td>\n",
       "      <td>...</td>\n",
       "      <td>705273.0</td>\n",
       "      <td>1156660.0</td>\n",
       "      <td>6273049.0</td>\n",
       "      <td>2842720.0</td>\n",
       "      <td>11654137.0</td>\n",
       "      <td>2758320.0</td>\n",
       "      <td>8743397.0</td>\n",
       "      <td>107470.0</td>\n",
       "      <td>2787066.0</td>\n",
       "      <td>3987470.0</td>\n",
       "    </tr>\n",
       "    <tr>\n",
       "      <th>25864</th>\n",
       "      <td>WA</td>\n",
       "      <td>0</td>\n",
       "      <td>3705170.0</td>\n",
       "      <td>3464570.0</td>\n",
       "      <td>111990.0</td>\n",
       "      <td>1517550.0</td>\n",
       "      <td>2251290.0</td>\n",
       "      <td>88510.0</td>\n",
       "      <td>6863590.0</td>\n",
       "      <td>45560.0</td>\n",
       "      <td>...</td>\n",
       "      <td>964981.0</td>\n",
       "      <td>1031090.0</td>\n",
       "      <td>7359789.0</td>\n",
       "      <td>2567360.0</td>\n",
       "      <td>10867605.0</td>\n",
       "      <td>2474400.0</td>\n",
       "      <td>8024916.0</td>\n",
       "      <td>118830.0</td>\n",
       "      <td>2747265.0</td>\n",
       "      <td>3639790.0</td>\n",
       "    </tr>\n",
       "    <tr>\n",
       "      <th>10668</th>\n",
       "      <td>MA</td>\n",
       "      <td>0</td>\n",
       "      <td>3523420.0</td>\n",
       "      <td>3273070.0</td>\n",
       "      <td>139940.0</td>\n",
       "      <td>1979780.0</td>\n",
       "      <td>2006580.0</td>\n",
       "      <td>68700.0</td>\n",
       "      <td>6023380.0</td>\n",
       "      <td>47200.0</td>\n",
       "      <td>...</td>\n",
       "      <td>1266463.0</td>\n",
       "      <td>982740.0</td>\n",
       "      <td>7114029.0</td>\n",
       "      <td>2422600.0</td>\n",
       "      <td>11926503.0</td>\n",
       "      <td>2324700.0</td>\n",
       "      <td>7506392.0</td>\n",
       "      <td>129750.0</td>\n",
       "      <td>4206834.0</td>\n",
       "      <td>3440890.0</td>\n",
       "    </tr>\n",
       "    <tr>\n",
       "      <th>630</th>\n",
       "      <td>AZ</td>\n",
       "      <td>0</td>\n",
       "      <td>3312220.0</td>\n",
       "      <td>3094790.0</td>\n",
       "      <td>113910.0</td>\n",
       "      <td>1532530.0</td>\n",
       "      <td>2040500.0</td>\n",
       "      <td>58130.0</td>\n",
       "      <td>6195450.0</td>\n",
       "      <td>69410.0</td>\n",
       "      <td>...</td>\n",
       "      <td>597470.0</td>\n",
       "      <td>924020.0</td>\n",
       "      <td>5597335.0</td>\n",
       "      <td>2276510.0</td>\n",
       "      <td>8870733.0</td>\n",
       "      <td>2215810.0</td>\n",
       "      <td>6955901.0</td>\n",
       "      <td>78000.0</td>\n",
       "      <td>1851411.0</td>\n",
       "      <td>3256630.0</td>\n",
       "    </tr>\n",
       "    <tr>\n",
       "      <th>6720</th>\n",
       "      <td>IN</td>\n",
       "      <td>0</td>\n",
       "      <td>3202280.0</td>\n",
       "      <td>3029960.0</td>\n",
       "      <td>89080.0</td>\n",
       "      <td>1571260.0</td>\n",
       "      <td>2131020.0</td>\n",
       "      <td>39340.0</td>\n",
       "      <td>5992900.0</td>\n",
       "      <td>46930.0</td>\n",
       "      <td>...</td>\n",
       "      <td>253016.0</td>\n",
       "      <td>671140.0</td>\n",
       "      <td>3198990.0</td>\n",
       "      <td>2399570.0</td>\n",
       "      <td>8551144.0</td>\n",
       "      <td>2344510.0</td>\n",
       "      <td>6964302.0</td>\n",
       "      <td>73010.0</td>\n",
       "      <td>1494205.0</td>\n",
       "      <td>3129520.0</td>\n",
       "    </tr>\n",
       "    <tr>\n",
       "      <th>22432</th>\n",
       "      <td>TN</td>\n",
       "      <td>0</td>\n",
       "      <td>3197180.0</td>\n",
       "      <td>3012470.0</td>\n",
       "      <td>89670.0</td>\n",
       "      <td>1525140.0</td>\n",
       "      <td>2118350.0</td>\n",
       "      <td>43840.0</td>\n",
       "      <td>6039830.0</td>\n",
       "      <td>40670.0</td>\n",
       "      <td>...</td>\n",
       "      <td>543379.0</td>\n",
       "      <td>780970.0</td>\n",
       "      <td>5125657.0</td>\n",
       "      <td>2335650.0</td>\n",
       "      <td>9068334.0</td>\n",
       "      <td>2280310.0</td>\n",
       "      <td>7158728.0</td>\n",
       "      <td>66480.0</td>\n",
       "      <td>1807035.0</td>\n",
       "      <td>3116020.0</td>\n",
       "    </tr>\n",
       "    <tr>\n",
       "      <th>10263</th>\n",
       "      <td>MD</td>\n",
       "      <td>0</td>\n",
       "      <td>3054110.0</td>\n",
       "      <td>2756170.0</td>\n",
       "      <td>158970.0</td>\n",
       "      <td>1528860.0</td>\n",
       "      <td>1819020.0</td>\n",
       "      <td>51070.0</td>\n",
       "      <td>5493540.0</td>\n",
       "      <td>39440.0</td>\n",
       "      <td>...</td>\n",
       "      <td>452882.0</td>\n",
       "      <td>885750.0</td>\n",
       "      <td>4491736.0</td>\n",
       "      <td>2078680.0</td>\n",
       "      <td>8637598.0</td>\n",
       "      <td>2015660.0</td>\n",
       "      <td>6465135.0</td>\n",
       "      <td>83140.0</td>\n",
       "      <td>2105289.0</td>\n",
       "      <td>2945120.0</td>\n",
       "    </tr>\n",
       "    <tr>\n",
       "      <th>26869</th>\n",
       "      <td>WI</td>\n",
       "      <td>0</td>\n",
       "      <td>2902800.0</td>\n",
       "      <td>2745420.0</td>\n",
       "      <td>70730.0</td>\n",
       "      <td>1512660.0</td>\n",
       "      <td>1755370.0</td>\n",
       "      <td>37370.0</td>\n",
       "      <td>5241900.0</td>\n",
       "      <td>38950.0</td>\n",
       "      <td>...</td>\n",
       "      <td>293594.0</td>\n",
       "      <td>745110.0</td>\n",
       "      <td>3399435.0</td>\n",
       "      <td>2046410.0</td>\n",
       "      <td>6996076.0</td>\n",
       "      <td>1985200.0</td>\n",
       "      <td>5333264.0</td>\n",
       "      <td>82490.0</td>\n",
       "      <td>1545768.0</td>\n",
       "      <td>2868870.0</td>\n",
       "    </tr>\n",
       "    <tr>\n",
       "      <th>2883</th>\n",
       "      <td>CO</td>\n",
       "      <td>0</td>\n",
       "      <td>2923860.0</td>\n",
       "      <td>2736720.0</td>\n",
       "      <td>99140.0</td>\n",
       "      <td>1291580.0</td>\n",
       "      <td>1707640.0</td>\n",
       "      <td>62360.0</td>\n",
       "      <td>5181790.0</td>\n",
       "      <td>41810.0</td>\n",
       "      <td>...</td>\n",
       "      <td>803545.0</td>\n",
       "      <td>878820.0</td>\n",
       "      <td>5757555.0</td>\n",
       "      <td>1946250.0</td>\n",
       "      <td>8189466.0</td>\n",
       "      <td>1874270.0</td>\n",
       "      <td>5673171.0</td>\n",
       "      <td>92950.0</td>\n",
       "      <td>2429148.0</td>\n",
       "      <td>2857220.0</td>\n",
       "    </tr>\n",
       "    <tr>\n",
       "      <th>12044</th>\n",
       "      <td>MN</td>\n",
       "      <td>0</td>\n",
       "      <td>2837570.0</td>\n",
       "      <td>2673860.0</td>\n",
       "      <td>76100.0</td>\n",
       "      <td>1521860.0</td>\n",
       "      <td>1683810.0</td>\n",
       "      <td>45070.0</td>\n",
       "      <td>5181710.0</td>\n",
       "      <td>47440.0</td>\n",
       "      <td>...</td>\n",
       "      <td>356791.0</td>\n",
       "      <td>792900.0</td>\n",
       "      <td>4219348.0</td>\n",
       "      <td>1937590.0</td>\n",
       "      <td>6872979.0</td>\n",
       "      <td>1874730.0</td>\n",
       "      <td>5232632.0</td>\n",
       "      <td>79120.0</td>\n",
       "      <td>1512931.0</td>\n",
       "      <td>2788750.0</td>\n",
       "    </tr>\n",
       "    <tr>\n",
       "      <th>13204</th>\n",
       "      <td>MO</td>\n",
       "      <td>0</td>\n",
       "      <td>2830790.0</td>\n",
       "      <td>2661330.0</td>\n",
       "      <td>82080.0</td>\n",
       "      <td>1422310.0</td>\n",
       "      <td>1774640.0</td>\n",
       "      <td>37020.0</td>\n",
       "      <td>5294360.0</td>\n",
       "      <td>54360.0</td>\n",
       "      <td>...</td>\n",
       "      <td>373877.0</td>\n",
       "      <td>679600.0</td>\n",
       "      <td>3537684.0</td>\n",
       "      <td>2032700.0</td>\n",
       "      <td>7325754.0</td>\n",
       "      <td>1982250.0</td>\n",
       "      <td>5828469.0</td>\n",
       "      <td>61560.0</td>\n",
       "      <td>1387223.0</td>\n",
       "      <td>2761860.0</td>\n",
       "    </tr>\n",
       "    <tr>\n",
       "      <th>21776</th>\n",
       "      <td>SC</td>\n",
       "      <td>0</td>\n",
       "      <td>2445530.0</td>\n",
       "      <td>2292630.0</td>\n",
       "      <td>77520.0</td>\n",
       "      <td>1219960.0</td>\n",
       "      <td>1500480.0</td>\n",
       "      <td>31040.0</td>\n",
       "      <td>4542680.0</td>\n",
       "      <td>40420.0</td>\n",
       "      <td>...</td>\n",
       "      <td>324958.0</td>\n",
       "      <td>691450.0</td>\n",
       "      <td>3754851.0</td>\n",
       "      <td>1679020.0</td>\n",
       "      <td>5934015.0</td>\n",
       "      <td>1638980.0</td>\n",
       "      <td>4843902.0</td>\n",
       "      <td>50650.0</td>\n",
       "      <td>1030848.0</td>\n",
       "      <td>2364840.0</td>\n",
       "    </tr>\n",
       "    <tr>\n",
       "      <th>0</th>\n",
       "      <td>AL</td>\n",
       "      <td>0</td>\n",
       "      <td>2116220.0</td>\n",
       "      <td>1979060.0</td>\n",
       "      <td>64740.0</td>\n",
       "      <td>1164170.0</td>\n",
       "      <td>1380180.0</td>\n",
       "      <td>22130.0</td>\n",
       "      <td>4078970.0</td>\n",
       "      <td>28330.0</td>\n",
       "      <td>...</td>\n",
       "      <td>223948.0</td>\n",
       "      <td>517250.0</td>\n",
       "      <td>2853174.0</td>\n",
       "      <td>1539200.0</td>\n",
       "      <td>5820514.0</td>\n",
       "      <td>1507110.0</td>\n",
       "      <td>4971630.0</td>\n",
       "      <td>36500.0</td>\n",
       "      <td>767916.0</td>\n",
       "      <td>2065720.0</td>\n",
       "    </tr>\n",
       "    <tr>\n",
       "      <th>19991</th>\n",
       "      <td>OR</td>\n",
       "      <td>0</td>\n",
       "      <td>1997850.0</td>\n",
       "      <td>1866470.0</td>\n",
       "      <td>64410.0</td>\n",
       "      <td>845210.0</td>\n",
       "      <td>1153240.0</td>\n",
       "      <td>37360.0</td>\n",
       "      <td>3574410.0</td>\n",
       "      <td>27230.0</td>\n",
       "      <td>...</td>\n",
       "      <td>282491.0</td>\n",
       "      <td>575460.0</td>\n",
       "      <td>3111129.0</td>\n",
       "      <td>1347520.0</td>\n",
       "      <td>4557512.0</td>\n",
       "      <td>1297720.0</td>\n",
       "      <td>3530017.0</td>\n",
       "      <td>65380.0</td>\n",
       "      <td>962368.0</td>\n",
       "      <td>1957060.0</td>\n",
       "    </tr>\n",
       "    <tr>\n",
       "      <th>9446</th>\n",
       "      <td>LA</td>\n",
       "      <td>0</td>\n",
       "      <td>1937150.0</td>\n",
       "      <td>1793020.0</td>\n",
       "      <td>73820.0</td>\n",
       "      <td>1024160.0</td>\n",
       "      <td>1304060.0</td>\n",
       "      <td>20460.0</td>\n",
       "      <td>3717340.0</td>\n",
       "      <td>27210.0</td>\n",
       "      <td>...</td>\n",
       "      <td>231765.0</td>\n",
       "      <td>428570.0</td>\n",
       "      <td>2415310.0</td>\n",
       "      <td>1456370.0</td>\n",
       "      <td>6081606.0</td>\n",
       "      <td>1422240.0</td>\n",
       "      <td>4991087.0</td>\n",
       "      <td>39250.0</td>\n",
       "      <td>1008986.0</td>\n",
       "      <td>1903090.0</td>\n",
       "    </tr>\n",
       "    <tr>\n",
       "      <th>8797</th>\n",
       "      <td>KY</td>\n",
       "      <td>0</td>\n",
       "      <td>1944780.0</td>\n",
       "      <td>1849850.0</td>\n",
       "      <td>47600.0</td>\n",
       "      <td>1052860.0</td>\n",
       "      <td>1287480.0</td>\n",
       "      <td>19150.0</td>\n",
       "      <td>3710130.0</td>\n",
       "      <td>30390.0</td>\n",
       "      <td>...</td>\n",
       "      <td>179868.0</td>\n",
       "      <td>423490.0</td>\n",
       "      <td>1960911.0</td>\n",
       "      <td>1462000.0</td>\n",
       "      <td>4968132.0</td>\n",
       "      <td>1427260.0</td>\n",
       "      <td>4101035.0</td>\n",
       "      <td>41460.0</td>\n",
       "      <td>797855.0</td>\n",
       "      <td>1898300.0</td>\n",
       "    </tr>\n",
       "    <tr>\n",
       "      <th>3283</th>\n",
       "      <td>CT</td>\n",
       "      <td>0</td>\n",
       "      <td>1797180.0</td>\n",
       "      <td>1674310.0</td>\n",
       "      <td>68130.0</td>\n",
       "      <td>962710.0</td>\n",
       "      <td>1087340.0</td>\n",
       "      <td>33020.0</td>\n",
       "      <td>3169410.0</td>\n",
       "      <td>48200.0</td>\n",
       "      <td>...</td>\n",
       "      <td>759753.0</td>\n",
       "      <td>480610.0</td>\n",
       "      <td>3494390.0</td>\n",
       "      <td>1264820.0</td>\n",
       "      <td>6566402.0</td>\n",
       "      <td>1210990.0</td>\n",
       "      <td>3992267.0</td>\n",
       "      <td>70450.0</td>\n",
       "      <td>2505497.0</td>\n",
       "      <td>1752330.0</td>\n",
       "    </tr>\n",
       "    <tr>\n",
       "      <th>19448</th>\n",
       "      <td>OK</td>\n",
       "      <td>0</td>\n",
       "      <td>1678230.0</td>\n",
       "      <td>1582090.0</td>\n",
       "      <td>44990.0</td>\n",
       "      <td>842150.0</td>\n",
       "      <td>1112420.0</td>\n",
       "      <td>20180.0</td>\n",
       "      <td>3325400.0</td>\n",
       "      <td>28620.0</td>\n",
       "      <td>...</td>\n",
       "      <td>220880.0</td>\n",
       "      <td>408160.0</td>\n",
       "      <td>2219225.0</td>\n",
       "      <td>1208100.0</td>\n",
       "      <td>4610932.0</td>\n",
       "      <td>1178860.0</td>\n",
       "      <td>3701454.0</td>\n",
       "      <td>33070.0</td>\n",
       "      <td>839122.0</td>\n",
       "      <td>1636540.0</td>\n",
       "    </tr>\n",
       "    <tr>\n",
       "      <th>14797</th>\n",
       "      <td>NV</td>\n",
       "      <td>0</td>\n",
       "      <td>1523510.0</td>\n",
       "      <td>1430520.0</td>\n",
       "      <td>45970.0</td>\n",
       "      <td>792560.0</td>\n",
       "      <td>974990.0</td>\n",
       "      <td>26930.0</td>\n",
       "      <td>2752750.0</td>\n",
       "      <td>14780.0</td>\n",
       "      <td>...</td>\n",
       "      <td>528760.0</td>\n",
       "      <td>386060.0</td>\n",
       "      <td>2995856.0</td>\n",
       "      <td>1095080.0</td>\n",
       "      <td>5212289.0</td>\n",
       "      <td>1068470.0</td>\n",
       "      <td>3634560.0</td>\n",
       "      <td>33140.0</td>\n",
       "      <td>1433261.0</td>\n",
       "      <td>1492520.0</td>\n",
       "    </tr>\n",
       "    <tr>\n",
       "      <th>24643</th>\n",
       "      <td>UT</td>\n",
       "      <td>0</td>\n",
       "      <td>1493220.0</td>\n",
       "      <td>1404430.0</td>\n",
       "      <td>50810.0</td>\n",
       "      <td>716050.0</td>\n",
       "      <td>928760.0</td>\n",
       "      <td>34820.0</td>\n",
       "      <td>3067330.0</td>\n",
       "      <td>20170.0</td>\n",
       "      <td>...</td>\n",
       "      <td>334563.0</td>\n",
       "      <td>417720.0</td>\n",
       "      <td>2615158.0</td>\n",
       "      <td>1029060.0</td>\n",
       "      <td>4174876.0</td>\n",
       "      <td>1006850.0</td>\n",
       "      <td>3140034.0</td>\n",
       "      <td>28110.0</td>\n",
       "      <td>991966.0</td>\n",
       "      <td>1465890.0</td>\n",
       "    </tr>\n",
       "    <tr>\n",
       "      <th>7395</th>\n",
       "      <td>IA</td>\n",
       "      <td>0</td>\n",
       "      <td>1463980.0</td>\n",
       "      <td>1402870.0</td>\n",
       "      <td>25520.0</td>\n",
       "      <td>883230.0</td>\n",
       "      <td>917000.0</td>\n",
       "      <td>15170.0</td>\n",
       "      <td>2784320.0</td>\n",
       "      <td>17880.0</td>\n",
       "      <td>...</td>\n",
       "      <td>131204.0</td>\n",
       "      <td>372380.0</td>\n",
       "      <td>1792804.0</td>\n",
       "      <td>1047270.0</td>\n",
       "      <td>3541034.0</td>\n",
       "      <td>1010550.0</td>\n",
       "      <td>2874278.0</td>\n",
       "      <td>43160.0</td>\n",
       "      <td>587931.0</td>\n",
       "      <td>1437450.0</td>\n",
       "    </tr>\n",
       "    <tr>\n",
       "      <th>8220</th>\n",
       "      <td>KS</td>\n",
       "      <td>0</td>\n",
       "      <td>1340680.0</td>\n",
       "      <td>1276530.0</td>\n",
       "      <td>30940.0</td>\n",
       "      <td>696120.0</td>\n",
       "      <td>823920.0</td>\n",
       "      <td>18870.0</td>\n",
       "      <td>2561640.0</td>\n",
       "      <td>26470.0</td>\n",
       "      <td>...</td>\n",
       "      <td>165928.0</td>\n",
       "      <td>340100.0</td>\n",
       "      <td>1863809.0</td>\n",
       "      <td>946570.0</td>\n",
       "      <td>3541000.0</td>\n",
       "      <td>915630.0</td>\n",
       "      <td>2681361.0</td>\n",
       "      <td>37150.0</td>\n",
       "      <td>777048.0</td>\n",
       "      <td>1308260.0</td>\n",
       "    </tr>\n",
       "    <tr>\n",
       "      <th>925</th>\n",
       "      <td>AR</td>\n",
       "      <td>0</td>\n",
       "      <td>1272110.0</td>\n",
       "      <td>1201990.0</td>\n",
       "      <td>32870.0</td>\n",
       "      <td>695320.0</td>\n",
       "      <td>830230.0</td>\n",
       "      <td>13790.0</td>\n",
       "      <td>2499140.0</td>\n",
       "      <td>18310.0</td>\n",
       "      <td>...</td>\n",
       "      <td>289276.0</td>\n",
       "      <td>305150.0</td>\n",
       "      <td>1601993.0</td>\n",
       "      <td>929670.0</td>\n",
       "      <td>3575122.0</td>\n",
       "      <td>911570.0</td>\n",
       "      <td>2861793.0</td>\n",
       "      <td>20120.0</td>\n",
       "      <td>653694.0</td>\n",
       "      <td>1241530.0</td>\n",
       "    </tr>\n",
       "    <tr>\n",
       "      <th>12834</th>\n",
       "      <td>MS</td>\n",
       "      <td>0</td>\n",
       "      <td>1223610.0</td>\n",
       "      <td>1152540.0</td>\n",
       "      <td>35320.0</td>\n",
       "      <td>675020.0</td>\n",
       "      <td>834980.0</td>\n",
       "      <td>10230.0</td>\n",
       "      <td>2391340.0</td>\n",
       "      <td>13950.0</td>\n",
       "      <td>...</td>\n",
       "      <td>79653.0</td>\n",
       "      <td>270310.0</td>\n",
       "      <td>1342963.0</td>\n",
       "      <td>925780.0</td>\n",
       "      <td>3395640.0</td>\n",
       "      <td>910030.0</td>\n",
       "      <td>3049023.0</td>\n",
       "      <td>16890.0</td>\n",
       "      <td>296435.0</td>\n",
       "      <td>1195580.0</td>\n",
       "    </tr>\n",
       "    <tr>\n",
       "      <th>15705</th>\n",
       "      <td>NM</td>\n",
       "      <td>0</td>\n",
       "      <td>963220.0</td>\n",
       "      <td>896830.0</td>\n",
       "      <td>32480.0</td>\n",
       "      <td>425230.0</td>\n",
       "      <td>618050.0</td>\n",
       "      <td>10910.0</td>\n",
       "      <td>1750910.0</td>\n",
       "      <td>26720.0</td>\n",
       "      <td>...</td>\n",
       "      <td>99129.0</td>\n",
       "      <td>227240.0</td>\n",
       "      <td>1073310.0</td>\n",
       "      <td>685490.0</td>\n",
       "      <td>2274779.0</td>\n",
       "      <td>668770.0</td>\n",
       "      <td>1922059.0</td>\n",
       "      <td>20580.0</td>\n",
       "      <td>328162.0</td>\n",
       "      <td>948530.0</td>\n",
       "    </tr>\n",
       "    <tr>\n",
       "      <th>14320</th>\n",
       "      <td>NE</td>\n",
       "      <td>0</td>\n",
       "      <td>926500.0</td>\n",
       "      <td>885150.0</td>\n",
       "      <td>19280.0</td>\n",
       "      <td>492560.0</td>\n",
       "      <td>578980.0</td>\n",
       "      <td>11560.0</td>\n",
       "      <td>1770490.0</td>\n",
       "      <td>13210.0</td>\n",
       "      <td>...</td>\n",
       "      <td>107119.0</td>\n",
       "      <td>246180.0</td>\n",
       "      <td>1491464.0</td>\n",
       "      <td>648000.0</td>\n",
       "      <td>2278856.0</td>\n",
       "      <td>626910.0</td>\n",
       "      <td>1747445.0</td>\n",
       "      <td>24510.0</td>\n",
       "      <td>475535.0</td>\n",
       "      <td>908170.0</td>\n",
       "    </tr>\n",
       "    <tr>\n",
       "      <th>5273</th>\n",
       "      <td>ID</td>\n",
       "      <td>0</td>\n",
       "      <td>854020.0</td>\n",
       "      <td>805600.0</td>\n",
       "      <td>23510.0</td>\n",
       "      <td>420830.0</td>\n",
       "      <td>502590.0</td>\n",
       "      <td>14910.0</td>\n",
       "      <td>1711120.0</td>\n",
       "      <td>15990.0</td>\n",
       "      <td>...</td>\n",
       "      <td>158104.0</td>\n",
       "      <td>238040.0</td>\n",
       "      <td>1549257.0</td>\n",
       "      <td>583330.0</td>\n",
       "      <td>2113493.0</td>\n",
       "      <td>566060.0</td>\n",
       "      <td>1637961.0</td>\n",
       "      <td>21670.0</td>\n",
       "      <td>452909.0</td>\n",
       "      <td>842800.0</td>\n",
       "    </tr>\n",
       "    <tr>\n",
       "      <th>26364</th>\n",
       "      <td>WV</td>\n",
       "      <td>0</td>\n",
       "      <td>764090.0</td>\n",
       "      <td>716480.0</td>\n",
       "      <td>23700.0</td>\n",
       "      <td>339660.0</td>\n",
       "      <td>521910.0</td>\n",
       "      <td>4820.0</td>\n",
       "      <td>1435900.0</td>\n",
       "      <td>15700.0</td>\n",
       "      <td>...</td>\n",
       "      <td>46372.0</td>\n",
       "      <td>142100.0</td>\n",
       "      <td>549584.0</td>\n",
       "      <td>589910.0</td>\n",
       "      <td>1817413.0</td>\n",
       "      <td>578450.0</td>\n",
       "      <td>1608791.0</td>\n",
       "      <td>11880.0</td>\n",
       "      <td>170292.0</td>\n",
       "      <td>745540.0</td>\n",
       "    </tr>\n",
       "    <tr>\n",
       "      <th>14927</th>\n",
       "      <td>NH</td>\n",
       "      <td>0</td>\n",
       "      <td>723020.0</td>\n",
       "      <td>672080.0</td>\n",
       "      <td>24660.0</td>\n",
       "      <td>310340.0</td>\n",
       "      <td>436670.0</td>\n",
       "      <td>11090.0</td>\n",
       "      <td>1253770.0</td>\n",
       "      <td>12090.0</td>\n",
       "      <td>...</td>\n",
       "      <td>141644.0</td>\n",
       "      <td>186200.0</td>\n",
       "      <td>1223623.0</td>\n",
       "      <td>517490.0</td>\n",
       "      <td>2039592.0</td>\n",
       "      <td>497060.0</td>\n",
       "      <td>1493028.0</td>\n",
       "      <td>25990.0</td>\n",
       "      <td>487066.0</td>\n",
       "      <td>704620.0</td>\n",
       "    </tr>\n",
       "    <tr>\n",
       "      <th>9891</th>\n",
       "      <td>ME</td>\n",
       "      <td>0</td>\n",
       "      <td>697740.0</td>\n",
       "      <td>647500.0</td>\n",
       "      <td>23750.0</td>\n",
       "      <td>312440.0</td>\n",
       "      <td>415000.0</td>\n",
       "      <td>7440.0</td>\n",
       "      <td>1201570.0</td>\n",
       "      <td>13950.0</td>\n",
       "      <td>...</td>\n",
       "      <td>72969.0</td>\n",
       "      <td>176670.0</td>\n",
       "      <td>899511.0</td>\n",
       "      <td>490090.0</td>\n",
       "      <td>1502659.0</td>\n",
       "      <td>474930.0</td>\n",
       "      <td>1225230.0</td>\n",
       "      <td>18650.0</td>\n",
       "      <td>239990.0</td>\n",
       "      <td>681590.0</td>\n",
       "    </tr>\n",
       "    <tr>\n",
       "      <th>5213</th>\n",
       "      <td>HI</td>\n",
       "      <td>0</td>\n",
       "      <td>674660.0</td>\n",
       "      <td>608860.0</td>\n",
       "      <td>36190.0</td>\n",
       "      <td>348620.0</td>\n",
       "      <td>379860.0</td>\n",
       "      <td>8790.0</td>\n",
       "      <td>1217160.0</td>\n",
       "      <td>9950.0</td>\n",
       "      <td>...</td>\n",
       "      <td>119835.0</td>\n",
       "      <td>181110.0</td>\n",
       "      <td>974355.0</td>\n",
       "      <td>463850.0</td>\n",
       "      <td>1782296.0</td>\n",
       "      <td>440510.0</td>\n",
       "      <td>1308420.0</td>\n",
       "      <td>29830.0</td>\n",
       "      <td>460199.0</td>\n",
       "      <td>656490.0</td>\n",
       "    </tr>\n",
       "    <tr>\n",
       "      <th>21705</th>\n",
       "      <td>RI</td>\n",
       "      <td>0</td>\n",
       "      <td>559830.0</td>\n",
       "      <td>526070.0</td>\n",
       "      <td>17830.0</td>\n",
       "      <td>329590.0</td>\n",
       "      <td>347450.0</td>\n",
       "      <td>8850.0</td>\n",
       "      <td>933720.0</td>\n",
       "      <td>14300.0</td>\n",
       "      <td>...</td>\n",
       "      <td>83969.0</td>\n",
       "      <td>138660.0</td>\n",
       "      <td>709359.0</td>\n",
       "      <td>404130.0</td>\n",
       "      <td>1475564.0</td>\n",
       "      <td>391280.0</td>\n",
       "      <td>1113801.0</td>\n",
       "      <td>16950.0</td>\n",
       "      <td>345509.0</td>\n",
       "      <td>542900.0</td>\n",
       "    </tr>\n",
       "    <tr>\n",
       "      <th>14094</th>\n",
       "      <td>MT</td>\n",
       "      <td>0</td>\n",
       "      <td>539360.0</td>\n",
       "      <td>510340.0</td>\n",
       "      <td>13930.0</td>\n",
       "      <td>279630.0</td>\n",
       "      <td>303620.0</td>\n",
       "      <td>7470.0</td>\n",
       "      <td>969750.0</td>\n",
       "      <td>10250.0</td>\n",
       "      <td>...</td>\n",
       "      <td>105543.0</td>\n",
       "      <td>147950.0</td>\n",
       "      <td>983845.0</td>\n",
       "      <td>363610.0</td>\n",
       "      <td>1310885.0</td>\n",
       "      <td>346450.0</td>\n",
       "      <td>944296.0</td>\n",
       "      <td>20660.0</td>\n",
       "      <td>333983.0</td>\n",
       "      <td>527940.0</td>\n",
       "    </tr>\n",
       "    <tr>\n",
       "      <th>3547</th>\n",
       "      <td>DE</td>\n",
       "      <td>0</td>\n",
       "      <td>497210.0</td>\n",
       "      <td>461470.0</td>\n",
       "      <td>18180.0</td>\n",
       "      <td>237120.0</td>\n",
       "      <td>308030.0</td>\n",
       "      <td>7130.0</td>\n",
       "      <td>893310.0</td>\n",
       "      <td>11400.0</td>\n",
       "      <td>...</td>\n",
       "      <td>62720.0</td>\n",
       "      <td>130290.0</td>\n",
       "      <td>668843.0</td>\n",
       "      <td>353930.0</td>\n",
       "      <td>1274532.0</td>\n",
       "      <td>344040.0</td>\n",
       "      <td>1029006.0</td>\n",
       "      <td>13830.0</td>\n",
       "      <td>238268.0</td>\n",
       "      <td>483430.0</td>\n",
       "    </tr>\n",
       "    <tr>\n",
       "      <th>22150</th>\n",
       "      <td>SD</td>\n",
       "      <td>0</td>\n",
       "      <td>433640.0</td>\n",
       "      <td>413350.0</td>\n",
       "      <td>8480.0</td>\n",
       "      <td>233700.0</td>\n",
       "      <td>264580.0</td>\n",
       "      <td>5790.0</td>\n",
       "      <td>814790.0</td>\n",
       "      <td>5820.0</td>\n",
       "      <td>...</td>\n",
       "      <td>68365.0</td>\n",
       "      <td>114290.0</td>\n",
       "      <td>866267.0</td>\n",
       "      <td>304640.0</td>\n",
       "      <td>1157287.0</td>\n",
       "      <td>292120.0</td>\n",
       "      <td>851046.0</td>\n",
       "      <td>14170.0</td>\n",
       "      <td>278182.0</td>\n",
       "      <td>424540.0</td>\n",
       "    </tr>\n",
       "    <tr>\n",
       "      <th>18178</th>\n",
       "      <td>ND</td>\n",
       "      <td>0</td>\n",
       "      <td>362520.0</td>\n",
       "      <td>345770.0</td>\n",
       "      <td>6820.0</td>\n",
       "      <td>199180.0</td>\n",
       "      <td>217280.0</td>\n",
       "      <td>5030.0</td>\n",
       "      <td>677400.0</td>\n",
       "      <td>4630.0</td>\n",
       "      <td>...</td>\n",
       "      <td>72007.0</td>\n",
       "      <td>100040.0</td>\n",
       "      <td>851430.0</td>\n",
       "      <td>251140.0</td>\n",
       "      <td>959902.0</td>\n",
       "      <td>240920.0</td>\n",
       "      <td>700579.0</td>\n",
       "      <td>11050.0</td>\n",
       "      <td>224372.0</td>\n",
       "      <td>354750.0</td>\n",
       "    </tr>\n",
       "    <tr>\n",
       "      <th>573</th>\n",
       "      <td>AK</td>\n",
       "      <td>0</td>\n",
       "      <td>344240.0</td>\n",
       "      <td>318410.0</td>\n",
       "      <td>12730.0</td>\n",
       "      <td>140240.0</td>\n",
       "      <td>197560.0</td>\n",
       "      <td>7000.0</td>\n",
       "      <td>630120.0</td>\n",
       "      <td>11480.0</td>\n",
       "      <td>...</td>\n",
       "      <td>38961.0</td>\n",
       "      <td>110460.0</td>\n",
       "      <td>558832.0</td>\n",
       "      <td>222500.0</td>\n",
       "      <td>848104.0</td>\n",
       "      <td>215450.0</td>\n",
       "      <td>676243.0</td>\n",
       "      <td>8420.0</td>\n",
       "      <td>158154.0</td>\n",
       "      <td>335010.0</td>\n",
       "    </tr>\n",
       "    <tr>\n",
       "      <th>3604</th>\n",
       "      <td>DC</td>\n",
       "      <td>0</td>\n",
       "      <td>343810.0</td>\n",
       "      <td>317150.0</td>\n",
       "      <td>13740.0</td>\n",
       "      <td>150740.0</td>\n",
       "      <td>207960.0</td>\n",
       "      <td>8420.0</td>\n",
       "      <td>528340.0</td>\n",
       "      <td>5810.0</td>\n",
       "      <td>...</td>\n",
       "      <td>125958.0</td>\n",
       "      <td>101230.0</td>\n",
       "      <td>658343.0</td>\n",
       "      <td>235230.0</td>\n",
       "      <td>1365832.0</td>\n",
       "      <td>224390.0</td>\n",
       "      <td>768785.0</td>\n",
       "      <td>13660.0</td>\n",
       "      <td>593850.0</td>\n",
       "      <td>332870.0</td>\n",
       "    </tr>\n",
       "    <tr>\n",
       "      <th>24834</th>\n",
       "      <td>VT</td>\n",
       "      <td>0</td>\n",
       "      <td>330580.0</td>\n",
       "      <td>309830.0</td>\n",
       "      <td>8510.0</td>\n",
       "      <td>152680.0</td>\n",
       "      <td>191750.0</td>\n",
       "      <td>3300.0</td>\n",
       "      <td>561640.0</td>\n",
       "      <td>9040.0</td>\n",
       "      <td>...</td>\n",
       "      <td>42565.0</td>\n",
       "      <td>79880.0</td>\n",
       "      <td>392242.0</td>\n",
       "      <td>234200.0</td>\n",
       "      <td>796866.0</td>\n",
       "      <td>223630.0</td>\n",
       "      <td>602585.0</td>\n",
       "      <td>13100.0</td>\n",
       "      <td>165539.0</td>\n",
       "      <td>323210.0</td>\n",
       "    </tr>\n",
       "    <tr>\n",
       "      <th>27583</th>\n",
       "      <td>WY</td>\n",
       "      <td>0</td>\n",
       "      <td>275130.0</td>\n",
       "      <td>260360.0</td>\n",
       "      <td>6490.0</td>\n",
       "      <td>133090.0</td>\n",
       "      <td>168720.0</td>\n",
       "      <td>4060.0</td>\n",
       "      <td>519410.0</td>\n",
       "      <td>5730.0</td>\n",
       "      <td>...</td>\n",
       "      <td>159841.0</td>\n",
       "      <td>69460.0</td>\n",
       "      <td>547472.0</td>\n",
       "      <td>196190.0</td>\n",
       "      <td>1149960.0</td>\n",
       "      <td>187600.0</td>\n",
       "      <td>630782.0</td>\n",
       "      <td>10310.0</td>\n",
       "      <td>458558.0</td>\n",
       "      <td>269050.0</td>\n",
       "    </tr>\n",
       "  </tbody>\n",
       "</table>\n",
       "<p>51 rows × 161 columns</p>\n",
       "</div>"
      ],
      "text/plain": [
       "      STATE  ZIPCODE          N1         ELF     CPREP        PREP  \\\n",
       "1406     CA        0  18147120.0  16891410.0  721420.0  11188180.0   \n",
       "23024    TX        0  13402590.0  12405190.0  552870.0   6451410.0   \n",
       "3628     FL        0  10911940.0  10090680.0  446280.0   6016290.0   \n",
       "15917    NY        0   9597940.0   9132350.0  221890.0   6191150.0   \n",
       "20341    PA        0   6234950.0   5812390.0  217910.0   3217510.0   \n",
       "5490     IL        0   6030260.0   5621950.0  221380.0   3335570.0   \n",
       "18450    OH        0   5625160.0   5320530.0  152000.0   2735750.0   \n",
       "17454    NC        0   4867790.0   4545360.0  174500.0   2350550.0   \n",
       "4547     GA        0   4847010.0   4514650.0  155540.0   2475420.0   \n",
       "11150    MI        0   4803160.0   4512520.0  146060.0   2595650.0   \n",
       "15158    NJ        0   4574860.0   4250900.0  184940.0   2998760.0   \n",
       "25070    VA        0   4108450.0   3806180.0  158000.0   1828520.0   \n",
       "25864    WA        0   3705170.0   3464570.0  111990.0   1517550.0   \n",
       "10668    MA        0   3523420.0   3273070.0  139940.0   1979780.0   \n",
       "630      AZ        0   3312220.0   3094790.0  113910.0   1532530.0   \n",
       "6720     IN        0   3202280.0   3029960.0   89080.0   1571260.0   \n",
       "22432    TN        0   3197180.0   3012470.0   89670.0   1525140.0   \n",
       "10263    MD        0   3054110.0   2756170.0  158970.0   1528860.0   \n",
       "26869    WI        0   2902800.0   2745420.0   70730.0   1512660.0   \n",
       "2883     CO        0   2923860.0   2736720.0   99140.0   1291580.0   \n",
       "12044    MN        0   2837570.0   2673860.0   76100.0   1521860.0   \n",
       "13204    MO        0   2830790.0   2661330.0   82080.0   1422310.0   \n",
       "21776    SC        0   2445530.0   2292630.0   77520.0   1219960.0   \n",
       "0        AL        0   2116220.0   1979060.0   64740.0   1164170.0   \n",
       "19991    OR        0   1997850.0   1866470.0   64410.0    845210.0   \n",
       "9446     LA        0   1937150.0   1793020.0   73820.0   1024160.0   \n",
       "8797     KY        0   1944780.0   1849850.0   47600.0   1052860.0   \n",
       "3283     CT        0   1797180.0   1674310.0   68130.0    962710.0   \n",
       "19448    OK        0   1678230.0   1582090.0   44990.0    842150.0   \n",
       "14797    NV        0   1523510.0   1430520.0   45970.0    792560.0   \n",
       "24643    UT        0   1493220.0   1404430.0   50810.0    716050.0   \n",
       "7395     IA        0   1463980.0   1402870.0   25520.0    883230.0   \n",
       "8220     KS        0   1340680.0   1276530.0   30940.0    696120.0   \n",
       "925      AR        0   1272110.0   1201990.0   32870.0    695320.0   \n",
       "12834    MS        0   1223610.0   1152540.0   35320.0    675020.0   \n",
       "15705    NM        0    963220.0    896830.0   32480.0    425230.0   \n",
       "14320    NE        0    926500.0    885150.0   19280.0    492560.0   \n",
       "5273     ID        0    854020.0    805600.0   23510.0    420830.0   \n",
       "26364    WV        0    764090.0    716480.0   23700.0    339660.0   \n",
       "14927    NH        0    723020.0    672080.0   24660.0    310340.0   \n",
       "9891     ME        0    697740.0    647500.0   23750.0    312440.0   \n",
       "5213     HI        0    674660.0    608860.0   36190.0    348620.0   \n",
       "21705    RI        0    559830.0    526070.0   17830.0    329590.0   \n",
       "14094    MT        0    539360.0    510340.0   13930.0    279630.0   \n",
       "3547     DE        0    497210.0    461470.0   18180.0    237120.0   \n",
       "22150    SD        0    433640.0    413350.0    8480.0    233700.0   \n",
       "18178    ND        0    362520.0    345770.0    6820.0    199180.0   \n",
       "573      AK        0    344240.0    318410.0   12730.0    140240.0   \n",
       "3604     DC        0    343810.0    317150.0   13740.0    150740.0   \n",
       "24834    VT        0    330580.0    309830.0    8510.0    152680.0   \n",
       "27583    WY        0    275130.0    260360.0    6490.0    133090.0   \n",
       "\n",
       "          DIR_DEP  VRTCRIND          N2  TOTAL_VITA  ...     A85300  \\\n",
       "1406   10192070.0  404690.0  33964490.0    240640.0  ...  5825414.0   \n",
       "23024   8902300.0  233070.0  26429410.0    193770.0  ...  3719587.0   \n",
       "3628    6774390.0  212490.0  19424590.0    159730.0  ...  5094429.0   \n",
       "15917   5791450.0  180780.0  16782390.0    156710.0  ...  3577822.0   \n",
       "20341   3902710.0   85530.0  11145080.0    115850.0  ...   863267.0   \n",
       "5490    3868330.0  100940.0  10992050.0     74100.0  ...  1161136.0   \n",
       "18450   3667990.0   76540.0  10078420.0     93210.0  ...   559416.0   \n",
       "17454   2976300.0   74260.0   9176970.0     69960.0  ...   694791.0   \n",
       "4547    3082240.0   73920.0   9197470.0     51220.0  ...   704471.0   \n",
       "11150   3021910.0   75450.0   8658030.0     75570.0  ...   517877.0   \n",
       "15158   2651010.0   97870.0   8341700.0     42290.0  ...   928018.0   \n",
       "25070   2546990.0   73860.0   7632930.0     55870.0  ...   705273.0   \n",
       "25864   2251290.0   88510.0   6863590.0     45560.0  ...   964981.0   \n",
       "10668   2006580.0   68700.0   6023380.0     47200.0  ...  1266463.0   \n",
       "630     2040500.0   58130.0   6195450.0     69410.0  ...   597470.0   \n",
       "6720    2131020.0   39340.0   5992900.0     46930.0  ...   253016.0   \n",
       "22432   2118350.0   43840.0   6039830.0     40670.0  ...   543379.0   \n",
       "10263   1819020.0   51070.0   5493540.0     39440.0  ...   452882.0   \n",
       "26869   1755370.0   37370.0   5241900.0     38950.0  ...   293594.0   \n",
       "2883    1707640.0   62360.0   5181790.0     41810.0  ...   803545.0   \n",
       "12044   1683810.0   45070.0   5181710.0     47440.0  ...   356791.0   \n",
       "13204   1774640.0   37020.0   5294360.0     54360.0  ...   373877.0   \n",
       "21776   1500480.0   31040.0   4542680.0     40420.0  ...   324958.0   \n",
       "0       1380180.0   22130.0   4078970.0     28330.0  ...   223948.0   \n",
       "19991   1153240.0   37360.0   3574410.0     27230.0  ...   282491.0   \n",
       "9446    1304060.0   20460.0   3717340.0     27210.0  ...   231765.0   \n",
       "8797    1287480.0   19150.0   3710130.0     30390.0  ...   179868.0   \n",
       "3283    1087340.0   33020.0   3169410.0     48200.0  ...   759753.0   \n",
       "19448   1112420.0   20180.0   3325400.0     28620.0  ...   220880.0   \n",
       "14797    974990.0   26930.0   2752750.0     14780.0  ...   528760.0   \n",
       "24643    928760.0   34820.0   3067330.0     20170.0  ...   334563.0   \n",
       "7395     917000.0   15170.0   2784320.0     17880.0  ...   131204.0   \n",
       "8220     823920.0   18870.0   2561640.0     26470.0  ...   165928.0   \n",
       "925      830230.0   13790.0   2499140.0     18310.0  ...   289276.0   \n",
       "12834    834980.0   10230.0   2391340.0     13950.0  ...    79653.0   \n",
       "15705    618050.0   10910.0   1750910.0     26720.0  ...    99129.0   \n",
       "14320    578980.0   11560.0   1770490.0     13210.0  ...   107119.0   \n",
       "5273     502590.0   14910.0   1711120.0     15990.0  ...   158104.0   \n",
       "26364    521910.0    4820.0   1435900.0     15700.0  ...    46372.0   \n",
       "14927    436670.0   11090.0   1253770.0     12090.0  ...   141644.0   \n",
       "9891     415000.0    7440.0   1201570.0     13950.0  ...    72969.0   \n",
       "5213     379860.0    8790.0   1217160.0      9950.0  ...   119835.0   \n",
       "21705    347450.0    8850.0    933720.0     14300.0  ...    83969.0   \n",
       "14094    303620.0    7470.0    969750.0     10250.0  ...   105543.0   \n",
       "3547     308030.0    7130.0    893310.0     11400.0  ...    62720.0   \n",
       "22150    264580.0    5790.0    814790.0      5820.0  ...    68365.0   \n",
       "18178    217280.0    5030.0    677400.0      4630.0  ...    72007.0   \n",
       "573      197560.0    7000.0    630120.0     11480.0  ...    38961.0   \n",
       "3604     207960.0    8420.0    528340.0      5810.0  ...   125958.0   \n",
       "24834    191750.0    3300.0    561640.0      9040.0  ...    42565.0   \n",
       "27583    168720.0    4060.0    519410.0      5730.0  ...   159841.0   \n",
       "\n",
       "          N11901      A11901      N11900      A11900      N11902      A11902  \\\n",
       "1406   5764760.0  55415921.0  11839530.0  50326208.0  11451180.0  37488226.0   \n",
       "23024  3246720.0  23668766.0   9832500.0  46550286.0   9611730.0  35192428.0   \n",
       "3628   2911630.0  23290361.0   7646070.0  44515668.0   7379900.0  27807373.0   \n",
       "15917  2598480.0  15938663.0   6659370.0  34316174.0   6424050.0  20938057.0   \n",
       "20341  1386800.0   7871840.0   4600440.0  17063720.0   4452080.0  13167179.0   \n",
       "5490   1492540.0   8693865.0   4361330.0  19404444.0   4218360.0  14048886.0   \n",
       "18450  1296780.0   6083543.0   4160280.0  14372546.0   4048680.0  11434248.0   \n",
       "17454  1318760.0   7466048.0   3410370.0  12522058.0   3321600.0  10059474.0   \n",
       "4547   1303590.0   8041523.0   3410510.0  14114303.0   3344070.0  11722071.0   \n",
       "11150  1062600.0   4835236.0   3478060.0  13135004.0   3377510.0  10122200.0   \n",
       "15158  1295310.0   8730713.0   3137890.0  13968224.0   3020220.0   9869968.0   \n",
       "25070  1156660.0   6273049.0   2842720.0  11654137.0   2758320.0   8743397.0   \n",
       "25864  1031090.0   7359789.0   2567360.0  10867605.0   2474400.0   8024916.0   \n",
       "10668   982740.0   7114029.0   2422600.0  11926503.0   2324700.0   7506392.0   \n",
       "630     924020.0   5597335.0   2276510.0   8870733.0   2215810.0   6955901.0   \n",
       "6720    671140.0   3198990.0   2399570.0   8551144.0   2344510.0   6964302.0   \n",
       "22432   780970.0   5125657.0   2335650.0   9068334.0   2280310.0   7158728.0   \n",
       "10263   885750.0   4491736.0   2078680.0   8637598.0   2015660.0   6465135.0   \n",
       "26869   745110.0   3399435.0   2046410.0   6996076.0   1985200.0   5333264.0   \n",
       "2883    878820.0   5757555.0   1946250.0   8189466.0   1874270.0   5673171.0   \n",
       "12044   792900.0   4219348.0   1937590.0   6872979.0   1874730.0   5232632.0   \n",
       "13204   679600.0   3537684.0   2032700.0   7325754.0   1982250.0   5828469.0   \n",
       "21776   691450.0   3754851.0   1679020.0   5934015.0   1638980.0   4843902.0   \n",
       "0       517250.0   2853174.0   1539200.0   5820514.0   1507110.0   4971630.0   \n",
       "19991   575460.0   3111129.0   1347520.0   4557512.0   1297720.0   3530017.0   \n",
       "9446    428570.0   2415310.0   1456370.0   6081606.0   1422240.0   4991087.0   \n",
       "8797    423490.0   1960911.0   1462000.0   4968132.0   1427260.0   4101035.0   \n",
       "3283    480610.0   3494390.0   1264820.0   6566402.0   1210990.0   3992267.0   \n",
       "19448   408160.0   2219225.0   1208100.0   4610932.0   1178860.0   3701454.0   \n",
       "14797   386060.0   2995856.0   1095080.0   5212289.0   1068470.0   3634560.0   \n",
       "24643   417720.0   2615158.0   1029060.0   4174876.0   1006850.0   3140034.0   \n",
       "7395    372380.0   1792804.0   1047270.0   3541034.0   1010550.0   2874278.0   \n",
       "8220    340100.0   1863809.0    946570.0   3541000.0    915630.0   2681361.0   \n",
       "925     305150.0   1601993.0    929670.0   3575122.0    911570.0   2861793.0   \n",
       "12834   270310.0   1342963.0    925780.0   3395640.0    910030.0   3049023.0   \n",
       "15705   227240.0   1073310.0    685490.0   2274779.0    668770.0   1922059.0   \n",
       "14320   246180.0   1491464.0    648000.0   2278856.0    626910.0   1747445.0   \n",
       "5273    238040.0   1549257.0    583330.0   2113493.0    566060.0   1637961.0   \n",
       "26364   142100.0    549584.0    589910.0   1817413.0    578450.0   1608791.0   \n",
       "14927   186200.0   1223623.0    517490.0   2039592.0    497060.0   1493028.0   \n",
       "9891    176670.0    899511.0    490090.0   1502659.0    474930.0   1225230.0   \n",
       "5213    181110.0    974355.0    463850.0   1782296.0    440510.0   1308420.0   \n",
       "21705   138660.0    709359.0    404130.0   1475564.0    391280.0   1113801.0   \n",
       "14094   147950.0    983845.0    363610.0   1310885.0    346450.0    944296.0   \n",
       "3547    130290.0    668843.0    353930.0   1274532.0    344040.0   1029006.0   \n",
       "22150   114290.0    866267.0    304640.0   1157287.0    292120.0    851046.0   \n",
       "18178   100040.0    851430.0    251140.0    959902.0    240920.0    700579.0   \n",
       "573     110460.0    558832.0    222500.0    848104.0    215450.0    676243.0   \n",
       "3604    101230.0    658343.0    235230.0   1365832.0    224390.0    768785.0   \n",
       "24834    79880.0    392242.0    234200.0    796866.0    223630.0    602585.0   \n",
       "27583    69460.0    547472.0    196190.0   1149960.0    187600.0    630782.0   \n",
       "\n",
       "         N12000      A12000  population  \n",
       "1406   490540.0  12111153.0  17818770.0  \n",
       "23024  265060.0  10709294.0  13146450.0  \n",
       "3628   336330.0  16179497.0  10614450.0  \n",
       "15917  287050.0  12889637.0   9333640.0  \n",
       "20341  191890.0   3695304.0   6087370.0  \n",
       "5490   179360.0   5182563.0   5903220.0  \n",
       "18450  138930.0   2775938.0   5261330.0  \n",
       "17454  113360.0   2324478.0   4743770.0  \n",
       "4547    80660.0   2216560.0   4713050.0  \n",
       "11150  132690.0   2829995.0   4709720.0  \n",
       "15158  150370.0   3917212.0   4458690.0  \n",
       "25070  107470.0   2787066.0   3987470.0  \n",
       "25864  118830.0   2747265.0   3639790.0  \n",
       "10668  129750.0   4206834.0   3440890.0  \n",
       "630     78000.0   1851411.0   3256630.0  \n",
       "6720    73010.0   1494205.0   3129520.0  \n",
       "22432   66480.0   1807035.0   3116020.0  \n",
       "10263   83140.0   2105289.0   2945120.0  \n",
       "26869   82490.0   1545768.0   2868870.0  \n",
       "2883    92950.0   2429148.0   2857220.0  \n",
       "12044   79120.0   1512931.0   2788750.0  \n",
       "13204   61560.0   1387223.0   2761860.0  \n",
       "21776   50650.0   1030848.0   2364840.0  \n",
       "0       36500.0    767916.0   2065720.0  \n",
       "19991   65380.0    962368.0   1957060.0  \n",
       "9446    39250.0   1008986.0   1903090.0  \n",
       "8797    41460.0    797855.0   1898300.0  \n",
       "3283    70450.0   2505497.0   1752330.0  \n",
       "19448   33070.0    839122.0   1636540.0  \n",
       "14797   33140.0   1433261.0   1492520.0  \n",
       "24643   28110.0    991966.0   1465890.0  \n",
       "7395    43160.0    587931.0   1437450.0  \n",
       "8220    37150.0    777048.0   1308260.0  \n",
       "925     20120.0    653694.0   1241530.0  \n",
       "12834   16890.0    296435.0   1195580.0  \n",
       "15705   20580.0    328162.0    948530.0  \n",
       "14320   24510.0    475535.0    908170.0  \n",
       "5273    21670.0    452909.0    842800.0  \n",
       "26364   11880.0    170292.0    745540.0  \n",
       "14927   25990.0    487066.0    704620.0  \n",
       "9891    18650.0    239990.0    681590.0  \n",
       "5213    29830.0    460199.0    656490.0  \n",
       "21705   16950.0    345509.0    542900.0  \n",
       "14094   20660.0    333983.0    527940.0  \n",
       "3547    13830.0    238268.0    483430.0  \n",
       "22150   14170.0    278182.0    424540.0  \n",
       "18178   11050.0    224372.0    354750.0  \n",
       "573      8420.0    158154.0    335010.0  \n",
       "3604    13660.0    593850.0    332870.0  \n",
       "24834   13100.0    165539.0    323210.0  \n",
       "27583   10310.0    458558.0    269050.0  \n",
       "\n",
       "[51 rows x 161 columns]"
      ]
     },
     "execution_count": 21,
     "metadata": {},
     "output_type": "execute_result"
    }
   ],
   "source": [
    "# Convert ZIP code column to numeric (in case it's stored as a string)\n",
    "df['ZIPCODE'] = pd.to_numeric(df['ZIPCODE'], errors='coerce')\n",
    "\n",
    "# Filter only rows where zipcode == 0\n",
    "df_zero_zip = df[df['ZIPCODE'] == 0]\n",
    "\n",
    "# Sort by population and AGI in descending order\n",
    "df_sorted = df_zero_zip.sort_values(by=['population', 'A00100'], ascending=[False, False])\n",
    "\n",
    "df_sorted"
   ]
  },
  {
   "cell_type": "code",
   "execution_count": null,
   "metadata": {},
   "outputs": [
    {
     "data": {
      "text/plain": [
       "STATE                 CA\n",
       "ZIPCODE                0\n",
       "N1            18147120.0\n",
       "ELF           16891410.0\n",
       "CPREP           721420.0\n",
       "                 ...    \n",
       "N11902        11451180.0\n",
       "A11902        37488226.0\n",
       "N12000          490540.0\n",
       "A12000        12111153.0\n",
       "population    17818770.0\n",
       "Name: 1406, Length: 161, dtype: object"
      ]
     },
     "execution_count": 22,
     "metadata": {},
     "output_type": "execute_result"
    }
   ],
   "source": [
    "df_sorted.iloc[0]"
   ]
  },
  {
   "cell_type": "code",
   "execution_count": null,
   "metadata": {},
   "outputs": [
    {
     "data": {
      "text/html": [
       "<div style=\"width:100%;\"><div style=\"position:relative;width:100%;height:0;padding-bottom:60%;\"><span style=\"color:#565656\">Make this Notebook Trusted to load map: File -> Trust Notebook</span><iframe srcdoc=\"&lt;!DOCTYPE html&gt;\n",
       "&lt;html&gt;\n",
       "&lt;head&gt;\n",
       "    \n",
       "    &lt;meta http-equiv=&quot;content-type&quot; content=&quot;text/html; charset=UTF-8&quot; /&gt;\n",
       "    \n",
       "        &lt;script&gt;\n",
       "            L_NO_TOUCH = false;\n",
       "            L_DISABLE_3D = false;\n",
       "        &lt;/script&gt;\n",
       "    \n",
       "    &lt;style&gt;html, body {width: 100%;height: 100%;margin: 0;padding: 0;}&lt;/style&gt;\n",
       "    &lt;style&gt;#map {position:absolute;top:0;bottom:0;right:0;left:0;}&lt;/style&gt;\n",
       "    &lt;script src=&quot;https://cdn.jsdelivr.net/npm/leaflet@1.9.3/dist/leaflet.js&quot;&gt;&lt;/script&gt;\n",
       "    &lt;script src=&quot;https://code.jquery.com/jquery-3.7.1.min.js&quot;&gt;&lt;/script&gt;\n",
       "    &lt;script src=&quot;https://cdn.jsdelivr.net/npm/bootstrap@5.2.2/dist/js/bootstrap.bundle.min.js&quot;&gt;&lt;/script&gt;\n",
       "    &lt;script src=&quot;https://cdnjs.cloudflare.com/ajax/libs/Leaflet.awesome-markers/2.0.2/leaflet.awesome-markers.js&quot;&gt;&lt;/script&gt;\n",
       "    &lt;link rel=&quot;stylesheet&quot; href=&quot;https://cdn.jsdelivr.net/npm/leaflet@1.9.3/dist/leaflet.css&quot;/&gt;\n",
       "    &lt;link rel=&quot;stylesheet&quot; href=&quot;https://cdn.jsdelivr.net/npm/bootstrap@5.2.2/dist/css/bootstrap.min.css&quot;/&gt;\n",
       "    &lt;link rel=&quot;stylesheet&quot; href=&quot;https://netdna.bootstrapcdn.com/bootstrap/3.0.0/css/bootstrap-glyphicons.css&quot;/&gt;\n",
       "    &lt;link rel=&quot;stylesheet&quot; href=&quot;https://cdn.jsdelivr.net/npm/@fortawesome/fontawesome-free@6.2.0/css/all.min.css&quot;/&gt;\n",
       "    &lt;link rel=&quot;stylesheet&quot; href=&quot;https://cdnjs.cloudflare.com/ajax/libs/Leaflet.awesome-markers/2.0.2/leaflet.awesome-markers.css&quot;/&gt;\n",
       "    &lt;link rel=&quot;stylesheet&quot; href=&quot;https://cdn.jsdelivr.net/gh/python-visualization/folium/folium/templates/leaflet.awesome.rotate.min.css&quot;/&gt;\n",
       "    \n",
       "            &lt;meta name=&quot;viewport&quot; content=&quot;width=device-width,\n",
       "                initial-scale=1.0, maximum-scale=1.0, user-scalable=no&quot; /&gt;\n",
       "            &lt;style&gt;\n",
       "                #map_35f26a50c36e9bfc1ae75b7554e8827d {\n",
       "                    position: relative;\n",
       "                    width: 100.0%;\n",
       "                    height: 100.0%;\n",
       "                    left: 0.0%;\n",
       "                    top: 0.0%;\n",
       "                }\n",
       "                .leaflet-container { font-size: 1rem; }\n",
       "            &lt;/style&gt;\n",
       "        \n",
       "&lt;/head&gt;\n",
       "&lt;body&gt;\n",
       "    \n",
       "    \n",
       "            &lt;div class=&quot;folium-map&quot; id=&quot;map_35f26a50c36e9bfc1ae75b7554e8827d&quot; &gt;&lt;/div&gt;\n",
       "        \n",
       "&lt;/body&gt;\n",
       "&lt;script&gt;\n",
       "    \n",
       "    \n",
       "            var map_35f26a50c36e9bfc1ae75b7554e8827d = L.map(\n",
       "                &quot;map_35f26a50c36e9bfc1ae75b7554e8827d&quot;,\n",
       "                {\n",
       "                    center: [39.8283, -98.5795],\n",
       "                    crs: L.CRS.EPSG3857,\n",
       "                    ...{\n",
       "  &quot;zoom&quot;: 4,\n",
       "  &quot;zoomControl&quot;: true,\n",
       "  &quot;preferCanvas&quot;: false,\n",
       "}\n",
       "\n",
       "                }\n",
       "            );\n",
       "\n",
       "            \n",
       "\n",
       "        \n",
       "    \n",
       "            var tile_layer_8c6d3e0ffa932cef28acd3cbbc52589d = L.tileLayer(\n",
       "                &quot;https://tile.openstreetmap.org/{z}/{x}/{y}.png&quot;,\n",
       "                {\n",
       "  &quot;minZoom&quot;: 0,\n",
       "  &quot;maxZoom&quot;: 19,\n",
       "  &quot;maxNativeZoom&quot;: 19,\n",
       "  &quot;noWrap&quot;: false,\n",
       "  &quot;attribution&quot;: &quot;\\u0026copy; \\u003ca href=\\&quot;https://www.openstreetmap.org/copyright\\&quot;\\u003eOpenStreetMap\\u003c/a\\u003e contributors&quot;,\n",
       "  &quot;subdomains&quot;: &quot;abc&quot;,\n",
       "  &quot;detectRetina&quot;: false,\n",
       "  &quot;tms&quot;: false,\n",
       "  &quot;opacity&quot;: 1,\n",
       "}\n",
       "\n",
       "            );\n",
       "        \n",
       "    \n",
       "            tile_layer_8c6d3e0ffa932cef28acd3cbbc52589d.addTo(map_35f26a50c36e9bfc1ae75b7554e8827d);\n",
       "        \n",
       "    \n",
       "            var circle_marker_c6b6c54aafbb9e0677e4338bc2cfe9dc = L.circleMarker(\n",
       "                [37.7749, -119.4194],\n",
       "                {&quot;bubblingMouseEvents&quot;: true, &quot;color&quot;: &quot;blue&quot;, &quot;dashArray&quot;: null, &quot;dashOffset&quot;: null, &quot;fill&quot;: true, &quot;fillColor&quot;: &quot;blue&quot;, &quot;fillOpacity&quot;: 0.6, &quot;fillRule&quot;: &quot;evenodd&quot;, &quot;lineCap&quot;: &quot;round&quot;, &quot;lineJoin&quot;: &quot;round&quot;, &quot;opacity&quot;: 1.0, &quot;radius&quot;: 35.63754, &quot;stroke&quot;: true, &quot;weight&quot;: 3}\n",
       "            ).addTo(map_35f26a50c36e9bfc1ae75b7554e8827d);\n",
       "        \n",
       "    \n",
       "        var popup_d26e977b011cbc3f84f5967f1a8cbf08 = L.popup({\n",
       "  &quot;maxWidth&quot;: &quot;100%&quot;,\n",
       "});\n",
       "\n",
       "        \n",
       "            \n",
       "                var html_ed6881baa6d768c5ea68a080328afe04 = $(`&lt;div id=&quot;html_ed6881baa6d768c5ea68a080328afe04&quot; style=&quot;width: 100.0%; height: 100.0%;&quot;&gt;CA&lt;br&gt;Population: 17,818,770.0&lt;br&gt;AGI: $1,999,746,772.0&lt;/div&gt;`)[0];\n",
       "                popup_d26e977b011cbc3f84f5967f1a8cbf08.setContent(html_ed6881baa6d768c5ea68a080328afe04);\n",
       "            \n",
       "        \n",
       "\n",
       "        circle_marker_c6b6c54aafbb9e0677e4338bc2cfe9dc.bindPopup(popup_d26e977b011cbc3f84f5967f1a8cbf08)\n",
       "        ;\n",
       "\n",
       "        \n",
       "    \n",
       "    \n",
       "            var circle_marker_aa76df4fcd058b15feb36c885c7acdd9 = L.circleMarker(\n",
       "                [31.9686, -99.9018],\n",
       "                {&quot;bubblingMouseEvents&quot;: true, &quot;color&quot;: &quot;blue&quot;, &quot;dashArray&quot;: null, &quot;dashOffset&quot;: null, &quot;fill&quot;: true, &quot;fillColor&quot;: &quot;blue&quot;, &quot;fillOpacity&quot;: 0.6, &quot;fillRule&quot;: &quot;evenodd&quot;, &quot;lineCap&quot;: &quot;round&quot;, &quot;lineJoin&quot;: &quot;round&quot;, &quot;opacity&quot;: 1.0, &quot;radius&quot;: 26.2929, &quot;stroke&quot;: true, &quot;weight&quot;: 3}\n",
       "            ).addTo(map_35f26a50c36e9bfc1ae75b7554e8827d);\n",
       "        \n",
       "    \n",
       "        var popup_1c439f783f09f0cb46e68914848538ef = L.popup({\n",
       "  &quot;maxWidth&quot;: &quot;100%&quot;,\n",
       "});\n",
       "\n",
       "        \n",
       "            \n",
       "                var html_25a355bea5ab3a27d7f187231306e5b1 = $(`&lt;div id=&quot;html_25a355bea5ab3a27d7f187231306e5b1&quot; style=&quot;width: 100.0%; height: 100.0%;&quot;&gt;TX&lt;br&gt;Population: 13,146,450.0&lt;br&gt;AGI: $1,254,660,888.0&lt;/div&gt;`)[0];\n",
       "                popup_1c439f783f09f0cb46e68914848538ef.setContent(html_25a355bea5ab3a27d7f187231306e5b1);\n",
       "            \n",
       "        \n",
       "\n",
       "        circle_marker_aa76df4fcd058b15feb36c885c7acdd9.bindPopup(popup_1c439f783f09f0cb46e68914848538ef)\n",
       "        ;\n",
       "\n",
       "        \n",
       "    \n",
       "    \n",
       "            var circle_marker_12881795aee343742ec8bf9ff3f75c3e = L.circleMarker(\n",
       "                [27.9944, -81.7603],\n",
       "                {&quot;bubblingMouseEvents&quot;: true, &quot;color&quot;: &quot;blue&quot;, &quot;dashArray&quot;: null, &quot;dashOffset&quot;: null, &quot;fill&quot;: true, &quot;fillColor&quot;: &quot;blue&quot;, &quot;fillOpacity&quot;: 0.6, &quot;fillRule&quot;: &quot;evenodd&quot;, &quot;lineCap&quot;: &quot;round&quot;, &quot;lineJoin&quot;: &quot;round&quot;, &quot;opacity&quot;: 1.0, &quot;radius&quot;: 21.2289, &quot;stroke&quot;: true, &quot;weight&quot;: 3}\n",
       "            ).addTo(map_35f26a50c36e9bfc1ae75b7554e8827d);\n",
       "        \n",
       "    \n",
       "        var popup_aee959a2fc96e2ffe199ad9fc8da5004 = L.popup({\n",
       "  &quot;maxWidth&quot;: &quot;100%&quot;,\n",
       "});\n",
       "\n",
       "        \n",
       "            \n",
       "                var html_31a24d9016c32cd1f4abd05024c73bab = $(`&lt;div id=&quot;html_31a24d9016c32cd1f4abd05024c73bab&quot; style=&quot;width: 100.0%; height: 100.0%;&quot;&gt;FL&lt;br&gt;Population: 10,614,450.0&lt;br&gt;AGI: $1,134,745,740.0&lt;/div&gt;`)[0];\n",
       "                popup_aee959a2fc96e2ffe199ad9fc8da5004.setContent(html_31a24d9016c32cd1f4abd05024c73bab);\n",
       "            \n",
       "        \n",
       "\n",
       "        circle_marker_12881795aee343742ec8bf9ff3f75c3e.bindPopup(popup_aee959a2fc96e2ffe199ad9fc8da5004)\n",
       "        ;\n",
       "\n",
       "        \n",
       "    \n",
       "    \n",
       "            var circle_marker_38714e2ff1f7f2683e5c64f4285bb5e3 = L.circleMarker(\n",
       "                [40.7128, -74.006],\n",
       "                {&quot;bubblingMouseEvents&quot;: true, &quot;color&quot;: &quot;blue&quot;, &quot;dashArray&quot;: null, &quot;dashOffset&quot;: null, &quot;fill&quot;: true, &quot;fillColor&quot;: &quot;blue&quot;, &quot;fillOpacity&quot;: 0.6, &quot;fillRule&quot;: &quot;evenodd&quot;, &quot;lineCap&quot;: &quot;round&quot;, &quot;lineJoin&quot;: &quot;round&quot;, &quot;opacity&quot;: 1.0, &quot;radius&quot;: 18.66728, &quot;stroke&quot;: true, &quot;weight&quot;: 3}\n",
       "            ).addTo(map_35f26a50c36e9bfc1ae75b7554e8827d);\n",
       "        \n",
       "    \n",
       "        var popup_f5a030dea492712af2aed3d1e5d85b04 = L.popup({\n",
       "  &quot;maxWidth&quot;: &quot;100%&quot;,\n",
       "});\n",
       "\n",
       "        \n",
       "            \n",
       "                var html_27d677422e7b5ee902c67b9fd40566a5 = $(`&lt;div id=&quot;html_27d677422e7b5ee902c67b9fd40566a5&quot; style=&quot;width: 100.0%; height: 100.0%;&quot;&gt;NY&lt;br&gt;Population: 9,333,640.0&lt;br&gt;AGI: $1,031,947,068.0&lt;/div&gt;`)[0];\n",
       "                popup_f5a030dea492712af2aed3d1e5d85b04.setContent(html_27d677422e7b5ee902c67b9fd40566a5);\n",
       "            \n",
       "        \n",
       "\n",
       "        circle_marker_38714e2ff1f7f2683e5c64f4285bb5e3.bindPopup(popup_f5a030dea492712af2aed3d1e5d85b04)\n",
       "        ;\n",
       "\n",
       "        \n",
       "    \n",
       "    \n",
       "            var circle_marker_b5ea518330f5674e247b5b949743d0dd = L.circleMarker(\n",
       "                [41.2033, -77.1945],\n",
       "                {&quot;bubblingMouseEvents&quot;: true, &quot;color&quot;: &quot;blue&quot;, &quot;dashArray&quot;: null, &quot;dashOffset&quot;: null, &quot;fill&quot;: true, &quot;fillColor&quot;: &quot;blue&quot;, &quot;fillOpacity&quot;: 0.6, &quot;fillRule&quot;: &quot;evenodd&quot;, &quot;lineCap&quot;: &quot;round&quot;, &quot;lineJoin&quot;: &quot;round&quot;, &quot;opacity&quot;: 1.0, &quot;radius&quot;: 12.17474, &quot;stroke&quot;: true, &quot;weight&quot;: 3}\n",
       "            ).addTo(map_35f26a50c36e9bfc1ae75b7554e8827d);\n",
       "        \n",
       "    \n",
       "        var popup_331596e034b425c70b0436b33593242a = L.popup({\n",
       "  &quot;maxWidth&quot;: &quot;100%&quot;,\n",
       "});\n",
       "\n",
       "        \n",
       "            \n",
       "                var html_72150e7e97200be665910cfce7fe37d3 = $(`&lt;div id=&quot;html_72150e7e97200be665910cfce7fe37d3&quot; style=&quot;width: 100.0%; height: 100.0%;&quot;&gt;PA&lt;br&gt;Population: 6,087,370.0&lt;br&gt;AGI: $550,736,071.0&lt;/div&gt;`)[0];\n",
       "                popup_331596e034b425c70b0436b33593242a.setContent(html_72150e7e97200be665910cfce7fe37d3);\n",
       "            \n",
       "        \n",
       "\n",
       "        circle_marker_b5ea518330f5674e247b5b949743d0dd.bindPopup(popup_331596e034b425c70b0436b33593242a)\n",
       "        ;\n",
       "\n",
       "        \n",
       "    \n",
       "    \n",
       "            var circle_marker_5b147a43f6e3061d99a2418132ce6360 = L.circleMarker(\n",
       "                [40.6331, -89.3985],\n",
       "                {&quot;bubblingMouseEvents&quot;: true, &quot;color&quot;: &quot;blue&quot;, &quot;dashArray&quot;: null, &quot;dashOffset&quot;: null, &quot;fill&quot;: true, &quot;fillColor&quot;: &quot;blue&quot;, &quot;fillOpacity&quot;: 0.6, &quot;fillRule&quot;: &quot;evenodd&quot;, &quot;lineCap&quot;: &quot;round&quot;, &quot;lineJoin&quot;: &quot;round&quot;, &quot;opacity&quot;: 1.0, &quot;radius&quot;: 11.80644, &quot;stroke&quot;: true, &quot;weight&quot;: 3}\n",
       "            ).addTo(map_35f26a50c36e9bfc1ae75b7554e8827d);\n",
       "        \n",
       "    \n",
       "        var popup_bb93bf5ca681a4b33cfdc7f4ab8bcaed = L.popup({\n",
       "  &quot;maxWidth&quot;: &quot;100%&quot;,\n",
       "});\n",
       "\n",
       "        \n",
       "            \n",
       "                var html_18612b9444ca2a73b6c41583250ba227 = $(`&lt;div id=&quot;html_18612b9444ca2a73b6c41583250ba227&quot; style=&quot;width: 100.0%; height: 100.0%;&quot;&gt;IL&lt;br&gt;Population: 5,903,220.0&lt;br&gt;AGI: $583,571,173.0&lt;/div&gt;`)[0];\n",
       "                popup_bb93bf5ca681a4b33cfdc7f4ab8bcaed.setContent(html_18612b9444ca2a73b6c41583250ba227);\n",
       "            \n",
       "        \n",
       "\n",
       "        circle_marker_5b147a43f6e3061d99a2418132ce6360.bindPopup(popup_bb93bf5ca681a4b33cfdc7f4ab8bcaed)\n",
       "        ;\n",
       "\n",
       "        \n",
       "    \n",
       "    \n",
       "            var circle_marker_6451fd81452fedf2657aac84fc6790a0 = L.circleMarker(\n",
       "                [35.7596, -79.0193],\n",
       "                {&quot;bubblingMouseEvents&quot;: true, &quot;color&quot;: &quot;blue&quot;, &quot;dashArray&quot;: null, &quot;dashOffset&quot;: null, &quot;fill&quot;: true, &quot;fillColor&quot;: &quot;blue&quot;, &quot;fillOpacity&quot;: 0.6, &quot;fillRule&quot;: &quot;evenodd&quot;, &quot;lineCap&quot;: &quot;round&quot;, &quot;lineJoin&quot;: &quot;round&quot;, &quot;opacity&quot;: 1.0, &quot;radius&quot;: 9.48754, &quot;stroke&quot;: true, &quot;weight&quot;: 3}\n",
       "            ).addTo(map_35f26a50c36e9bfc1ae75b7554e8827d);\n",
       "        \n",
       "    \n",
       "        var popup_90f7fd1cb9b7af987328e7aac3c1dc19 = L.popup({\n",
       "  &quot;maxWidth&quot;: &quot;100%&quot;,\n",
       "});\n",
       "\n",
       "        \n",
       "            \n",
       "                var html_b8eee4e4ee1e2e145be17fe7c8c37bb3 = $(`&lt;div id=&quot;html_b8eee4e4ee1e2e145be17fe7c8c37bb3&quot; style=&quot;width: 100.0%; height: 100.0%;&quot;&gt;NC&lt;br&gt;Population: 4,743,770.0&lt;br&gt;AGI: $413,218,523.0&lt;/div&gt;`)[0];\n",
       "                popup_90f7fd1cb9b7af987328e7aac3c1dc19.setContent(html_b8eee4e4ee1e2e145be17fe7c8c37bb3);\n",
       "            \n",
       "        \n",
       "\n",
       "        circle_marker_6451fd81452fedf2657aac84fc6790a0.bindPopup(popup_90f7fd1cb9b7af987328e7aac3c1dc19)\n",
       "        ;\n",
       "\n",
       "        \n",
       "    \n",
       "    \n",
       "            var circle_marker_4691d73d1bc546a914d600c6699e4992 = L.circleMarker(\n",
       "                [32.1656, -82.9001],\n",
       "                {&quot;bubblingMouseEvents&quot;: true, &quot;color&quot;: &quot;blue&quot;, &quot;dashArray&quot;: null, &quot;dashOffset&quot;: null, &quot;fill&quot;: true, &quot;fillColor&quot;: &quot;blue&quot;, &quot;fillOpacity&quot;: 0.6, &quot;fillRule&quot;: &quot;evenodd&quot;, &quot;lineCap&quot;: &quot;round&quot;, &quot;lineJoin&quot;: &quot;round&quot;, &quot;opacity&quot;: 1.0, &quot;radius&quot;: 9.4261, &quot;stroke&quot;: true, &quot;weight&quot;: 3}\n",
       "            ).addTo(map_35f26a50c36e9bfc1ae75b7554e8827d);\n",
       "        \n",
       "    \n",
       "        var popup_bebcb2f37dafbfb58313b48c6459af31 = L.popup({\n",
       "  &quot;maxWidth&quot;: &quot;100%&quot;,\n",
       "});\n",
       "\n",
       "        \n",
       "            \n",
       "                var html_704a809d50676d722e1c7f49416a37e3 = $(`&lt;div id=&quot;html_704a809d50676d722e1c7f49416a37e3&quot; style=&quot;width: 100.0%; height: 100.0%;&quot;&gt;GA&lt;br&gt;Population: 4,713,050.0&lt;br&gt;AGI: $407,899,125.0&lt;/div&gt;`)[0];\n",
       "                popup_bebcb2f37dafbfb58313b48c6459af31.setContent(html_704a809d50676d722e1c7f49416a37e3);\n",
       "            \n",
       "        \n",
       "\n",
       "        circle_marker_4691d73d1bc546a914d600c6699e4992.bindPopup(popup_bebcb2f37dafbfb58313b48c6459af31)\n",
       "        ;\n",
       "\n",
       "        \n",
       "    \n",
       "    \n",
       "            var circle_marker_1a68d6cd80227802190425526fb24d49 = L.circleMarker(\n",
       "                [40.0583, -74.4057],\n",
       "                {&quot;bubblingMouseEvents&quot;: true, &quot;color&quot;: &quot;blue&quot;, &quot;dashArray&quot;: null, &quot;dashOffset&quot;: null, &quot;fill&quot;: true, &quot;fillColor&quot;: &quot;blue&quot;, &quot;fillOpacity&quot;: 0.6, &quot;fillRule&quot;: &quot;evenodd&quot;, &quot;lineCap&quot;: &quot;round&quot;, &quot;lineJoin&quot;: &quot;round&quot;, &quot;opacity&quot;: 1.0, &quot;radius&quot;: 8.91738, &quot;stroke&quot;: true, &quot;weight&quot;: 3}\n",
       "            ).addTo(map_35f26a50c36e9bfc1ae75b7554e8827d);\n",
       "        \n",
       "    \n",
       "        var popup_46c5c01d328632cc9d00335f8326808d = L.popup({\n",
       "  &quot;maxWidth&quot;: &quot;100%&quot;,\n",
       "});\n",
       "\n",
       "        \n",
       "            \n",
       "                var html_c23ff4d1fae7123751ec396b36a7e579 = $(`&lt;div id=&quot;html_c23ff4d1fae7123751ec396b36a7e579&quot; style=&quot;width: 100.0%; height: 100.0%;&quot;&gt;NJ&lt;br&gt;Population: 4,458,690.0&lt;br&gt;AGI: $507,610,799.0&lt;/div&gt;`)[0];\n",
       "                popup_46c5c01d328632cc9d00335f8326808d.setContent(html_c23ff4d1fae7123751ec396b36a7e579);\n",
       "            \n",
       "        \n",
       "\n",
       "        circle_marker_1a68d6cd80227802190425526fb24d49.bindPopup(popup_46c5c01d328632cc9d00335f8326808d)\n",
       "        ;\n",
       "\n",
       "        \n",
       "    \n",
       "    \n",
       "            var circle_marker_9546a1766cb2d58092f2479bf115f4b4 = L.circleMarker(\n",
       "                [37.4316, -78.6569],\n",
       "                {&quot;bubblingMouseEvents&quot;: true, &quot;color&quot;: &quot;blue&quot;, &quot;dashArray&quot;: null, &quot;dashOffset&quot;: null, &quot;fill&quot;: true, &quot;fillColor&quot;: &quot;blue&quot;, &quot;fillOpacity&quot;: 0.6, &quot;fillRule&quot;: &quot;evenodd&quot;, &quot;lineCap&quot;: &quot;round&quot;, &quot;lineJoin&quot;: &quot;round&quot;, &quot;opacity&quot;: 1.0, &quot;radius&quot;: 7.97494, &quot;stroke&quot;: true, &quot;weight&quot;: 3}\n",
       "            ).addTo(map_35f26a50c36e9bfc1ae75b7554e8827d);\n",
       "        \n",
       "    \n",
       "        var popup_bae057d0f674ad12a3321204db1d3485 = L.popup({\n",
       "  &quot;maxWidth&quot;: &quot;100%&quot;,\n",
       "});\n",
       "\n",
       "        \n",
       "            \n",
       "                var html_e3d7d481ef1be86e348741690ec25d0b = $(`&lt;div id=&quot;html_e3d7d481ef1be86e348741690ec25d0b&quot; style=&quot;width: 100.0%; height: 100.0%;&quot;&gt;VA&lt;br&gt;Population: 3,987,470.0&lt;br&gt;AGI: $411,423,280.0&lt;/div&gt;`)[0];\n",
       "                popup_bae057d0f674ad12a3321204db1d3485.setContent(html_e3d7d481ef1be86e348741690ec25d0b);\n",
       "            \n",
       "        \n",
       "\n",
       "        circle_marker_9546a1766cb2d58092f2479bf115f4b4.bindPopup(popup_bae057d0f674ad12a3321204db1d3485)\n",
       "        ;\n",
       "\n",
       "        \n",
       "    \n",
       "    \n",
       "            var circle_marker_3916c77a5696cfce1edf82decd8a6f6d = L.circleMarker(\n",
       "                [47.7511, -120.7401],\n",
       "                {&quot;bubblingMouseEvents&quot;: true, &quot;color&quot;: &quot;blue&quot;, &quot;dashArray&quot;: null, &quot;dashOffset&quot;: null, &quot;fill&quot;: true, &quot;fillColor&quot;: &quot;blue&quot;, &quot;fillOpacity&quot;: 0.6, &quot;fillRule&quot;: &quot;evenodd&quot;, &quot;lineCap&quot;: &quot;round&quot;, &quot;lineJoin&quot;: &quot;round&quot;, &quot;opacity&quot;: 1.0, &quot;radius&quot;: 7.27958, &quot;stroke&quot;: true, &quot;weight&quot;: 3}\n",
       "            ).addTo(map_35f26a50c36e9bfc1ae75b7554e8827d);\n",
       "        \n",
       "    \n",
       "        var popup_472ff71ea52bdb7a83476c1b4f96f8d4 = L.popup({\n",
       "  &quot;maxWidth&quot;: &quot;100%&quot;,\n",
       "});\n",
       "\n",
       "        \n",
       "            \n",
       "                var html_7b8fc5189698256b1d4530aea4462e44 = $(`&lt;div id=&quot;html_7b8fc5189698256b1d4530aea4462e44&quot; style=&quot;width: 100.0%; height: 100.0%;&quot;&gt;WA&lt;br&gt;Population: 3,639,790.0&lt;br&gt;AGI: $411,543,728.0&lt;/div&gt;`)[0];\n",
       "                popup_472ff71ea52bdb7a83476c1b4f96f8d4.setContent(html_7b8fc5189698256b1d4530aea4462e44);\n",
       "            \n",
       "        \n",
       "\n",
       "        circle_marker_3916c77a5696cfce1edf82decd8a6f6d.bindPopup(popup_472ff71ea52bdb7a83476c1b4f96f8d4)\n",
       "        ;\n",
       "\n",
       "        \n",
       "    \n",
       "&lt;/script&gt;\n",
       "&lt;/html&gt;\" style=\"position:absolute;width:100%;height:100%;left:0;top:0;border:none !important;\" allowfullscreen webkitallowfullscreen mozallowfullscreen></iframe></div></div>"
      ],
      "text/plain": [
       "<folium.folium.Map at 0x1b6023a5a90>"
      ]
     },
     "execution_count": 23,
     "metadata": {},
     "output_type": "execute_result"
    }
   ],
   "source": [
    "import pandas as pd\n",
    "import folium\n",
    "\n",
    "\n",
    "\n",
    "\n",
    "# Define state latitude and longitude (simplified example)\n",
    "state_lat_lon = {\n",
    "    'CA': (37.7749, -119.4194),\n",
    "    'FL': (27.9944, -81.7603),\n",
    "    'TX': (31.9686, -99.9018),\n",
    "    'NY': (40.7128, -74.0060),\n",
    "    'NJ': (40.0583, -74.4057),\n",
    "    'IL': (40.6331, -89.3985),\n",
    "    'PA': (41.2033, -77.1945),\n",
    "    'WA': (47.7511, -120.7401),\n",
    "    'VA': (37.4316, -78.6569),\n",
    "    'GA': (32.1656, -82.9001),\n",
    "    'NC': (35.7596, -79.0193)\n",
    "}\n",
    "\n",
    "# Create a base map centered in the US\n",
    "m = folium.Map(location=[39.8283, -98.5795], zoom_start=4)\n",
    "\n",
    "# Add markers for each state\n",
    "for _, row in df_sorted.iterrows():\n",
    "    state = row['STATE']\n",
    "    if state in state_lat_lon:\n",
    "        lat, lon = state_lat_lon[state]\n",
    "        popup_text = f\"{state}<br>Population: {row['population']:,}<br>AGI: ${row['A00100']:,}\"\n",
    "        folium.CircleMarker(\n",
    "            location=[lat, lon],\n",
    "            radius=row['population'] / 500000,  # Scale based on population\n",
    "            color=\"blue\",\n",
    "            fill=True,\n",
    "            fill_color=\"blue\",\n",
    "            fill_opacity=0.6,\n",
    "            popup=popup_text\n",
    "        ).add_to(m)\n",
    "\n",
    "# Display the map\n",
    "m\n"
   ]
  },
  {
   "cell_type": "code",
   "execution_count": null,
   "metadata": {},
   "outputs": [
    {
     "data": {
      "application/vnd.plotly.v1+json": {
       "config": {
        "plotlyServerURL": "https://plot.ly"
       },
       "data": [
        {
         "coloraxis": "coloraxis",
         "customdata": {
          "bdata": "AAAAAGB3FEEAAACgIux8QQAAAADKkz9BAAAAtjfvokEAAAAAXPoyQQAAAPQp1ZZBAAAAANPcSEEAAAAOc0WxQQAAAIATAXFBAAAAtW3M3UEAAAAAadFFQQAAAOkP2rFBAAAAAI7FOkEAAAA2jQyqQQAAAAAoVRRBAAAAeGmghUEAAAAAyIgdQQAAAABOT4RBAAAAwHpCZEEAAAAjtujQQQAAAADg/lFBAAAA9QtQuEEAAAAAgAwkQQAAAIhU8YpBAAAAAJz9NUEAAACQ0AmdQQAAAACgvilBAAAA5Ah0kUEAAAAAqIxWQQAAgHJLZMFBAAAAAFTpR0EAAABOV1StQQAAAAAeADRBAAAAcP7umkEAAAAAlAM9QQAAAHiHnqBBAAAAAP4WPUEAAAAgvvGgQQAAAAAHSEpBAAAAlucguUEAAAAAj31GQQAAAGAWsbFBAAAAAGDbJEEAAAAgt/OJQQAAAAAZ/VFBAAAAK8WktkEAAAAAS09FQQAAAF7ziK9BAAAAAMEaRUEAAADsY+6qQQAAAABCRzJBAAAAHHO+kkEAAAAAkCMgQQAAAHBNh4VBAAAAAOQdUkEAAADbNqG4QQAAAABgshVBAAAASOwTgEEAAAAAEMUrQQAAAIy1EpNBAAAAALCKJUEAAAAMJRmSQQAAAIB8BlFBAAAAr4ZBvkEAAAAAOPssQQAAAPiRGI9BAAAAAKbKNkEAAACyFy6hQQAAAEAO0mFBAAAAniHBzkEAAAAASxlUQQAAAICKJrpBAAAAABAEOUEAAABg6xKeQQAAAADU5T1BAAAAInHXpEEAAACAGEFXQQAAgGPIacBBAAAAAHSUIEEAAAD4kt6GQQAAAABCEEJBAAAA8FvSpkEAAAAAMPcZQQAAAFjHRoJBAAAAAKjMR0EAAAB0+uuvQQAAAEC7GGlBAAAAxiay0kEAAAAAtGI2QQAAAFwh0qBBAAAAABJ1TkEAAAAw0oW4QQAAAACIyBNBAAAAwPGmeUEAAAAAg8pLQQAAALCoh7hBAAAAAF3sRUEAAAAgbeWsQQAAAACA0iZBAAAA0DcPiEEAAAAAUHIQQQAAALDK/XtB",
          "dtype": "f8",
          "shape": "51, 2"
         },
         "geo": "geo",
         "hovertemplate": "<b>%{hovertext}</b><br><br>STATE=%{location}<br>population=%{customdata[0]}<br>A00100=%{customdata[1]}<br>combined_metric=%{z}<extra></extra>",
         "hovertext": [
          "AK",
          "AL",
          "AR",
          "AZ",
          "CA",
          "CO",
          "CT",
          "DC",
          "DE",
          "FL",
          "GA",
          "HI",
          "IA",
          "ID",
          "IL",
          "IN",
          "KS",
          "KY",
          "LA",
          "MA",
          "MD",
          "ME",
          "MI",
          "MN",
          "MO",
          "MS",
          "MT",
          "NC",
          "ND",
          "NE",
          "NH",
          "NJ",
          "NM",
          "NV",
          "NY",
          "OH",
          "OK",
          "OR",
          "PA",
          "RI",
          "SC",
          "SD",
          "TN",
          "TX",
          "UT",
          "VA",
          "VT",
          "WA",
          "WI",
          "WV",
          "WY"
         ],
         "locationmode": "USA-states",
         "locations": [
          "AK",
          "AL",
          "AR",
          "AZ",
          "CA",
          "CO",
          "CT",
          "DC",
          "DE",
          "FL",
          "GA",
          "HI",
          "IA",
          "ID",
          "IL",
          "IN",
          "KS",
          "KY",
          "LA",
          "MA",
          "MD",
          "ME",
          "MI",
          "MN",
          "MO",
          "MS",
          "MT",
          "NC",
          "ND",
          "NE",
          "NH",
          "NJ",
          "NM",
          "NV",
          "NY",
          "OH",
          "OK",
          "OR",
          "PA",
          "RI",
          "SC",
          "SD",
          "TN",
          "TX",
          "UT",
          "VA",
          "VT",
          "WA",
          "WI",
          "WV",
          "WY"
         ],
         "name": "",
         "type": "choropleth",
         "z": {
          "bdata": "TPeARsNkkT/09lXx2gW5P6ym8F3wHa4/7IVk44T4xD8AAAAAAADwP5LgvmSf2cM/KKF2dQKVuj+ZAkw8mC2VPxnx8xDYzJg/RHKXrVic4j8bwk1CvvzNP6szRGBrqqA/tOxdO1Mksj8jLB32w3ulPwyr3JR78tM/L1EmS6wfwz/K7QRp96OwP9ya9ZLjkrY/juVKC7TItj8Fl4OrbNvJP6LSvtmcFMQ/BqhlFKnHoD/wXW1BphXNP+o13xLnfcI/+Cjq68YowT/P9n+RZEOrP/i4nf7Mvpo/hIX7WYJFzj9GuHItLdeSP7oJFaFUTqc/s+t4mTjaoz/KX4SB+yHQPyOlByy0+6U/HsAfiovysz9BKWOiA6TgP56FFtf+edA/YF3bJ9vXsz8yH7Sit0G5PwY9DmXdwNM/IteBIlfhmz+sBzITKEC9PxqqvX2IB5Y/ElvYnFnEwz8OVWLGhtjlPz8PjXxDkLM/vDRQ1xt/yz/4gKlYvjGQP/T3ZpD4Pso/BHsoMHESwj+C2us9SzKhP7wN9nxCgY4/",
          "dtype": "f8"
         }
        },
        {
         "locationmode": "USA-states",
         "locations": [
          "CA"
         ],
         "marker": {
          "color": "green",
          "size": 14,
          "symbol": "circle"
         },
         "showlegend": false,
         "text": "⬆️ Highest: CA (1.00)",
         "type": "scattergeo"
        },
        {
         "locationmode": "USA-states",
         "locations": [
          "WY"
         ],
         "marker": {
          "color": "red",
          "size": 14,
          "symbol": "diamond"
         },
         "showlegend": false,
         "text": "⬇️ Lowest: WY (0.01)",
         "type": "scattergeo"
        }
       ],
       "layout": {
        "coloraxis": {
         "colorbar": {
          "title": {
           "text": "combined_metric"
          }
         },
         "colorscale": [
          [
           0,
           "rgb(255,247,236)"
          ],
          [
           0.125,
           "rgb(254,232,200)"
          ],
          [
           0.25,
           "rgb(253,212,158)"
          ],
          [
           0.375,
           "rgb(253,187,132)"
          ],
          [
           0.5,
           "rgb(252,141,89)"
          ],
          [
           0.625,
           "rgb(239,101,72)"
          ],
          [
           0.75,
           "rgb(215,48,31)"
          ],
          [
           0.875,
           "rgb(179,0,0)"
          ],
          [
           1,
           "rgb(127,0,0)"
          ]
         ]
        },
        "geo": {
         "center": {},
         "domain": {
          "x": [
           0,
           1
          ],
          "y": [
           0,
           1
          ]
         },
         "scope": "usa"
        },
        "legend": {
         "tracegroupgap": 0
        },
        "template": {
         "data": {
          "bar": [
           {
            "error_x": {
             "color": "#2a3f5f"
            },
            "error_y": {
             "color": "#2a3f5f"
            },
            "marker": {
             "line": {
              "color": "#E5ECF6",
              "width": 0.5
             },
             "pattern": {
              "fillmode": "overlay",
              "size": 10,
              "solidity": 0.2
             }
            },
            "type": "bar"
           }
          ],
          "barpolar": [
           {
            "marker": {
             "line": {
              "color": "#E5ECF6",
              "width": 0.5
             },
             "pattern": {
              "fillmode": "overlay",
              "size": 10,
              "solidity": 0.2
             }
            },
            "type": "barpolar"
           }
          ],
          "carpet": [
           {
            "aaxis": {
             "endlinecolor": "#2a3f5f",
             "gridcolor": "white",
             "linecolor": "white",
             "minorgridcolor": "white",
             "startlinecolor": "#2a3f5f"
            },
            "baxis": {
             "endlinecolor": "#2a3f5f",
             "gridcolor": "white",
             "linecolor": "white",
             "minorgridcolor": "white",
             "startlinecolor": "#2a3f5f"
            },
            "type": "carpet"
           }
          ],
          "choropleth": [
           {
            "colorbar": {
             "outlinewidth": 0,
             "ticks": ""
            },
            "type": "choropleth"
           }
          ],
          "contour": [
           {
            "colorbar": {
             "outlinewidth": 0,
             "ticks": ""
            },
            "colorscale": [
             [
              0,
              "#0d0887"
             ],
             [
              0.1111111111111111,
              "#46039f"
             ],
             [
              0.2222222222222222,
              "#7201a8"
             ],
             [
              0.3333333333333333,
              "#9c179e"
             ],
             [
              0.4444444444444444,
              "#bd3786"
             ],
             [
              0.5555555555555556,
              "#d8576b"
             ],
             [
              0.6666666666666666,
              "#ed7953"
             ],
             [
              0.7777777777777778,
              "#fb9f3a"
             ],
             [
              0.8888888888888888,
              "#fdca26"
             ],
             [
              1,
              "#f0f921"
             ]
            ],
            "type": "contour"
           }
          ],
          "contourcarpet": [
           {
            "colorbar": {
             "outlinewidth": 0,
             "ticks": ""
            },
            "type": "contourcarpet"
           }
          ],
          "heatmap": [
           {
            "colorbar": {
             "outlinewidth": 0,
             "ticks": ""
            },
            "colorscale": [
             [
              0,
              "#0d0887"
             ],
             [
              0.1111111111111111,
              "#46039f"
             ],
             [
              0.2222222222222222,
              "#7201a8"
             ],
             [
              0.3333333333333333,
              "#9c179e"
             ],
             [
              0.4444444444444444,
              "#bd3786"
             ],
             [
              0.5555555555555556,
              "#d8576b"
             ],
             [
              0.6666666666666666,
              "#ed7953"
             ],
             [
              0.7777777777777778,
              "#fb9f3a"
             ],
             [
              0.8888888888888888,
              "#fdca26"
             ],
             [
              1,
              "#f0f921"
             ]
            ],
            "type": "heatmap"
           }
          ],
          "histogram": [
           {
            "marker": {
             "pattern": {
              "fillmode": "overlay",
              "size": 10,
              "solidity": 0.2
             }
            },
            "type": "histogram"
           }
          ],
          "histogram2d": [
           {
            "colorbar": {
             "outlinewidth": 0,
             "ticks": ""
            },
            "colorscale": [
             [
              0,
              "#0d0887"
             ],
             [
              0.1111111111111111,
              "#46039f"
             ],
             [
              0.2222222222222222,
              "#7201a8"
             ],
             [
              0.3333333333333333,
              "#9c179e"
             ],
             [
              0.4444444444444444,
              "#bd3786"
             ],
             [
              0.5555555555555556,
              "#d8576b"
             ],
             [
              0.6666666666666666,
              "#ed7953"
             ],
             [
              0.7777777777777778,
              "#fb9f3a"
             ],
             [
              0.8888888888888888,
              "#fdca26"
             ],
             [
              1,
              "#f0f921"
             ]
            ],
            "type": "histogram2d"
           }
          ],
          "histogram2dcontour": [
           {
            "colorbar": {
             "outlinewidth": 0,
             "ticks": ""
            },
            "colorscale": [
             [
              0,
              "#0d0887"
             ],
             [
              0.1111111111111111,
              "#46039f"
             ],
             [
              0.2222222222222222,
              "#7201a8"
             ],
             [
              0.3333333333333333,
              "#9c179e"
             ],
             [
              0.4444444444444444,
              "#bd3786"
             ],
             [
              0.5555555555555556,
              "#d8576b"
             ],
             [
              0.6666666666666666,
              "#ed7953"
             ],
             [
              0.7777777777777778,
              "#fb9f3a"
             ],
             [
              0.8888888888888888,
              "#fdca26"
             ],
             [
              1,
              "#f0f921"
             ]
            ],
            "type": "histogram2dcontour"
           }
          ],
          "mesh3d": [
           {
            "colorbar": {
             "outlinewidth": 0,
             "ticks": ""
            },
            "type": "mesh3d"
           }
          ],
          "parcoords": [
           {
            "line": {
             "colorbar": {
              "outlinewidth": 0,
              "ticks": ""
             }
            },
            "type": "parcoords"
           }
          ],
          "pie": [
           {
            "automargin": true,
            "type": "pie"
           }
          ],
          "scatter": [
           {
            "fillpattern": {
             "fillmode": "overlay",
             "size": 10,
             "solidity": 0.2
            },
            "type": "scatter"
           }
          ],
          "scatter3d": [
           {
            "line": {
             "colorbar": {
              "outlinewidth": 0,
              "ticks": ""
             }
            },
            "marker": {
             "colorbar": {
              "outlinewidth": 0,
              "ticks": ""
             }
            },
            "type": "scatter3d"
           }
          ],
          "scattercarpet": [
           {
            "marker": {
             "colorbar": {
              "outlinewidth": 0,
              "ticks": ""
             }
            },
            "type": "scattercarpet"
           }
          ],
          "scattergeo": [
           {
            "marker": {
             "colorbar": {
              "outlinewidth": 0,
              "ticks": ""
             }
            },
            "type": "scattergeo"
           }
          ],
          "scattergl": [
           {
            "marker": {
             "colorbar": {
              "outlinewidth": 0,
              "ticks": ""
             }
            },
            "type": "scattergl"
           }
          ],
          "scattermap": [
           {
            "marker": {
             "colorbar": {
              "outlinewidth": 0,
              "ticks": ""
             }
            },
            "type": "scattermap"
           }
          ],
          "scattermapbox": [
           {
            "marker": {
             "colorbar": {
              "outlinewidth": 0,
              "ticks": ""
             }
            },
            "type": "scattermapbox"
           }
          ],
          "scatterpolar": [
           {
            "marker": {
             "colorbar": {
              "outlinewidth": 0,
              "ticks": ""
             }
            },
            "type": "scatterpolar"
           }
          ],
          "scatterpolargl": [
           {
            "marker": {
             "colorbar": {
              "outlinewidth": 0,
              "ticks": ""
             }
            },
            "type": "scatterpolargl"
           }
          ],
          "scatterternary": [
           {
            "marker": {
             "colorbar": {
              "outlinewidth": 0,
              "ticks": ""
             }
            },
            "type": "scatterternary"
           }
          ],
          "surface": [
           {
            "colorbar": {
             "outlinewidth": 0,
             "ticks": ""
            },
            "colorscale": [
             [
              0,
              "#0d0887"
             ],
             [
              0.1111111111111111,
              "#46039f"
             ],
             [
              0.2222222222222222,
              "#7201a8"
             ],
             [
              0.3333333333333333,
              "#9c179e"
             ],
             [
              0.4444444444444444,
              "#bd3786"
             ],
             [
              0.5555555555555556,
              "#d8576b"
             ],
             [
              0.6666666666666666,
              "#ed7953"
             ],
             [
              0.7777777777777778,
              "#fb9f3a"
             ],
             [
              0.8888888888888888,
              "#fdca26"
             ],
             [
              1,
              "#f0f921"
             ]
            ],
            "type": "surface"
           }
          ],
          "table": [
           {
            "cells": {
             "fill": {
              "color": "#EBF0F8"
             },
             "line": {
              "color": "white"
             }
            },
            "header": {
             "fill": {
              "color": "#C8D4E3"
             },
             "line": {
              "color": "white"
             }
            },
            "type": "table"
           }
          ]
         },
         "layout": {
          "annotationdefaults": {
           "arrowcolor": "#2a3f5f",
           "arrowhead": 0,
           "arrowwidth": 1
          },
          "autotypenumbers": "strict",
          "coloraxis": {
           "colorbar": {
            "outlinewidth": 0,
            "ticks": ""
           }
          },
          "colorscale": {
           "diverging": [
            [
             0,
             "#8e0152"
            ],
            [
             0.1,
             "#c51b7d"
            ],
            [
             0.2,
             "#de77ae"
            ],
            [
             0.3,
             "#f1b6da"
            ],
            [
             0.4,
             "#fde0ef"
            ],
            [
             0.5,
             "#f7f7f7"
            ],
            [
             0.6,
             "#e6f5d0"
            ],
            [
             0.7,
             "#b8e186"
            ],
            [
             0.8,
             "#7fbc41"
            ],
            [
             0.9,
             "#4d9221"
            ],
            [
             1,
             "#276419"
            ]
           ],
           "sequential": [
            [
             0,
             "#0d0887"
            ],
            [
             0.1111111111111111,
             "#46039f"
            ],
            [
             0.2222222222222222,
             "#7201a8"
            ],
            [
             0.3333333333333333,
             "#9c179e"
            ],
            [
             0.4444444444444444,
             "#bd3786"
            ],
            [
             0.5555555555555556,
             "#d8576b"
            ],
            [
             0.6666666666666666,
             "#ed7953"
            ],
            [
             0.7777777777777778,
             "#fb9f3a"
            ],
            [
             0.8888888888888888,
             "#fdca26"
            ],
            [
             1,
             "#f0f921"
            ]
           ],
           "sequentialminus": [
            [
             0,
             "#0d0887"
            ],
            [
             0.1111111111111111,
             "#46039f"
            ],
            [
             0.2222222222222222,
             "#7201a8"
            ],
            [
             0.3333333333333333,
             "#9c179e"
            ],
            [
             0.4444444444444444,
             "#bd3786"
            ],
            [
             0.5555555555555556,
             "#d8576b"
            ],
            [
             0.6666666666666666,
             "#ed7953"
            ],
            [
             0.7777777777777778,
             "#fb9f3a"
            ],
            [
             0.8888888888888888,
             "#fdca26"
            ],
            [
             1,
             "#f0f921"
            ]
           ]
          },
          "colorway": [
           "#636efa",
           "#EF553B",
           "#00cc96",
           "#ab63fa",
           "#FFA15A",
           "#19d3f3",
           "#FF6692",
           "#B6E880",
           "#FF97FF",
           "#FECB52"
          ],
          "font": {
           "color": "#2a3f5f"
          },
          "geo": {
           "bgcolor": "white",
           "lakecolor": "white",
           "landcolor": "#E5ECF6",
           "showlakes": true,
           "showland": true,
           "subunitcolor": "white"
          },
          "hoverlabel": {
           "align": "left"
          },
          "hovermode": "closest",
          "mapbox": {
           "style": "light"
          },
          "paper_bgcolor": "white",
          "plot_bgcolor": "#E5ECF6",
          "polar": {
           "angularaxis": {
            "gridcolor": "white",
            "linecolor": "white",
            "ticks": ""
           },
           "bgcolor": "#E5ECF6",
           "radialaxis": {
            "gridcolor": "white",
            "linecolor": "white",
            "ticks": ""
           }
          },
          "scene": {
           "xaxis": {
            "backgroundcolor": "#E5ECF6",
            "gridcolor": "white",
            "gridwidth": 2,
            "linecolor": "white",
            "showbackground": true,
            "ticks": "",
            "zerolinecolor": "white"
           },
           "yaxis": {
            "backgroundcolor": "#E5ECF6",
            "gridcolor": "white",
            "gridwidth": 2,
            "linecolor": "white",
            "showbackground": true,
            "ticks": "",
            "zerolinecolor": "white"
           },
           "zaxis": {
            "backgroundcolor": "#E5ECF6",
            "gridcolor": "white",
            "gridwidth": 2,
            "linecolor": "white",
            "showbackground": true,
            "ticks": "",
            "zerolinecolor": "white"
           }
          },
          "shapedefaults": {
           "line": {
            "color": "#2a3f5f"
           }
          },
          "ternary": {
           "aaxis": {
            "gridcolor": "white",
            "linecolor": "white",
            "ticks": ""
           },
           "baxis": {
            "gridcolor": "white",
            "linecolor": "white",
            "ticks": ""
           },
           "bgcolor": "#E5ECF6",
           "caxis": {
            "gridcolor": "white",
            "linecolor": "white",
            "ticks": ""
           }
          },
          "title": {
           "x": 0.05
          },
          "xaxis": {
           "automargin": true,
           "gridcolor": "white",
           "linecolor": "white",
           "ticks": "",
           "title": {
            "standoff": 15
           },
           "zerolinecolor": "white",
           "zerolinewidth": 2
          },
          "yaxis": {
           "automargin": true,
           "gridcolor": "white",
           "linecolor": "white",
           "ticks": "",
           "title": {
            "standoff": 15
           },
           "zerolinecolor": "white",
           "zerolinewidth": 2
          }
         }
        },
        "title": {
         "text": "Population and Adjusted Gross Income by State"
        }
       }
      }
     },
     "metadata": {},
     "output_type": "display_data"
    }
   ],
   "source": [
    "import plotly.graph_objects as go\n",
    "\n",
    "# Convert ZIP code column to numeric\n",
    "df['ZIPCODE'] = pd.to_numeric(df['ZIPCODE'], errors='coerce')\n",
    "\n",
    "# Remove rows with ZIPCODE == 0\n",
    "df_filtered = df[df['ZIPCODE'] != 0]\n",
    "\n",
    "# Aggregate data by state\n",
    "state_data = df_filtered.groupby('STATE').agg({\n",
    "    'population': 'sum',\n",
    "    'A00100': 'sum'  # Adjusted Gross Income\n",
    "}).reset_index()\n",
    "\n",
    "# Normalize values for color scaling\n",
    "state_data['population_scaled'] = state_data['population'] / state_data['population'].max()\n",
    "state_data['A00100_scaled'] = state_data['A00100'] / state_data['A00100'].max()\n",
    "state_data['combined_metric'] = (state_data['population_scaled'] + state_data['A00100_scaled']) / 2\n",
    "\n",
    "# Identify highest and lowest states\n",
    "highest_state = state_data.loc[state_data['combined_metric'].idxmax()]\n",
    "lowest_state = state_data.loc[state_data['combined_metric'].idxmin()]\n",
    "\n",
    "# Plot the choropleth map\n",
    "fig = px.choropleth(\n",
    "    state_data,\n",
    "    locations='STATE',\n",
    "    locationmode='USA-states',\n",
    "    color='combined_metric',\n",
    "    hover_name='STATE',\n",
    "    hover_data={'population': True, 'A00100': True},\n",
    "    color_continuous_scale='OrRd',\n",
    "    scope='usa',\n",
    "    title='Population and Adjusted Gross Income by State'\n",
    ")\n",
    "\n",
    "# Add annotations for highest and lowest states\n",
    "annotations = []\n",
    "\n",
    "# Highest state marker\n",
    "annotations.append(\n",
    "    go.Scattergeo(\n",
    "        locations=[highest_state['STATE']],\n",
    "        locationmode='USA-states',\n",
    "        text=f\"⬆️ Highest: {highest_state['STATE']} ({highest_state['combined_metric']:.2f})\",\n",
    "        marker=dict(size=14, color=\"green\", symbol=\"circle\"),\n",
    "        showlegend=False\n",
    "    )\n",
    ")\n",
    "\n",
    "# Lowest state marker (ensuring it's visible)\n",
    "annotations.append(\n",
    "    go.Scattergeo(\n",
    "        locations=[lowest_state['STATE']],\n",
    "        locationmode='USA-states',\n",
    "        text=f\"⬇️ Lowest: {lowest_state['STATE']} ({lowest_state['combined_metric']:.2f})\",\n",
    "        marker=dict(size=14, color=\"red\", symbol=\"diamond\"),\n",
    "        showlegend=False\n",
    "    )\n",
    ")\n",
    "\n",
    "# Add both markers to the figure\n",
    "fig.add_traces(annotations)\n",
    "\n",
    "# Show the updated visualization\n",
    "fig.show()\n"
   ]
  },
  {
   "cell_type": "code",
   "execution_count": null,
   "metadata": {},
   "outputs": [
    {
     "name": "stdout",
     "output_type": "stream",
     "text": [
      "     STATE  ZIPCODE  population     A00100\n",
      "1842    CA    92336     49080.0  3692756.0\n",
      "1531    CA    90650     47080.0  2794361.0\n",
      "1788    CA    92154     46200.0  2692221.0\n",
      "2337    CA    94565     43780.0  3090572.0\n",
      "1949    CA    92683     43620.0  2742588.0\n",
      "1606    CA    91331     43610.0  2078736.0\n",
      "1609    CA    91342     43170.0  2664484.0\n",
      "1700    CA    91911     42960.0  2433637.0\n",
      "1485    CA    90250     42900.0  2748774.0\n",
      "1841    CA    92335     42340.0  1950351.0\n",
      "1498    CA    90280     40560.0  2017076.0\n",
      "1876    CA    92503     40550.0  2819686.0\n",
      "1556    CA    90805     40310.0  2054511.0\n",
      "1416    CA    90011     39930.0  1468442.0\n",
      "1469    CA    90201     39610.0  1684225.0\n",
      "2263    CA    94112     39490.0  3533785.0\n",
      "2730    CA    95747     39450.0  4766607.0\n",
      "1699    CA    91910     39130.0  2748195.0\n",
      "1956    CA    92704     38500.0  2209929.0\n",
      "1861    CA    92376     38330.0  1878244.0\n"
     ]
    }
   ],
   "source": [
    "df_ca = df[(df['STATE'] == 'CA') & (df['ZIPCODE'] != 0 )& (df['ZIPCODE'] != 99999 )]  # Filter for California and non-zero ZIP codes\n",
    "\n",
    "# Sort by population and A00100 in descending order\n",
    "df_ca_sorted = df_ca.sort_values(by=['population', 'A00100'], ascending=[False, False])\n",
    "\n",
    "# Display the ZIP code with the highest population and AGI in California\n",
    "top_zip = df_ca_sorted[['STATE', \"ZIPCODE\", 'population', 'A00100']].head(20)\n",
    "print(top_zip)"
   ]
  },
  {
   "cell_type": "code",
   "execution_count": null,
   "metadata": {},
   "outputs": [
    {
     "data": {
      "application/vnd.plotly.v1+json": {
       "config": {
        "plotlyServerURL": "https://plot.ly"
       },
       "data": [
        {
         "customdata": {
          "bdata": "AAAAAEB/40AAAAAAGmg2QQ==",
          "dtype": "f8",
          "shape": "1, 2"
         },
         "geo": "geo",
         "hovertemplate": "<b>%{hovertext}</b><br><br>population=%{customdata[0]}<br>ZIPCODE=%{text}<br>latitude=%{lat}<br>longitude=%{lon}<br>A00100=%{marker.color}<extra></extra>",
         "hovertext": {
          "bdata": "AAAAALD59UA=",
          "dtype": "f8"
         },
         "lat": {
          "bdata": "N4lBYOUAQUA=",
          "dtype": "f8"
         },
         "legendgroup": "",
         "lon": {
          "bdata": "jZduEoOQXcA=",
          "dtype": "f8"
         },
         "marker": {
          "color": {
           "bdata": "AAAAABpoNkE=",
           "dtype": "f8"
          },
          "coloraxis": "coloraxis",
          "size": {
           "bdata": "AAAAAEB/40A=",
           "dtype": "f8"
          },
          "sizemode": "area",
          "sizeref": 99.825,
          "symbol": "circle"
         },
         "mode": "markers+text",
         "name": "",
         "showlegend": false,
         "text": {
          "bdata": "AAAAALD59UA=",
          "dtype": "f8"
         },
         "type": "scattergeo"
        }
       ],
       "layout": {
        "coloraxis": {
         "colorbar": {
          "title": {
           "text": "A00100"
          }
         },
         "colorscale": [
          [
           0,
           "rgb(255,247,236)"
          ],
          [
           0.125,
           "rgb(254,232,200)"
          ],
          [
           0.25,
           "rgb(253,212,158)"
          ],
          [
           0.375,
           "rgb(253,187,132)"
          ],
          [
           0.5,
           "rgb(252,141,89)"
          ],
          [
           0.625,
           "rgb(239,101,72)"
          ],
          [
           0.75,
           "rgb(215,48,31)"
          ],
          [
           0.875,
           "rgb(179,0,0)"
          ],
          [
           1,
           "rgb(127,0,0)"
          ]
         ]
        },
        "geo": {
         "center": {},
         "domain": {
          "x": [
           0,
           1
          ],
          "y": [
           0,
           1
          ]
         },
         "scope": "usa"
        },
        "legend": {
         "itemsizing": "constant",
         "tracegroupgap": 0
        },
        "template": {
         "data": {
          "bar": [
           {
            "error_x": {
             "color": "#2a3f5f"
            },
            "error_y": {
             "color": "#2a3f5f"
            },
            "marker": {
             "line": {
              "color": "#E5ECF6",
              "width": 0.5
             },
             "pattern": {
              "fillmode": "overlay",
              "size": 10,
              "solidity": 0.2
             }
            },
            "type": "bar"
           }
          ],
          "barpolar": [
           {
            "marker": {
             "line": {
              "color": "#E5ECF6",
              "width": 0.5
             },
             "pattern": {
              "fillmode": "overlay",
              "size": 10,
              "solidity": 0.2
             }
            },
            "type": "barpolar"
           }
          ],
          "carpet": [
           {
            "aaxis": {
             "endlinecolor": "#2a3f5f",
             "gridcolor": "white",
             "linecolor": "white",
             "minorgridcolor": "white",
             "startlinecolor": "#2a3f5f"
            },
            "baxis": {
             "endlinecolor": "#2a3f5f",
             "gridcolor": "white",
             "linecolor": "white",
             "minorgridcolor": "white",
             "startlinecolor": "#2a3f5f"
            },
            "type": "carpet"
           }
          ],
          "choropleth": [
           {
            "colorbar": {
             "outlinewidth": 0,
             "ticks": ""
            },
            "type": "choropleth"
           }
          ],
          "contour": [
           {
            "colorbar": {
             "outlinewidth": 0,
             "ticks": ""
            },
            "colorscale": [
             [
              0,
              "#0d0887"
             ],
             [
              0.1111111111111111,
              "#46039f"
             ],
             [
              0.2222222222222222,
              "#7201a8"
             ],
             [
              0.3333333333333333,
              "#9c179e"
             ],
             [
              0.4444444444444444,
              "#bd3786"
             ],
             [
              0.5555555555555556,
              "#d8576b"
             ],
             [
              0.6666666666666666,
              "#ed7953"
             ],
             [
              0.7777777777777778,
              "#fb9f3a"
             ],
             [
              0.8888888888888888,
              "#fdca26"
             ],
             [
              1,
              "#f0f921"
             ]
            ],
            "type": "contour"
           }
          ],
          "contourcarpet": [
           {
            "colorbar": {
             "outlinewidth": 0,
             "ticks": ""
            },
            "type": "contourcarpet"
           }
          ],
          "heatmap": [
           {
            "colorbar": {
             "outlinewidth": 0,
             "ticks": ""
            },
            "colorscale": [
             [
              0,
              "#0d0887"
             ],
             [
              0.1111111111111111,
              "#46039f"
             ],
             [
              0.2222222222222222,
              "#7201a8"
             ],
             [
              0.3333333333333333,
              "#9c179e"
             ],
             [
              0.4444444444444444,
              "#bd3786"
             ],
             [
              0.5555555555555556,
              "#d8576b"
             ],
             [
              0.6666666666666666,
              "#ed7953"
             ],
             [
              0.7777777777777778,
              "#fb9f3a"
             ],
             [
              0.8888888888888888,
              "#fdca26"
             ],
             [
              1,
              "#f0f921"
             ]
            ],
            "type": "heatmap"
           }
          ],
          "histogram": [
           {
            "marker": {
             "pattern": {
              "fillmode": "overlay",
              "size": 10,
              "solidity": 0.2
             }
            },
            "type": "histogram"
           }
          ],
          "histogram2d": [
           {
            "colorbar": {
             "outlinewidth": 0,
             "ticks": ""
            },
            "colorscale": [
             [
              0,
              "#0d0887"
             ],
             [
              0.1111111111111111,
              "#46039f"
             ],
             [
              0.2222222222222222,
              "#7201a8"
             ],
             [
              0.3333333333333333,
              "#9c179e"
             ],
             [
              0.4444444444444444,
              "#bd3786"
             ],
             [
              0.5555555555555556,
              "#d8576b"
             ],
             [
              0.6666666666666666,
              "#ed7953"
             ],
             [
              0.7777777777777778,
              "#fb9f3a"
             ],
             [
              0.8888888888888888,
              "#fdca26"
             ],
             [
              1,
              "#f0f921"
             ]
            ],
            "type": "histogram2d"
           }
          ],
          "histogram2dcontour": [
           {
            "colorbar": {
             "outlinewidth": 0,
             "ticks": ""
            },
            "colorscale": [
             [
              0,
              "#0d0887"
             ],
             [
              0.1111111111111111,
              "#46039f"
             ],
             [
              0.2222222222222222,
              "#7201a8"
             ],
             [
              0.3333333333333333,
              "#9c179e"
             ],
             [
              0.4444444444444444,
              "#bd3786"
             ],
             [
              0.5555555555555556,
              "#d8576b"
             ],
             [
              0.6666666666666666,
              "#ed7953"
             ],
             [
              0.7777777777777778,
              "#fb9f3a"
             ],
             [
              0.8888888888888888,
              "#fdca26"
             ],
             [
              1,
              "#f0f921"
             ]
            ],
            "type": "histogram2dcontour"
           }
          ],
          "mesh3d": [
           {
            "colorbar": {
             "outlinewidth": 0,
             "ticks": ""
            },
            "type": "mesh3d"
           }
          ],
          "parcoords": [
           {
            "line": {
             "colorbar": {
              "outlinewidth": 0,
              "ticks": ""
             }
            },
            "type": "parcoords"
           }
          ],
          "pie": [
           {
            "automargin": true,
            "type": "pie"
           }
          ],
          "scatter": [
           {
            "fillpattern": {
             "fillmode": "overlay",
             "size": 10,
             "solidity": 0.2
            },
            "type": "scatter"
           }
          ],
          "scatter3d": [
           {
            "line": {
             "colorbar": {
              "outlinewidth": 0,
              "ticks": ""
             }
            },
            "marker": {
             "colorbar": {
              "outlinewidth": 0,
              "ticks": ""
             }
            },
            "type": "scatter3d"
           }
          ],
          "scattercarpet": [
           {
            "marker": {
             "colorbar": {
              "outlinewidth": 0,
              "ticks": ""
             }
            },
            "type": "scattercarpet"
           }
          ],
          "scattergeo": [
           {
            "marker": {
             "colorbar": {
              "outlinewidth": 0,
              "ticks": ""
             }
            },
            "type": "scattergeo"
           }
          ],
          "scattergl": [
           {
            "marker": {
             "colorbar": {
              "outlinewidth": 0,
              "ticks": ""
             }
            },
            "type": "scattergl"
           }
          ],
          "scattermap": [
           {
            "marker": {
             "colorbar": {
              "outlinewidth": 0,
              "ticks": ""
             }
            },
            "type": "scattermap"
           }
          ],
          "scattermapbox": [
           {
            "marker": {
             "colorbar": {
              "outlinewidth": 0,
              "ticks": ""
             }
            },
            "type": "scattermapbox"
           }
          ],
          "scatterpolar": [
           {
            "marker": {
             "colorbar": {
              "outlinewidth": 0,
              "ticks": ""
             }
            },
            "type": "scatterpolar"
           }
          ],
          "scatterpolargl": [
           {
            "marker": {
             "colorbar": {
              "outlinewidth": 0,
              "ticks": ""
             }
            },
            "type": "scatterpolargl"
           }
          ],
          "scatterternary": [
           {
            "marker": {
             "colorbar": {
              "outlinewidth": 0,
              "ticks": ""
             }
            },
            "type": "scatterternary"
           }
          ],
          "surface": [
           {
            "colorbar": {
             "outlinewidth": 0,
             "ticks": ""
            },
            "colorscale": [
             [
              0,
              "#0d0887"
             ],
             [
              0.1111111111111111,
              "#46039f"
             ],
             [
              0.2222222222222222,
              "#7201a8"
             ],
             [
              0.3333333333333333,
              "#9c179e"
             ],
             [
              0.4444444444444444,
              "#bd3786"
             ],
             [
              0.5555555555555556,
              "#d8576b"
             ],
             [
              0.6666666666666666,
              "#ed7953"
             ],
             [
              0.7777777777777778,
              "#fb9f3a"
             ],
             [
              0.8888888888888888,
              "#fdca26"
             ],
             [
              1,
              "#f0f921"
             ]
            ],
            "type": "surface"
           }
          ],
          "table": [
           {
            "cells": {
             "fill": {
              "color": "#EBF0F8"
             },
             "line": {
              "color": "white"
             }
            },
            "header": {
             "fill": {
              "color": "#C8D4E3"
             },
             "line": {
              "color": "white"
             }
            },
            "type": "table"
           }
          ]
         },
         "layout": {
          "annotationdefaults": {
           "arrowcolor": "#2a3f5f",
           "arrowhead": 0,
           "arrowwidth": 1
          },
          "autotypenumbers": "strict",
          "coloraxis": {
           "colorbar": {
            "outlinewidth": 0,
            "ticks": ""
           }
          },
          "colorscale": {
           "diverging": [
            [
             0,
             "#8e0152"
            ],
            [
             0.1,
             "#c51b7d"
            ],
            [
             0.2,
             "#de77ae"
            ],
            [
             0.3,
             "#f1b6da"
            ],
            [
             0.4,
             "#fde0ef"
            ],
            [
             0.5,
             "#f7f7f7"
            ],
            [
             0.6,
             "#e6f5d0"
            ],
            [
             0.7,
             "#b8e186"
            ],
            [
             0.8,
             "#7fbc41"
            ],
            [
             0.9,
             "#4d9221"
            ],
            [
             1,
             "#276419"
            ]
           ],
           "sequential": [
            [
             0,
             "#0d0887"
            ],
            [
             0.1111111111111111,
             "#46039f"
            ],
            [
             0.2222222222222222,
             "#7201a8"
            ],
            [
             0.3333333333333333,
             "#9c179e"
            ],
            [
             0.4444444444444444,
             "#bd3786"
            ],
            [
             0.5555555555555556,
             "#d8576b"
            ],
            [
             0.6666666666666666,
             "#ed7953"
            ],
            [
             0.7777777777777778,
             "#fb9f3a"
            ],
            [
             0.8888888888888888,
             "#fdca26"
            ],
            [
             1,
             "#f0f921"
            ]
           ],
           "sequentialminus": [
            [
             0,
             "#0d0887"
            ],
            [
             0.1111111111111111,
             "#46039f"
            ],
            [
             0.2222222222222222,
             "#7201a8"
            ],
            [
             0.3333333333333333,
             "#9c179e"
            ],
            [
             0.4444444444444444,
             "#bd3786"
            ],
            [
             0.5555555555555556,
             "#d8576b"
            ],
            [
             0.6666666666666666,
             "#ed7953"
            ],
            [
             0.7777777777777778,
             "#fb9f3a"
            ],
            [
             0.8888888888888888,
             "#fdca26"
            ],
            [
             1,
             "#f0f921"
            ]
           ]
          },
          "colorway": [
           "#636efa",
           "#EF553B",
           "#00cc96",
           "#ab63fa",
           "#FFA15A",
           "#19d3f3",
           "#FF6692",
           "#B6E880",
           "#FF97FF",
           "#FECB52"
          ],
          "font": {
           "color": "#2a3f5f"
          },
          "geo": {
           "bgcolor": "white",
           "lakecolor": "white",
           "landcolor": "#E5ECF6",
           "showlakes": true,
           "showland": true,
           "subunitcolor": "white"
          },
          "hoverlabel": {
           "align": "left"
          },
          "hovermode": "closest",
          "mapbox": {
           "style": "light"
          },
          "paper_bgcolor": "white",
          "plot_bgcolor": "#E5ECF6",
          "polar": {
           "angularaxis": {
            "gridcolor": "white",
            "linecolor": "white",
            "ticks": ""
           },
           "bgcolor": "#E5ECF6",
           "radialaxis": {
            "gridcolor": "white",
            "linecolor": "white",
            "ticks": ""
           }
          },
          "scene": {
           "xaxis": {
            "backgroundcolor": "#E5ECF6",
            "gridcolor": "white",
            "gridwidth": 2,
            "linecolor": "white",
            "showbackground": true,
            "ticks": "",
            "zerolinecolor": "white"
           },
           "yaxis": {
            "backgroundcolor": "#E5ECF6",
            "gridcolor": "white",
            "gridwidth": 2,
            "linecolor": "white",
            "showbackground": true,
            "ticks": "",
            "zerolinecolor": "white"
           },
           "zaxis": {
            "backgroundcolor": "#E5ECF6",
            "gridcolor": "white",
            "gridwidth": 2,
            "linecolor": "white",
            "showbackground": true,
            "ticks": "",
            "zerolinecolor": "white"
           }
          },
          "shapedefaults": {
           "line": {
            "color": "#2a3f5f"
           }
          },
          "ternary": {
           "aaxis": {
            "gridcolor": "white",
            "linecolor": "white",
            "ticks": ""
           },
           "baxis": {
            "gridcolor": "white",
            "linecolor": "white",
            "ticks": ""
           },
           "bgcolor": "#E5ECF6",
           "caxis": {
            "gridcolor": "white",
            "linecolor": "white",
            "ticks": ""
           }
          },
          "title": {
           "x": 0.05
          },
          "xaxis": {
           "automargin": true,
           "gridcolor": "white",
           "linecolor": "white",
           "ticks": "",
           "title": {
            "standoff": 15
           },
           "zerolinecolor": "white",
           "zerolinewidth": 2
          },
          "yaxis": {
           "automargin": true,
           "gridcolor": "white",
           "linecolor": "white",
           "ticks": "",
           "title": {
            "standoff": 15
           },
           "zerolinecolor": "white",
           "zerolinewidth": 2
          }
         }
        },
        "title": {
         "text": "Top 20 California ZIP Codes by Population & AGI"
        }
       }
      }
     },
     "metadata": {},
     "output_type": "display_data"
    }
   ],
   "source": [
    "import pandas as pd\n",
    "import plotly.express as px\n",
    "\n",
    "# Filter for California and valid ZIP codes\n",
    "df_ca = df[(df['STATE'] == 'CA') & (df['ZIPCODE'] != 0) & (df['ZIPCODE'] != 99999)]\n",
    "\n",
    "# Sort by population and AGI in descending order\n",
    "df_ca_sorted = df_ca.sort_values(by=['population', 'A00100'], ascending=[False, False])\n",
    "\n",
    "# Keep only top 20 ZIP codes for clarity\n",
    "top_zip = df_ca_sorted[['STATE', 'ZIPCODE', 'population', 'A00100']].head(20)\n",
    "\n",
    "# Load ZIP code latitude & longitude data (you might need an external dataset for this)\n",
    "zip_lat_lon = {\n",
    "    90001: (33.973, -118.248),\n",
    "    90002: (33.950, -118.246),\n",
    "    90003: (33.964, -118.273),\n",
    "    90004: (34.077, -118.315),\n",
    "    90005: (34.058, -118.309),\n",
    "    90006: (34.047, -118.291),\n",
    "    90007: (34.028, -118.283),\n",
    "    90008: (34.009, -118.340),\n",
    "    90010: (34.062, -118.314),\n",
    "    90011: (34.007, -118.258),\n",
    "    90012: (34.063, -118.243),\n",
    "    90013: (34.045, -118.244),\n",
    "    90014: (34.043, -118.251),\n",
    "    90015: (34.041, -118.266),\n",
    "    90016: (34.030, -118.357),\n",
    "    90017: (34.054, -118.264),\n",
    "    90018: (34.027, -118.322),\n",
    "    90019: (34.047, -118.344),\n",
    "    90020: (34.067, -118.308),\n",
    "    90021: (34.028, -118.235)\n",
    "}\n",
    "\n",
    "# Merge latitude & longitude\n",
    "top_zip['latitude'] = top_zip['ZIPCODE'].map(lambda z: zip_lat_lon.get(z, (None, None))[0])\n",
    "top_zip['longitude'] = top_zip['ZIPCODE'].map(lambda z: zip_lat_lon.get(z, (None, None))[1])\n",
    "\n",
    "# Drop ZIP codes without coordinates\n",
    "top_zip = top_zip.dropna(subset=['latitude', 'longitude'])\n",
    "\n",
    "# Plot California ZIP code map\n",
    "fig = px.scatter_geo(\n",
    "    top_zip,\n",
    "    lat='latitude',\n",
    "    lon='longitude',\n",
    "    text='ZIPCODE',\n",
    "    size='population',\n",
    "    color='A00100',\n",
    "    color_continuous_scale='OrRd',\n",
    "    scope='usa',\n",
    "    title='Top 20 California ZIP Codes by Population & AGI',\n",
    "    hover_name='ZIPCODE',\n",
    "    hover_data={'population': True, 'A00100': True}\n",
    ")\n",
    "\n",
    "fig.show()\n"
   ]
  },
  {
   "cell_type": "code",
   "execution_count": null,
   "metadata": {},
   "outputs": [
    {
     "data": {
      "application/vnd.plotly.v1+json": {
       "config": {
        "plotlyServerURL": "https://plot.ly"
       },
       "data": [
        {
         "customdata": {
          "bdata": "AAAAAAD350AAAAAAaixMQQAAAAAA/eZAAAAAgLxRRUEAAAAAAI/mQAAAAIA+ikRBAAAAAIBg5UAAAAAARpRHQQAAAACATOVAAAAAAJ7sREEAAAAAQEvlQAAAAAAQuD9BAAAAAEAU5UAAAAAAElREQQAAAAAA+uRAAAAAgDKRQkEAAAAAgPLkQAAAAACz+ERBAAAAAICs5EAAAAAAj8I9QQAAAAAAzuNAAAAAADTHPkEAAAAAwMzjQAAAAAAzg0VBAAAAAMCu40AAAAAAb1k/QQAAAABAf+NAAAAAABpoNkEAAAAAQFfjQAAAAAABszlBAAAAAEBI40AAAACA7PVKQQAAAABAQ+NAAAAAwOMuUkEAAAAAQBvjQAAAAICR90RBAAAAAIDM4kAAAACARNxAQQAAAABAt+JAAAAAAOSoPEE=",
          "dtype": "f8",
          "shape": "20, 2"
         },
         "geo": "geo",
         "hovertemplate": "<b>%{hovertext}</b><br><br>population=%{customdata[0]}<br>ZIPCODE=%{text}<br>latitude=%{lat}<br>longitude=%{lon}<br>A00100=%{marker.color}<extra></extra>",
         "hovertext": {
          "bdata": "AAAAAACL9kAAAAAAoCH2QAAAAACgf/ZAAAAAAFAW90AAAAAAsKD2QAAAAAAwTPZAAAAAAOBM9kAAAAAAcHD2QAAAAACgCPZAAAAAAPCK9kAAAAAAgAr2QAAAAABwlfZAAAAAAFAr9kAAAAAAsPn1QAAAAACQBfZAAAAAAAD69kAAAAAAMGD3QAAAAABgcPZAAAAAAACi9kAAAAAAgI32QA==",
          "dtype": "f8"
         },
         "lat": {
          "bdata": "EOm3rwMPQUD5oGez6vNAQMSxLm6jSUBADk+vlGUAQ0BVwaikTuBAQMZtNIC3IEFAZRniWBcnQUB2cRsN4E1AQMxdS8gH9UBAtaZ5xykKQUDTvOMUHflAQBIUP8bc9UBASgwCK4fuQEC30QDeAgFBQBZqTfOO+0BAarx0kxjcQkDtDb4wmWJDQAskKH6MUUBAaW/whcncQEAf9GxWfQ5BQA==",
          "dtype": "f8"
         },
         "legendgroup": "",
         "lon": {
          "bdata": "FYxK6gRcXcAFNBE2PIVdwPH0SlmGRF3ACfmgZ7N6XsCk374OnH9dwAmKH2Puml3AMlUwKqmbXcBWDi2ynUNdwIofY+5all3ANxrAWyBdXcDUK2UZ4oxdwJoIG55eXV3AnYAmwoaLXcDx9EpZhpBdwARWDi2yiV3AAJF++zqcXsCEDU+vlFVewGpN845TRF3AGQRWDi16XcCV1AloIlhdwA==",
          "dtype": "f8"
         },
         "marker": {
          "color": {
           "bdata": "AAAAAGosTEEAAACAvFFFQQAAAIA+ikRBAAAAAEaUR0EAAAAAnuxEQQAAAAAQuD9BAAAAABJUREEAAACAMpFCQQAAAACz+ERBAAAAAI/CPUEAAAAANMc+QQAAAAAzg0VBAAAAAG9ZP0EAAAAAGmg2QQAAAAABszlBAAAAgOz1SkEAAADA4y5SQQAAAICR90RBAAAAgETcQEEAAAAA5Kg8QQ==",
           "dtype": "f8"
          },
          "coloraxis": "coloraxis",
          "size": {
           "bdata": "AAAAAAD350AAAAAAAP3mQAAAAAAAj+ZAAAAAAIBg5UAAAAAAgEzlQAAAAABAS+VAAAAAAEAU5UAAAAAAAPrkQAAAAACA8uRAAAAAAICs5EAAAAAAAM7jQAAAAADAzONAAAAAAMCu40AAAAAAQH/jQAAAAABAV+NAAAAAAEBI40AAAAAAQEPjQAAAAABAG+NAAAAAAIDM4kAAAAAAQLfiQA==",
           "dtype": "f8"
          },
          "sizemode": "area",
          "sizeref": 122.7,
          "symbol": "circle"
         },
         "mode": "markers+text",
         "name": "",
         "showlegend": false,
         "text": {
          "bdata": "AAAAAACL9kAAAAAAoCH2QAAAAACgf/ZAAAAAAFAW90AAAAAAsKD2QAAAAAAwTPZAAAAAAOBM9kAAAAAAcHD2QAAAAACgCPZAAAAAAPCK9kAAAAAAgAr2QAAAAABwlfZAAAAAAFAr9kAAAAAAsPn1QAAAAACQBfZAAAAAAAD69kAAAAAAMGD3QAAAAABgcPZAAAAAAACi9kAAAAAAgI32QA==",
          "dtype": "f8"
         },
         "type": "scattergeo"
        }
       ],
       "layout": {
        "coloraxis": {
         "colorbar": {
          "title": {
           "text": "A00100"
          }
         },
         "colorscale": [
          [
           0,
           "rgb(255,247,236)"
          ],
          [
           0.125,
           "rgb(254,232,200)"
          ],
          [
           0.25,
           "rgb(253,212,158)"
          ],
          [
           0.375,
           "rgb(253,187,132)"
          ],
          [
           0.5,
           "rgb(252,141,89)"
          ],
          [
           0.625,
           "rgb(239,101,72)"
          ],
          [
           0.75,
           "rgb(215,48,31)"
          ],
          [
           0.875,
           "rgb(179,0,0)"
          ],
          [
           1,
           "rgb(127,0,0)"
          ]
         ]
        },
        "geo": {
         "center": {},
         "domain": {
          "x": [
           0,
           1
          ],
          "y": [
           0,
           1
          ]
         },
         "scope": "usa"
        },
        "legend": {
         "itemsizing": "constant",
         "tracegroupgap": 0
        },
        "template": {
         "data": {
          "bar": [
           {
            "error_x": {
             "color": "#2a3f5f"
            },
            "error_y": {
             "color": "#2a3f5f"
            },
            "marker": {
             "line": {
              "color": "#E5ECF6",
              "width": 0.5
             },
             "pattern": {
              "fillmode": "overlay",
              "size": 10,
              "solidity": 0.2
             }
            },
            "type": "bar"
           }
          ],
          "barpolar": [
           {
            "marker": {
             "line": {
              "color": "#E5ECF6",
              "width": 0.5
             },
             "pattern": {
              "fillmode": "overlay",
              "size": 10,
              "solidity": 0.2
             }
            },
            "type": "barpolar"
           }
          ],
          "carpet": [
           {
            "aaxis": {
             "endlinecolor": "#2a3f5f",
             "gridcolor": "white",
             "linecolor": "white",
             "minorgridcolor": "white",
             "startlinecolor": "#2a3f5f"
            },
            "baxis": {
             "endlinecolor": "#2a3f5f",
             "gridcolor": "white",
             "linecolor": "white",
             "minorgridcolor": "white",
             "startlinecolor": "#2a3f5f"
            },
            "type": "carpet"
           }
          ],
          "choropleth": [
           {
            "colorbar": {
             "outlinewidth": 0,
             "ticks": ""
            },
            "type": "choropleth"
           }
          ],
          "contour": [
           {
            "colorbar": {
             "outlinewidth": 0,
             "ticks": ""
            },
            "colorscale": [
             [
              0,
              "#0d0887"
             ],
             [
              0.1111111111111111,
              "#46039f"
             ],
             [
              0.2222222222222222,
              "#7201a8"
             ],
             [
              0.3333333333333333,
              "#9c179e"
             ],
             [
              0.4444444444444444,
              "#bd3786"
             ],
             [
              0.5555555555555556,
              "#d8576b"
             ],
             [
              0.6666666666666666,
              "#ed7953"
             ],
             [
              0.7777777777777778,
              "#fb9f3a"
             ],
             [
              0.8888888888888888,
              "#fdca26"
             ],
             [
              1,
              "#f0f921"
             ]
            ],
            "type": "contour"
           }
          ],
          "contourcarpet": [
           {
            "colorbar": {
             "outlinewidth": 0,
             "ticks": ""
            },
            "type": "contourcarpet"
           }
          ],
          "heatmap": [
           {
            "colorbar": {
             "outlinewidth": 0,
             "ticks": ""
            },
            "colorscale": [
             [
              0,
              "#0d0887"
             ],
             [
              0.1111111111111111,
              "#46039f"
             ],
             [
              0.2222222222222222,
              "#7201a8"
             ],
             [
              0.3333333333333333,
              "#9c179e"
             ],
             [
              0.4444444444444444,
              "#bd3786"
             ],
             [
              0.5555555555555556,
              "#d8576b"
             ],
             [
              0.6666666666666666,
              "#ed7953"
             ],
             [
              0.7777777777777778,
              "#fb9f3a"
             ],
             [
              0.8888888888888888,
              "#fdca26"
             ],
             [
              1,
              "#f0f921"
             ]
            ],
            "type": "heatmap"
           }
          ],
          "histogram": [
           {
            "marker": {
             "pattern": {
              "fillmode": "overlay",
              "size": 10,
              "solidity": 0.2
             }
            },
            "type": "histogram"
           }
          ],
          "histogram2d": [
           {
            "colorbar": {
             "outlinewidth": 0,
             "ticks": ""
            },
            "colorscale": [
             [
              0,
              "#0d0887"
             ],
             [
              0.1111111111111111,
              "#46039f"
             ],
             [
              0.2222222222222222,
              "#7201a8"
             ],
             [
              0.3333333333333333,
              "#9c179e"
             ],
             [
              0.4444444444444444,
              "#bd3786"
             ],
             [
              0.5555555555555556,
              "#d8576b"
             ],
             [
              0.6666666666666666,
              "#ed7953"
             ],
             [
              0.7777777777777778,
              "#fb9f3a"
             ],
             [
              0.8888888888888888,
              "#fdca26"
             ],
             [
              1,
              "#f0f921"
             ]
            ],
            "type": "histogram2d"
           }
          ],
          "histogram2dcontour": [
           {
            "colorbar": {
             "outlinewidth": 0,
             "ticks": ""
            },
            "colorscale": [
             [
              0,
              "#0d0887"
             ],
             [
              0.1111111111111111,
              "#46039f"
             ],
             [
              0.2222222222222222,
              "#7201a8"
             ],
             [
              0.3333333333333333,
              "#9c179e"
             ],
             [
              0.4444444444444444,
              "#bd3786"
             ],
             [
              0.5555555555555556,
              "#d8576b"
             ],
             [
              0.6666666666666666,
              "#ed7953"
             ],
             [
              0.7777777777777778,
              "#fb9f3a"
             ],
             [
              0.8888888888888888,
              "#fdca26"
             ],
             [
              1,
              "#f0f921"
             ]
            ],
            "type": "histogram2dcontour"
           }
          ],
          "mesh3d": [
           {
            "colorbar": {
             "outlinewidth": 0,
             "ticks": ""
            },
            "type": "mesh3d"
           }
          ],
          "parcoords": [
           {
            "line": {
             "colorbar": {
              "outlinewidth": 0,
              "ticks": ""
             }
            },
            "type": "parcoords"
           }
          ],
          "pie": [
           {
            "automargin": true,
            "type": "pie"
           }
          ],
          "scatter": [
           {
            "fillpattern": {
             "fillmode": "overlay",
             "size": 10,
             "solidity": 0.2
            },
            "type": "scatter"
           }
          ],
          "scatter3d": [
           {
            "line": {
             "colorbar": {
              "outlinewidth": 0,
              "ticks": ""
             }
            },
            "marker": {
             "colorbar": {
              "outlinewidth": 0,
              "ticks": ""
             }
            },
            "type": "scatter3d"
           }
          ],
          "scattercarpet": [
           {
            "marker": {
             "colorbar": {
              "outlinewidth": 0,
              "ticks": ""
             }
            },
            "type": "scattercarpet"
           }
          ],
          "scattergeo": [
           {
            "marker": {
             "colorbar": {
              "outlinewidth": 0,
              "ticks": ""
             }
            },
            "type": "scattergeo"
           }
          ],
          "scattergl": [
           {
            "marker": {
             "colorbar": {
              "outlinewidth": 0,
              "ticks": ""
             }
            },
            "type": "scattergl"
           }
          ],
          "scattermap": [
           {
            "marker": {
             "colorbar": {
              "outlinewidth": 0,
              "ticks": ""
             }
            },
            "type": "scattermap"
           }
          ],
          "scattermapbox": [
           {
            "marker": {
             "colorbar": {
              "outlinewidth": 0,
              "ticks": ""
             }
            },
            "type": "scattermapbox"
           }
          ],
          "scatterpolar": [
           {
            "marker": {
             "colorbar": {
              "outlinewidth": 0,
              "ticks": ""
             }
            },
            "type": "scatterpolar"
           }
          ],
          "scatterpolargl": [
           {
            "marker": {
             "colorbar": {
              "outlinewidth": 0,
              "ticks": ""
             }
            },
            "type": "scatterpolargl"
           }
          ],
          "scatterternary": [
           {
            "marker": {
             "colorbar": {
              "outlinewidth": 0,
              "ticks": ""
             }
            },
            "type": "scatterternary"
           }
          ],
          "surface": [
           {
            "colorbar": {
             "outlinewidth": 0,
             "ticks": ""
            },
            "colorscale": [
             [
              0,
              "#0d0887"
             ],
             [
              0.1111111111111111,
              "#46039f"
             ],
             [
              0.2222222222222222,
              "#7201a8"
             ],
             [
              0.3333333333333333,
              "#9c179e"
             ],
             [
              0.4444444444444444,
              "#bd3786"
             ],
             [
              0.5555555555555556,
              "#d8576b"
             ],
             [
              0.6666666666666666,
              "#ed7953"
             ],
             [
              0.7777777777777778,
              "#fb9f3a"
             ],
             [
              0.8888888888888888,
              "#fdca26"
             ],
             [
              1,
              "#f0f921"
             ]
            ],
            "type": "surface"
           }
          ],
          "table": [
           {
            "cells": {
             "fill": {
              "color": "#EBF0F8"
             },
             "line": {
              "color": "white"
             }
            },
            "header": {
             "fill": {
              "color": "#C8D4E3"
             },
             "line": {
              "color": "white"
             }
            },
            "type": "table"
           }
          ]
         },
         "layout": {
          "annotationdefaults": {
           "arrowcolor": "#2a3f5f",
           "arrowhead": 0,
           "arrowwidth": 1
          },
          "autotypenumbers": "strict",
          "coloraxis": {
           "colorbar": {
            "outlinewidth": 0,
            "ticks": ""
           }
          },
          "colorscale": {
           "diverging": [
            [
             0,
             "#8e0152"
            ],
            [
             0.1,
             "#c51b7d"
            ],
            [
             0.2,
             "#de77ae"
            ],
            [
             0.3,
             "#f1b6da"
            ],
            [
             0.4,
             "#fde0ef"
            ],
            [
             0.5,
             "#f7f7f7"
            ],
            [
             0.6,
             "#e6f5d0"
            ],
            [
             0.7,
             "#b8e186"
            ],
            [
             0.8,
             "#7fbc41"
            ],
            [
             0.9,
             "#4d9221"
            ],
            [
             1,
             "#276419"
            ]
           ],
           "sequential": [
            [
             0,
             "#0d0887"
            ],
            [
             0.1111111111111111,
             "#46039f"
            ],
            [
             0.2222222222222222,
             "#7201a8"
            ],
            [
             0.3333333333333333,
             "#9c179e"
            ],
            [
             0.4444444444444444,
             "#bd3786"
            ],
            [
             0.5555555555555556,
             "#d8576b"
            ],
            [
             0.6666666666666666,
             "#ed7953"
            ],
            [
             0.7777777777777778,
             "#fb9f3a"
            ],
            [
             0.8888888888888888,
             "#fdca26"
            ],
            [
             1,
             "#f0f921"
            ]
           ],
           "sequentialminus": [
            [
             0,
             "#0d0887"
            ],
            [
             0.1111111111111111,
             "#46039f"
            ],
            [
             0.2222222222222222,
             "#7201a8"
            ],
            [
             0.3333333333333333,
             "#9c179e"
            ],
            [
             0.4444444444444444,
             "#bd3786"
            ],
            [
             0.5555555555555556,
             "#d8576b"
            ],
            [
             0.6666666666666666,
             "#ed7953"
            ],
            [
             0.7777777777777778,
             "#fb9f3a"
            ],
            [
             0.8888888888888888,
             "#fdca26"
            ],
            [
             1,
             "#f0f921"
            ]
           ]
          },
          "colorway": [
           "#636efa",
           "#EF553B",
           "#00cc96",
           "#ab63fa",
           "#FFA15A",
           "#19d3f3",
           "#FF6692",
           "#B6E880",
           "#FF97FF",
           "#FECB52"
          ],
          "font": {
           "color": "#2a3f5f"
          },
          "geo": {
           "bgcolor": "white",
           "lakecolor": "white",
           "landcolor": "#E5ECF6",
           "showlakes": true,
           "showland": true,
           "subunitcolor": "white"
          },
          "hoverlabel": {
           "align": "left"
          },
          "hovermode": "closest",
          "mapbox": {
           "style": "light"
          },
          "paper_bgcolor": "white",
          "plot_bgcolor": "#E5ECF6",
          "polar": {
           "angularaxis": {
            "gridcolor": "white",
            "linecolor": "white",
            "ticks": ""
           },
           "bgcolor": "#E5ECF6",
           "radialaxis": {
            "gridcolor": "white",
            "linecolor": "white",
            "ticks": ""
           }
          },
          "scene": {
           "xaxis": {
            "backgroundcolor": "#E5ECF6",
            "gridcolor": "white",
            "gridwidth": 2,
            "linecolor": "white",
            "showbackground": true,
            "ticks": "",
            "zerolinecolor": "white"
           },
           "yaxis": {
            "backgroundcolor": "#E5ECF6",
            "gridcolor": "white",
            "gridwidth": 2,
            "linecolor": "white",
            "showbackground": true,
            "ticks": "",
            "zerolinecolor": "white"
           },
           "zaxis": {
            "backgroundcolor": "#E5ECF6",
            "gridcolor": "white",
            "gridwidth": 2,
            "linecolor": "white",
            "showbackground": true,
            "ticks": "",
            "zerolinecolor": "white"
           }
          },
          "shapedefaults": {
           "line": {
            "color": "#2a3f5f"
           }
          },
          "ternary": {
           "aaxis": {
            "gridcolor": "white",
            "linecolor": "white",
            "ticks": ""
           },
           "baxis": {
            "gridcolor": "white",
            "linecolor": "white",
            "ticks": ""
           },
           "bgcolor": "#E5ECF6",
           "caxis": {
            "gridcolor": "white",
            "linecolor": "white",
            "ticks": ""
           }
          },
          "title": {
           "x": 0.05
          },
          "xaxis": {
           "automargin": true,
           "gridcolor": "white",
           "linecolor": "white",
           "ticks": "",
           "title": {
            "standoff": 15
           },
           "zerolinecolor": "white",
           "zerolinewidth": 2
          },
          "yaxis": {
           "automargin": true,
           "gridcolor": "white",
           "linecolor": "white",
           "ticks": "",
           "title": {
            "standoff": 15
           },
           "zerolinecolor": "white",
           "zerolinewidth": 2
          }
         }
        },
        "title": {
         "text": "Top 20 California ZIP Codes by Population & AGI"
        }
       }
      }
     },
     "metadata": {},
     "output_type": "display_data"
    }
   ],
   "source": [
    "import pandas as pd\n",
    "import plotly.express as px\n",
    "from pgeocode import Nominatim  # Library to fetch ZIP code lat/lon\n",
    "\n",
    "# Load US ZIP code data\n",
    "nomi = Nominatim(\"US\")\n",
    "\n",
    "# Filter for California and valid ZIP codes\n",
    "df_ca = df[(df['STATE'] == 'CA') & (df['ZIPCODE'] != 0) & (df['ZIPCODE'] != 99999)]\n",
    "\n",
    "# Sort by population and AGI in descending order\n",
    "df_ca_sorted = df_ca.sort_values(by=['population', 'A00100'], ascending=[False, False])\n",
    "\n",
    "# Keep only top 20 ZIP codes for clarity\n",
    "top_zip = df_ca_sorted[['STATE', 'ZIPCODE', 'population', 'A00100']].head(20)\n",
    "\n",
    "# Fetch latitude & longitude for each ZIP code dynamically\n",
    "top_zip['latitude'] = top_zip['ZIPCODE'].apply(lambda z: nomi.query_postal_code(str(z)).latitude)\n",
    "top_zip['longitude'] = top_zip['ZIPCODE'].apply(lambda z: nomi.query_postal_code(str(z)).longitude)\n",
    "\n",
    "# Drop ZIP codes with missing coordinates\n",
    "top_zip = top_zip.dropna(subset=['latitude', 'longitude'])\n",
    "\n",
    "# Plot California ZIP code map\n",
    "fig = px.scatter_geo(\n",
    "    top_zip,\n",
    "    lat='latitude',\n",
    "    lon='longitude',\n",
    "    text='ZIPCODE',\n",
    "    size='population',\n",
    "    color='A00100',\n",
    "    color_continuous_scale='OrRd',\n",
    "    scope='usa',\n",
    "    title='Top 20 California ZIP Codes by Population & AGI',\n",
    "    hover_name='ZIPCODE',\n",
    "    hover_data={'population': True, 'A00100': True}\n",
    ")\n",
    "\n",
    "fig.show()\n"
   ]
  },
  {
   "cell_type": "code",
   "execution_count": null,
   "metadata": {},
   "outputs": [],
   "source": []
  }
 ],
 "metadata": {
  "kernelspec": {
   "display_name": "venv",
   "language": "python",
   "name": "python3"
  },
  "language_info": {
   "codemirror_mode": {
    "name": "ipython",
    "version": 3
   },
   "file_extension": ".py",
   "mimetype": "text/x-python",
   "name": "python",
   "nbconvert_exporter": "python",
   "pygments_lexer": "ipython3",
   "version": "3.12.3"
  }
 },
 "nbformat": 4,
 "nbformat_minor": 2
}
