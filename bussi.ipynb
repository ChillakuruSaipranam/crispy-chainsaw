{
 "cells": [
  {
   "cell_type": "code",
   "execution_count": 36,
   "metadata": {},
   "outputs": [
    {
     "name": "stdout",
     "output_type": "stream",
     "text": [
      "IRS data downloaded and saved as '22zpallagi.csv'\n"
     ]
    },
    {
     "data": {
      "text/html": [
       "<div>\n",
       "<style scoped>\n",
       "    .dataframe tbody tr th:only-of-type {\n",
       "        vertical-align: middle;\n",
       "    }\n",
       "\n",
       "    .dataframe tbody tr th {\n",
       "        vertical-align: top;\n",
       "    }\n",
       "\n",
       "    .dataframe thead th {\n",
       "        text-align: right;\n",
       "    }\n",
       "</style>\n",
       "<table border=\"1\" class=\"dataframe\">\n",
       "  <thead>\n",
       "    <tr style=\"text-align: right;\">\n",
       "      <th></th>\n",
       "      <th>STATEFIPS</th>\n",
       "      <th>STATE</th>\n",
       "      <th>zipcode</th>\n",
       "      <th>agi_stub</th>\n",
       "      <th>N1</th>\n",
       "      <th>mars1</th>\n",
       "      <th>MARS2</th>\n",
       "      <th>MARS4</th>\n",
       "      <th>ELF</th>\n",
       "      <th>CPREP</th>\n",
       "      <th>...</th>\n",
       "      <th>A85300</th>\n",
       "      <th>N11901</th>\n",
       "      <th>A11901</th>\n",
       "      <th>N11900</th>\n",
       "      <th>A11900</th>\n",
       "      <th>N11902</th>\n",
       "      <th>A11902</th>\n",
       "      <th>N12000</th>\n",
       "      <th>A12000</th>\n",
       "      <th>Population</th>\n",
       "    </tr>\n",
       "  </thead>\n",
       "  <tbody>\n",
       "    <tr>\n",
       "      <th>0</th>\n",
       "      <td>1</td>\n",
       "      <td>AL</td>\n",
       "      <td>0</td>\n",
       "      <td>1</td>\n",
       "      <td>659530.0</td>\n",
       "      <td>422590.0</td>\n",
       "      <td>71000.0</td>\n",
       "      <td>154700.0</td>\n",
       "      <td>610780.0</td>\n",
       "      <td>24340.0</td>\n",
       "      <td>...</td>\n",
       "      <td>0.0</td>\n",
       "      <td>63060.0</td>\n",
       "      <td>54280.0</td>\n",
       "      <td>543620.0</td>\n",
       "      <td>1559881.0</td>\n",
       "      <td>541480.0</td>\n",
       "      <td>1552563.0</td>\n",
       "      <td>2250.0</td>\n",
       "      <td>5031.0</td>\n",
       "      <td>648290.0</td>\n",
       "    </tr>\n",
       "    <tr>\n",
       "      <th>1</th>\n",
       "      <td>1</td>\n",
       "      <td>AL</td>\n",
       "      <td>0</td>\n",
       "      <td>2</td>\n",
       "      <td>533640.0</td>\n",
       "      <td>276250.0</td>\n",
       "      <td>101050.0</td>\n",
       "      <td>141040.0</td>\n",
       "      <td>499310.0</td>\n",
       "      <td>15050.0</td>\n",
       "      <td>...</td>\n",
       "      <td>0.0</td>\n",
       "      <td>100320.0</td>\n",
       "      <td>130848.0</td>\n",
       "      <td>430380.0</td>\n",
       "      <td>1339883.0</td>\n",
       "      <td>427830.0</td>\n",
       "      <td>1329439.0</td>\n",
       "      <td>2780.0</td>\n",
       "      <td>8556.0</td>\n",
       "      <td>518340.0</td>\n",
       "    </tr>\n",
       "    <tr>\n",
       "      <th>2</th>\n",
       "      <td>1</td>\n",
       "      <td>AL</td>\n",
       "      <td>0</td>\n",
       "      <td>3</td>\n",
       "      <td>304870.0</td>\n",
       "      <td>134050.0</td>\n",
       "      <td>109980.0</td>\n",
       "      <td>51600.0</td>\n",
       "      <td>286110.0</td>\n",
       "      <td>9600.0</td>\n",
       "      <td>...</td>\n",
       "      <td>0.0</td>\n",
       "      <td>88750.0</td>\n",
       "      <td>186002.0</td>\n",
       "      <td>216080.0</td>\n",
       "      <td>585162.0</td>\n",
       "      <td>212990.0</td>\n",
       "      <td>573080.0</td>\n",
       "      <td>4520.0</td>\n",
       "      <td>12589.0</td>\n",
       "      <td>295630.0</td>\n",
       "    </tr>\n",
       "    <tr>\n",
       "      <th>3</th>\n",
       "      <td>1</td>\n",
       "      <td>AL</td>\n",
       "      <td>0</td>\n",
       "      <td>4</td>\n",
       "      <td>193020.0</td>\n",
       "      <td>56350.0</td>\n",
       "      <td>113100.0</td>\n",
       "      <td>19090.0</td>\n",
       "      <td>181390.0</td>\n",
       "      <td>4530.0</td>\n",
       "      <td>...</td>\n",
       "      <td>0.0</td>\n",
       "      <td>67040.0</td>\n",
       "      <td>189833.0</td>\n",
       "      <td>124860.0</td>\n",
       "      <td>403052.0</td>\n",
       "      <td>121760.0</td>\n",
       "      <td>388581.0</td>\n",
       "      <td>2840.0</td>\n",
       "      <td>12190.0</td>\n",
       "      <td>188540.0</td>\n",
       "    </tr>\n",
       "    <tr>\n",
       "      <th>4</th>\n",
       "      <td>1</td>\n",
       "      <td>AL</td>\n",
       "      <td>0</td>\n",
       "      <td>5</td>\n",
       "      <td>315700.0</td>\n",
       "      <td>45000.0</td>\n",
       "      <td>252660.0</td>\n",
       "      <td>12180.0</td>\n",
       "      <td>297930.0</td>\n",
       "      <td>9000.0</td>\n",
       "      <td>...</td>\n",
       "      <td>63.0</td>\n",
       "      <td>138270.0</td>\n",
       "      <td>657283.0</td>\n",
       "      <td>177730.0</td>\n",
       "      <td>748507.0</td>\n",
       "      <td>169080.0</td>\n",
       "      <td>671684.0</td>\n",
       "      <td>10940.0</td>\n",
       "      <td>80141.0</td>\n",
       "      <td>309840.0</td>\n",
       "    </tr>\n",
       "  </tbody>\n",
       "</table>\n",
       "<p>5 rows × 166 columns</p>\n",
       "</div>"
      ],
      "text/plain": [
       "   STATEFIPS STATE  zipcode  agi_stub        N1     mars1     MARS2     MARS4  \\\n",
       "0          1    AL        0         1  659530.0  422590.0   71000.0  154700.0   \n",
       "1          1    AL        0         2  533640.0  276250.0  101050.0  141040.0   \n",
       "2          1    AL        0         3  304870.0  134050.0  109980.0   51600.0   \n",
       "3          1    AL        0         4  193020.0   56350.0  113100.0   19090.0   \n",
       "4          1    AL        0         5  315700.0   45000.0  252660.0   12180.0   \n",
       "\n",
       "        ELF    CPREP  ...  A85300    N11901    A11901    N11900     A11900  \\\n",
       "0  610780.0  24340.0  ...     0.0   63060.0   54280.0  543620.0  1559881.0   \n",
       "1  499310.0  15050.0  ...     0.0  100320.0  130848.0  430380.0  1339883.0   \n",
       "2  286110.0   9600.0  ...     0.0   88750.0  186002.0  216080.0   585162.0   \n",
       "3  181390.0   4530.0  ...     0.0   67040.0  189833.0  124860.0   403052.0   \n",
       "4  297930.0   9000.0  ...    63.0  138270.0  657283.0  177730.0   748507.0   \n",
       "\n",
       "     N11902     A11902   N12000   A12000  Population  \n",
       "0  541480.0  1552563.0   2250.0   5031.0    648290.0  \n",
       "1  427830.0  1329439.0   2780.0   8556.0    518340.0  \n",
       "2  212990.0   573080.0   4520.0  12589.0    295630.0  \n",
       "3  121760.0   388581.0   2840.0  12190.0    188540.0  \n",
       "4  169080.0   671684.0  10940.0  80141.0    309840.0  \n",
       "\n",
       "[5 rows x 166 columns]"
      ]
     },
     "execution_count": 36,
     "metadata": {},
     "output_type": "execute_result"
    }
   ],
   "source": [
    "import pandas as pd\n",
    "import numpy as np\n",
    "import requests\n",
    "import matplotlib.pyplot as plt\n",
    "import seaborn as sns\n",
    "\n",
    "# Load the dataset from the IRS website\n",
    "irs_url = \"https://www.irs.gov/pub/irs-soi/22zpallagi.csv\"\n",
    "df_irs = pd.read_csv(irs_url, encoding=\"ISO-8859-1\", low_memory=False)\n",
    "df_irs[\"Population\"] = df_irs[[\"mars1\", \"MARS2\", \"MARS4\"]].sum(axis=1, skipna=True)\n",
    "# Save it as a local CSV file\n",
    "df_irs.to_csv(\"22zpallagi.csv\", index=False)\n",
    "\n",
    "print(\"IRS data downloaded and saved as '22zpallagi.csv'\")\n",
    "df_irs.head()"
   ]
  },
  {
   "cell_type": "markdown",
   "metadata": {},
   "source": [
    "## census"
   ]
  },
  {
   "cell_type": "code",
   "execution_count": 5,
   "metadata": {},
   "outputs": [
    {
     "name": "stdout",
     "output_type": "stream",
     "text": [
      "Saved as census_data.csv\n"
     ]
    },
    {
     "data": {
      "text/html": [
       "<div>\n",
       "<style scoped>\n",
       "    .dataframe tbody tr th:only-of-type {\n",
       "        vertical-align: middle;\n",
       "    }\n",
       "\n",
       "    .dataframe tbody tr th {\n",
       "        vertical-align: top;\n",
       "    }\n",
       "\n",
       "    .dataframe thead th {\n",
       "        text-align: right;\n",
       "    }\n",
       "</style>\n",
       "<table border=\"1\" class=\"dataframe\">\n",
       "  <thead>\n",
       "    <tr style=\"text-align: right;\">\n",
       "      <th></th>\n",
       "      <th>Total_Population</th>\n",
       "      <th>Median_Income</th>\n",
       "      <th>Percent_Bachelor_or_Higher</th>\n",
       "      <th>ZIP</th>\n",
       "    </tr>\n",
       "  </thead>\n",
       "  <tbody>\n",
       "    <tr>\n",
       "      <th>0</th>\n",
       "      <td>16834</td>\n",
       "      <td>17526</td>\n",
       "      <td>None</td>\n",
       "      <td>00601</td>\n",
       "    </tr>\n",
       "    <tr>\n",
       "      <th>1</th>\n",
       "      <td>37642</td>\n",
       "      <td>20260</td>\n",
       "      <td>None</td>\n",
       "      <td>00602</td>\n",
       "    </tr>\n",
       "    <tr>\n",
       "      <th>2</th>\n",
       "      <td>49075</td>\n",
       "      <td>17703</td>\n",
       "      <td>None</td>\n",
       "      <td>00603</td>\n",
       "    </tr>\n",
       "    <tr>\n",
       "      <th>3</th>\n",
       "      <td>5590</td>\n",
       "      <td>19603</td>\n",
       "      <td>None</td>\n",
       "      <td>00606</td>\n",
       "    </tr>\n",
       "    <tr>\n",
       "      <th>4</th>\n",
       "      <td>25542</td>\n",
       "      <td>22796</td>\n",
       "      <td>None</td>\n",
       "      <td>00610</td>\n",
       "    </tr>\n",
       "  </tbody>\n",
       "</table>\n",
       "</div>"
      ],
      "text/plain": [
       "  Total_Population Median_Income Percent_Bachelor_or_Higher    ZIP\n",
       "0            16834         17526                       None  00601\n",
       "1            37642         20260                       None  00602\n",
       "2            49075         17703                       None  00603\n",
       "3             5590         19603                       None  00606\n",
       "4            25542         22796                       None  00610"
      ]
     },
     "execution_count": 5,
     "metadata": {},
     "output_type": "execute_result"
    }
   ],
   "source": [
    "API_KEY = \"b4434bb9b6ae23472c5dfcf04177f38065b58b02\"\n",
    "\n",
    "url = \"https://api.census.gov/data/2022/acs/acs5/profile\"\n",
    "params = {\n",
    "    \"get\": \"DP05_0001E,DP03_0062E,DP02_0067PE\",  # total pop, median income, % bachelor's\n",
    "    \"for\": \"zip code tabulation area:*\",\n",
    "    \"key\": API_KEY\n",
    "}\n",
    "\n",
    "response = requests.get(url, params=params)\n",
    "\n",
    "if response.status_code == 200:\n",
    "    data = response.json()\n",
    "    df1 = pd.DataFrame(data[1:], columns=data[0])\n",
    "    df1 = df1.rename(columns={\n",
    "        \"DP05_0001E\": \"Total_Population\",\n",
    "        \"DP03_0062E\": \"Median_Income\",\n",
    "        \"DP02_0067PE\": \"Percent_Bachelor_or_Higher\",\n",
    "        \"zip code tabulation area\": \"ZIP\"\n",
    "    })\n",
    "    df1.to_csv(\"census_data.csv\", index=False)\n",
    "    print(\"Saved as census_data.csv\")\n",
    "else:\n",
    "    print(\"API request failed\")\n",
    "df1.head()"
   ]
  },
  {
   "cell_type": "markdown",
   "metadata": {},
   "source": [
    "### Business Patterns"
   ]
  },
  {
   "cell_type": "code",
   "execution_count": 6,
   "metadata": {},
   "outputs": [
    {
     "name": "stdout",
     "output_type": "stream",
     "text": [
      "Columns: ['zip', 'name', 'naics', 'est', 'n<5', 'n5_9', 'n10_19', 'n20_49', 'n50_99', 'n100_249', 'n250_499', 'n500_999', 'n1000', 'city', 'stabbr', 'cty_name']\n",
      "     zip            name   naics est n<5 n5_9 n10_19 n20_49 n50_99 n100_249  \\\n",
      "0  00501  HOLTSVILLE, NY  ------  10   8    N      N      N      N        N   \n",
      "1  00501  HOLTSVILLE, NY  81----   5   3    N      N      N      N        N   \n",
      "2  00501  HOLTSVILLE, NY  813///   3   N    N      N      N      N        N   \n",
      "3  00501  HOLTSVILLE, NY  8131//   3   N    N      N      N      N        N   \n",
      "4  00501  HOLTSVILLE, NY  81311/   3   N    N      N      N      N        N   \n",
      "\n",
      "  n250_499 n500_999 n1000        city stabbr cty_name  \n",
      "0        N        N     N  HOLTSVILLE     NY  SUFFOLK  \n",
      "1        N        N     N  HOLTSVILLE     NY  SUFFOLK  \n",
      "2        N        N     N  HOLTSVILLE     NY  SUFFOLK  \n",
      "3        N        N     N  HOLTSVILLE     NY  SUFFOLK  \n",
      "4        N        N     N  HOLTSVILLE     NY  SUFFOLK  \n"
     ]
    }
   ],
   "source": [
    "# Reading with Latin-1 encoding (works for most Census files)\n",
    "df3 = pd.read_csv(\"zbp21detail.txt\", delimiter=\",\", encoding='latin1', dtype=str)\n",
    "\n",
    "# Show the columns and sample rows\n",
    "print(\"Columns:\", df3.columns.tolist())\n",
    "print(df3.head())\n"
   ]
  },
  {
   "cell_type": "markdown",
   "metadata": {},
   "source": [
    "### Load & Prepare IRS Data"
   ]
  },
  {
   "cell_type": "code",
   "execution_count": 7,
   "metadata": {},
   "outputs": [],
   "source": [
    "df_irs = pd.read_csv(\"22zpallagi.csv\", encoding=\"ISO-8859-1\", low_memory=False)\n",
    "df_irs['ZIP'] = df_irs['zipcode'].astype(str).str.zfill(5)\n",
    "df_irs_clean = df_irs[['ZIP', 'STATE', 'A00100']]  # A00100 = total AGI\n"
   ]
  },
  {
   "cell_type": "markdown",
   "metadata": {},
   "source": [
    "### Census Data"
   ]
  },
  {
   "cell_type": "code",
   "execution_count": 8,
   "metadata": {},
   "outputs": [],
   "source": [
    "df_census = pd.read_csv(\"census_data.csv\")\n",
    "df_census['ZIP'] = df_census['ZIP'].astype(str).str.zfill(5)"
   ]
  },
  {
   "cell_type": "markdown",
   "metadata": {},
   "source": [
    "### Business "
   ]
  },
  {
   "cell_type": "code",
   "execution_count": 9,
   "metadata": {},
   "outputs": [],
   "source": [
    "df_zbp_raw = pd.read_csv(\"zbp21detail.txt\", delimiter=\",\", encoding='latin1', dtype=str)\n",
    "df_zbp_raw['ZIP'] = df_zbp_raw['zip'].astype(str).str.zfill(5)\n",
    "df_zbp_raw['est'] = pd.to_numeric(df_zbp_raw['est'], errors='coerce')\n",
    "#  Aggregate business counts per ZIP\n",
    "df_zbp = df_zbp_raw.groupby('ZIP')['est'].sum().reset_index()\n",
    "df_zbp.columns = ['ZIP', 'Total_Businesses']"
   ]
  },
  {
   "cell_type": "markdown",
   "metadata": {},
   "source": [
    "Merge Datasets by ZIP"
   ]
  },
  {
   "cell_type": "code",
   "execution_count": 10,
   "metadata": {},
   "outputs": [],
   "source": [
    "df_merged = df_irs_clean.merge(df_census, on='ZIP', how='inner')\n",
    "\n",
    "# Merge Business data\n",
    "df_merged = df_merged.merge(df_zbp, on='ZIP', how='inner')\n",
    "df_merged = df_merged.rename(columns={\"A00100\": \"Total_AGI\"})\n"
   ]
  },
  {
   "cell_type": "markdown",
   "metadata": {},
   "source": [
    "### Data cleaning steps"
   ]
  },
  {
   "cell_type": "code",
   "execution_count": 11,
   "metadata": {},
   "outputs": [],
   "source": [
    "\n",
    "df_clean = df_merged.dropna()\n",
    "df_clean = df_clean[(df_clean['Total_AGI'] > 0) & (df_clean['Total_Population'] > 0)]\n",
    "\n",
    "# Ensure ZIP codes are 5-digit strings (standard format)\n",
    "df_clean['ZIP'] = df_clean['ZIP'].astype(str).str.zfill(5)\n",
    "   \n",
    "# Convert numeric fields to correct types (if not already)\n",
    "numeric_cols = ['Total_AGI', 'Total_Population', 'Median_Income',\n",
    "                'Percent_Bachelor_or_Higher', 'Total_Businesses']\n",
    "df_clean[numeric_cols] = df_clean[numeric_cols].apply(pd.to_numeric, errors='coerce')\n",
    "\n",
    "# Remove any rows that became NaN during numeric conversion\n",
    "df_clean = df_clean.dropna(subset=numeric_cols)\n",
    "df_clean['AGI_Per_Capita'] = df_clean['Total_AGI'] / df_clean['Total_Population']\n",
    "df_clean['Business_Density'] = df_clean['Total_Businesses'] / (df_clean['Total_Population'] / 1000)\n",
    "df_clean['AGI_Level'] = pd.qcut(df_clean['Total_AGI'], q=4, labels=['Low', 'Mid-Low', 'Mid-High', 'High'])\n",
    "\n",
    "\n"
   ]
  },
  {
   "cell_type": "code",
   "execution_count": 12,
   "metadata": {},
   "outputs": [
    {
     "data": {
      "text/html": [
       "<div>\n",
       "<style scoped>\n",
       "    .dataframe tbody tr th:only-of-type {\n",
       "        vertical-align: middle;\n",
       "    }\n",
       "\n",
       "    .dataframe tbody tr th {\n",
       "        vertical-align: top;\n",
       "    }\n",
       "\n",
       "    .dataframe thead th {\n",
       "        text-align: right;\n",
       "    }\n",
       "</style>\n",
       "<table border=\"1\" class=\"dataframe\">\n",
       "  <thead>\n",
       "    <tr style=\"text-align: right;\">\n",
       "      <th></th>\n",
       "      <th>ZIP</th>\n",
       "      <th>STATE</th>\n",
       "      <th>Total_AGI</th>\n",
       "      <th>Total_Population</th>\n",
       "      <th>Median_Income</th>\n",
       "      <th>Percent_Bachelor_or_Higher</th>\n",
       "      <th>Total_Businesses</th>\n",
       "      <th>AGI_Per_Capita</th>\n",
       "      <th>Business_Density</th>\n",
       "      <th>AGI_Level</th>\n",
       "    </tr>\n",
       "  </thead>\n",
       "  <tbody>\n",
       "    <tr>\n",
       "      <th>0</th>\n",
       "      <td>35004</td>\n",
       "      <td>AL</td>\n",
       "      <td>15888.0</td>\n",
       "      <td>11737</td>\n",
       "      <td>76683</td>\n",
       "      <td>94.0</td>\n",
       "      <td>853</td>\n",
       "      <td>1.353668</td>\n",
       "      <td>72.676152</td>\n",
       "      <td>Mid-Low</td>\n",
       "    </tr>\n",
       "    <tr>\n",
       "      <th>1</th>\n",
       "      <td>35004</td>\n",
       "      <td>AL</td>\n",
       "      <td>49413.0</td>\n",
       "      <td>11737</td>\n",
       "      <td>76683</td>\n",
       "      <td>94.0</td>\n",
       "      <td>853</td>\n",
       "      <td>4.210020</td>\n",
       "      <td>72.676152</td>\n",
       "      <td>Mid-High</td>\n",
       "    </tr>\n",
       "    <tr>\n",
       "      <th>2</th>\n",
       "      <td>35004</td>\n",
       "      <td>AL</td>\n",
       "      <td>61695.0</td>\n",
       "      <td>11737</td>\n",
       "      <td>76683</td>\n",
       "      <td>94.0</td>\n",
       "      <td>853</td>\n",
       "      <td>5.256454</td>\n",
       "      <td>72.676152</td>\n",
       "      <td>Mid-High</td>\n",
       "    </tr>\n",
       "    <tr>\n",
       "      <th>3</th>\n",
       "      <td>35004</td>\n",
       "      <td>AL</td>\n",
       "      <td>53252.0</td>\n",
       "      <td>11737</td>\n",
       "      <td>76683</td>\n",
       "      <td>94.0</td>\n",
       "      <td>853</td>\n",
       "      <td>4.537105</td>\n",
       "      <td>72.676152</td>\n",
       "      <td>Mid-High</td>\n",
       "    </tr>\n",
       "    <tr>\n",
       "      <th>4</th>\n",
       "      <td>35004</td>\n",
       "      <td>AL</td>\n",
       "      <td>139477.0</td>\n",
       "      <td>11737</td>\n",
       "      <td>76683</td>\n",
       "      <td>94.0</td>\n",
       "      <td>853</td>\n",
       "      <td>11.883531</td>\n",
       "      <td>72.676152</td>\n",
       "      <td>High</td>\n",
       "    </tr>\n",
       "  </tbody>\n",
       "</table>\n",
       "</div>"
      ],
      "text/plain": [
       "     ZIP STATE  Total_AGI  Total_Population  Median_Income  \\\n",
       "0  35004    AL    15888.0             11737          76683   \n",
       "1  35004    AL    49413.0             11737          76683   \n",
       "2  35004    AL    61695.0             11737          76683   \n",
       "3  35004    AL    53252.0             11737          76683   \n",
       "4  35004    AL   139477.0             11737          76683   \n",
       "\n",
       "   Percent_Bachelor_or_Higher  Total_Businesses  AGI_Per_Capita  \\\n",
       "0                        94.0               853        1.353668   \n",
       "1                        94.0               853        4.210020   \n",
       "2                        94.0               853        5.256454   \n",
       "3                        94.0               853        4.537105   \n",
       "4                        94.0               853       11.883531   \n",
       "\n",
       "   Business_Density AGI_Level  \n",
       "0         72.676152   Mid-Low  \n",
       "1         72.676152  Mid-High  \n",
       "2         72.676152  Mid-High  \n",
       "3         72.676152  Mid-High  \n",
       "4         72.676152      High  "
      ]
     },
     "execution_count": 12,
     "metadata": {},
     "output_type": "execute_result"
    }
   ],
   "source": [
    "df_clean.head()"
   ]
  },
  {
   "cell_type": "code",
   "execution_count": 13,
   "metadata": {},
   "outputs": [
    {
     "data": {
      "text/plain": [
       "Index(['ZIP', 'STATE', 'Total_AGI', 'Total_Population', 'Median_Income',\n",
       "       'Percent_Bachelor_or_Higher', 'Total_Businesses', 'AGI_Per_Capita',\n",
       "       'Business_Density', 'AGI_Level'],\n",
       "      dtype='object')"
      ]
     },
     "execution_count": 13,
     "metadata": {},
     "output_type": "execute_result"
    }
   ],
   "source": [
    "df_clean.columns"
   ]
  },
  {
   "cell_type": "code",
   "execution_count": 14,
   "metadata": {},
   "outputs": [
    {
     "name": "stdout",
     "output_type": "stream",
     "text": [
      "<class 'pandas.core.frame.DataFrame'>\n",
      "Index: 153918 entries, 0 to 162598\n",
      "Data columns (total 10 columns):\n",
      " #   Column                      Non-Null Count   Dtype   \n",
      "---  ------                      --------------   -----   \n",
      " 0   ZIP                         153918 non-null  object  \n",
      " 1   STATE                       153918 non-null  object  \n",
      " 2   Total_AGI                   153918 non-null  float64 \n",
      " 3   Total_Population            153918 non-null  int64   \n",
      " 4   Median_Income               153918 non-null  int64   \n",
      " 5   Percent_Bachelor_or_Higher  153918 non-null  float64 \n",
      " 6   Total_Businesses            153918 non-null  int64   \n",
      " 7   AGI_Per_Capita              153918 non-null  float64 \n",
      " 8   Business_Density            153918 non-null  float64 \n",
      " 9   AGI_Level                   153918 non-null  category\n",
      "dtypes: category(1), float64(4), int64(3), object(2)\n",
      "memory usage: 11.9+ MB\n"
     ]
    }
   ],
   "source": [
    "df_clean.info()"
   ]
  },
  {
   "cell_type": "code",
   "execution_count": 15,
   "metadata": {},
   "outputs": [
    {
     "data": {
      "text/html": [
       "<div>\n",
       "<style scoped>\n",
       "    .dataframe tbody tr th:only-of-type {\n",
       "        vertical-align: middle;\n",
       "    }\n",
       "\n",
       "    .dataframe tbody tr th {\n",
       "        vertical-align: top;\n",
       "    }\n",
       "\n",
       "    .dataframe thead th {\n",
       "        text-align: right;\n",
       "    }\n",
       "</style>\n",
       "<table border=\"1\" class=\"dataframe\">\n",
       "  <thead>\n",
       "    <tr style=\"text-align: right;\">\n",
       "      <th></th>\n",
       "      <th>Total_AGI</th>\n",
       "      <th>Total_Population</th>\n",
       "      <th>Median_Income</th>\n",
       "      <th>Percent_Bachelor_or_Higher</th>\n",
       "      <th>Total_Businesses</th>\n",
       "      <th>AGI_Per_Capita</th>\n",
       "      <th>Business_Density</th>\n",
       "    </tr>\n",
       "  </thead>\n",
       "  <tbody>\n",
       "    <tr>\n",
       "      <th>count</th>\n",
       "      <td>1.539180e+05</td>\n",
       "      <td>153918.000000</td>\n",
       "      <td>1.539180e+05</td>\n",
       "      <td>1.539180e+05</td>\n",
       "      <td>153918.000000</td>\n",
       "      <td>153918.000000</td>\n",
       "      <td>153918.000000</td>\n",
       "    </tr>\n",
       "    <tr>\n",
       "      <th>mean</th>\n",
       "      <td>9.399191e+04</td>\n",
       "      <td>12704.972128</td>\n",
       "      <td>-8.874208e+06</td>\n",
       "      <td>-4.241723e+03</td>\n",
       "      <td>1605.752894</td>\n",
       "      <td>7.316743</td>\n",
       "      <td>103.826510</td>\n",
       "    </tr>\n",
       "    <tr>\n",
       "      <th>std</th>\n",
       "      <td>3.036139e+05</td>\n",
       "      <td>15938.040526</td>\n",
       "      <td>7.672647e+07</td>\n",
       "      <td>1.699277e+06</td>\n",
       "      <td>2606.147909</td>\n",
       "      <td>18.668080</td>\n",
       "      <td>285.912733</td>\n",
       "    </tr>\n",
       "    <tr>\n",
       "      <th>min</th>\n",
       "      <td>1.970000e+02</td>\n",
       "      <td>5.000000</td>\n",
       "      <td>-6.666667e+08</td>\n",
       "      <td>-6.666667e+08</td>\n",
       "      <td>3.000000</td>\n",
       "      <td>0.078189</td>\n",
       "      <td>0.685244</td>\n",
       "    </tr>\n",
       "    <tr>\n",
       "      <th>25%</th>\n",
       "      <td>7.104250e+03</td>\n",
       "      <td>1625.000000</td>\n",
       "      <td>5.478700e+04</td>\n",
       "      <td>8.630000e+01</td>\n",
       "      <td>63.000000</td>\n",
       "      <td>2.911161</td>\n",
       "      <td>35.805627</td>\n",
       "    </tr>\n",
       "    <tr>\n",
       "      <th>50%</th>\n",
       "      <td>2.254600e+04</td>\n",
       "      <td>5255.000000</td>\n",
       "      <td>6.831750e+04</td>\n",
       "      <td>9.140000e+01</td>\n",
       "      <td>380.000000</td>\n",
       "      <td>4.379382</td>\n",
       "      <td>70.771656</td>\n",
       "    </tr>\n",
       "    <tr>\n",
       "      <th>75%</th>\n",
       "      <td>8.192075e+04</td>\n",
       "      <td>19002.000000</td>\n",
       "      <td>8.699400e+04</td>\n",
       "      <td>9.500000e+01</td>\n",
       "      <td>2138.000000</td>\n",
       "      <td>6.561398</td>\n",
       "      <td>119.659819</td>\n",
       "    </tr>\n",
       "    <tr>\n",
       "      <th>max</th>\n",
       "      <td>1.934949e+07</td>\n",
       "      <td>134008.000000</td>\n",
       "      <td>2.500010e+05</td>\n",
       "      <td>1.000000e+02</td>\n",
       "      <td>39282.000000</td>\n",
       "      <td>2213.972222</td>\n",
       "      <td>21757.630162</td>\n",
       "    </tr>\n",
       "  </tbody>\n",
       "</table>\n",
       "</div>"
      ],
      "text/plain": [
       "          Total_AGI  Total_Population  Median_Income  \\\n",
       "count  1.539180e+05     153918.000000   1.539180e+05   \n",
       "mean   9.399191e+04      12704.972128  -8.874208e+06   \n",
       "std    3.036139e+05      15938.040526   7.672647e+07   \n",
       "min    1.970000e+02          5.000000  -6.666667e+08   \n",
       "25%    7.104250e+03       1625.000000   5.478700e+04   \n",
       "50%    2.254600e+04       5255.000000   6.831750e+04   \n",
       "75%    8.192075e+04      19002.000000   8.699400e+04   \n",
       "max    1.934949e+07     134008.000000   2.500010e+05   \n",
       "\n",
       "       Percent_Bachelor_or_Higher  Total_Businesses  AGI_Per_Capita  \\\n",
       "count                1.539180e+05     153918.000000   153918.000000   \n",
       "mean                -4.241723e+03       1605.752894        7.316743   \n",
       "std                  1.699277e+06       2606.147909       18.668080   \n",
       "min                 -6.666667e+08          3.000000        0.078189   \n",
       "25%                  8.630000e+01         63.000000        2.911161   \n",
       "50%                  9.140000e+01        380.000000        4.379382   \n",
       "75%                  9.500000e+01       2138.000000        6.561398   \n",
       "max                  1.000000e+02      39282.000000     2213.972222   \n",
       "\n",
       "       Business_Density  \n",
       "count     153918.000000  \n",
       "mean         103.826510  \n",
       "std          285.912733  \n",
       "min            0.685244  \n",
       "25%           35.805627  \n",
       "50%           70.771656  \n",
       "75%          119.659819  \n",
       "max        21757.630162  "
      ]
     },
     "execution_count": 15,
     "metadata": {},
     "output_type": "execute_result"
    }
   ],
   "source": [
    "df_clean.describe()"
   ]
  },
  {
   "cell_type": "code",
   "execution_count": 16,
   "metadata": {},
   "outputs": [
    {
     "data": {
      "text/plain": [
       "ZIP                           0\n",
       "STATE                         0\n",
       "Total_AGI                     0\n",
       "Total_Population              0\n",
       "Median_Income                 0\n",
       "Percent_Bachelor_or_Higher    0\n",
       "Total_Businesses              0\n",
       "AGI_Per_Capita                0\n",
       "Business_Density              0\n",
       "AGI_Level                     0\n",
       "dtype: int64"
      ]
     },
     "execution_count": 16,
     "metadata": {},
     "output_type": "execute_result"
    }
   ],
   "source": [
    "df_clean.isna().sum()"
   ]
  },
  {
   "cell_type": "code",
   "execution_count": 37,
   "metadata": {},
   "outputs": [],
   "source": [
    "df_clean.to_csv(\"cleaned_data.csv\", index=False)"
   ]
  },
  {
   "cell_type": "markdown",
   "metadata": {},
   "source": [
    "### Plot top 10 states by total income"
   ]
  },
  {
   "cell_type": "code",
   "execution_count": 33,
   "metadata": {},
   "outputs": [
    {
     "data": {
      "application/vnd.plotly.v1+json": {
       "config": {
        "plotlyServerURL": "https://plot.ly"
       },
       "data": [
        {
         "hovertemplate": "State=%{x}<br>Total Income=%{text}<extra></extra>",
         "legendgroup": "CA",
         "marker": {
          "color": "rgb(102,194,165)",
          "pattern": {
           "shape": ""
          }
         },
         "name": "CA",
         "orientation": "v",
         "showlegend": true,
         "text": {
          "bdata": "AABAaehB3UE=",
          "dtype": "f8"
         },
         "textposition": "outside",
         "texttemplate": "%{text:,.0f}",
         "type": "bar",
         "x": [
          "CA"
         ],
         "xaxis": "x",
         "y": {
          "bdata": "AABAaehB3UE=",
          "dtype": "f8"
         },
         "yaxis": "y"
        },
        {
         "hovertemplate": "State=%{x}<br>Total Income=%{text}<extra></extra>",
         "legendgroup": "TX",
         "marker": {
          "color": "rgb(252,141,98)",
          "pattern": {
           "shape": ""
          }
         },
         "name": "TX",
         "orientation": "v",
         "showlegend": true,
         "text": {
          "bdata": "AABAQnAx0kE=",
          "dtype": "f8"
         },
         "textposition": "outside",
         "texttemplate": "%{text:,.0f}",
         "type": "bar",
         "x": [
          "TX"
         ],
         "xaxis": "x",
         "y": {
          "bdata": "AABAQnAx0kE=",
          "dtype": "f8"
         },
         "yaxis": "y"
        },
        {
         "hovertemplate": "State=%{x}<br>Total Income=%{text}<extra></extra>",
         "legendgroup": "FL",
         "marker": {
          "color": "rgb(141,160,203)",
          "pattern": {
           "shape": ""
          }
         },
         "name": "FL",
         "orientation": "v",
         "showlegend": true,
         "text": {
          "bdata": "AACA5Pyl0EE=",
          "dtype": "f8"
         },
         "textposition": "outside",
         "texttemplate": "%{text:,.0f}",
         "type": "bar",
         "x": [
          "FL"
         ],
         "xaxis": "x",
         "y": {
          "bdata": "AACA5Pyl0EE=",
          "dtype": "f8"
         },
         "yaxis": "y"
        },
        {
         "hovertemplate": "State=%{x}<br>Total Income=%{text}<extra></extra>",
         "legendgroup": "NY",
         "marker": {
          "color": "rgb(231,138,195)",
          "pattern": {
           "shape": ""
          }
         },
         "name": "NY",
         "orientation": "v",
         "showlegend": true,
         "text": {
          "bdata": "AACAd1cQzkE=",
          "dtype": "f8"
         },
         "textposition": "outside",
         "texttemplate": "%{text:,.0f}",
         "type": "bar",
         "x": [
          "NY"
         ],
         "xaxis": "x",
         "y": {
          "bdata": "AACAd1cQzkE=",
          "dtype": "f8"
         },
         "yaxis": "y"
        },
        {
         "hovertemplate": "State=%{x}<br>Total Income=%{text}<extra></extra>",
         "legendgroup": "IL",
         "marker": {
          "color": "rgb(166,216,84)",
          "pattern": {
           "shape": ""
          }
         },
         "name": "IL",
         "orientation": "v",
         "showlegend": true,
         "text": {
          "bdata": "AACA5xVLwUE=",
          "dtype": "f8"
         },
         "textposition": "outside",
         "texttemplate": "%{text:,.0f}",
         "type": "bar",
         "x": [
          "IL"
         ],
         "xaxis": "x",
         "y": {
          "bdata": "AACA5xVLwUE=",
          "dtype": "f8"
         },
         "yaxis": "y"
        },
        {
         "hovertemplate": "State=%{x}<br>Total Income=%{text}<extra></extra>",
         "legendgroup": "PA",
         "marker": {
          "color": "rgb(255,217,47)",
          "pattern": {
           "shape": ""
          }
         },
         "name": "PA",
         "orientation": "v",
         "showlegend": true,
         "text": {
          "bdata": "AAAAQAZBwEE=",
          "dtype": "f8"
         },
         "textposition": "outside",
         "texttemplate": "%{text:,.0f}",
         "type": "bar",
         "x": [
          "PA"
         ],
         "xaxis": "x",
         "y": {
          "bdata": "AAAAQAZBwEE=",
          "dtype": "f8"
         },
         "yaxis": "y"
        },
        {
         "hovertemplate": "State=%{x}<br>Total Income=%{text}<extra></extra>",
         "legendgroup": "NJ",
         "marker": {
          "color": "rgb(229,196,148)",
          "pattern": {
           "shape": ""
          }
         },
         "name": "NJ",
         "orientation": "v",
         "showlegend": true,
         "text": {
          "bdata": "AAAA+fYZvkE=",
          "dtype": "f8"
         },
         "textposition": "outside",
         "texttemplate": "%{text:,.0f}",
         "type": "bar",
         "x": [
          "NJ"
         ],
         "xaxis": "x",
         "y": {
          "bdata": "AAAA+fYZvkE=",
          "dtype": "f8"
         },
         "yaxis": "y"
        },
        {
         "hovertemplate": "State=%{x}<br>Total Income=%{text}<extra></extra>",
         "legendgroup": "OH",
         "marker": {
          "color": "rgb(179,179,179)",
          "pattern": {
           "shape": ""
          }
         },
         "name": "OH",
         "orientation": "v",
         "showlegend": true,
         "text": {
          "bdata": "AAAAJhwGukE=",
          "dtype": "f8"
         },
         "textposition": "outside",
         "texttemplate": "%{text:,.0f}",
         "type": "bar",
         "x": [
          "OH"
         ],
         "xaxis": "x",
         "y": {
          "bdata": "AAAAJhwGukE=",
          "dtype": "f8"
         },
         "yaxis": "y"
        },
        {
         "hovertemplate": "State=%{x}<br>Total Income=%{text}<extra></extra>",
         "legendgroup": "MA",
         "marker": {
          "color": "rgb(102,194,165)",
          "pattern": {
           "shape": ""
          }
         },
         "name": "MA",
         "orientation": "v",
         "showlegend": true,
         "text": {
          "bdata": "AAAAkwDluEE=",
          "dtype": "f8"
         },
         "textposition": "outside",
         "texttemplate": "%{text:,.0f}",
         "type": "bar",
         "x": [
          "MA"
         ],
         "xaxis": "x",
         "y": {
          "bdata": "AAAAkwDluEE=",
          "dtype": "f8"
         },
         "yaxis": "y"
        },
        {
         "hovertemplate": "State=%{x}<br>Total Income=%{text}<extra></extra>",
         "legendgroup": "VA",
         "marker": {
          "color": "rgb(252,141,98)",
          "pattern": {
           "shape": ""
          }
         },
         "name": "VA",
         "orientation": "v",
         "showlegend": true,
         "text": {
          "bdata": "AAAAE/ZQuEE=",
          "dtype": "f8"
         },
         "textposition": "outside",
         "texttemplate": "%{text:,.0f}",
         "type": "bar",
         "x": [
          "VA"
         ],
         "xaxis": "x",
         "y": {
          "bdata": "AAAAE/ZQuEE=",
          "dtype": "f8"
         },
         "yaxis": "y"
        }
       ],
       "layout": {
        "barmode": "relative",
        "legend": {
         "title": {
          "text": "State"
         },
         "tracegroupgap": 0
        },
        "plot_bgcolor": "white",
        "template": {
         "data": {
          "candlestick": [
           {
            "decreasing": {
             "line": {
              "color": "#000033"
             }
            },
            "increasing": {
             "line": {
              "color": "#000032"
             }
            },
            "type": "candlestick"
           }
          ],
          "contour": [
           {
            "colorscale": [
             [
              0,
              "#000011"
             ],
             [
              0.1111111111111111,
              "#000012"
             ],
             [
              0.2222222222222222,
              "#000013"
             ],
             [
              0.3333333333333333,
              "#000014"
             ],
             [
              0.4444444444444444,
              "#000015"
             ],
             [
              0.5555555555555556,
              "#000016"
             ],
             [
              0.6666666666666666,
              "#000017"
             ],
             [
              0.7777777777777778,
              "#000018"
             ],
             [
              0.8888888888888888,
              "#000019"
             ],
             [
              1,
              "#000020"
             ]
            ],
            "type": "contour"
           }
          ],
          "contourcarpet": [
           {
            "colorscale": [
             [
              0,
              "#000011"
             ],
             [
              0.1111111111111111,
              "#000012"
             ],
             [
              0.2222222222222222,
              "#000013"
             ],
             [
              0.3333333333333333,
              "#000014"
             ],
             [
              0.4444444444444444,
              "#000015"
             ],
             [
              0.5555555555555556,
              "#000016"
             ],
             [
              0.6666666666666666,
              "#000017"
             ],
             [
              0.7777777777777778,
              "#000018"
             ],
             [
              0.8888888888888888,
              "#000019"
             ],
             [
              1,
              "#000020"
             ]
            ],
            "type": "contourcarpet"
           }
          ],
          "heatmap": [
           {
            "colorscale": [
             [
              0,
              "#000011"
             ],
             [
              0.1111111111111111,
              "#000012"
             ],
             [
              0.2222222222222222,
              "#000013"
             ],
             [
              0.3333333333333333,
              "#000014"
             ],
             [
              0.4444444444444444,
              "#000015"
             ],
             [
              0.5555555555555556,
              "#000016"
             ],
             [
              0.6666666666666666,
              "#000017"
             ],
             [
              0.7777777777777778,
              "#000018"
             ],
             [
              0.8888888888888888,
              "#000019"
             ],
             [
              1,
              "#000020"
             ]
            ],
            "type": "heatmap"
           }
          ],
          "histogram2d": [
           {
            "colorscale": [
             [
              0,
              "#000011"
             ],
             [
              0.1111111111111111,
              "#000012"
             ],
             [
              0.2222222222222222,
              "#000013"
             ],
             [
              0.3333333333333333,
              "#000014"
             ],
             [
              0.4444444444444444,
              "#000015"
             ],
             [
              0.5555555555555556,
              "#000016"
             ],
             [
              0.6666666666666666,
              "#000017"
             ],
             [
              0.7777777777777778,
              "#000018"
             ],
             [
              0.8888888888888888,
              "#000019"
             ],
             [
              1,
              "#000020"
             ]
            ],
            "type": "histogram2d"
           }
          ],
          "icicle": [
           {
            "textfont": {
             "color": "white"
            },
            "type": "icicle"
           }
          ],
          "sankey": [
           {
            "textfont": {
             "color": "#000036"
            },
            "type": "sankey"
           }
          ],
          "scatter": [
           {
            "marker": {
             "line": {
              "width": 0
             }
            },
            "type": "scatter"
           }
          ],
          "table": [
           {
            "cells": {
             "fill": {
              "color": "#000038"
             },
             "font": {
              "color": "#000037"
             },
             "line": {
              "color": "#000039"
             }
            },
            "header": {
             "fill": {
              "color": "#000040"
             },
             "font": {
              "color": "#000036"
             },
             "line": {
              "color": "#000039"
             }
            },
            "type": "table"
           }
          ],
          "waterfall": [
           {
            "connector": {
             "line": {
              "color": "#000036",
              "width": 2
             }
            },
            "decreasing": {
             "marker": {
              "color": "#000033"
             }
            },
            "increasing": {
             "marker": {
              "color": "#000032"
             }
            },
            "totals": {
             "marker": {
              "color": "#000034"
             }
            },
            "type": "waterfall"
           }
          ]
         },
         "layout": {
          "coloraxis": {
           "colorscale": [
            [
             0,
             "#000011"
            ],
            [
             0.1111111111111111,
             "#000012"
            ],
            [
             0.2222222222222222,
             "#000013"
            ],
            [
             0.3333333333333333,
             "#000014"
            ],
            [
             0.4444444444444444,
             "#000015"
            ],
            [
             0.5555555555555556,
             "#000016"
            ],
            [
             0.6666666666666666,
             "#000017"
            ],
            [
             0.7777777777777778,
             "#000018"
            ],
            [
             0.8888888888888888,
             "#000019"
            ],
            [
             1,
             "#000020"
            ]
           ]
          },
          "colorscale": {
           "diverging": [
            [
             0,
             "#000021"
            ],
            [
             0.1,
             "#000022"
            ],
            [
             0.2,
             "#000023"
            ],
            [
             0.3,
             "#000024"
            ],
            [
             0.4,
             "#000025"
            ],
            [
             0.5,
             "#000026"
            ],
            [
             0.6,
             "#000027"
            ],
            [
             0.7,
             "#000028"
            ],
            [
             0.8,
             "#000029"
            ],
            [
             0.9,
             "#000030"
            ],
            [
             1,
             "#000031"
            ]
           ],
           "sequential": [
            [
             0,
             "#000011"
            ],
            [
             0.1111111111111111,
             "#000012"
            ],
            [
             0.2222222222222222,
             "#000013"
            ],
            [
             0.3333333333333333,
             "#000014"
            ],
            [
             0.4444444444444444,
             "#000015"
            ],
            [
             0.5555555555555556,
             "#000016"
            ],
            [
             0.6666666666666666,
             "#000017"
            ],
            [
             0.7777777777777778,
             "#000018"
            ],
            [
             0.8888888888888888,
             "#000019"
            ],
            [
             1,
             "#000020"
            ]
           ],
           "sequentialminus": [
            [
             0,
             "#000011"
            ],
            [
             0.1111111111111111,
             "#000012"
            ],
            [
             0.2222222222222222,
             "#000013"
            ],
            [
             0.3333333333333333,
             "#000014"
            ],
            [
             0.4444444444444444,
             "#000015"
            ],
            [
             0.5555555555555556,
             "#000016"
            ],
            [
             0.6666666666666666,
             "#000017"
            ],
            [
             0.7777777777777778,
             "#000018"
            ],
            [
             0.8888888888888888,
             "#000019"
            ],
            [
             1,
             "#000020"
            ]
           ]
          },
          "colorway": [
           "#000001",
           "#000002",
           "#000003",
           "#000004",
           "#000005",
           "#000006",
           "#000007",
           "#000008",
           "#000009",
           "#000010"
          ]
         }
        },
        "title": {
         "text": "Top 10 States by Total Adjusted Gross Income (AGI)"
        },
        "uniformtext": {
         "minsize": 8,
         "mode": "hide"
        },
        "xaxis": {
         "anchor": "y",
         "categoryarray": [
          "CA",
          "TX",
          "FL",
          "NY",
          "IL",
          "PA",
          "NJ",
          "OH",
          "MA",
          "VA"
         ],
         "categoryorder": "array",
         "domain": [
          0,
          1
         ],
         "title": {
          "text": "State"
         }
        },
        "yaxis": {
         "anchor": "x",
         "domain": [
          0,
          1
         ],
         "title": {
          "text": "Total AGI"
         }
        }
       }
      }
     },
     "metadata": {},
     "output_type": "display_data"
    }
   ],
   "source": [
    "import plotly.express as px\n",
    "\n",
    "# Prepare top 10 states by Total AGI\n",
    "top_states = df_clean.groupby('STATE')['Total_AGI'].sum().sort_values(ascending=False).head(10).reset_index()\n",
    "\n",
    "# Create interactive bar chart\n",
    "fig = px.bar(\n",
    "    top_states,\n",
    "    x='STATE',\n",
    "    y='Total_AGI',\n",
    "    text='Total_AGI',\n",
    "    color='STATE',  # Discrete colors\n",
    "    color_discrete_sequence=px.colors.qualitative.Set2,  # Choose any from Plotly's qualitative palettes\n",
    "    title='Top 10 States by Total Adjusted Gross Income (AGI)',\n",
    "    labels={'Total_AGI': 'Total Income', 'STATE': 'State'},\n",
    ")\n",
    "\n",
    "# Format text on bars\n",
    "fig.update_traces(texttemplate='%{text:,.0f}', textposition='outside')\n",
    "\n",
    "# Improve layout\n",
    "fig.update_layout(\n",
    "    xaxis_title='State',\n",
    "    yaxis_title='Total AGI',\n",
    "    uniformtext_minsize=8,\n",
    "    uniformtext_mode='hide',\n",
    "    plot_bgcolor='white',\n",
    ")\n",
    "\n",
    "fig.show()\n"
   ]
  },
  {
   "cell_type": "markdown",
   "metadata": {},
   "source": [
    "### Top Population States"
   ]
  },
  {
   "cell_type": "code",
   "execution_count": 34,
   "metadata": {},
   "outputs": [
    {
     "name": "stderr",
     "output_type": "stream",
     "text": [
      "c:\\Users\\My PC\\Bus\\venv\\Lib\\site-packages\\IPython\\core\\pylabtools.py:170: UserWarning:\n",
      "\n",
      "Glyph 128279 (\\N{LINK SYMBOL}) missing from font(s) DejaVu Sans.\n",
      "\n"
     ]
    },
    {
     "data": {
      "image/png": "[encoded data removed]",
      "text/plain": [
       "<Figure size 1000x600 with 2 Axes>"
      ]
     },
     "metadata": {},
     "output_type": "display_data"
    },
    {
     "data": {
      "image/png": "[encoded data removed]",
      "text/plain": [
       "<Figure size 1000x600 with 1 Axes>"
      ]
     },
     "metadata": {},
     "output_type": "display_data"
    }
   ],
   "source": [
    "# Group data\n",
    "top_population_states = df_clean.groupby('STATE')['Total_Population'].sum().sort_values(ascending=False).head(10)\n",
    "\n",
    "# Plot\n",
    "plt.figure(figsize=(10, 6))\n",
    "sns.barplot(x=top_population_states.index, y=top_population_states.values)\n",
    "\n",
    "plt.title('Top 10 States by Total Population')\n",
    "plt.xlabel('State')\n",
    "plt.ylabel('Total Population')\n",
    "plt.xticks(rotation=45)\n",
    "plt.tight_layout()\n",
    "plt.show()\n"
   ]
  },
  {
   "cell_type": "code",
   "execution_count": 35,
   "metadata": {},
   "outputs": [
    {
     "name": "stdout",
     "output_type": "stream",
     "text": [
      "🔍 Correlation with Total_AGI:\n",
      " Total_AGI                     1.000000\n",
      "AGI_Per_Capita                0.585635\n",
      "Total_Businesses              0.392288\n",
      "Total_Population              0.367627\n",
      "Business_Density              0.070067\n",
      "Median_Income                 0.034375\n",
      "Percent_Bachelor_or_Higher    0.000771\n",
      "Name: Total_AGI, dtype: float64\n"
     ]
    },
    {
     "data": {
      "application/vnd.plotly.v1+json": {
       "config": {
        "plotlyServerURL": "https://plot.ly"
       },
       "data": [
        {
         "coloraxis": "coloraxis",
         "hovertemplate": "x: %{x}<br>y: %{y}<br>color: %{z}<extra></extra>",
         "name": "0",
         "texttemplate": "%{z:.2f}",
         "type": "heatmap",
         "x": [
          "Total_AGI",
          "Total_Population",
          "Median_Income",
          "Percent_Bachelor_or_Higher",
          "Total_Businesses",
          "AGI_Per_Capita",
          "Business_Density"
         ],
         "xaxis": "x",
         "y": [
          "Total_AGI",
          "Total_Population",
          "Median_Income",
          "Percent_Bachelor_or_Higher",
          "Total_Businesses",
          "AGI_Per_Capita",
          "Business_Density"
         ],
         "yaxis": "y",
         "z": {
          "bdata": "AAAAAAAA8D+0MewhNYfXPx6dsBagmaE/f5LcEcRFST+R4hvCPhvZP585A0WGveI/dXJzQeTvsT+0MewhNYfXPwAAAAAAAPA/mjFKeUaJtj9ozLYM4KFXP3ywbTL2jOg/LifPrWVwbD9I7Y+5aBqwPx6dsBagmaE/mjFKeUaJtj8AAAAAAADwP62yyGONYJY/DmIuH2RbsT/agVhm+FOqv7vVSD1wAqW/f5LcEcRFST9ozLYM4KFXP62yyGONYJY/AAAAAAAA8D9UmcDU+wtZP+wM5YIZHU4/8y1eor7tSj+R4hvCPhvZP3ywbTL2jOg/DmIuH2RbsT9UmcDU+wtZPwAAAAAAAPA/j0/1rmyItT86ueedt53SP585A0WGveI/LifPrWVwbD/agVhm+FOqv+wM5YIZHU4/j0/1rmyItT8AAAAAAADwPyGCOoJHg8Y/dXJzQeTvsT9I7Y+5aBqwP7vVSD1wAqW/8y1eor7tSj86ueedt53SPyGCOoJHg8Y/AAAAAAAA8D8=",
          "dtype": "f8",
          "shape": "7, 7"
         }
        }
       ],
       "layout": {
        "coloraxis": {
         "colorscale": [
          [
           0,
           "rgb(5,48,97)"
          ],
          [
           0.1,
           "rgb(33,102,172)"
          ],
          [
           0.2,
           "rgb(67,147,195)"
          ],
          [
           0.3,
           "rgb(146,197,222)"
          ],
          [
           0.4,
           "rgb(209,229,240)"
          ],
          [
           0.5,
           "rgb(247,247,247)"
          ],
          [
           0.6,
           "rgb(253,219,199)"
          ],
          [
           0.7,
           "rgb(244,165,130)"
          ],
          [
           0.8,
           "rgb(214,96,77)"
          ],
          [
           0.9,
           "rgb(178,24,43)"
          ],
          [
           1,
           "rgb(103,0,31)"
          ]
         ]
        },
        "template": {
         "data": {
          "candlestick": [
           {
            "decreasing": {
             "line": {
              "color": "#000033"
             }
            },
            "increasing": {
             "line": {
              "color": "#000032"
             }
            },
            "type": "candlestick"
           }
          ],
          "contour": [
           {
            "colorscale": [
             [
              0,
              "#000011"
             ],
             [
              0.1111111111111111,
              "#000012"
             ],
             [
              0.2222222222222222,
              "#000013"
             ],
             [
              0.3333333333333333,
              "#000014"
             ],
             [
              0.4444444444444444,
              "#000015"
             ],
             [
              0.5555555555555556,
              "#000016"
             ],
             [
              0.6666666666666666,
              "#000017"
             ],
             [
              0.7777777777777778,
              "#000018"
             ],
             [
              0.8888888888888888,
              "#000019"
             ],
             [
              1,
              "#000020"
             ]
            ],
            "type": "contour"
           }
          ],
          "contourcarpet": [
           {
            "colorscale": [
             [
              0,
              "#000011"
             ],
             [
              0.1111111111111111,
              "#000012"
             ],
             [
              0.2222222222222222,
              "#000013"
             ],
             [
              0.3333333333333333,
              "#000014"
             ],
             [
              0.4444444444444444,
              "#000015"
             ],
             [
              0.5555555555555556,
              "#000016"
             ],
             [
              0.6666666666666666,
              "#000017"
             ],
             [
              0.7777777777777778,
              "#000018"
             ],
             [
              0.8888888888888888,
              "#000019"
             ],
             [
              1,
              "#000020"
             ]
            ],
            "type": "contourcarpet"
           }
          ],
          "heatmap": [
           {
            "colorscale": [
             [
              0,
              "#000011"
             ],
             [
              0.1111111111111111,
              "#000012"
             ],
             [
              0.2222222222222222,
              "#000013"
             ],
             [
              0.3333333333333333,
              "#000014"
             ],
             [
              0.4444444444444444,
              "#000015"
             ],
             [
              0.5555555555555556,
              "#000016"
             ],
             [
              0.6666666666666666,
              "#000017"
             ],
             [
              0.7777777777777778,
              "#000018"
             ],
             [
              0.8888888888888888,
              "#000019"
             ],
             [
              1,
              "#000020"
             ]
            ],
            "type": "heatmap"
           }
          ],
          "histogram2d": [
           {
            "colorscale": [
             [
              0,
              "#000011"
             ],
             [
              0.1111111111111111,
              "#000012"
             ],
             [
              0.2222222222222222,
              "#000013"
             ],
             [
              0.3333333333333333,
              "#000014"
             ],
             [
              0.4444444444444444,
              "#000015"
             ],
             [
              0.5555555555555556,
              "#000016"
             ],
             [
              0.6666666666666666,
              "#000017"
             ],
             [
              0.7777777777777778,
              "#000018"
             ],
             [
              0.8888888888888888,
              "#000019"
             ],
             [
              1,
              "#000020"
             ]
            ],
            "type": "histogram2d"
           }
          ],
          "icicle": [
           {
            "textfont": {
             "color": "white"
            },
            "type": "icicle"
           }
          ],
          "sankey": [
           {
            "textfont": {
             "color": "#000036"
            },
            "type": "sankey"
           }
          ],
          "scatter": [
           {
            "marker": {
             "line": {
              "width": 0
             }
            },
            "type": "scatter"
           }
          ],
          "table": [
           {
            "cells": {
             "fill": {
              "color": "#000038"
             },
             "font": {
              "color": "#000037"
             },
             "line": {
              "color": "#000039"
             }
            },
            "header": {
             "fill": {
              "color": "#000040"
             },
             "font": {
              "color": "#000036"
             },
             "line": {
              "color": "#000039"
             }
            },
            "type": "table"
           }
          ],
          "waterfall": [
           {
            "connector": {
             "line": {
              "color": "#000036",
              "width": 2
             }
            },
            "decreasing": {
             "marker": {
              "color": "#000033"
             }
            },
            "increasing": {
             "marker": {
              "color": "#000032"
             }
            },
            "totals": {
             "marker": {
              "color": "#000034"
             }
            },
            "type": "waterfall"
           }
          ]
         },
         "layout": {
          "coloraxis": {
           "colorscale": [
            [
             0,
             "#000011"
            ],
            [
             0.1111111111111111,
             "#000012"
            ],
            [
             0.2222222222222222,
             "#000013"
            ],
            [
             0.3333333333333333,
             "#000014"
            ],
            [
             0.4444444444444444,
             "#000015"
            ],
            [
             0.5555555555555556,
             "#000016"
            ],
            [
             0.6666666666666666,
             "#000017"
            ],
            [
             0.7777777777777778,
             "#000018"
            ],
            [
             0.8888888888888888,
             "#000019"
            ],
            [
             1,
             "#000020"
            ]
           ]
          },
          "colorscale": {
           "diverging": [
            [
             0,
             "#000021"
            ],
            [
             0.1,
             "#000022"
            ],
            [
             0.2,
             "#000023"
            ],
            [
             0.3,
             "#000024"
            ],
            [
             0.4,
             "#000025"
            ],
            [
             0.5,
             "#000026"
            ],
            [
             0.6,
             "#000027"
            ],
            [
             0.7,
             "#000028"
            ],
            [
             0.8,
             "#000029"
            ],
            [
             0.9,
             "#000030"
            ],
            [
             1,
             "#000031"
            ]
           ],
           "sequential": [
            [
             0,
             "#000011"
            ],
            [
             0.1111111111111111,
             "#000012"
            ],
            [
             0.2222222222222222,
             "#000013"
            ],
            [
             0.3333333333333333,
             "#000014"
            ],
            [
             0.4444444444444444,
             "#000015"
            ],
            [
             0.5555555555555556,
             "#000016"
            ],
            [
             0.6666666666666666,
             "#000017"
            ],
            [
             0.7777777777777778,
             "#000018"
            ],
            [
             0.8888888888888888,
             "#000019"
            ],
            [
             1,
             "#000020"
            ]
           ],
           "sequentialminus": [
            [
             0,
             "#000011"
            ],
            [
             0.1111111111111111,
             "#000012"
            ],
            [
             0.2222222222222222,
             "#000013"
            ],
            [
             0.3333333333333333,
             "#000014"
            ],
            [
             0.4444444444444444,
             "#000015"
            ],
            [
             0.5555555555555556,
             "#000016"
            ],
            [
             0.6666666666666666,
             "#000017"
            ],
            [
             0.7777777777777778,
             "#000018"
            ],
            [
             0.8888888888888888,
             "#000019"
            ],
            [
             1,
             "#000020"
            ]
           ]
          },
          "colorway": [
           "#000001",
           "#000002",
           "#000003",
           "#000004",
           "#000005",
           "#000006",
           "#000007",
           "#000008",
           "#000009",
           "#000010"
          ]
         }
        },
        "title": {
         "text": "Interactive Correlation Heatmap"
        },
        "xaxis": {
         "anchor": "y",
         "domain": [
          0,
          1
         ]
        },
        "yaxis": {
         "anchor": "x",
         "autorange": "reversed",
         "domain": [
          0,
          1
         ]
        }
       }
      }
     },
     "metadata": {},
     "output_type": "display_data"
    },
    {
     "name": "stderr",
     "output_type": "stream",
     "text": [
      "C:\\Users\\My PC\\AppData\\Local\\Temp\\ipykernel_18916\\3655328736.py:23: UserWarning:\n",
      "\n",
      "Glyph 128279 (\\N{LINK SYMBOL}) missing from font(s) DejaVu Sans.\n",
      "\n",
      "c:\\Users\\My PC\\Bus\\venv\\Lib\\site-packages\\IPython\\core\\pylabtools.py:170: UserWarning:\n",
      "\n",
      "Glyph 128279 (\\N{LINK SYMBOL}) missing from font(s) DejaVu Sans.\n",
      "\n"
     ]
    },
    {
     "data": {
      "image/png": "[encoded data removed]",
      "text/plain": [
       "<Figure size 1000x600 with 2 Axes>"
      ]
     },
     "metadata": {},
     "output_type": "display_data"
    }
   ],
   "source": [
    "# Sort correlation matrix by correlation with Total_AGI\n",
    "sorted_corr = corr_matrix['Total_AGI'].sort_values(ascending=False)\n",
    "print(\"🔍 Correlation with Total_AGI:\\n\", sorted_corr)\n",
    "import plotly.express as px\n",
    "import pandas as pd\n",
    "\n",
    "# Melt the correlation matrix for Plotly\n",
    "corr_melted = corr_matrix.reset_index().melt(id_vars='index')\n",
    "corr_melted.columns = ['Feature 1', 'Feature 2', 'Correlation']\n",
    "\n",
    "fig = px.imshow(corr_matrix,\n",
    "                text_auto='.2f',\n",
    "                aspect='auto',\n",
    "                color_continuous_scale='RdBu_r',\n",
    "                title=\"Interactive Correlation Heatmap\")\n",
    "\n",
    "fig.show()\n",
    "mask = np.triu(np.ones_like(corr_matrix, dtype=bool))  # upper triangle mask\n",
    "\n",
    "plt.figure(figsize=(10, 6))\n",
    "sns.heatmap(corr_matrix, mask=mask, annot=True, cmap='coolwarm', fmt='.2f', linewidths=0.5)\n",
    "plt.title(\"🔗 Correlation Heatmap (Lower Triangle Only)\")\n",
    "plt.tight_layout()\n",
    "plt.show()\n",
    "\n"
   ]
  },
  {
   "cell_type": "code",
   "execution_count": 32,
   "metadata": {},
   "outputs": [
    {
     "name": "stderr",
     "output_type": "stream",
     "text": [
      "2025-04-19 11:58:09.322 Thread 'MainThread': missing ScriptRunContext! This warning can be ignored when running in bare mode.\n",
      "2025-04-19 11:58:09.323 Thread 'MainThread': missing ScriptRunContext! This warning can be ignored when running in bare mode.\n",
      "2025-04-19 11:58:09.324 Thread 'MainThread': missing ScriptRunContext! This warning can be ignored when running in bare mode.\n",
      "2025-04-19 11:58:09.324 Thread 'MainThread': missing ScriptRunContext! This warning can be ignored when running in bare mode.\n",
      "2025-04-19 11:58:09.326 Thread 'MainThread': missing ScriptRunContext! This warning can be ignored when running in bare mode.\n",
      "2025-04-19 11:58:09.326 Thread 'MainThread': missing ScriptRunContext! This warning can be ignored when running in bare mode.\n",
      "2025-04-19 11:58:09.327 Thread 'MainThread': missing ScriptRunContext! This warning can be ignored when running in bare mode.\n",
      "2025-04-19 11:58:09.439 Thread 'MainThread': missing ScriptRunContext! This warning can be ignored when running in bare mode.\n",
      "c:\\Users\\My PC\\Bus\\venv\\Lib\\site-packages\\streamlit\\elements\\pyplot.py:176: UserWarning:\n",
      "\n",
      "Glyph 128279 (\\N{LINK SYMBOL}) missing from font(s) DejaVu Sans.\n",
      "\n",
      "2025-04-19 11:58:09.711 Thread 'MainThread': missing ScriptRunContext! This warning can be ignored when running in bare mode.\n",
      "2025-04-19 11:58:09.712 Thread 'MainThread': missing ScriptRunContext! This warning can be ignored when running in bare mode.\n"
     ]
    }
   ],
   "source": [
    "import streamlit as st\n",
    "import pandas as pd\n",
    "import seaborn as sns\n",
    "import matplotlib.pyplot as plt\n",
    "import numpy as np\n",
    "\n",
    "# Load your preprocessed data\n",
    "\n",
    "\n",
    "st.title(\"📊 Correlation Heatmap: Economic & Demographic Features\")\n",
    "\n",
    "# Sidebar: Select columns\n",
    "numeric_cols = ['Total_AGI', 'Total_Population', 'Median_Income',\n",
    "                'Percent_Bachelor_or_Higher', 'Total_Businesses',\n",
    "                'AGI_Per_Capita', 'Business_Density']\n",
    "\n",
    "selected_cols = st.multiselect(\n",
    "    \"Select features to include in the correlation heatmap:\",\n",
    "    numeric_cols,\n",
    "    default=numeric_cols\n",
    ")\n",
    "\n",
    "# If at least two features selected\n",
    "if len(selected_cols) >= 2:\n",
    "    # Compute correlation\n",
    "    corr_matrix = df_clean[selected_cols].corr()\n",
    "\n",
    "    # Mask for upper triangle (optional)\n",
    "    mask = np.triu(np.ones_like(corr_matrix, dtype=bool))\n",
    "\n",
    "    # Plot with seaborn\n",
    "    fig, ax = plt.subplots(figsize=(10, 6))\n",
    "    sns.heatmap(corr_matrix, mask=mask, annot=True, cmap='coolwarm', fmt='.2f', linewidths=0.5, ax=ax)\n",
    "    ax.set_title(\"🔗 Correlation Heatmap\")\n",
    "    st.pyplot(fig)\n",
    "else:\n",
    "    st.warning(\"Please select at least 2 features.\")\n"
   ]
  }
 ],
 "metadata": {
  "kernelspec": {
   "display_name": "venv",
   "language": "python",
   "name": "python3"
  },
  "language_info": {
   "codemirror_mode": {
    "name": "ipython",
    "version": 3
   },
   "file_extension": ".py",
   "mimetype": "text/x-python",
   "name": "python",
   "nbconvert_exporter": "python",
   "pygments_lexer": "ipython3",
   "version": "3.12.3"
  }
 },
 "nbformat": 4,
 "nbformat_minor": 2
}
